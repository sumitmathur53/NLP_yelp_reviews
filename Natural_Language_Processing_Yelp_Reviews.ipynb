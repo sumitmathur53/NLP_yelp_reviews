{
  "nbformat": 4,
  "nbformat_minor": 0,
  "metadata": {
    "colab": {
      "provenance": []
    },
    "kernelspec": {
      "name": "python3",
      "display_name": "Python 3"
    },
    "language_info": {
      "name": "python"
    }
  },
  "cells": [
    {
      "cell_type": "markdown",
      "source": [
        "\n",
        "# **PROBLEM STATEMENT**\n",
        "\n"
      ],
      "metadata": {
        "id": "5Hp30T2Xfu-0"
      }
    },
    {
      "cell_type": "markdown",
      "source": [
        "- **In this project, Natural Language Processing (NLP) strategies will be used to analyze Yelp reviews data**\n",
        "- **Number of 'stars' indicate the business rating given by a customer, ranging from 1 to 5**\n",
        "- **'Cool', 'Useful' and 'Funny' indicate the number of cool votes given by other Yelp Users**."
      ],
      "metadata": {
        "id": "BwPfHurhf1hC"
      }
    },
    {
      "cell_type": "markdown",
      "source": [
        "#  LIBRARIES IMPORT"
      ],
      "metadata": {
        "id": "ULmqMBAVf_SS"
      }
    },
    {
      "cell_type": "code",
      "source": [
        "import pandas as pd\n",
        "import numpy as np\n",
        "import matplotlib.pyplot as plt\n",
        "import seaborn as sns"
      ],
      "metadata": {
        "id": "N3R0-ULMfx0W"
      },
      "execution_count": 1,
      "outputs": []
    },
    {
      "cell_type": "markdown",
      "source": [
        "# **IMPORT DATASET**"
      ],
      "metadata": {
        "id": "AwXaMw83giaD"
      }
    },
    {
      "cell_type": "code",
      "source": [
        "yelp_df = pd.read_csv(\"yelp.csv\")"
      ],
      "metadata": {
        "id": "B-sncsd3gHG-"
      },
      "execution_count": 2,
      "outputs": []
    },
    {
      "cell_type": "code",
      "source": [
        "yelp_df.head(10)"
      ],
      "metadata": {
        "colab": {
          "base_uri": "https://localhost:8080/",
          "height": 1874
        },
        "id": "_mG-DBwBgpFe",
        "outputId": "98299b1e-55b1-437a-b5c9-1f25dad49985"
      },
      "execution_count": 3,
      "outputs": [
        {
          "output_type": "execute_result",
          "data": {
            "text/plain": [
              "              business_id        date               review_id  stars  \\\n",
              "0  9yKzy9PApeiPPOUJEtnvkg  2011-01-26  fWKvX83p0-ka4JS3dc6E5A      5   \n",
              "1  ZRJwVLyzEJq1VAihDhYiow  2011-07-27  IjZ33sJrzXqU-0X6U8NwyA      5   \n",
              "2  6oRAC4uyJCsJl1X0WZpVSA  2012-06-14  IESLBzqUCLdSzSqm0eCSxQ      4   \n",
              "3  _1QQZuf4zZOyFCvXc0o6Vg  2010-05-27  G-WvGaISbqqaMHlNnByodA      5   \n",
              "4  6ozycU1RpktNG2-1BroVtw  2012-01-05  1uJFq2r5QfJG_6ExMRCaGw      5   \n",
              "5  -yxfBYGB6SEqszmxJxd97A  2007-12-13  m2CKSsepBCoRYWxiRUsxAg      4   \n",
              "6  zp713qNhx8d9KCJJnrw1xA  2010-02-12  riFQ3vxNpP4rWLk_CSri2A      5   \n",
              "7  hW0Ne_HTHEAgGF1rAdmR-g  2012-07-12  JL7GXJ9u4YMx7Rzs05NfiQ      4   \n",
              "8  wNUea3IXZWD63bbOQaOH-g  2012-08-17  XtnfnYmnJYi71yIuGsXIUA      4   \n",
              "9  nMHhuYan8e3cONo3PornJA  2010-08-11  jJAIXA46pU1swYyRCdfXtQ      5   \n",
              "\n",
              "                                                text    type  \\\n",
              "0  My wife took me here on my birthday for breakf...  review   \n",
              "1  I have no idea why some people give bad review...  review   \n",
              "2  love the gyro plate. Rice is so good and I als...  review   \n",
              "3  Rosie, Dakota, and I LOVE Chaparral Dog Park!!...  review   \n",
              "4  General Manager Scott Petello is a good egg!!!...  review   \n",
              "5  Quiessence is, simply put, beautiful.  Full wi...  review   \n",
              "6  Drop what you're doing and drive here. After I...  review   \n",
              "7  Luckily, I didn't have to travel far to make m...  review   \n",
              "8  Definitely come for Happy hour! Prices are ama...  review   \n",
              "9  Nobuo shows his unique talents with everything...  review   \n",
              "\n",
              "                  user_id  cool  useful  funny  \n",
              "0  rLtl8ZkDX5vH5nAx9C3q5Q     2       5      0  \n",
              "1  0a2KyEL0d3Yb1V6aivbIuQ     0       0      0  \n",
              "2  0hT2KtfLiobPvh6cDC8JQg     0       1      0  \n",
              "3  uZetl9T0NcROGOyFfughhg     1       2      0  \n",
              "4  vYmM4KTsC8ZfQBg-j5MWkw     0       0      0  \n",
              "5  sqYN3lNgvPbPCTRsMFu27g     4       3      1  \n",
              "6  wFweIWhv2fREZV_dYkz_1g     7       7      4  \n",
              "7  1ieuYcKS7zeAv_U15AB13A     0       1      0  \n",
              "8  Vh_DlizgGhSqQh4qfZ2h6A     0       0      0  \n",
              "9  sUNkXg8-KFtCMQDV6zRzQg     0       1      0  "
            ],
            "text/html": [
              "\n",
              "\n",
              "  <div id=\"df-a51c6c5f-a814-47eb-ba3e-bb55b05ecfcf\">\n",
              "    <div class=\"colab-df-container\">\n",
              "      <div>\n",
              "<style scoped>\n",
              "    .dataframe tbody tr th:only-of-type {\n",
              "        vertical-align: middle;\n",
              "    }\n",
              "\n",
              "    .dataframe tbody tr th {\n",
              "        vertical-align: top;\n",
              "    }\n",
              "\n",
              "    .dataframe thead th {\n",
              "        text-align: right;\n",
              "    }\n",
              "</style>\n",
              "<table border=\"1\" class=\"dataframe\">\n",
              "  <thead>\n",
              "    <tr style=\"text-align: right;\">\n",
              "      <th></th>\n",
              "      <th>business_id</th>\n",
              "      <th>date</th>\n",
              "      <th>review_id</th>\n",
              "      <th>stars</th>\n",
              "      <th>text</th>\n",
              "      <th>type</th>\n",
              "      <th>user_id</th>\n",
              "      <th>cool</th>\n",
              "      <th>useful</th>\n",
              "      <th>funny</th>\n",
              "    </tr>\n",
              "  </thead>\n",
              "  <tbody>\n",
              "    <tr>\n",
              "      <th>0</th>\n",
              "      <td>9yKzy9PApeiPPOUJEtnvkg</td>\n",
              "      <td>2011-01-26</td>\n",
              "      <td>fWKvX83p0-ka4JS3dc6E5A</td>\n",
              "      <td>5</td>\n",
              "      <td>My wife took me here on my birthday for breakf...</td>\n",
              "      <td>review</td>\n",
              "      <td>rLtl8ZkDX5vH5nAx9C3q5Q</td>\n",
              "      <td>2</td>\n",
              "      <td>5</td>\n",
              "      <td>0</td>\n",
              "    </tr>\n",
              "    <tr>\n",
              "      <th>1</th>\n",
              "      <td>ZRJwVLyzEJq1VAihDhYiow</td>\n",
              "      <td>2011-07-27</td>\n",
              "      <td>IjZ33sJrzXqU-0X6U8NwyA</td>\n",
              "      <td>5</td>\n",
              "      <td>I have no idea why some people give bad review...</td>\n",
              "      <td>review</td>\n",
              "      <td>0a2KyEL0d3Yb1V6aivbIuQ</td>\n",
              "      <td>0</td>\n",
              "      <td>0</td>\n",
              "      <td>0</td>\n",
              "    </tr>\n",
              "    <tr>\n",
              "      <th>2</th>\n",
              "      <td>6oRAC4uyJCsJl1X0WZpVSA</td>\n",
              "      <td>2012-06-14</td>\n",
              "      <td>IESLBzqUCLdSzSqm0eCSxQ</td>\n",
              "      <td>4</td>\n",
              "      <td>love the gyro plate. Rice is so good and I als...</td>\n",
              "      <td>review</td>\n",
              "      <td>0hT2KtfLiobPvh6cDC8JQg</td>\n",
              "      <td>0</td>\n",
              "      <td>1</td>\n",
              "      <td>0</td>\n",
              "    </tr>\n",
              "    <tr>\n",
              "      <th>3</th>\n",
              "      <td>_1QQZuf4zZOyFCvXc0o6Vg</td>\n",
              "      <td>2010-05-27</td>\n",
              "      <td>G-WvGaISbqqaMHlNnByodA</td>\n",
              "      <td>5</td>\n",
              "      <td>Rosie, Dakota, and I LOVE Chaparral Dog Park!!...</td>\n",
              "      <td>review</td>\n",
              "      <td>uZetl9T0NcROGOyFfughhg</td>\n",
              "      <td>1</td>\n",
              "      <td>2</td>\n",
              "      <td>0</td>\n",
              "    </tr>\n",
              "    <tr>\n",
              "      <th>4</th>\n",
              "      <td>6ozycU1RpktNG2-1BroVtw</td>\n",
              "      <td>2012-01-05</td>\n",
              "      <td>1uJFq2r5QfJG_6ExMRCaGw</td>\n",
              "      <td>5</td>\n",
              "      <td>General Manager Scott Petello is a good egg!!!...</td>\n",
              "      <td>review</td>\n",
              "      <td>vYmM4KTsC8ZfQBg-j5MWkw</td>\n",
              "      <td>0</td>\n",
              "      <td>0</td>\n",
              "      <td>0</td>\n",
              "    </tr>\n",
              "    <tr>\n",
              "      <th>5</th>\n",
              "      <td>-yxfBYGB6SEqszmxJxd97A</td>\n",
              "      <td>2007-12-13</td>\n",
              "      <td>m2CKSsepBCoRYWxiRUsxAg</td>\n",
              "      <td>4</td>\n",
              "      <td>Quiessence is, simply put, beautiful.  Full wi...</td>\n",
              "      <td>review</td>\n",
              "      <td>sqYN3lNgvPbPCTRsMFu27g</td>\n",
              "      <td>4</td>\n",
              "      <td>3</td>\n",
              "      <td>1</td>\n",
              "    </tr>\n",
              "    <tr>\n",
              "      <th>6</th>\n",
              "      <td>zp713qNhx8d9KCJJnrw1xA</td>\n",
              "      <td>2010-02-12</td>\n",
              "      <td>riFQ3vxNpP4rWLk_CSri2A</td>\n",
              "      <td>5</td>\n",
              "      <td>Drop what you're doing and drive here. After I...</td>\n",
              "      <td>review</td>\n",
              "      <td>wFweIWhv2fREZV_dYkz_1g</td>\n",
              "      <td>7</td>\n",
              "      <td>7</td>\n",
              "      <td>4</td>\n",
              "    </tr>\n",
              "    <tr>\n",
              "      <th>7</th>\n",
              "      <td>hW0Ne_HTHEAgGF1rAdmR-g</td>\n",
              "      <td>2012-07-12</td>\n",
              "      <td>JL7GXJ9u4YMx7Rzs05NfiQ</td>\n",
              "      <td>4</td>\n",
              "      <td>Luckily, I didn't have to travel far to make m...</td>\n",
              "      <td>review</td>\n",
              "      <td>1ieuYcKS7zeAv_U15AB13A</td>\n",
              "      <td>0</td>\n",
              "      <td>1</td>\n",
              "      <td>0</td>\n",
              "    </tr>\n",
              "    <tr>\n",
              "      <th>8</th>\n",
              "      <td>wNUea3IXZWD63bbOQaOH-g</td>\n",
              "      <td>2012-08-17</td>\n",
              "      <td>XtnfnYmnJYi71yIuGsXIUA</td>\n",
              "      <td>4</td>\n",
              "      <td>Definitely come for Happy hour! Prices are ama...</td>\n",
              "      <td>review</td>\n",
              "      <td>Vh_DlizgGhSqQh4qfZ2h6A</td>\n",
              "      <td>0</td>\n",
              "      <td>0</td>\n",
              "      <td>0</td>\n",
              "    </tr>\n",
              "    <tr>\n",
              "      <th>9</th>\n",
              "      <td>nMHhuYan8e3cONo3PornJA</td>\n",
              "      <td>2010-08-11</td>\n",
              "      <td>jJAIXA46pU1swYyRCdfXtQ</td>\n",
              "      <td>5</td>\n",
              "      <td>Nobuo shows his unique talents with everything...</td>\n",
              "      <td>review</td>\n",
              "      <td>sUNkXg8-KFtCMQDV6zRzQg</td>\n",
              "      <td>0</td>\n",
              "      <td>1</td>\n",
              "      <td>0</td>\n",
              "    </tr>\n",
              "  </tbody>\n",
              "</table>\n",
              "</div>\n",
              "      <button class=\"colab-df-convert\" onclick=\"convertToInteractive('df-a51c6c5f-a814-47eb-ba3e-bb55b05ecfcf')\"\n",
              "              title=\"Convert this dataframe to an interactive table.\"\n",
              "              style=\"display:none;\">\n",
              "\n",
              "  <svg xmlns=\"http://www.w3.org/2000/svg\" height=\"24px\"viewBox=\"0 0 24 24\"\n",
              "       width=\"24px\">\n",
              "    <path d=\"M0 0h24v24H0V0z\" fill=\"none\"/>\n",
              "    <path d=\"M18.56 5.44l.94 2.06.94-2.06 2.06-.94-2.06-.94-.94-2.06-.94 2.06-2.06.94zm-11 1L8.5 8.5l.94-2.06 2.06-.94-2.06-.94L8.5 2.5l-.94 2.06-2.06.94zm10 10l.94 2.06.94-2.06 2.06-.94-2.06-.94-.94-2.06-.94 2.06-2.06.94z\"/><path d=\"M17.41 7.96l-1.37-1.37c-.4-.4-.92-.59-1.43-.59-.52 0-1.04.2-1.43.59L10.3 9.45l-7.72 7.72c-.78.78-.78 2.05 0 2.83L4 21.41c.39.39.9.59 1.41.59.51 0 1.02-.2 1.41-.59l7.78-7.78 2.81-2.81c.8-.78.8-2.07 0-2.86zM5.41 20L4 18.59l7.72-7.72 1.47 1.35L5.41 20z\"/>\n",
              "  </svg>\n",
              "      </button>\n",
              "\n",
              "\n",
              "\n",
              "    <div id=\"df-de0cf87b-1997-42a4-9b4a-b35b282d1e32\">\n",
              "      <button class=\"colab-df-quickchart\" onclick=\"quickchart('df-de0cf87b-1997-42a4-9b4a-b35b282d1e32')\"\n",
              "              title=\"Suggest charts.\"\n",
              "              style=\"display:none;\">\n",
              "\n",
              "<svg xmlns=\"http://www.w3.org/2000/svg\" height=\"24px\"viewBox=\"0 0 24 24\"\n",
              "     width=\"24px\">\n",
              "    <g>\n",
              "        <path d=\"M19 3H5c-1.1 0-2 .9-2 2v14c0 1.1.9 2 2 2h14c1.1 0 2-.9 2-2V5c0-1.1-.9-2-2-2zM9 17H7v-7h2v7zm4 0h-2V7h2v10zm4 0h-2v-4h2v4z\"/>\n",
              "    </g>\n",
              "</svg>\n",
              "      </button>\n",
              "    </div>\n",
              "\n",
              "<style>\n",
              "  .colab-df-quickchart {\n",
              "    background-color: #E8F0FE;\n",
              "    border: none;\n",
              "    border-radius: 50%;\n",
              "    cursor: pointer;\n",
              "    display: none;\n",
              "    fill: #1967D2;\n",
              "    height: 32px;\n",
              "    padding: 0 0 0 0;\n",
              "    width: 32px;\n",
              "  }\n",
              "\n",
              "  .colab-df-quickchart:hover {\n",
              "    background-color: #E2EBFA;\n",
              "    box-shadow: 0px 1px 2px rgba(60, 64, 67, 0.3), 0px 1px 3px 1px rgba(60, 64, 67, 0.15);\n",
              "    fill: #174EA6;\n",
              "  }\n",
              "\n",
              "  [theme=dark] .colab-df-quickchart {\n",
              "    background-color: #3B4455;\n",
              "    fill: #D2E3FC;\n",
              "  }\n",
              "\n",
              "  [theme=dark] .colab-df-quickchart:hover {\n",
              "    background-color: #434B5C;\n",
              "    box-shadow: 0px 1px 3px 1px rgba(0, 0, 0, 0.15);\n",
              "    filter: drop-shadow(0px 1px 2px rgba(0, 0, 0, 0.3));\n",
              "    fill: #FFFFFF;\n",
              "  }\n",
              "</style>\n",
              "\n",
              "    <script>\n",
              "      async function quickchart(key) {\n",
              "        const containerElement = document.querySelector('#' + key);\n",
              "        const charts = await google.colab.kernel.invokeFunction(\n",
              "            'suggestCharts', [key], {});\n",
              "      }\n",
              "    </script>\n",
              "\n",
              "      <script>\n",
              "\n",
              "function displayQuickchartButton(domScope) {\n",
              "  let quickchartButtonEl =\n",
              "    domScope.querySelector('#df-de0cf87b-1997-42a4-9b4a-b35b282d1e32 button.colab-df-quickchart');\n",
              "  quickchartButtonEl.style.display =\n",
              "    google.colab.kernel.accessAllowed ? 'block' : 'none';\n",
              "}\n",
              "\n",
              "        displayQuickchartButton(document);\n",
              "      </script>\n",
              "      <style>\n",
              "    .colab-df-container {\n",
              "      display:flex;\n",
              "      flex-wrap:wrap;\n",
              "      gap: 12px;\n",
              "    }\n",
              "\n",
              "    .colab-df-convert {\n",
              "      background-color: #E8F0FE;\n",
              "      border: none;\n",
              "      border-radius: 50%;\n",
              "      cursor: pointer;\n",
              "      display: none;\n",
              "      fill: #1967D2;\n",
              "      height: 32px;\n",
              "      padding: 0 0 0 0;\n",
              "      width: 32px;\n",
              "    }\n",
              "\n",
              "    .colab-df-convert:hover {\n",
              "      background-color: #E2EBFA;\n",
              "      box-shadow: 0px 1px 2px rgba(60, 64, 67, 0.3), 0px 1px 3px 1px rgba(60, 64, 67, 0.15);\n",
              "      fill: #174EA6;\n",
              "    }\n",
              "\n",
              "    [theme=dark] .colab-df-convert {\n",
              "      background-color: #3B4455;\n",
              "      fill: #D2E3FC;\n",
              "    }\n",
              "\n",
              "    [theme=dark] .colab-df-convert:hover {\n",
              "      background-color: #434B5C;\n",
              "      box-shadow: 0px 1px 3px 1px rgba(0, 0, 0, 0.15);\n",
              "      filter: drop-shadow(0px 1px 2px rgba(0, 0, 0, 0.3));\n",
              "      fill: #FFFFFF;\n",
              "    }\n",
              "  </style>\n",
              "\n",
              "      <script>\n",
              "        const buttonEl =\n",
              "          document.querySelector('#df-a51c6c5f-a814-47eb-ba3e-bb55b05ecfcf button.colab-df-convert');\n",
              "        buttonEl.style.display =\n",
              "          google.colab.kernel.accessAllowed ? 'block' : 'none';\n",
              "\n",
              "        async function convertToInteractive(key) {\n",
              "          const element = document.querySelector('#df-a51c6c5f-a814-47eb-ba3e-bb55b05ecfcf');\n",
              "          const dataTable =\n",
              "            await google.colab.kernel.invokeFunction('convertToInteractive',\n",
              "                                                     [key], {});\n",
              "          if (!dataTable) return;\n",
              "\n",
              "          const docLinkHtml = 'Like what you see? Visit the ' +\n",
              "            '<a target=\"_blank\" href=https://colab.research.google.com/notebooks/data_table.ipynb>data table notebook</a>'\n",
              "            + ' to learn more about interactive tables.';\n",
              "          element.innerHTML = '';\n",
              "          dataTable['output_type'] = 'display_data';\n",
              "          await google.colab.output.renderOutput(dataTable, element);\n",
              "          const docLink = document.createElement('div');\n",
              "          docLink.innerHTML = docLinkHtml;\n",
              "          element.appendChild(docLink);\n",
              "        }\n",
              "      </script>\n",
              "    </div>\n",
              "  </div>\n"
            ]
          },
          "metadata": {},
          "execution_count": 3
        },
        {
          "output_type": "display_data",
          "data": {
            "text/plain": [
              "<google.colab._quickchart_helpers.SectionTitle at 0x7dc5f5046e60>"
            ],
            "text/html": [
              "<h4 class=\"colab-quickchart-section-title\">Values</h4>\n",
              "<style>\n",
              "  .colab-quickchart-section-title {\n",
              "      clear: both;\n",
              "  }\n",
              "</style>"
            ]
          },
          "metadata": {}
        },
        {
          "output_type": "display_data",
          "data": {
            "text/plain": [
              "import numpy as np\n",
              "from google.colab import autoviz\n",
              "df_5907871442940458940 = autoviz.get_df('df_5907871442940458940')\n",
              "\n",
              "def value_plot(df, y, sort_ascending=False, figsize=(2, 1)):\n",
              "  from matplotlib import pyplot as plt\n",
              "  if sort_ascending:\n",
              "    df = df.sort_values(y).reset_index(drop=True)\n",
              "  _, ax = plt.subplots(figsize=figsize)\n",
              "  df[y].plot(kind='line')\n",
              "  plt.title(y)\n",
              "  ax.spines[['top', 'right',]].set_visible(False)\n",
              "  plt.tight_layout()\n",
              "  return autoviz.MplChart.from_current_mpl_state()\n",
              "\n",
              "chart = value_plot(df_5907871442940458940, *['index'], **{})\n",
              "chart"
            ],
            "text/html": [
              "      <div class=\"colab-quickchart-chart-with-code\" id=\"chart-22dd7b50-3531-4cbb-b218-e2e84c956b67\">\n",
              "        <img src=\"data:image/png;base64,iVBORw0KGgoAAAANSUhEUgAAAMQAAABgCAYAAABCK92TAAAAOXRFWHRTb2Z0d2FyZQBNYXRwbG90\n",
              "bGliIHZlcnNpb24zLjcuMSwgaHR0cHM6Ly9tYXRwbG90bGliLm9yZy/bCgiHAAAACXBIWXMAAA9h\n",
              "AAAPYQGoP6dpAAAM+0lEQVR4nO3dbWxTdRsG8GusrO59q+yV0nZlbBMYHRsryEymIX4wMjXMRIdm\n",
              "W7YoX0g0ftAQWZiQgKKYICaKioiakE2HjxIkUWMMEIkrMh3wONlb141nb6xbV8bWde39fFh3OKUd\n",
              "rNv6su7+JSS050/772HXTq/Tc05DiIjAGAMALPH3BBgLJBwIxkQ4EIyJcCAYE+FAMCbCgWBMhAPB\n",
              "mAgHgjERDgRjIhwIH3jiiSewb9++Wf/7Rx55BNXV1fM3ITYtib8nsBicPXvW31NgM8RbCMZEOBA+\n",
              "8Oijj2L37t0AgJCQEBw5cgQFBQWIiopCdnY2Lly4IIydmJjA66+/juTkZCQkJGDXrl0uj3fjxg1s\n",
              "374dy5cvR2JiIkpKStDf3w8A+O233xAZGQmdTgcAICI8+eSTKCoqAh/HeX8cCD/47LPPcOLECQwN\n",
              "DWHLli144YUXhGUHDx5EbW0tfv31V3R1dUEikeCPP/4QllssFmzZsgWpqam4fv062traIJFIsH37\n",
              "dgCT4auursazzz6LgYEB7Nu3D01NTfjqq68QEhLi89e64BDzusLCQnrzzTeJiAgAnThxQlh29epV\n",
              "AkA9PT1ERJSenk4ffPCBsHxiYoISEhJoz549RERUV1dHqampZLfbhTFdXV0EgDo7O4X7iouLSaPR\n",
              "UGRkJDU0NHjx1QUXLtV+kJqaKvw9MjISAGA2m5GUlISuri6kpaUJy0NDQ6FQKITbzc3N6O3tRXx8\n",
              "vNNjSqVSGAwGyOVyAMBrr72GgoIClJSUICcnx4uvJrhwIAKMXC6HXq8XbttsNnR2dgq3k5OToVQq\n",
              "0draOu1jmEwmlJWVobKyErW1tTh9+jSKioq8Oe2gwR0iwJSVleHQoUNoamqCxWLB3r17YTQaheXb\n",
              "tm2D1WpFVVUVTCYTAKCvrw81NTUAJkt0WVkZMjMz8emnn+Lo0aMoLS1FW1ubX17PQsOBCDBvvPEG\n",
              "tm3bhsLCQsjlcoyPj2Pjxo3C8ujoaFy8eBEGgwHZ2dmIiYnB5s2bce7cOQDAO++8g8bGRqFEl5SU\n",
              "4MUXX0RxcTFGR0f99bIWjBAi3hfH2BTeQjAmwoFgTIQDwZgIB4IxEQ4EYyIcCMZEOBCMifg0EIcP\n",
              "H/bl07FFxGYnGEfG5/w4Pj2WqaOjw5dPx4LYmNWGxi4TdHoj6tuNuNwxiI1qGT4ry5/T4/LBfWxB\n",
              "GB6z4s+OQejajdDpjfi704Rxm91pTFOPGUQ0p/M+OBAsIPWZx6BrHxS2AE09w7DfdZBRQrQUWpUM\n",
              "+ap45KfJkJUcM+eToDgQzO+ICB0Dt1GvNwpbAP3AbZdxqgcjkK+SIT9NBq1KBuWDEfN+FiAHgvmc\n",
              "zU74p3sYOr3R8WcQ/WaL05iQEOCh5Bho02STIVDFIzHmAa/PjQPBvM5dATZbJpzGhIUugWZFrLAF\n",
              "yFPGI+aBpT6fKweCzTuXAtxlwviEcwGOkkqQp4wXtgDr5LF4YGmon2Z8BweCzdlMCvCyKCm0afGO\n",
              "tz8yPJQSg9AlgXcVEA4E88hMC7DSUYC1jrdAKi8UYG/gQLB7stkJTT3Djh/+QdTrjW4LcGZStPD2\n",
              "R5smQ5IPCrA3cCCYE8vEZAGud/z2/7NjEOYx1wK8Th6L/LTJvT95Shliw31fgL2BA7HImacKsN4I\n",
              "Xfsg/uoacluAc5Xx0KomO4BmRVxAFGBv8DgQKpUKUqkU4eHhAIBdu3bhueeem/eJMe/oN1uE8qvT\n",
              "G/FPt7sCHCaUX22aDFnJ0ZCELo4Do2e1haipqeGrwS0AUwVY/AFY+80Rl3EKmaMAO/YCpS2LXBAF\n",
              "2Bv4LVMQsdkJ//aYnbYAffcpwPkqGZJjF2YB9oZZBaK0tBREBK1Wi7fffhsJCQkuYywWCywW5/8M\n",
              "m802u1kyt6YKsM6xC/SSmwK8NDQE6+RxwhYgTyFDbERwFGBv8PhCZQaDAQqFAlarFbt378aVK1fw\n",
              "448/uoyrrq7GW2+95XTfpk2bcPHixbnNeBGbSQGODAt1FODJ/f85QVyAvWFOV+7r7u5GRkYGzGaz\n",
              "yzJ3W4iqqio+a84DMynAD0aGOR0B+lDK4inA3uDRW6aRkRFYrVbExcUBAE6ePIn169e7HSuVSiGV\n",
              "Sp3uCw3l31TTISIYjLeFH/7pCvAKWbjTJ8DqRVyAvcGjQPT29qK4uBg2mw1EBLVajS+//NJbcwtq\n",
              "TgVYb8QlvRG9w+4LsHgLwAXYuzwKhFqtRkNDg7fmEtQsEzZc6TIJxwBxAQ5MvNvVS25ZJoRDoOv1\n",
              "RvzdOQTLNAV4avfnegUXYH/jQMyTm7csuKQ3ot5xGPS1/5m4AC9AHIhZICJ0DY4KBbheb0RbPxfg\n",
              "YMCBmAG7nfBvr3lyC6CffBvUMzzmNIYLcHDgQLgxPmHHlRtDwtufS3ojht0U4OzlscIP/wYlF+Bg\n",
              "wIHAZAG+3HHnFMi/3BTgiLBQ5IkKcM6KOISHcQEONosyEHcX4P92D8N2VwOWRYZNXgDLcQj06pQY\n",
              "LsCLQNAHYqYFeHlcODamyRxngcmwMoEL8GIUdIGw2wnX+8yO/f/uCzDgKMCiq0CkxoX7YbYs0Cz4\n",
              "QEwWYOdDoE2jVqcxkiUhyJbHOq4DKsMGVTziIsL8NGMWyBZcIEYsE7hsuPMJ8F+dQxizuhbgXIXj\n",
              "t39aPNaviOcCzGbE40A0NzejrKwMN2/eRGxsLL744gusWbPGG3MDAAzcskCnHxROg7z2P/cFeIPo\n",
              "KnCrU2OwlAswmwWPA7Fjxw68/PLLKC8vx7fffovy8nLodLp5mcxUAZ764a9vN6J1mgJ85xpA8ViZ\n",
              "EMUFmM0LjwLR19eHS5cu4aeffgIAFBcXY+fOnWhpaUF6evqsJjB0exynG7uFq8B1m1wLcEZSlLD7\n",
              "kwsw8yaPAtHZ2YmUlBRIJJP/LCQkBAqFAgaDwSUQMz2n2jw2gar/XL0zoSUhWLs8Vvjh36CMR3wk\n",
              "F2DmG14r1QcOHHB7TvXd5PHh2LouBemJUdCqZMhRxCEibMF1fRYkPDqnuq+vD+np6TAajZBIJCAi\n",
              "pKSk4MKFCzPaQpSWlkKtVrs8rs1mQ319PbRabUCeZsrzmzt/z1GpVOKVV165/0DyUGFhIR0/fpyI\n",
              "iL755hvKy8vz9CFcmEwmAkAmk2nOj+UNPL+5WwhzJCLy+L3J0aNHUV5ejv379yMmJgbHjx/39CEY\n",
              "C1geByIzM5OvrcSCFn96xZhIQARCKpViz549LtdxChQ8v7lbCHME5njlPsaCTUBsIRgLFBwIxkQ4\n",
              "EIyJ+DQQzc3N2Lx5MzIyMpCfn49r1665HXfs2DGsWrUKK1euxEsvvQSr1ep23HwaGxvDM888g4yM\n",
              "DGg0Gjz++ONoaWlxGafX6xEaGoqcnBzhT2trq9fnB0x+nVlmZqbwvDU1NW7H+WP9AcDAwIDTesnI\n",
              "yIBEIoHRaHQa5891eF++/BTwsccec/qUe8OGDS5j2traKCUlhbq7u8lut1NRURF9+OGHXp/b6Ogo\n",
              "nTlzhux2OxERHTlyhAoLC13Gtbe3U2xsrNfn445SqaSGhoZ7jvHX+nPn3Xffpa1bt7rc7891eD8+\n",
              "C0Rvby9FR0eT1WolIiK73U5JSUnU3NzsNO7gwYO0Y8cO4faZM2eooKDAV9MU6HQ6UiqVLvcHeiAC\n",
              "Zf0REWVlZdF3333ncn8gB8Jnb5nudei4mMFggFKpFG6rVCqXMb5w+PBhPP30026XjYyMID8/H7m5\n",
              "udi7d69PvyqstLQU2dnZqKysRH9/v8vyQFl/v//+OwYHB7F161a3y/25Du+FS7Ub+/fvR0tLCw4c\n",
              "OOCyLCUlBTdu3IBOp8Mvv/yC8+fP49ChQz6Z17lz59DY2IjLly9j2bJlKCsr88nzzsaxY8dQWloq\n",
              "/AIU8+c6vB+fBWLFihXo7u7GxMTkJSGJSPi+OjGFQoGOjg7htl6vdxnjTe+99x5OnTqFs2fPIiIi\n",
              "wmW5VCpFYmIiAEAmk6GiogLnz5/3ydym1sPSpUvx6quvun1ef68/ALh16xZqa2tRUVHhdrk/1+H9\n",
              "+CwQiYmJyM3Nxddffw0AqKurg1wudzmPori4GD/88AN6enpARPj444/x/PPP+2SO77//Pk6ePImf\n",
              "f/5Z+Nqwu/X19Ql7bSwWC06dOjXt14rNp5GREQwNDQm3p/s6M3+uvyk1NTXQaDTIyspyu9xf63BG\n",
              "fFlYmpqaaNOmTbRq1SrKy8ujxsZGIiKqrKyk77//Xhj3ySefkFqtJrVaTRUVFTQ+Pu71uXV2dhIA\n",
              "UqvVpNFoSKPRkFarJSKiqqoq+uijj4iIqK6ujtasWUPr1q2j1atX086dO2lsbMzr82ttbaWcnBzK\n",
              "zs6mtWvX0lNPPUXt7e1EFBjrT+zhhx+mzz//3Om+QFiHM8HHMjEmwqWaMREOBGMiHAjGRDgQjIlw\n",
              "IBgT4UAwJsKBYEyEA8GYCAeCMREOBGMiHAjGRP4PaNqKfVER0TQAAAAASUVORK5CYII=\n",
              "\">\n",
              "        \n",
              "      </div>\n",
              "      <script></script>\n",
              "      <script type=\"text/javascript\">\n",
              "        (() => {\n",
              "          const chartElement = document.getElementById(\"chart-22dd7b50-3531-4cbb-b218-e2e84c956b67\");\n",
              "          async function getCodeForChartHandler(event) {\n",
              "            const chartCodeResponse =  await google.colab.kernel.invokeFunction(\n",
              "                'getCodeForChart', [\"chart-22dd7b50-3531-4cbb-b218-e2e84c956b67\"], {});\n",
              "            const responseJson = chartCodeResponse.data['application/json'];\n",
              "            await google.colab.notebook.addCell(responseJson.code, 'code');\n",
              "          }\n",
              "          chartElement.onclick = getCodeForChartHandler;\n",
              "        })();\n",
              "      </script>\n",
              "      <style>\n",
              "        .colab-quickchart-chart-with-code  {\n",
              "            display: block;\n",
              "            float: left;\n",
              "            border: 1px solid transparent;\n",
              "        }\n",
              "\n",
              "        .colab-quickchart-chart-with-code:hover {\n",
              "            cursor: pointer;\n",
              "            border: 1px solid #aaa;\n",
              "        }\n",
              "      </style>"
            ]
          },
          "metadata": {}
        },
        {
          "output_type": "display_data",
          "data": {
            "text/plain": [
              "import numpy as np\n",
              "from google.colab import autoviz\n",
              "df_4351946576724068488 = autoviz.get_df('df_4351946576724068488')\n",
              "\n",
              "def value_plot(df, y, sort_ascending=False, figsize=(2, 1)):\n",
              "  from matplotlib import pyplot as plt\n",
              "  if sort_ascending:\n",
              "    df = df.sort_values(y).reset_index(drop=True)\n",
              "  _, ax = plt.subplots(figsize=figsize)\n",
              "  df[y].plot(kind='line')\n",
              "  plt.title(y)\n",
              "  ax.spines[['top', 'right',]].set_visible(False)\n",
              "  plt.tight_layout()\n",
              "  return autoviz.MplChart.from_current_mpl_state()\n",
              "\n",
              "chart = value_plot(df_4351946576724068488, *['stars'], **{})\n",
              "chart"
            ],
            "text/html": [
              "      <div class=\"colab-quickchart-chart-with-code\" id=\"chart-d09e8643-0d10-4c59-8e97-e0b8c1a076a8\">\n",
              "        <img src=\"data:image/png;base64,iVBORw0KGgoAAAANSUhEUgAAALkAAABgCAYAAABBnNO7AAAAOXRFWHRTb2Z0d2FyZQBNYXRwbG90\n",
              "bGliIHZlcnNpb24zLjcuMSwgaHR0cHM6Ly9tYXRwbG90bGliLm9yZy/bCgiHAAAACXBIWXMAAA9h\n",
              "AAAPYQGoP6dpAAAT00lEQVR4nO2da1BT57rH/yskBIEkIMhFIQkggS0iiEK5dLeV1p52V62turf2\n",
              "ghbrdDrHOTrHz54e+6G2tbq3057TTluhVbsRLba6a62XHvFaBS8VpRZRCSByEZG7CSF5zodckCYC\n",
              "yVor4HL9ZpiR5F3v88/rn3e96708YYiIICIiYCSjLUBEhG9Ek4sIHtHkIoJHNLmI4BFNLiJ4RJOL\n",
              "CB7R5CKCRzS5iOARTS4ieESTiwge0eReRqvV4ssvvxxtGY8UoskfQsxmMywWy2jLeGgQTc4Tn3zy\n",
              "CeLi4qBQKBAeHo5ly5bh+eefR11dHVauXInAwEAkJSUBAEpLS5GdnY2QkBAEBwcjNzcXv/76q6Ou\n",
              "0tJSMAyDHTt2QKfTwd/fHy0tLdi5cyeSkpKgVCoRGhqKZ555ZpQ+7RiHRDjn6tWrNG7cOLp06RIR\n",
              "EXV1ddHRo0eJiEij0dAXX3wxqPyJEyfo5MmTZDQaqbOzk1asWEFqtZqMRiMRER05coQA0Pz586m1\n",
              "tZUMBgN1d3eTTCajn3/+mYiI7t275/i3yGDEnpwHpFIpiAiVlZXo7OxEYGAgnnjiiQeWz8nJQXZ2\n",
              "Nnx9faFQKPDBBx+grq4OVVVVg8q9//77CAkJgVwuB8MwkMlkuHLlClpbW+Hn54fc3Fy+P9pDiWhy\n",
              "HoiJicGOHTtQWFgItVqN9PR0FBUVPbB8RUUF5s6di0mTJkGpVCImJgYA0NLS4lSvHX9/f/z00084\n",
              "fPgwEhISkJycjM2bN/PzgR52RvtWInRMJhMVFxcTwzBUVVVFMTExTsMVnU5Hq1atora2NiIiamtr\n",
              "IwB06NAhIhoYrphMJpcxLBYLHTlyhORyOR08eJDfD/QQIvbkPFBVVYUff/wR3d3dkEqlUKlUAAAf\n",
              "Hx9EREQ4DUM6OjqgVCqhUqnQ1taGNWvWDBujqakJu3btQnt7OxiGQVBQEBiGgVQq5eUzPdSM9l+Z\n",
              "EKmoqKDs7GxSKpWkUCgoKSmJtm3bRkRE+/fvp/j4eFKpVJScnExERPv27aPExETy9/en+Ph42rlz\n",
              "57A9+a1btyg3N5eCg4MpICCA4uLiaOPGjd7/sA8BDJF4xlNE2IjDFRHBI5pcRPCIJhcRPKLJRQSP\n",
              "aHIRweO2ybVaLRISEpCamorU1FQUFxfzoUtEhDM8WjkoLi5Gamoqx1JERPjBq8MVcW+FiDsQEeru\n",
              "9LKux6OePC8vD0SEjIwMvP/++5gwYYJTGaPRCKPROOi1GzduOJXbcqIG7/14xRMZAACphME7c5Pw\n",
              "ymNqj+twl3O1bcj/6iy6jf0eXS+VMFg7Zwpey9RwrOzBXKxvx9vbz+E/no7H4gzvtRUbjle3Ymlh\n",
              "GealTMTmxdM9rsftnvzYsWOoqKjA+fPnERoaiqVLl7ost379eqhUqkE/ZWVlTuWICGaL5z/Gfgv+\n",
              "fvgq+vq9d1LmH4er0XHPxErzPw5fhbHf7DXNmw5dxa0OAzYcqILB5L24bCg4WQMiINjfl1U9rJb1\n",
              "GxsbodPp0NXV5fSeq5587dq1TkOWHmO/xz2ihQgv/c8pNHUa8Pe/peCl6VEe1eMO1c1dmP33Y5Aw\n",
              "wJ5/fxxhSrlb11uI8PL/nkJjhwEfLUrBwhn8a77W0o1nNh11/L5h4TQsmhnNe1w2XL/djac3HgXD\n",
              "AP+35inEhAZ4XJdbw5Wenh6YTCYEBQUBAIqKijB9uuvbiFwuh1w+2AA+Pj5O5QLkUgTIPd8593qW\n",
              "BhsOVKHghB7zUyeBYRiP6xoJhaf0AIDZU8KRHKXyqI7XszT48KcqFJyowYI0/jV/daoGAODv64Pe\n",
              "PjMKTuqxcEYU73HZ8LWtnXMTwlgZHHBzuNLc3IxZs2Zh2rRpSE5OxtGjR7F161ZWAtiyJEMNuVSC\n",
              "Sw0dOFd7l9dY7b192H3+JgDgjZyYYUo/mCXpavjJJPitsRNlNW1cyXNJR68JJecaAAAbF6VgnMwH\n",
              "Vxo7cYbnuGzouGfCt+fYt7Mdt0weGxuLCxcuoKKiApcuXcKePXug1WpZi2DD+ABfvDR9EgDrGI5P\n",
              "dpTXw2CyYEqkEo/FjPe4nuAAX8fQqvCkniN1rik+W4d7JjMSIxR4bmoEXk6bZIvLb1uxYWd5PXr7\n",
              "zNCFByJncgjr+gSx4rksRwsAOFDZjIb2e7zE6DdbsNV2C30jR8v6Vv+GTfPB35pQ38Z+mswV/WYL\n",
              "vj5VCwDIz4kBwzD3xW3mLS4b+s0WfOVo5xhOhlSCMHlihBLZcSEwWwhbf9HzEuNAZTNudRgQEuCL\n",
              "uSkTWdenC1fg8cmhsBB403zoN+sf/fgAX8xLtWqeHKbAE7oJIBoY944lDl+xag72lznu0GwRhMkB\n",
              "a08FAEVn6tDb59lszVDYb++vZmrgJ3N+gPaE/Me1AKzDoB4PZ5iGwj4UeiVDPUizvTcvLq/3eGaL\n",
              "Lwpsmpf8QTMbBGPy3MQwaEL80Wnox+7zDZzWXXGzHWdr70Lmw+C1TO4WUp7SWWcOugz9KLE90HLF\n",
              "5YYOlOnbIJUweD1r8KLTk/ETEBsagC5jP0rOcRuXDZcbOlBW0wYfF5rZIBiTSyQMlmZpAVh7XYuF\n",
              "u1N99h5xzrSJCFP4cVavVbP1P/Ork3pONdsfwl+YFolw5WDNEsnA2PyrU9zGZYO9nf+SHIlI1TjO\n",
              "6hWMyQFg0cwoBMqluH67B8evtXJSZ0unAT9U3AIwMCTikoUzo6GQS3GjtQdHq29zUmdLlwE/XGwE\n",
              "8OApuJfToqDwk6KmtQelV1tclvEmt7uM+NdFazvb/wC5QlAmV/jJsGimfWqOmymy7adrYTITZmqC\n",
              "PV78GYpAuRR/TbeuPhac4EbzN6fr0Ge2IE0dhNToIJdlAuRSLLbF5XsacyT884xVc0p0ENLUwZzW\n",
              "LSiTA8CybC0YBiituo1rLd2s6jKYzPjmTB0AbhYlHsTSLKvm49WtqG523iLhDsZ+M745Y502HE5z\n",
              "XpYWElvcqyzjssHYb8a20/apTi3n9QvO5JqQADydGA6A/RTZ3ou3cKenDxNVfvi3pHAO1LlGHeKP\n",
              "2X+y1l/IUvO/LjaitbsPEUo/PDc1Ysiy0eP98ewUa5nR7M33VTSitduIcKUcf0mO5Lx+wZkcGOgN\n",
              "vj13Ex29Jo/qICLHf3xethZSH36byt7r7j5/E+29fR7VYdVsHfLkZWsgG4Fm+/j3uwuex2UDETke\n",
              "kvOytCPS7C6CNHlWXAgSwhW4ZzKj+GydR3WcqWnDlcZO+MkkjrErn2TGjkdihAIGkwU7yus9qqNc\n",
              "fxeVt6yal6SPbKozI2Y8kiYqYTBZUFTmWVw2nK29i8sNnZBLJVjC0z53QZqcYRjHQsvXp2rRb3Z/\n",
              "r7n9IXBBWhSCWO5nHglWzdbefOspPSvNL02PQnDAyDRbl/ptcX/Rw+RBXDbY7zzzUydh/Ag1u4sg\n",
              "TQ4AL6ZOQrC/DA3t93D4SrNb19a39eKQ7Rqup7OGYl7KRIQE+OJWhwEHKt3XfPC3JgDua56bEonQ\n",
              "QF80dhhwoLLJrWvZcPNuL366bNNs65T4QLAm95P5OI7EFZzQu3Xt16f0IAL+HB+KyWEKHtS55n7N\n",
              "7k6BbjtdCwsBj08OhS7cPc1yqQ9efUxji6t361o2bPvFqjk7LgSJEUre4gjW5ADweqYWUgmDMn0b\n",
              "Ljd0jOiabmM/im1jYvvwwZu8lqmBzIfB2dq7qLjZPqJreoz9KCqzPnvke9gjvpqphsyHwbnau7hY\n",
              "P7K4bOjtG9DM5/QsIHCTR6j8HFNSI91rXnLuJrqM/YgNDcCT8c4HtPkmXOmHF2yaR9qr7j5/E12G\n",
              "fsSEBuApXZhHccMUfpg7baItLv97zXefb0CnoR+aEH/kJnqmeaQI2uTAwPj0h4uNuN1lHLKsxUKO\n",
              "vczLcrSQSEbneJi9Z/uh4hZaOg1DlrVYyDG3vjRLw0qzPe6+S41oHiYuGyyWganOpVla+PDczoI3\n",
              "+XR1MKarg9BntjhWAh9E6dUW1LT2QOEnxYI0/g8YP4iU6CDM0ATDZCZsPz205qPVt3Hjdg8UcikW\n",
              "sjycnBylQrp2ZHHZcPxaK67f7kGgXOrYhsEngjc5MNBDbT9dO2QaCPvwYHF6NKvD1VxgvwN9c6Zu\n",
              "yBQSds1/TY9GIAea7W31z2HissHeiy+aGQWFn4yXGPfzSJj8+akRiFD6obW7z7E7749cbe7C8epW\n",
              "SBjrytto81xSBCaq/HCnp8+xO++PXGvpwrGrt8EwcGwzZsuzU8IxKWgc7vT0Ye8D4rLhWks3Squs\n",
              "mpdlazmv3xWPhMllPhLHJnxrwhrn/dP2HvHZKRGIHu/vTXkukfpI8LrNuAUn9UNqnv2ncKhDuNEs\n",
              "9ZEgz95WJ1y3FRvs+4meTgyHJoRdqomR8kiYHLAeAZNLJai81Yly/eDUFe29ffjugj0FgnYU1Llm\n",
              "SUY0/GQSlykkOnpNjhNQXE/BLU5XY5zMB783deH0De5SV3T0DqSa4GO34YN4ZEweHOD7wHQMRWXW\n",
              "VBNJE5XIYJFqgmuC/H3xcprr/fE7ygdSTWTGcqtZ5S/Dghncp66wp8dICFcgK459qomR8siYHACW\n",
              "ZVt7vAOVA2kgTGaL47Q8VykQuOQN27j1/hQS1lQTegDWBSs+NNvb6tCVZk4yyw5Kj/E4+5Qe7vBI\n",
              "mTwhQoGcySGwEByb9A9UNqGxw4DQQF/MTeF+LzNb4sMV+HN86KAUEgd/G0iPMY+D9BiumBwWOJC6\n",
              "goOUGfenmngxlZtUEyPlkTI5MHBOc0dZHXqM/Y6Ht1cf00Au5SYFAtfYNReftaaQcKTHeIy7tA2u\n",
              "42oBWDNasU1dYd8/9ArPml3hsckLCwvBMAy+//57DuXwz6yEMGhtqSv+e28lztlSTbzKYaoJrnlS\n",
              "Z0shYejHur2VKNfb02Pwm9/8ifgJiJ1gTV3x7VnP95oPSo+RqeVO4AjxyOR6vR5ffPEFMjMzudbD\n",
              "OxIJg6W2ce4u25P+XI5TTXCNK80vJEciTMmvZomEcTwTsEldcX+qiQiV99vZ7SUyi8WCN998Ex9/\n",
              "/DHWrFnDhybeWTQzGpsOXkWX7RbM9y44Llg4IwofHaxCl8Gq2Vs7JF9Oi8KGA1XQ3+nFf+297HZn\n",
              "YCFyLGaNxq5OwAOTb9q0CTk5OZgxY8aQ5Vwl4Tebx8Y3HFj3TESj4GQN0rX8pJrgmgC5FH+bGY0v\n",
              "T9RghiYY06KCvBZ3cYYanx+7ge2nPTtKCADTh0iPwTdumfzy5csoKSnBsWPHhi27fv16rFu3btBr\n",
              "Y2l485/P6qDwkzrmzh8GVs/WIdBPivlenp1YmTsZDOC487mLTML/88NQuPV1Kp9++ineffddxzdI\n",
              "NDU1QalUYt26dXj77bcHlXXVk+fl5SE2NtapXrPZjLKyMmRkZLj8NorRYCxqAsamrtHSpNFosGrV\n",
              "qmHLsfrOoKeeegqrV6/G/PnzPa0CANDZ2QmVSoWOjg4olfwdg3KHsagJGJu6xqKm+3nk5slFHj1Y\n",
              "bUAuLS3lSIaICH+IPbmI4BkTJpfL5XjnnXecvhJxNBmLmoCxqWssarofVg+eIiIPA2OiJxcR4RPR\n",
              "5CKCRzS5iODxqsmrq6uRnZ0NnU6H9PR0VFZWuiy3ZcsWxMfHIy4uDitWrIDJ5FmO8eEwGAyYP38+\n",
              "dDodUlJSMHv2bFy7ds2pnF6vh4+PD1JTUx0/169f50WTHa1Wi4SEBEe84uJil+W81VZ37twZ9Pl1\n",
              "Oh2kUina2gafAR2NthoW8iKzZs2iwsJCIiLatWsXzZw506nMjRs3KDIykhobG8lisdDcuXPpk08+\n",
              "4UXPvXv3aN++fWSxWIiI6OOPP6Ynn3zSqVxNTQ2pVCpeNDwIjUZDFy5cGLKMN9vqj2zYsIHmzJnj\n",
              "9PpotNVweM3kzc3NpFAoyGQyERGRxWKh8PBwqq6uHlTuww8/pLfeesvx+759+ygnJ8crGsvLy0mj\n",
              "0Ti9PlZNPpptlZiYSN99953T62PR5F4brtTX1yMyMhJSqXWRlWEYqNVq1NUN3r5ZV1cHjWZgx5pW\n",
              "q3UqwxebN2/Giy++6PK9np4epKenIy0tDe+++65Xtg3n5eUhOTkZy5cvx+3bzl9/OFptderUKdy9\n",
              "exdz5sxx+f5otNVQiA+eNt577z1cu3YN69evd3ovMjISDQ0NKC8vx+HDh3H8+HFs3LiRVz3Hjh1D\n",
              "RUUFzp8/j9DQUCxdupTXeO6wZcsW5OXlOTqs+xmNthoOr5k8OjoajY2N6O+37kkmItTV1UGtHny2\n",
              "Uq1Wo7Z2INmkXq93KsM1H330EXbv3o39+/fD3985E5VcLkdYmDW98Pjx45Gfn4/jx4/zqsn+mWUy\n",
              "GVavXu0y3mi0VXd3N3bu3In8/HyX749GWw2H10weFhaGtLQ0bN++HQBQUlKCqKgoTJ48eVC5BQsW\n",
              "YO/evWhqagIR4bPPPsPixYt507Vp0yYUFRXh0KFDCAoKclmmpaXFMWthNBqxe/duTJ8+nTdNPT09\n",
              "aG9vd/xeVFTkMp632woAiouLkZKSgsTERJfve7utRoQ3HwB+//13yszMpPj4eJoxYwZVVFQQEdHy\n",
              "5ctpz549jnKff/45xcbGUmxsLOXn51NfXx8veurr6wkAxcbGUkpKCqWkpFBGRgYREa1du5Y+/fRT\n",
              "IiIqKSmhpKQkmjZtGk2ZMoVWrlxJBoOBF01ERNevX6fU1FRKTk6mqVOn0rx586impoaIRq+t7GRl\n",
              "ZVFBQcGg10azrUaCuHdFRPCID54igkc0uYjgEU0uInhEk4sIHtHkIoJHNLmI4BFNLiJ4RJOLCB7R\n",
              "5CKCRzS5iOARTS4ieP4fZ/9TgBOYvr0AAAAASUVORK5CYII=\n",
              "\">\n",
              "        \n",
              "      </div>\n",
              "      <script></script>\n",
              "      <script type=\"text/javascript\">\n",
              "        (() => {\n",
              "          const chartElement = document.getElementById(\"chart-d09e8643-0d10-4c59-8e97-e0b8c1a076a8\");\n",
              "          async function getCodeForChartHandler(event) {\n",
              "            const chartCodeResponse =  await google.colab.kernel.invokeFunction(\n",
              "                'getCodeForChart', [\"chart-d09e8643-0d10-4c59-8e97-e0b8c1a076a8\"], {});\n",
              "            const responseJson = chartCodeResponse.data['application/json'];\n",
              "            await google.colab.notebook.addCell(responseJson.code, 'code');\n",
              "          }\n",
              "          chartElement.onclick = getCodeForChartHandler;\n",
              "        })();\n",
              "      </script>\n",
              "      <style>\n",
              "        .colab-quickchart-chart-with-code  {\n",
              "            display: block;\n",
              "            float: left;\n",
              "            border: 1px solid transparent;\n",
              "        }\n",
              "\n",
              "        .colab-quickchart-chart-with-code:hover {\n",
              "            cursor: pointer;\n",
              "            border: 1px solid #aaa;\n",
              "        }\n",
              "      </style>"
            ]
          },
          "metadata": {}
        },
        {
          "output_type": "display_data",
          "data": {
            "text/plain": [
              "import numpy as np\n",
              "from google.colab import autoviz\n",
              "df_4899595889220751288 = autoviz.get_df('df_4899595889220751288')\n",
              "\n",
              "def value_plot(df, y, sort_ascending=False, figsize=(2, 1)):\n",
              "  from matplotlib import pyplot as plt\n",
              "  if sort_ascending:\n",
              "    df = df.sort_values(y).reset_index(drop=True)\n",
              "  _, ax = plt.subplots(figsize=figsize)\n",
              "  df[y].plot(kind='line')\n",
              "  plt.title(y)\n",
              "  ax.spines[['top', 'right',]].set_visible(False)\n",
              "  plt.tight_layout()\n",
              "  return autoviz.MplChart.from_current_mpl_state()\n",
              "\n",
              "chart = value_plot(df_4899595889220751288, *['cool'], **{})\n",
              "chart"
            ],
            "text/html": [
              "      <div class=\"colab-quickchart-chart-with-code\" id=\"chart-efcc08a3-79a6-4f86-97e0-1dd26b7dfb65\">\n",
              "        <img src=\"data:image/png;base64,iVBORw0KGgoAAAANSUhEUgAAAMQAAABgCAYAAABCK92TAAAAOXRFWHRTb2Z0d2FyZQBNYXRwbG90\n",
              "bGliIHZlcnNpb24zLjcuMSwgaHR0cHM6Ly9tYXRwbG90bGliLm9yZy/bCgiHAAAACXBIWXMAAA9h\n",
              "AAAPYQGoP6dpAAAQSUlEQVR4nO3deVSTd7oH8G8gEFkDsolKgABhl8imaJXjgt6ZcZtp7a3jHXRw\n",
              "rM6pLdZ77GnP1eu1d65U2+rR1qmK1KWdUlSg2jq2BevGSAURyygi+yIiiwsCJoEkz/0jmoYJlTV5\n",
              "A/w+5/AH7/rw6pf3fcPz/l4eEREYhgEAmHFdAMOYEhYIhtHBAsEwOlggGEYHCwTD6GCBYBgdLBAM\n",
              "o4MFgmF0sEAwjA4WiBHIy8sLBw8e5LqMYYkFgmF0sEAwjA4WCI7IZDJs2rQJEokEdnZ2EIvFOHLk\n",
              "CADg8OHDCAkJgb29PUJCQrTTn8nNzcWMGTPg6OgIb29vvP3221AoFFz8GCMPMZxYvnw5RUVFUXFx\n",
              "ManVaqqvr6eCggI6ceIE2dnZUXZ2NimVSsrKyiIbGxvKzMwkIqKamhqytramXbt2kUKhoNLSUgoK\n",
              "CqLExETttj09PSk5OZmbH2yYY4HgQHNzMwGg/Px8vXnz5s2j9evXd5v2xhtv0Pz584mIaNu2bSSV\n",
              "SrvNz8jIICsrK1Kr1UTEAjEY7JKJA1VVVQAAf39/vXl1dXXw8fHpNs3X1xe1tbXPnS+TydDc3Gyg\n",
              "ikcPFggOeHl5AQBKS0v15nl4eKCioqLbtIqKCohEIu38yspKvflWVlZwcXExTMGjCdenqNFq2bJl\n",
              "NGXKFCopKSEiort371JBQQEdO3aM7O3t6dy5c6RUKuns2bNka2tL6enpRERUXV1N1tbWtGfPHlIo\n",
              "FFReXk4hISH0+uuva7fNLpkGjgWCI+3t7fTWW2+Rt7c32djYkLe3Nx09epSIiJKTkykwMJBsbW0p\n",
              "KCiIUlJSuq2bk5ND06dPJ6FQSCKRiDZu3EgymUw7nwVi4HhE7JlqhnmG3UMwjA4WCIbRwQLBMDpY\n",
              "IBhGBwsEw+hggWAYHSwQDKPDqIHYvXu3MXfHMP1m1EDU1NQYc3dMH32aU4XIv2Qjq7iR61I4xy6Z\n",
              "RjEiwvZvS/DuN8VoaVcg6cwtqNWju3GBBWKUUqrUeCfjn/jkvKaz1pJvhsrmDnw/ys8SLBCjkLxL\n",
              "hde+uIYv8+tgxgPe+10oVs/wBgDsu1CB0dzexgIxyrTJu/DHQ/n47mYjLM3N8Nfl4XglWoSV07wh\n",
              "4Jvhet0jXKl6wHWZnGGBGEVa2hVYlvwjcivvw1bAx+GEKPxbiDsAwMVOgKWREwFAexk1GrFAjBJ1\n",
              "D55g6b5c3Kh/DCcbS6SunoppPs7dlnl1hg/MeMCF0mYU333MUaXc6ncgvLy84O/vD6lUCqlUirS0\n",
              "NEPUxQyh0sY2vLTvMqpaOjDBwQrH18YgdKJQbzmRkzV+M2k8AM29xGjEH8hKaWlpkEqlQ1wKYwgF\n",
              "NQ+RcDgfrbIu+Lna4rNVUzBOOOYXl18zU4yvf7qLb4ruYuN8f3iMtTZitdxjl0wj2PnbTfiPg1fQ\n",
              "KuvCZJEDjq+NeW4YACBkghAzJS5QE5B8qfK5y45EAwpEfHw8QkNDsWrVql8c+kShUODx48fdvlQq\n",
              "1aCKZfru5PV6/OnIVci6VIiVuOBvf5oCB2vLPq27NlYMAEjLr0NL++gaEbDfgbh48SKKiopw7do1\n",
              "ODs7Y8WKFT0ul5SUBKFQ2O0rLy9v0AUzvTtyuRrr065DqSYsChuP5PhIWFv2/eo4RuyEsIlCKJRq\n",
              "HLlcbbhCTdCgBhloaGiARCJBW1ub3jyFQqE33ujmzZtZg58BERF2ZZdhz9kyAMCKGE9sWRgMMzNe\n",
              "v7f17Y0GrP38GuzH8HH5nTmwFQzodnPY6dcZoqOjA48ePdJ+n5qaismTJ/e4rEAggL29fbcvc3Pz\n",
              "QRXL/DKVmvDfJ29qw/DmXAn+Z9HAwgAAcUHjIHa2wWO5El/m1Q5lqSatX4FobGzErFmzMGnSJISG\n",
              "huLChQs4evSooWpj+qhTqUbil4X47Mca8HjA/y4JQeJcP/B4AwsDAJib8bDm6b3EwUtV6FSqh6pc\n",
              "k9av86BYLEZhYaGhamEGgIiw4dh1fFPUAAtzHna+LMXCsPFDsu0lkydgZ1Yp7j2W46vr9Xg50mNI\n",
              "tmvK2Meuw9zec+XaMBxcETVkYQAAAd8cq17QNP3tv1AxKlrDWSCGsaziRnzwvWbA5HcXhyBWMvSD\n",
              "HS+LFsFuDB8VzR3IujXyW8NZIIap0sY2rP9Sc/kaH+OJZdEig+zHbowF/jDVE8DoaA1ngRiGHj3p\n",
              "xOqjV9HRqUKM2AmbFwQZdH9/nO4NS74ZCmsfIW+Et4azQAwzSpUa674oRM39J5joaIW9y8NhYW7Y\n",
              "f0YXOwGWRjxtDR/hTX8sEMPM//39FnLKW2BtaY7k+EiMtelbO8ZgvTpTDDMecP52M241jNzWcBaI\n",
              "YeTY1Toc+kc1AGDny2EIdLc32r49nWzw61DNw0QjuTWcBWKYKKh5iE2ZNwAAiXP8tE+6GdPaWM27\n",
              "7b4pakDdgydG378xmEQg/nalBkV3HnFdhslqaJVhzWcF6FSpMT/YDYlz/DipI2SCEDP8nKFSEw6O\n",
              "0NZwzgNR1tiGLSdvYvHef2DzVzfQKuviuiSTIu9S4dWjBWhpVyBgnB12viwdcH/SUPjz07NE2tU6\n",
              "3B+BreGcB8LB2hILw8aDCPjsxxrM+fA8MgvvjPjPu/uCiPB2ehH+Wd8KR2sLJMdHwobjrtMYH01r\n",
              "uLxrZLaGcx4IFzsBdv27FF+sngIfFxu0tHfizbSf8PvkKyhvaue6PE4duFiJr67fhbkZD3uXh5vE\n",
              "45w8Hk97L3EktwYdCiXHFQ0tzgPxzDQfZ5xJnImN8/0h4Jsht/I+frX7It7/rgSyztH3pN252014\n",
              "79sSAMCWhUF6I2RwaV6wpjW8VdaF1BHWGm4ygQA0wym+NssX2RtiMTvAFV0qwt5zFYjbdQFnTbSP\n",
              "RqlS40rlfXz9090he9yyorkdb6QWgghYFu2hbZ0wFeZmPLw6U9ManpIzslrDTfIxKI+x1khZEYnv\n",
              "ixux9dRN3Hkow6ojVzEvyA1bFgVjgoMVp/W1K5S4WNqM7OJG/HC7CY+eaD4I4PGAcJEj5ga6IS7I\n",
              "FT4utv1+JqFV1oXVR66iTa5ElJcjti4KGdRzDYby23BNa3hDqxwnr9dj6QhpDTfqe6o3bNiAnTt3\n",
              "9mudDoUSe86WISWnCko1wcrCHOvn+iHhBW+DtyzoutcqR/atRmQVNyK34j46VT//VnSwtsA4+zEo\n",
              "udf9UVpvZxvMDXRFXNA4hIscwO+lXpWakHA4HxdKmzFeOAanXn8BzrYCg/w8Q2H/hQoknSmBr6st\n",
              "vl8/k9NPv4ZKvwNRVlaGFStWoKWlBUKhEIcPH0ZwcHCf1h1IIJ65fa8Nm7+6gbxqTXOZxM0Wf1kS\n",
              "imjvsQPaXm+ICCX32pBV3IjsW40outPabb6XkzXigtwwN9ANEZ6O4JuboaFVhuxbTU9D04Iu1c+H\n",
              "1tHaArMCXDEvyA0z/Fx6/LQo6e+3sP9iJcZYmOHE2mkImaA/mJgpaZN3Ydp7P6BNrsSBP0RgXvA4\n",
              "rksatH4HYvbs2YiPj8fKlStx4sQJbN++Hfn5+X1adzCBADT/SU8U3EHSmRI86OgEALwUMRHv/CoA\n",
              "TkPwm7RLpUZe1QNkFWvOBPWPZNp5PB4w2cMBc4PcMC/IrdfLoTZ5Fy6WtiD7ViN+KGnq9vcVS74Z\n",
              "pvs4Ye7TQLnZj0Fm4R28mfYTAOCjZZOH9EEfQ9rxbQn+er4C4SIHpP95mkle3vVHvwLR1NQEX19f\n",
              "PHjwAHw+H0QEd3d35OTkwNfXt9f1BxuIZx52dGLHdyVIzasDAAitLPD7KSJYWQxsEAMizY3sudtN\n",
              "aJP//DGigG+GGX7OiAtyw+wAN7jYDSx0SpUa+dUPtZdctf/S9jBpohAl99rQqVTjtVk+2Dg/YED7\n",
              "4UJzmwLTt/+ATqUaq17whtDKgrNaXOwEg34upF831XV1dXB3dwefr1mNx+NBJBKhtrZWLxA9DUMz\n",
              "VAOVOdpYIul3k7A00gP/lXkDtxoeD9mI1U42lpgT6Iq5gZpLGyvLwY8Uwjc3Q4yPE2J8nLDpN4Eo\n",
              "a2rXnoWu1z3SXo7NCXDFf8b5D3p/xuRiJ8BLERPxxZVapORUcVpLyAR74waiP5KSkrB169Zu06ZO\n",
              "nTqk+wgXOeLrddNx7Ood3Ljb2vsKz+FobYHZAa6QejjC3IA3hzweDxI3O0jc7PDaLF80PZbjbEkT\n",
              "GlrlmhbrYXhjunGeP2wszdHB8d+LhuLTR4NdMvV0hoiPj4dYLNbbrkqlQl5eHqKjo01y7CZW3+Bx\n",
              "XaOnpycSExN7X5D6KTY2lg4dOkRERMePH6eIiIj+bkJPa2srAaDW1tZBb8sQWH2DNxxqJCLq9yXT\n",
              "/v37sXLlSmzbtg329vY4dOhQfzfBMCar34Hw9/dHbm6uIWphGM6ZVC8Tw3DNJAIhEAiwZcsWCASm\n",
              "2abA6hu84VAjYOReJoYxdSZxhmAYU8ECwTA6WCAYRodRA1FWVoZp06ZBIpEgKioKN2/e7HG5lJQU\n",
              "+Pn5wcfHB6tXr0ZXl+FH4pDL5ViyZAkkEgnCwsIQFxeH8vJyveWqq6thbm6ufU+3VCpFRYVxBu7q\n",
              "6zvCuTh+AHD//v1ux0UikYDP5+PBg+7jwXJ5DHtlzL8Czpo1q9tfuSMjI/WWqaysJHd3d2poaCC1\n",
              "Wk0LFy6kjz/+2OC1yWQyOn36NKnVaiIi+uijjyg2NlZvuaqqKhIKhQavpyeenp5UWFj43GW4On49\n",
              "ef/992nBggV607k8hr0xWiAaGxvJzs6Ourq6iIhIrVaTm5sblZWVdVtux44dtGbNGu33p0+fpunT\n",
              "pxurTK38/Hzy9PTUm27qgTCV40dEFBAQQJmZmXrTTTkQRrtkel7ruK7a2lp4ev78UL2Xl5feMsaw\n",
              "e/duLF68uMd5HR0diIqKQnh4ON59912jvn+7t3eEm8rxu3z5Mh4+fIgFCxb0OJ/LY/g87Ka6B9u2\n",
              "bUN5eTmSkpL05rm7u6O+vh75+fnIzs7GpUuX8OGHHxqlrr6+I9wUpKSkID4+XvsLUBeXx7A3RguE\n",
              "h4cHGhoaoFRqnkgjItTW1kIk6v5Ah0gkQk1Njfb76upqvWUM6YMPPkBGRgbOnDkDa2v9gcEEAgFc\n",
              "XV0BAGPHjkVCQgIuXbpklNqeHQcLCwusX7++x/1yffwAoL29HceOHUNCQkKP87k8hr0xWiBcXV0R\n",
              "Hh6Ozz//HACQnp6OiRMn6j1H8eKLL+LUqVO4d+8eiAj79u3DK6+8YpQad+7cidTUVGRlZcHBwaHH\n",
              "ZZqamrSf2igUCmRkZPziu7qHUl/fEc7l8XsmLS0NYWFhCAjo+VFYro5hnxjzhqWkpISmTp1Kfn5+\n",
              "FBERQUVFRUREtGrVKjp58qR2uQMHDpBYLCaxWEwJCQnU2dlp8Nrq6uoIAInFYgoLC6OwsDCKjo4m\n",
              "IqLNmzfTJ598QkRE6enpFBwcTJMmTaKgoCBat24dyeVyg9dXUVFBUqmUQkNDKSQkhBYtWkRVVVVE\n",
              "ZBrHT1dMTAx9+umn3aaZwjHsC9bLxDA62E01w+hggWAYHSwQDKODBYJhdLBAMIwOFgiG0cECwTA6\n",
              "WCAYRgcLBMPoYIFgGB0sEAyj4/8BoBeFW2hUtXkAAAAASUVORK5CYII=\n",
              "\">\n",
              "        \n",
              "      </div>\n",
              "      <script></script>\n",
              "      <script type=\"text/javascript\">\n",
              "        (() => {\n",
              "          const chartElement = document.getElementById(\"chart-efcc08a3-79a6-4f86-97e0-1dd26b7dfb65\");\n",
              "          async function getCodeForChartHandler(event) {\n",
              "            const chartCodeResponse =  await google.colab.kernel.invokeFunction(\n",
              "                'getCodeForChart', [\"chart-efcc08a3-79a6-4f86-97e0-1dd26b7dfb65\"], {});\n",
              "            const responseJson = chartCodeResponse.data['application/json'];\n",
              "            await google.colab.notebook.addCell(responseJson.code, 'code');\n",
              "          }\n",
              "          chartElement.onclick = getCodeForChartHandler;\n",
              "        })();\n",
              "      </script>\n",
              "      <style>\n",
              "        .colab-quickchart-chart-with-code  {\n",
              "            display: block;\n",
              "            float: left;\n",
              "            border: 1px solid transparent;\n",
              "        }\n",
              "\n",
              "        .colab-quickchart-chart-with-code:hover {\n",
              "            cursor: pointer;\n",
              "            border: 1px solid #aaa;\n",
              "        }\n",
              "      </style>"
            ]
          },
          "metadata": {}
        },
        {
          "output_type": "display_data",
          "data": {
            "text/plain": [
              "import numpy as np\n",
              "from google.colab import autoviz\n",
              "df_8081576327562614786 = autoviz.get_df('df_8081576327562614786')\n",
              "\n",
              "def value_plot(df, y, sort_ascending=False, figsize=(2, 1)):\n",
              "  from matplotlib import pyplot as plt\n",
              "  if sort_ascending:\n",
              "    df = df.sort_values(y).reset_index(drop=True)\n",
              "  _, ax = plt.subplots(figsize=figsize)\n",
              "  df[y].plot(kind='line')\n",
              "  plt.title(y)\n",
              "  ax.spines[['top', 'right',]].set_visible(False)\n",
              "  plt.tight_layout()\n",
              "  return autoviz.MplChart.from_current_mpl_state()\n",
              "\n",
              "chart = value_plot(df_8081576327562614786, *['useful'], **{})\n",
              "chart"
            ],
            "text/html": [
              "      <div class=\"colab-quickchart-chart-with-code\" id=\"chart-c4c1c434-832f-4b69-9bef-e9cba9bc8082\">\n",
              "        <img src=\"data:image/png;base64,iVBORw0KGgoAAAANSUhEUgAAAMQAAABgCAYAAABCK92TAAAAOXRFWHRTb2Z0d2FyZQBNYXRwbG90\n",
              "bGliIHZlcnNpb24zLjcuMSwgaHR0cHM6Ly9tYXRwbG90bGliLm9yZy/bCgiHAAAACXBIWXMAAA9h\n",
              "AAAPYQGoP6dpAAATk0lEQVR4nO3deXxU5b3H8c8kk0xC9hBniASykJ2EBAIBQWW3ShFBWq9IG/aK\n",
              "99KL5WUr3LphKaAiFEERkaWCRYSg2CIWgmxKlMVggBDIHiDJhOwbWSbz3D+C46QJkJDMQnjer9e8\n",
              "XjDzzDm/eSbfOdtzzlEIIQSSJAFgY+kCJMmayEBIkhEZCEkyIgMhSUZkICTJiAyEJBmRgZAkIzIQ\n",
              "kmREBkKSjMhA3KWSkpLo378/Li4uTJkypU3vGTFiBC+99JKJK7u7KS1dgHRnFi5cyLBhw0hKSrJ0\n",
              "KV2KXELcpTIyMoiOjrZ0GV2ODIQJ+fn58eGHHzZ7TqFQkJCQQG5uLuPGjcPT0xM3NzciIiI4duyY\n",
              "od2XX37J4MGD8fDwICgoiHfeeQeAuro6nJ2dyczMZN68eTg7O/Pxxx+zZcsWfHx8ms3rtdde48EH\n",
              "HzT9B+1C5CqThSxatIiePXuSl5eHvb09aWlp2NvbA3Do0CGeeeYZ4uPjGTlyJCkpKTz22GN0796d\n",
              "qVOnUlVVhZ+fHy+99BKzZ88GYMuWLRb8NF2HXEJYiL29PQUFBWRkZKBQKAgJCcHf3x+AVatW8dxz\n",
              "zzF69GhsbGyIiIhg7ty5bN682cJVd30yEBayYsUKAgMDefLJJ9FoNMyYMQOtVgtAWloaq1evxt3d\n",
              "3fBYvnw5+fn5Fq6665OBMCEXFxeqq6sN/8/LyzP8u3v37qxatYqLFy+SlJREdnY2CxYsAKBHjx4s\n",
              "XLiQsrIyw6OyspLz58+3eV7/OT+pbWQgTGjgwIFs376dsrIyKioqWLhwoeG1Tz75hIyMDPR6PS4u\n",
              "LqhUKpTKpk26+fPns2bNGg4ePIhOp0On03Hu3DmOHj1603n179+fyspKduzYgV6v5/Dhw+zcudPk\n",
              "n7GrkYEwoSVLluDq6kqvXr2IiYlh0qRJhtd+/PFHRo0ahYuLC3369MHd3Z0VK1YAMHHiRLZu3cor\n",
              "r7yCWq1GrVYze/ZsioqKbjqvgIAA1q5dywsvvIC7uzvr169nxowZJv+MXY1CnlMtST+TSwhJMiID\n",
              "IUlGZCAkyYgMhCQZkYGQJCMyEJJkRAZCkoyYNRCrV6825+wkqd3MGoicnBxzzk5qo/jTVxi45AD/\n",
              "Pl9g6VIsTq4y3eNOZJXwYnwyRVX1vPbFeWobGi1dkkXJQNzDrpTW8Ny20+j0TaN38str2fxttmWL\n",
              "sjAZiHtUTb2O3310muLqevre78qSiREAvHc4ndLqegtXZzkyEPcgIQR/3JlMSn4FXs72fBA3kCmx\n",
              "vQnzdqWyVsfaQ+mWLtFiZCDuQe8eSmfv2XzsbBWs+00MPd0dsbVRsPCxUAC2JuZwuaTGwlVahgzE\n",
              "PeZAipYV+y8BsHhCBIP8PA2vPRzkxbDA7tQ36nl7/0VLlWhR7Q6En58fISEhREdHEx0dzY4dO0xR\n",
              "l2QCl7SVPP9J04XNfjvEl2cG9272ukKhYOGjYQB8fiaPc1fLzV6jpd3RZWh27NghL5J1lymrqWfO\n",
              "R6eorm9kSIAnrzwe3mq7SB83noi+nz1n8li+L5VtswebuVLLsopVpsKKWs5cLrN0GV2WrlHPvH8k\n",
              "kVNcg4+HI+9NjcHO9uZf/QuPhGBva8M36UUcvXTNjJVa3h0FIi4ujsjISGbNmsW1a613WF1dHRUV\n",
              "Fc0ejY0tD/ok5ZYyeuURntt2msrahjspR7qNv355gW/Si+hmb8uGuIF4Otnfsn0vz278ZogvAMv2\n",
              "paLX3ztnGbc7EEePHiU5OZkffvgBLy8vpk2b1mq7ZcuW4ebm1uxx4sSJFu1Ce7ji0c2e/PJalu9L\n",
              "bf8nkG7p01OXDQfbVj4VRZi3a5ve9/tRgbg4KLmQX8HnZ66asELr0u5A9O7dtCFmZ2fH888/3+x6\n",
              "pMYWLVpEeXl5s0dsbGyLdo72tiyfHAnAx9/nkphR3N6SpJs4nVPKS5+dA2D+6CAejfBu83s9nOx5\n",
              "bkQfAN7ef+meGdLRrkBUV1dTVlZm+P/27dvp379/q21VKhWurq7NHra2tq22HdrHiymxTUFbuDuZ\n",
              "6/X3RuebUkF5LXO3naa+Uc8v+mqYPzqo3dOYOcyfHq4OXC27ztbEe2NgZrsCodVqGTlyJP369SMy\n",
              "MpIjR47w0UcfdUohi8aF4u3mQE5xDSsP3Jv7wDtLbUMjv9t6imuVdYT2cGHlU9HY2CjaPR0HO1sW\n",
              "jA0GYO2hdMpruv42XrsCERAQQFJSEsnJyZw9e5Y9e/bg5+fXKYW4OtixdFLTqtPGb7JIyi3tlOne\n",
              "a4QQLIxPJvlKOR7d7NgQNxAn1Z1f5H1yjA/BGmfKrzfw3uGuP6TDKna7/mRkqJpJ/XuiF/CnXcnU\n",
              "6eSqU3t9cDSTz8/kYWuj4N2pA+jl2a1D0zMe0rH5eDZXy653RplWy6oCAfDK+HC8nO1JK6zi3a+7\n",
              "/i9SZzp0sZDlXzXtqXv18XCG9vHqlOmODFEz2N+Tep2elTeGfXRVVhcIDyd7Fk/4aShyBil5FRau\n",
              "6O6Qca2K/92ehBAwJbYXv71xHKEzKBQKFo1rGtKxO+lKl/5OrC4QAOMie/CLvhp0esGL8cnoGvWW\n",
              "LsmqlV9vYM7fT1FZq2OQnweLJ0SgULR/I/pWonu588t+3ggBb3zVdY8XWWUgFAoFf3kiAjdHO85e\n",
              "LWfDsSxLl2S1ymrqmb75BJlF1dzv5sC638RgrzTN1/rHR0JQ2ig4cukax9NvfiXyu5lVBgJA7erA\n",
              "y+ObBqCtSrhExrUqC1dkfQrKa3lqfSJJuWW4OdrxQdxAvJxVJpufn5cTU2+MkO2qQzqsNhAAkwf0\n",
              "ZHjwfdTr9Ly4K7lLfgF3KvNaFZPXHeeStgqNq4qdcx8goqebyef7+9FBOKuUnL1azj+Tu94diqw6\n",
              "EAqFgqVPRuJkb8upnFI+Ssy2dElW4eyVcn79fiJXy67j7+XErrlDCda4mGXeXs4qnn04AIAV+y92\n",
              "uV3jVh0IgJ7ujob94G/++6LVndoohOCStpKk3FLMce+Z4xlFTNnwHcXV9UT0dGXn3Ac6fKyhvWY9\n",
              "5I/aRcXlkut8/F2uWedtalYfCICpg32J9fekpr6RRbvPmuUP71Z0jXqOZxTx+j9TGP7WYR5ZdZRJ\n",
              "7x1nyobvSC+sNNl8vzpXwPRNJ6mq0/FAQHe2zxli0m2Gm+lmr+QPN4Z0rPk6jYouNGz/rgiEjY2C\n",
              "Nyb3Q6VsOmll56krZq+hsraBfyXn8fwnScQsSeCZDd+z6dsscktqsFfaoFLa8F1mCY+tPsabX6V2\n",
              "+gDFT07k8t8fNw3We7RvDzbPGISLg12nzqM9fh3jQ5/7nCitaeD9wxkWq6OzmfUecwsWLGDlypV3\n",
              "/P4Pjmaw9MtUXByUJCwYjsbVoROraymv7DoHL2jZn6Llu8xiGhp/7ipPJ3tGhaoZE6bh4WAvim9c\n",
              "+e5gaiEAPh6OLJ7Ql9Fhmg7VIITg/SOZhn3/Tw/qxV8nRWJ7B4P1Otv+8wX8butpHOxsOPzCSHq4\n",
              "mfb7MIe7KhC6Rj2T1x3nxyvljAnTsCEuplMPQAkhOJ9XQcIFLQdStJz/jyOyAV5OjA3XMCZcw4De\n",
              "Hi3+KIUQ7E/RsviL8+SV1wLwSLiGVyf0pae7Y7vr0esFy/ZdMByHeW5EH/70i5BOP+h2p4QQPLU+\n",
              "kZPZpfzXwF688at+li6pw+6qQABcLKhk/JpjNDQK3pnSnwlR93doevU6Pd9nFXMgRUtCitbwhwyg\n",
              "UEBMbw/GhGsYG66hz33ObZpmTb2O1QfT2HgsC51e4Ghny/wxQcx60P+W5zIb0zXqeTH+LPE/NK0e\n",
              "/nlcGHNu7N2xJqdzSpm87jg2Cvh49hCGBHiaPbDXKuv4OlWLo72yw38Pd10gAP6WcIm/JaTh6WTP\n",
              "gT88TPd2bliW1zRw+FIh+1O0HLl4jao6neE1RztbHgryYky4hlGh6g5ttF4sqOTlz89xIrsEgGCN\n",
              "M0smRhLr73nL99U2NDLvHz+QcKEQ2xvbT7+K8bnjOkxt7tbTfHXjyuE93R2blqJhGmL9PU1y1FwI\n",
              "QXphFQduLMnPXC5DCAjzdmXf/Ic6NO27MhD1Oj0T1n5DakElE6Lu550prZ+1Z+xySU3TUuCClhNZ\n",
              "JYYL/ELTvvUxYWrGhmsYFuiFg13rZ/bdCSEEu05fYdm+VEpuXDN18gAf/m9caKtB/mlc0onsElRK\n",
              "G959ZgBjwju2HWJqhZW1vLrnPIcuFlLb8PO4MxcHJSNC1IwJUzMiRI2b453vBNA16jmdU2r4DrOL\n",
              "m+9+7+fjxtgwDf8zMvCOTob6SbsDkZaWxrRp0ygqKsLNzY0tW7bQt2/fNr23swIBkHyljInvfote\n",
              "wIdxA1v80ej1grNXyw0dmFrQfHdosMaZMWFNq0JRPu4d6sS2KK2u581/p7L9xGUA3BztePHRUJ4e\n",
              "1Msw78LKWqZtOsmF/ApcVEo+nDaQwQHdTVpXZ7pe38i36UUcSNFyMFVLUdXPF01W2igYHODJmLCm\n",
              "pUdbjp1U1ek4dukaBy5oOZRaSKnRGXv2tjYMDexumF5nbdC3OxCjRo0iLi6O6dOns2vXLt544w1O\n",
              "njzZpvd2ZiAAlu27wPojmWhcVez/w3BUShsSM4rZn6Ll4AUthZV1hra2NgoG+XkYQuDb3anT6miP\n",
              "H3JL+fNn57iQ37TB3r+3O0smRuCisuO3m74np7gGL2cVf585iL73m34ohqno9YIzV8oM22Zphc3H\n",
              "ooX2cOGRGzsoInu6GbY7tBW1hh+x4+nF1BuNdHbvZseokKYl+UPB9+HcgTMBb6ZdgSgsLCQwMJCS\n",
              "khKUSiVCCLy9vfnmm28IDAy87fs7OxC1DY08tvoYWUXV9LnPifzyWmqM9v872dsyPOQ+xoZrGBGs\n",
              "xuM21yMyF12jnr8n5rBy/0Wq6xuxUYCLgx3l1xvo5enItlmDLRZYU8kqqjbswj6VXYLxsDSNq4oH\n",
              "A+8jrbCS5CvNL5/p270bY2/8iMX4eqBs406JO9WuiF2+fBlvb2+Uyqa3KRQKevfuTW5ubotA1NXV\n",
              "UVdX1+y51i5U1hEOdra8MbkfT61PJONaNQA9XB0YE65mbHgPhgR4olJ23vZAZ1Ha2jDrQX9+GenN\n",
              "X/6Vwt6z+ZRfbyC0hwsfzYxFbeLjK5bg7+XE7IcCmP1QAKXV9XydWkjCBS1HLl1DW1Fn2JumUDSd\n",
              "ezE2XMPYMA2Bamez7rXq/GXODcuWLWPx4sXNnhsyZEinzyfW35M1U/qTVVTNyBA1ET1drWY//e30\n",
              "cHPg3akDmJJWxKmcEmYM9cetm+WOPpuLh5M9k2N8mBzjQ21DI4mZxXyfWYJf926MClOjdrHcD4LJ\n",
              "VplaW0LExcURENByX3pjYyMnTpwgNjb2ptdusiRZX8dZukZfX1/mz59/+4ainYYPHy42b94shBBi\n",
              "586dIiYmpr2TaKG8vFwAory8vMPTMgVZX8fdDTUKIUS7V5nWr1/P9OnTWbp0Ka6urmzevLm9k5Ak\n",
              "q9XuQISEhJCYmGiKWiTJ4u6K4d+SZC5WEQiVSsWrr76KSmX+k13aQtbXcXdDjWDmsUySZO2sYgkh\n",
              "SdZCBkKSjMhASJIRswYiLS2NoUOHEhwczKBBgzh//nyr7TZu3EhQUBB9+vRhzpw5NDSY/qoOtbW1\n",
              "TJw4keDgYKKiohg7dizp6S2vPp6dnY2tra3hPt3R0dFkZJjnJPu23iPcEv0HUFxc3KxfgoODUSqV\n",
              "lJSUNGtnyT68LXMeBRw5cmSzo9wDBw5s0SYzM1N4e3uL/Px8odfrxeOPPy7Wrl1r8tquX78u9u7d\n",
              "K/R6vRBCiDVr1ojhw4e3aJeVlSXc3NxMXk9rfH19RVJS0i3bWKr/WvPWW2+J8ePHt3jekn14O2YL\n",
              "hFarFS4uLqKhoUEIIYRerxcajUakpaU1a/fmm2+KZ5991vD/vXv3imHDhpmrTIOTJ08KX1/fFs9b\n",
              "eyCspf+EECI0NFR89tlnLZ635kCYbZXpVkPHjeXm5uLr+/O9Dfz8/Fq0MYfVq1fzxBNPtPpadXU1\n",
              "gwYNYsCAAbz++uudPqz9Vm53j3Br6b/jx49TWlrK+PHjW33dkn14K3KjuhVLly4lPT2dZcuWtXjN\n",
              "29ubq1evcvLkSRISEjh27Bhvv/22Wepq6z3CrcHGjRuJi4sz/AAas2Qf3o7ZAtGrVy/y8/PR6Zqu\n",
              "cCGEIDc313Df65/07t2bnJyfbwGbnZ3doo0prVixgt27d7Nv3z66dWt53q9KpUKtVgPg6enJzJkz\n",
              "b3qv7s7WlnuEW7r/AKqqqvj000+ZOXNmq69bsg9vx2yBUKvVDBgwgG3btgEQHx+Pj49Pi/MoJk+e\n",
              "zBdffEFBQUHTVevef5+nn37aLDWuXLmS7du3c+DAAdzd3VttU1hYaNhrU1dXx+7du296r+7O1NZ7\n",
              "hFuy/36yY8cOoqKiCA0NbfV1S/Vhm5hzgyU1NVUMGTJEBAUFiZiYGJGcnCyEEGLWrFliz549hnYf\n",
              "fPCBCAgIEAEBAWLmzJmivr7e5LVdvnxZACIgIEBERUWJqKgoERsbK4QQ4uWXXxbr1q0TQggRHx8v\n",
              "+vbtK/r16yfCw8PFvHnzRG1trcnry8jIENHR0SIyMlJERESICRMmiKysLCGEdfSfsQceeEBs2rSp\n",
              "2XPW0IdtIccySZIRuVEtSUZkICTJiAyEJBmRgZAkIzIQkmREBkKSjMhASJIRGQhJMiIDIUlGZCAk\n",
              "yYgMhCQZ+X8NkJ36S9Sb7wAAAABJRU5ErkJggg==\n",
              "\">\n",
              "        \n",
              "      </div>\n",
              "      <script></script>\n",
              "      <script type=\"text/javascript\">\n",
              "        (() => {\n",
              "          const chartElement = document.getElementById(\"chart-c4c1c434-832f-4b69-9bef-e9cba9bc8082\");\n",
              "          async function getCodeForChartHandler(event) {\n",
              "            const chartCodeResponse =  await google.colab.kernel.invokeFunction(\n",
              "                'getCodeForChart', [\"chart-c4c1c434-832f-4b69-9bef-e9cba9bc8082\"], {});\n",
              "            const responseJson = chartCodeResponse.data['application/json'];\n",
              "            await google.colab.notebook.addCell(responseJson.code, 'code');\n",
              "          }\n",
              "          chartElement.onclick = getCodeForChartHandler;\n",
              "        })();\n",
              "      </script>\n",
              "      <style>\n",
              "        .colab-quickchart-chart-with-code  {\n",
              "            display: block;\n",
              "            float: left;\n",
              "            border: 1px solid transparent;\n",
              "        }\n",
              "\n",
              "        .colab-quickchart-chart-with-code:hover {\n",
              "            cursor: pointer;\n",
              "            border: 1px solid #aaa;\n",
              "        }\n",
              "      </style>"
            ]
          },
          "metadata": {}
        },
        {
          "output_type": "display_data",
          "data": {
            "text/plain": [
              "<google.colab._quickchart_helpers.SectionTitle at 0x7dc5f4f920e0>"
            ],
            "text/html": [
              "<h4 class=\"colab-quickchart-section-title\">Distributions</h4>\n",
              "<style>\n",
              "  .colab-quickchart-section-title {\n",
              "      clear: both;\n",
              "  }\n",
              "</style>"
            ]
          },
          "metadata": {}
        },
        {
          "output_type": "display_data",
          "data": {
            "text/plain": [
              "import numpy as np\n",
              "from google.colab import autoviz\n",
              "df_6410895061410357877 = autoviz.get_df('df_6410895061410357877')\n",
              "\n",
              "def histogram(df, colname, num_bins=20, figsize=(2, 1)):\n",
              "  from matplotlib import pyplot as plt\n",
              "  _, ax = plt.subplots(figsize=figsize)\n",
              "  plt.hist(df[colname], bins=num_bins, histtype='stepfilled')\n",
              "  plt.ylabel('count')\n",
              "  plt.title(colname)\n",
              "  ax.spines[['top', 'right',]].set_visible(False)\n",
              "  plt.tight_layout()\n",
              "  return autoviz.MplChart.from_current_mpl_state()\n",
              "\n",
              "chart = histogram(df_6410895061410357877, *['index'], **{})\n",
              "chart"
            ],
            "text/html": [
              "      <div class=\"colab-quickchart-chart-with-code\" id=\"chart-cc1c65f6-b2c9-4d3c-a4f8-a3a076536611\">\n",
              "        <img src=\"data:image/png;base64,iVBORw0KGgoAAAANSUhEUgAAALkAAABgCAYAAABBnNO7AAAAOXRFWHRTb2Z0d2FyZQBNYXRwbG90\n",
              "bGliIHZlcnNpb24zLjcuMSwgaHR0cHM6Ly9tYXRwbG90bGliLm9yZy/bCgiHAAAACXBIWXMAAA9h\n",
              "AAAPYQGoP6dpAAALOklEQVR4nO3df0zU9R8H8OfJudtCIBy/uzhCBJbQkSUJtKhca/7AjPOPIMcx\n",
              "WPFPRfmHfZ3dJNjUKJtKW1GpkW0MEpw25h9Za0pYnmWjWtQJ0t2p3KnkaXScwL2+fzA/EzntPvL5\n",
              "3H368Hpst/F5f97c5/X57Mln78+Hzw8NEREYU7E54S6AMblxyJnqcciZ6nHImepxyJnqcciZ6nHI\n",
              "mepxyJnqcciZ6nHIQ2T58uVoaGi4499/9NFHUVdXJ11Bs4g23AXMFocPHw53CbMW78mZ6nHIQ+Tx\n",
              "xx/HG2+8AQDQaDRoampCUVER5s2bh9zcXHR3dwt9x8fHsWHDBiQlJSE+Ph4bN26c9n1nz55FeXk5\n",
              "7rnnHiQkJKCsrAwXLlwAAHzzzTeIjIyE1WoFABARVq5ciZKSEszG6/E45GHy8ccfo6WlBZcvX8ay\n",
              "Zcvw/PPPC/MaGxvR3t6Or7/+Gk6nE1qtFt9//70w3+fzYdmyZUhJScEff/yBgYEBaLValJeXA5j8\n",
              "g6qrq8PatWtx6dIlNDQ0oK+vD/v27YNGown5uoYdsZAoLi6mTZs2ERERAGppaRHm/fLLLwSAhoaG\n",
              "iIgoIyODdu3aJcwfHx+n+Ph42rx5MxERdXR0UEpKCvn9fqGP0+kkAORwOIQ2k8lERqORIiMj6dSp\n",
              "UzKunbLxgWeYpKSkCD9HRkYCAK5evYrExEQ4nU7cd999wvyIiAikpqYK0zabDS6XC7GxsVO+U6fT\n",
              "wW63Q6/XAwDWr1+PoqIilJWVIS8vT8a1UTYOuQLp9XoMDg4K0xMTE3A4HMJ0UlISDAYD+vv7b/kd\n",
              "Ho8HZrMZ1dXVaG9vxxdffIGSkhI5y1YsHpMrkNlsxvbt29HX1wefz4f6+noMDw8L80tLSzE2NgaL\n",
              "xQKPxwMAcLvdaGtrAzB5oGk2m5GVlYWPPvoIzc3NqKiowMDAQFjWJ9w45Ar0+uuvo7S0FMXFxdDr\n",
              "9bh27RoeeeQRYX5UVBSOHz8Ou92O3NxcREdHo7CwEEePHgUAvPXWW+jt7RUONMvKyrBu3TqYTCZ4\n",
              "vd5wrVbYaIhm4TklNqvwnpypHoecqR6HnKkeh5ypHoecqZ6sIX/llVeQlpYGjUaDn376Sc5FMXZL\n",
              "soZ87dq16O7uhsFgkHMxjN2WrCF/7LHHhOsoxNq5c6fE1bDZShHXrvh8Pvh8vilts/Vf0Ex6igj5\n",
              "1q1b8eabb05pW7p0acC+af/ruuX3DG5bKep3xPYP9zJuRS3rJ3YZwVLE2ZWNGzfC4/FM+eTn54e7\n",
              "LKYSitiT63Q66HS6KW0RERFhqoapjeg9eW9vb1BtAFBTUwO9Xg+n04mnn34aGRkZ4itkbIZEh7yy\n",
              "sjKoNgBobm6G0+nE+Pg4XC4XTp8+LXZxjM1Y0MMVt9uNoaEheL1e/Pzzz8Jd3x6PByMjI7IVyNhM\n",
              "BR3y1tZW7NixA+fOncPq1auF9piYGGzYsEGW4hiTQtAhr62tRW1tLRoaGmCxWOSsiTFJiT67YrFY\n",
              "4Pf7MTQ0hPHxcaH9xrvJGVMS0SFvaWnByy+/jLlz52LOnMnjVo1GA7fbLXlxjElBdMjr6+thtVqR\n",
              "lZUlRz2MSU70KcS4uDgOOPtPER3yNWvWYMeOHXC73bhy5YrwYUypRA9XNm3aBGDyEWQajQZEBI1G\n",
              "g4mJCcmLY0wKokPu9/vlqIMx2SjiKkTG5CR6Tz5nzpyAz7jm4QpTKtEhv3r1qvCz1+vFp59+ygFn\n",
              "iiZ6uBIZGSl84uLisH79euzfv1+O2hiTxIzH5H19fbh48aIUtTAmC9HDldjYWGFMfv3alaamJmmr\n",
              "YkxCokN+40OCtFotkpKS+FY1pmiiQ24wGPDPP/8IYY+NjcVdd90ldV2MSUZ0yHt6emAymZCUlAQA\n",
              "cLlc6OjoQEFBgeTFMSYF0SG/fjalqKgIwGToX3vtNXz33XeSF8eYFESfXfF6vULAAaCwsBCjo6OS\n",
              "FsWYlESHfN68eThy5Igw/dVXXwnvoWRMiUQPV3bt2oXS0lLhjIrf70dnZ6fkhTEmFdEhP3fuHE6e\n",
              "PAmXywUASExMxIkTJyQvjDGpiB6uWCwWxMfHIycnBzk5OYiLi+O795mizfjf+nzDBFM60SGPiopC\n",
              "T0+PMP3tt98iKipK0qIYk5LoMXljYyOeffZZZGdnAwBsNhsOHDgQsK/NZoPZbMbFixcRExODTz75\n",
              "BIsWLZpZxYyJJDrkBQUF+O2333D8+HEAk+fJ77777oB9a2pq8OKLL6KyshL79+9HZWUlrFbrjApm\n",
              "TKw7GpPHxsZixYoVWLFixS0D7na7cfLkSaxbtw4AYDKZ4HA4+Mm2LORkewi/w+FAcnIytNrJRWg0\n",
              "GqSmpsJut097TnmgdwbxwSyTioauP4NZYj/88APKy8vx+++/C235+fnYtm0bnnzyySl96+rqpr0z\n",
              "KDs7G8uXL5/SNjExgRMnTiA/Pz/sl/dyLeGvw2AwoLa29l/7yRZyt9uNjIwMDA8PQ6vVgoiQnJyM\n",
              "7u7uoPbkgV6xcuXKFcTExMDj8SA6OlqOsoPGtSi3jpvJ9kiKhIQELF68GJ999hkAoKOjA3q9PuAr\n",
              "VXQ6HaKjo6d8bg44Y3dK1hdjNTc3o7KyElu2bEF0dDT27t0r5+IYC0jWkGdlZQmnGhkLl//UE7R0\n",
              "Oh02b96siKEM16LcOm4m24EnY0rxn9qTM3YnOORM9TjkTPUUGXKbzYbCwkJkZmZiyZIl+PXXXwP2\n",
              "2717NxYuXIgFCxbghRdewNjYmKR1jI6OYs2aNcjMzITRaMRTTz0V8NqbwcFBREREIC8vT/j09/dL\n",
              "WgsApKWlISsrS1hGW1tbwH5ybpdLly5NWc/MzExotVoMDw9P6ReqbRIUUqAnnniC9u7dS0REn3/+\n",
              "OT388MPT+gwMDFBycjKdP3+e/H4/lZSU0HvvvSdpHV6vl7q6usjv9xMRUVNTExUXF0/rd+bMGYqJ\n",
              "iZF02YEYDAY6derUbfuEYrvc6O2336ZVq1ZNaw/VNgmG4kLucrkoKiqKxsbGiIjI7/dTYmIi2Wy2\n",
              "Kf0aGxuppqZGmO7q6qKioiJZa7NarWQwGKa1Kynkod4u2dnZdODAgWntSgq54oYrt7t68UZ2ux0G\n",
              "g0GYTktLm9ZHajt37sQzzzwTcN7IyAiWLFmCxYsXo76+XrarKCsqKpCbm4vq6mpcuHBh2vxQbpee\n",
              "nh789ddfWLVqVcD5odom/0ZxIVeqLVu24PTp09i6deu0ecnJyTh79iysViuOHDmCY8eOYfv27ZLX\n",
              "cPToUfT29uLHH39EXFwczGaz5MsQY/fu3aioqBB2SDcK1TYJhuJCfu+99+L8+fPCY6GJCHa7fdpr\n",
              "zVNTU/Hnn38K04ODg7K9+vydd95BZ2cnDh8+HPDhpjqdDgkJCQCA+fPno6qqCseOHZO8juvrN3fu\n",
              "XLz66qsBlxGq7fL333+jvb0dVVVVAeeHapsEQ3EhD/bqRZPJhEOHDmFoaAhEhA8++ADPPfec5PW8\n",
              "++67aG1txZdffnnbu6Cun8Hw+Xzo7OzEgw8+KGkdIyMjuHz5sjDd2toacBmh2i5tbW0wGo3Cvb43\n",
              "C8U2CVqYjwkC6uvro6VLl9LChQvpoYceot7eXiIiqq6upoMHDwr9PvzwQ0pPT6f09HSqqqqia9eu\n",
              "SVqHw+EgAJSenk5Go5GMRiPl5+cTEZHFYqH333+fiIg6Ojpo0aJF9MADD9D9999PL730Eo2Ojkpa\n",
              "S39/P+Xl5VFubi7l5OTQ6tWr6cyZM0QU+u1CRFRQUEB79uyZ0hbqbRIsvnaFqZ7ihiuMSY1DzlSP\n",
              "Q85Uj0POVI9DzlSPQ85Uj0POVI9DzlSPQ85Uj0POVI9DzlTv/+NGVBQvZgFNAAAAAElFTkSuQmCC\n",
              "\">\n",
              "        \n",
              "      </div>\n",
              "      <script></script>\n",
              "      <script type=\"text/javascript\">\n",
              "        (() => {\n",
              "          const chartElement = document.getElementById(\"chart-cc1c65f6-b2c9-4d3c-a4f8-a3a076536611\");\n",
              "          async function getCodeForChartHandler(event) {\n",
              "            const chartCodeResponse =  await google.colab.kernel.invokeFunction(\n",
              "                'getCodeForChart', [\"chart-cc1c65f6-b2c9-4d3c-a4f8-a3a076536611\"], {});\n",
              "            const responseJson = chartCodeResponse.data['application/json'];\n",
              "            await google.colab.notebook.addCell(responseJson.code, 'code');\n",
              "          }\n",
              "          chartElement.onclick = getCodeForChartHandler;\n",
              "        })();\n",
              "      </script>\n",
              "      <style>\n",
              "        .colab-quickchart-chart-with-code  {\n",
              "            display: block;\n",
              "            float: left;\n",
              "            border: 1px solid transparent;\n",
              "        }\n",
              "\n",
              "        .colab-quickchart-chart-with-code:hover {\n",
              "            cursor: pointer;\n",
              "            border: 1px solid #aaa;\n",
              "        }\n",
              "      </style>"
            ]
          },
          "metadata": {}
        },
        {
          "output_type": "display_data",
          "data": {
            "text/plain": [
              "import numpy as np\n",
              "from google.colab import autoviz\n",
              "df_7598323252295206076 = autoviz.get_df('df_7598323252295206076')\n",
              "\n",
              "def histogram(df, colname, num_bins=20, figsize=(2, 1)):\n",
              "  from matplotlib import pyplot as plt\n",
              "  _, ax = plt.subplots(figsize=figsize)\n",
              "  plt.hist(df[colname], bins=num_bins, histtype='stepfilled')\n",
              "  plt.ylabel('count')\n",
              "  plt.title(colname)\n",
              "  ax.spines[['top', 'right',]].set_visible(False)\n",
              "  plt.tight_layout()\n",
              "  return autoviz.MplChart.from_current_mpl_state()\n",
              "\n",
              "chart = histogram(df_7598323252295206076, *['stars'], **{})\n",
              "chart"
            ],
            "text/html": [
              "      <div class=\"colab-quickchart-chart-with-code\" id=\"chart-60cae14c-4cbb-4fbe-aa99-f3d8bac053d3\">\n",
              "        <img src=\"data:image/png;base64,iVBORw0KGgoAAAANSUhEUgAAALoAAABgCAYAAACqq2i4AAAAOXRFWHRTb2Z0d2FyZQBNYXRwbG90\n",
              "bGliIHZlcnNpb24zLjcuMSwgaHR0cHM6Ly9tYXRwbG90bGliLm9yZy/bCgiHAAAACXBIWXMAAA9h\n",
              "AAAPYQGoP6dpAAAK5klEQVR4nO3dbUxTZxsH8P+RsirQ1s6CbVza8lJKgjhg0QhEzYhf9IkGYZ8W\n",
              "I42vy9yi4rIsmXXRPdmYCUbFZFumwbElgINplqnLhPgCOiNmLrgFmVOxbrx0hI2CAuva6/lA6LOu\n",
              "RTh4Wgrn+iVN7OkN93WHvzf3OZzeFYiIwNgMN2uqC2AsHDjoTBY46EwWOOhMFjjoTBY46EwWOOhM\n",
              "FjjoTBY46EwWOOhMFjjoEcBsNuPYsWNTXcaMxkGfITweD7xe71SXEbE46GF09OhRJCcnQ6VSYf78\n",
              "+bDZbFi1ahUcDgdee+01xMXFIT09HQBw8eJF5ObmYt68edBqtcjPz8cPP/zg+14XL16EIAiorq5G\n",
              "amoqYmJi4HQ6cfLkSaSnp0OtVkOn02HlypVTNNoIQywsfv75Z5ozZw7dunWLiIj6+/vp0qVLRERk\n",
              "Mpnok08+8Wvf1NREV65coeHhYXK5XLRlyxYyGo00PDxMREQXLlwgAFRQUEA9PT00NDREAwMDFB0d\n",
              "TQ0NDURENDg46Pu33PGMHiYKhQJEhJ9++gkulwtxcXFYvnz5mO3z8vKQm5uLZ555BiqVCh988AEc\n",
              "Dgfa2tr82pWWlmLevHlQKpUQBAHR0dFobW1FT08PZs+ejfz8/FAPbVrgoIdJYmIiqqurUVFRAaPR\n",
              "iMWLF6OqqmrM9i0tLVizZg0WLFgAtVqNxMREAIDT6Qz4vqNiYmLwzTffoL6+HlarFRkZGTh8+HBo\n",
              "BjTdTPWvFDlyu91UU1NDgiBQW1sbJSYmBixdUlNTaceOHdTb20tERL29vQSAzp8/T0T/X7q43e6g\n",
              "fXi9Xrpw4QIplUr69ttvQzugaYBn9DBpa2vD2bNnMTAwAIVCAY1GAwCIioqCXq8PWJL09fVBrVZD\n",
              "o9Ggt7cXu3fvHrePrq4ufPHFF/jzzz8hCALmzp0LQRCgUChCMqZpZar/p8lFS0sL5ebmklqtJpVK\n",
              "Renp6fTZZ58REdG5c+fIYrGQRqOhjIwMIiI6c+YMpaWlUUxMDFksFjp58uS4M3pHRwfl5+eTVqul\n",
              "2NhYSk5OprKysvAPNgIJRPyeUTbz8dKFyQIHnckCB53JAgedyQIHnckCB53JAgedyULEBp3v0WBS\n",
              "itigP3jwYKpLYDMI3wTBppz5rTNBj7eX/keyPiJ2RmdMSiENutlshtVqRWZmJjIzM1FTUxPK7hgb\n",
              "k+ilS0tLCxYtWjTusVE1NTXIzMycVHGMSUX0jG6z2SZ0jLFIMuEZ3el0oqurC4ODg7h16xZG7+7t\n",
              "6+vDo0ePxvy6DRs2gIiwZMkSlJaWIj4+PqDN8PAwhoeH/Y55PJ6JlsbYuCYc9KqqKhw6dAgdHR1Y\n",
              "u3at77hGo8Gbb74Z9GsuX74Mo9EIt9uNPXv2oLi4GGfPng1o9/7772Pfvn1+x5YuXTrR0hgbl+g3\n",
              "Xrz77ruw2+2iO+rs7ERqair6+/sDXgs2o9vtdv6jkUyE4/Ki6JNRu90Or9eLrq4u/P33377jRqPR\n",
              "r92jR4/gdrsxd+5cACO/EbKysoJ+T6VSCaVS6XcsKipKbGmMjUl00D/99FO8/vrriI6OxqxZI+ey\n",
              "giAEbMPQ3d2NoqIieDweEBGSkpJQWVkpTdWMiSQ66Pv370dzczOsVusT2yUlJeHmzZuTLowxKYm+\n",
              "vKjT6cYNOWORRvSMXlBQgEOHDuHll1/G7NmzfcfVarWkhY0lHCcubOYRHfS3334bAFBSUgJBEEBE\n",
              "EASBr3uziCY66LwHN5uO+O5FJguiZ/RZs2ZBEISA47x0YZFMdND/+ZfNwcFBVFZWcshZxBO9dImN\n",
              "jfU9dDodSkpKUFtbG4raGJPMU6/Rb9++jZ6eHilqYSxkRC9dtFqtb40+eq9LeXm5tFUxJjHRQf/n\n",
              "J6MpFAro9Xq+AYtFPNFBN5lMePz4sS/wWq0WMTExUtfFmKREB/3q1asoKiqCXq8HMHKXYl1dHXJy\n",
              "ciQvjjGpiA766FWWvLw8ACPB37VrF65duyZ5cYxJRfRVl8HBQV/IASA3NxdDQ0OSFsWY1EQHPS4u\n",
              "DvX19b7nDQ0NiI2NlbQoxqQmeuly5MgRFBYW+q60eL1efPnll5IXxpiURAe9o6MDN27cQHd3NwBg\n",
              "/vz5uH79uuSFMSYl0UsXu92O+Ph4LFy4EAsXLoROp5vUrgCMhdNT3wLAb7pg04HooKtUKly9etX3\n",
              "/MqVK1CpVJIWxZjURK/RDxw4gHXr1iEtLQ0AcOfOHZw6dSpo2zt37qC4uBg9PT3QaDQ4ceIE0tPT\n",
              "n65ixiZBdNBzcnLQ2tqK7777DsDIdfTRTYr+bdu2bdi6dStsNhtqa2ths9nQ3Nz8VAUzNhmTWqNr\n",
              "tVqsXr0aq1evHjPkTqcTN27cwPr16wEARUVFePjwIX755ZdJF8vYZIXso10ePnwIg8EAhWKkC0EQ\n",
              "YDQa4XA4kJKS4teWd9NloRYRn2EUbDfdtLQ0lJSU+B3zeDwwXL+OJUuWBNwaXFLSEPI6p4rH48H1\n",
              "McY9ExQGOebxeJCT89+gYzaZTNixY4eoPkTvpjtRTqcTKSkp6O3thUKhABHBYDCgqalpQjN6sI1H\n",
              "XS4XNBoN+vr6wrZhUiSQ47ilHnPItrtISEhAdnY2Pv/8cwBAXV0dnnvuuYCQAyOhVqvVfo9/h5yx\n",
              "pxHSpcvHH38Mm82G9957D2q1GhUVFaHsjrExhTToVqvVdxmSsak0rXbqUiqVeOedd2S3rJHjuKUe\n",
              "c8hORhmLJNNqRmdssjjoTBY46EwWIjroFRUVEAQBp0+fDvr6119/jbS0NFgsFhQWFsLlcoW3wBB4\n",
              "0pjb29sRFRWFzMxM3+Pu3bvhL1JCZrMZVqvVN56ampqg7Y4fPw6LxYLk5GRs2bIFbrdbXEcUoe7f\n",
              "v085OTm0dOlSOnXqVMDr/f39lJCQQK2trUREtH37dnrjjTfCXKW0xhvz/fv3SaPRhL2uUDKZTHTz\n",
              "5s0ntrl37x4ZDAbq7Owkr9dLa9asoaNHj4rqJyJndK/Xi82bN6O8vHzMy0vnzp1DVlaW7774V199\n",
              "FVVVVeEsU1ITGbNc1dbWYu3atdDr9RAEAa+88oron3VEBv3gwYPIy8vDCy+8MGYbh8MBk8nke242\n",
              "m9HZ2en3Ib/TyUTGDIx8UPHixYuRnZ2N/fv3z4i7PDds2ICMjAxs2rQJv//+e8DrwX7WDodDVB8R\n",
              "F/Qff/wRdXV12LNnz1SXEjYTHbPBYMBvv/2G5uZm1NfXo7GxEWVlZWGqMjQuX76MlpYWfP/999Dp\n",
              "dCguLg5JPxEX9MbGRrS3t8NiscBsNuPatWvYunUrPvzwQ792RqMRDx488D1vb2/3u/99OpnomJVK\n",
              "JRISEgAAzz77LDZu3IjGxsapKFkyRqMRABAdHY2dO3cGHU+wn/Xo103YU5xHhMWKFSuCnpi5XC6K\n",
              "j4/3OxndvXt3mKsLjbHG3N3dTX/99RcREQ0NDdFLL71Edrs9zNVJZ2BggP744w/f87KyMlq2bFlA\n",
              "u7t37wacjJaXl4vqK+Jm9CfZu3cvPvroIwAjuxEcO3YMBQUFSElJwa+//joj95f555ibmpqQlZWF\n",
              "559/HtnZ2dDr9b7PfZ2Ouru78eKLL2LRokXIyMjApUuXUFlZCQDYvHkzvvrqKwBAUlIS9u3bh7y8\n",
              "PKSkpCA+Ph7btm0T1Rff68JkYVrN6IxNFgedyQIHnckCB53JAgedyQIHnckCB53JAgedyQIHnckC\n",
              "B53JAgedycL/AJ3RvwAH06hyAAAAAElFTkSuQmCC\n",
              "\">\n",
              "        \n",
              "      </div>\n",
              "      <script></script>\n",
              "      <script type=\"text/javascript\">\n",
              "        (() => {\n",
              "          const chartElement = document.getElementById(\"chart-60cae14c-4cbb-4fbe-aa99-f3d8bac053d3\");\n",
              "          async function getCodeForChartHandler(event) {\n",
              "            const chartCodeResponse =  await google.colab.kernel.invokeFunction(\n",
              "                'getCodeForChart', [\"chart-60cae14c-4cbb-4fbe-aa99-f3d8bac053d3\"], {});\n",
              "            const responseJson = chartCodeResponse.data['application/json'];\n",
              "            await google.colab.notebook.addCell(responseJson.code, 'code');\n",
              "          }\n",
              "          chartElement.onclick = getCodeForChartHandler;\n",
              "        })();\n",
              "      </script>\n",
              "      <style>\n",
              "        .colab-quickchart-chart-with-code  {\n",
              "            display: block;\n",
              "            float: left;\n",
              "            border: 1px solid transparent;\n",
              "        }\n",
              "\n",
              "        .colab-quickchart-chart-with-code:hover {\n",
              "            cursor: pointer;\n",
              "            border: 1px solid #aaa;\n",
              "        }\n",
              "      </style>"
            ]
          },
          "metadata": {}
        },
        {
          "output_type": "display_data",
          "data": {
            "text/plain": [
              "import numpy as np\n",
              "from google.colab import autoviz\n",
              "df_3974352599499254471 = autoviz.get_df('df_3974352599499254471')\n",
              "\n",
              "def histogram(df, colname, num_bins=20, figsize=(2, 1)):\n",
              "  from matplotlib import pyplot as plt\n",
              "  _, ax = plt.subplots(figsize=figsize)\n",
              "  plt.hist(df[colname], bins=num_bins, histtype='stepfilled')\n",
              "  plt.ylabel('count')\n",
              "  plt.title(colname)\n",
              "  ax.spines[['top', 'right',]].set_visible(False)\n",
              "  plt.tight_layout()\n",
              "  return autoviz.MplChart.from_current_mpl_state()\n",
              "\n",
              "chart = histogram(df_3974352599499254471, *['cool'], **{})\n",
              "chart"
            ],
            "text/html": [
              "      <div class=\"colab-quickchart-chart-with-code\" id=\"chart-d77ba163-8bbf-48d5-a359-d580e34126eb\">\n",
              "        <img src=\"data:image/png;base64,iVBORw0KGgoAAAANSUhEUgAAALkAAABgCAYAAABBnNO7AAAAOXRFWHRTb2Z0d2FyZQBNYXRwbG90\n",
              "bGliIHZlcnNpb24zLjcuMSwgaHR0cHM6Ly9tYXRwbG90bGliLm9yZy/bCgiHAAAACXBIWXMAAA9h\n",
              "AAAPYQGoP6dpAAAJr0lEQVR4nO3da0hT/x8H8PfMkNTNn6VpUE7NtGyppZkmYRcs6g/dfNSF8lE9\n",
              "6Q5FUNINTIruEESFJUFUmj2xJyVBlEYqRVdLrcwynVFY2RrOvf8PxNV+rvLY1tnO7/MCH/g9u7xX\n",
              "b86+Ozvnq44kIYSG+akdQAhPk5ILzZOSC82TkgvNk5ILzZOSC82TkgvNk5ILzZOSC82TkmtUdHQ0\n",
              "Tp06pXYMryAlF5onJReaJyVXkcViwfbt2xEfHw+9Xo/Y2FicPXsWAHDmzBmYTCYYDAaYTCbHeK+q\n",
              "qipMmzYNoaGhiImJwdatW2G1WtV4Gd6PQjXLli3j5MmT+eTJE9rtdr59+5a1tbUsKSmhXq/n9evX\n",
              "abPZeO3aNQYFBbGsrIwk2dTUxMDAQB46dIhWq5XPnz9nYmIi169f73hso9HIkydPqvPCvIyUXCXt\n",
              "7e0EwOrq6j7bZs+ezQ0bNjiNrVu3jnPmzCFJFhQUMCUlxWn75cuXOWTIENrtdpJS8h/JdEUlL1++\n",
              "BAAkJCT02dbc3IzRo0c7jcXFxeH169e/3G6xWNDe3u6hxL5LSq6S6OhoAMDz58/7bBs1ahQaGxud\n",
              "xhobGxEVFeXY/uLFiz7bhwwZgvDwcM8E9mVqv5X8ly1ZsoRTpkxhXV0dSbKlpYW1tbW8ePEiDQYD\n",
              "b9y4QZvNxoqKCgYHB7O0tJQk+erVKwYGBvLo0aO0Wq1saGigyWTi2rVrHY8t05XvpOQq+vLlC7ds\n",
              "2cKYmBgGBQUxJiaGxcXFJMmTJ09y3LhxDA4OZmJiIk+fPu1031u3bjErK4shISGMiori5s2babFY\n",
              "HNul5N/pSLnGU2ibzMmF5knJheZJyYXmScmF5knJheZJyYXmScmF5nltyY8cOaJ2BKERXlvypqYm\n",
              "tSMIjfBXO4BS0VvLf7rtVeH//mIS4Su8dk8uhLt4tOTR0dFISEhASkoKUlJScOHCBU8+nRAuKZ6u\n",
              "PHjwAElJSb8d63XhwgWkpKQMKJwQ7qB4T56Xl9evMSG8Rb/35GazGa2trbBYLHj48CF6z9Dt6OhA\n",
              "Z2fnT++3YsUKkER6ejoKCwtdXrlitVr7XGne3d3d32hC/FK/S37+/HkcPnwYLS0tmD9/vmM8JCQE\n",
              "W7ZscXmfmzdvIioqCl1dXdi+fTtWrlyJq1ev9rnd3r17sWvXLqexjIyM/kYT4pcUXzSxZ88e5Ofn\n",
              "K36id+/eIT4+Hp8/f+6zzdWePD8/3+UXQnIIUSil+INnfn4+7HY7WltbYbPZHOO9F9n26uzsRFdX\n",
              "F/755x8APe8EEydOdPmYAQEBCAgIcBobNGiQ0mhCuKS45GfPnsXatWsxePBg+Pn1fG7V6XQwm81O\n",
              "t2tra0Nubi66u7tBErGxsSguLnZPaiEUUFzy3bt3o7q62uV6IT+KjY3FvXv3BhxMCHdRfAgxLCzs\n",
              "twUXwpsoLvnChQtx+PBhmM1mfPr0yfEjhLdSPF3Ztm0bAGDTpk3Q6XQgCZ1OJ8e1hddSXHK73e6J\n",
              "HEJ4jJyFKDRP8Z7cz88POp2uz7hMV4S3UlzyH7+xtFgsKC4uloILr6Z4uhIUFOT4CQsLw6ZNm1BS\n",
              "UuKJbEK4xR/Pyevq6vD+/Xt3ZBHCIxRPV0JDQx1z8t5zV44dO+beVEK4keKS379///ud/f0RGRkp\n",
              "J1MJr6a45EajEV+/fnWUPTQ0FIGBge7OJYTbKC55ZWUlcnNzERkZCaDnbMPS0lJkZma6PZwQ7qC4\n",
              "5L1HU7KysgD0lH7jxo24c+eO28MJ4Q6Kj65YLBZHwQFg6tSp+Pbtm1tDCeFOikseHByM69evO36v\n",
              "qKhAUFCQW0MJ4U6KpytHjx7F4sWLHUdU7HY7Ll++7PZgQriL4pK3tLSgpqYGbW1tAICIiAjcvXvX\n",
              "7cGEcBfF05X8/HyEh4fDZDLBZDIhLCxsQFfvC/G3/PGqtr5wwcTPlrEYyBIW7nwsd/HGTAPhqdeh\n",
              "eE+u1+tRWVnp+P327dvQ6/V/FEIIT1K8J9+3bx8WLVqEsWPHAgDq6+tRVlbm8rb19fVYuXIl3r9/\n",
              "j5CQEJw5cwbjx4//s8RCKKS45JmZmXj69CmqqqoA9Bwn711A6N9Wr16NVatWIS8vDyUlJcjLy0N1\n",
              "dfUfBRZCqQGdahsaGop58+Zh3rx5Py242WxGTU0Nli9fDgDIzc1Fc3MzGhoaBhxWiIHw2J9TaW5u\n",
              "xogRI+Dv3/MUOp0OUVFReP36NeLi4pxuK6vaCk9SvOBnf9XW1mLp0qV49uyZY6x3+eaZM2c63Xbn\n",
              "zp19VrUdO3Ys5s6d6zTW3d2Nu3fvIj093StO75U86mYxGo1Yv379b2/nsZKbzWbExcXhw4cP8Pf3\n",
              "B0mMGDECt27d6tee3NUioJ8+fUJISAg6OjpgMBg8EVsRyeMbWTy2JMXw4cMxadIknDt3DgBQWlqK\n",
              "kSNH9ik40FNog8Hg9PPvggsxUB79E4cnTpxAXl4eCgoKYDAYUFRU5MmnE8Ilj5Y8ISHBcahRCLX4\n",
              "1ApaAQEB2LFjh9dMZSSPb2Tx2AdPIbyFT+3JhRgIKbnQPCm50DyfKnl9fT2mTp2K+Ph4TJ48GY8f\n",
              "P1Ylx7dv37Bw4ULEx8cjOTkZOTk5XnNOTlFREXQ6Ha5cuaJaBqvVijVr1mDMmDGYMGGC4/wl1dCH\n",
              "zJgxg0VFRSTJS5cuMS0tTZUcFouF5eXltNvtJMljx44xOztblSw/evnyJTMzM5mRkcGysjLVcmzY\n",
              "sIFr1qxx/Pu8e/dOtSwk6TMlb2tro16vZ1dXF0nSbrczIiKC9fX1Kicjq6uraTQaVc3Q3d3NWbNm\n",
              "saamhtnZ2aqV/MuXL9Tr9ezo6FDl+V3xmenKr85qVNuRI0ewYMECVTMcPHgQWVlZSE1NVTVHY2Mj\n",
              "hg4dioKCAqSlpWHatGmoqKhQNZNHv/H8LygoKEBDQ4Oq/5GPHj1CaWkpbt68qVqGXjabDU1NTUhM\n",
              "TERhYSHu3buHnJwcPH78GBEREeqEUvutpL+8cbqyf/9+pqam8uPHj6plIMnjx48zMjKSRqORRqOR\n",
              "AQEBDA8P5/Hjx/96lvb2dvr5+dFmsznG0tLSeO3atb+epZfPlJwks7OznT54pqamqpblwIEDnDRp\n",
              "Ej98+KBahp9Rc05Okjk5OSwvLydJvnjxgsOGDeObN29Uy+NTJa+rq2NGRgbHjBnD1NRUPnjwQJUc\n",
              "zc3NBMDY2FgmJyczOTmZ6enpqmRxRe2SNzY2cvr06TSZTExKSmJJSYlqWUhSzl0RmuczR1eEGCgp\n",
              "udA8KbnQPCm50DwpudA8KbnQPCm50DwpudA8KbnQPCm50DwpudC8/wPzv1ZFE9yvOgAAAABJRU5E\n",
              "rkJggg==\n",
              "\">\n",
              "        \n",
              "      </div>\n",
              "      <script></script>\n",
              "      <script type=\"text/javascript\">\n",
              "        (() => {\n",
              "          const chartElement = document.getElementById(\"chart-d77ba163-8bbf-48d5-a359-d580e34126eb\");\n",
              "          async function getCodeForChartHandler(event) {\n",
              "            const chartCodeResponse =  await google.colab.kernel.invokeFunction(\n",
              "                'getCodeForChart', [\"chart-d77ba163-8bbf-48d5-a359-d580e34126eb\"], {});\n",
              "            const responseJson = chartCodeResponse.data['application/json'];\n",
              "            await google.colab.notebook.addCell(responseJson.code, 'code');\n",
              "          }\n",
              "          chartElement.onclick = getCodeForChartHandler;\n",
              "        })();\n",
              "      </script>\n",
              "      <style>\n",
              "        .colab-quickchart-chart-with-code  {\n",
              "            display: block;\n",
              "            float: left;\n",
              "            border: 1px solid transparent;\n",
              "        }\n",
              "\n",
              "        .colab-quickchart-chart-with-code:hover {\n",
              "            cursor: pointer;\n",
              "            border: 1px solid #aaa;\n",
              "        }\n",
              "      </style>"
            ]
          },
          "metadata": {}
        },
        {
          "output_type": "display_data",
          "data": {
            "text/plain": [
              "import numpy as np\n",
              "from google.colab import autoviz\n",
              "df_8640124903236239975 = autoviz.get_df('df_8640124903236239975')\n",
              "\n",
              "def histogram(df, colname, num_bins=20, figsize=(2, 1)):\n",
              "  from matplotlib import pyplot as plt\n",
              "  _, ax = plt.subplots(figsize=figsize)\n",
              "  plt.hist(df[colname], bins=num_bins, histtype='stepfilled')\n",
              "  plt.ylabel('count')\n",
              "  plt.title(colname)\n",
              "  ax.spines[['top', 'right',]].set_visible(False)\n",
              "  plt.tight_layout()\n",
              "  return autoviz.MplChart.from_current_mpl_state()\n",
              "\n",
              "chart = histogram(df_8640124903236239975, *['useful'], **{})\n",
              "chart"
            ],
            "text/html": [
              "      <div class=\"colab-quickchart-chart-with-code\" id=\"chart-00fbcdac-c6f0-4159-a3c5-d8cd95021e09\">\n",
              "        <img src=\"data:image/png;base64,iVBORw0KGgoAAAANSUhEUgAAAM4AAABgCAYAAABVCU1aAAAAOXRFWHRTb2Z0d2FyZQBNYXRwbG90\n",
              "bGliIHZlcnNpb24zLjcuMSwgaHR0cHM6Ly9tYXRwbG90bGliLm9yZy/bCgiHAAAACXBIWXMAAA9h\n",
              "AAAPYQGoP6dpAAALzklEQVR4nO3dfUwb9R8H8PcVRo2jQHkoRdmKPM0Ylo3BJqwaYAt/iMmoJfH5\n",
              "j83hwATDrAZZBugWg2QyNoZZxGg6n4JmA80S9A8hmk0Xt5HAdKgIBcaQUZxzhU3arO3398fc/eyg\n",
              "2Lu1XFs+r+QSer3evY/wzt2Ve+AYYwyEEEFkUgcgJBBRcQgRgYpDiAhUHEJEoOIQIgIVhxARqDiE\n",
              "iEDFIUQEKg4hIlBxlqje3l5kZmZCoVDgqaee8ugz+fn5qKmp8XGywBAqdQAijerqami1WvT29kod\n",
              "JSDRFmeJMplMWLt2rdQxAhYVx48lJSXhvffecxnHcRy6urowNjaGoqIiREdHIzIyEhkZGTh58iQ/\n",
              "3ZdffokHH3wQSqUSaWlpOHToEADAZrMhPDwcw8PDqKioQHh4OD755BMcOXIEiYmJLst6/fXX8dBD\n",
              "D/l+RQMQ7aoFqF27duHee+/FxMQEwsLCMDg4iLCwMADAN998g6effhrt7e0oKCjAzz//jEceeQQx\n",
              "MTF45plncO3aNSQlJaGmpgalpaUAgCNHjki4NoGHtjgBKiwsDJOTkzCZTOA4DqtWrcJ9990HADhw\n",
              "4ABeeOEFbN68GTKZDBkZGSgvL4fRaJQ4dfCg4gSoxsZGpKamQq/XIz4+Htu2bYPZbAYADA4Oorm5\n",
              "GVFRUfzQ0NCAS5cuSZw6eFBx/JhCocD169f51xMTE/zPMTExOHDgAAYGBtDb24vR0VEYDAYAgFqt\n",
              "RnV1Na5evcoPMzMz6O/v93hZty+PuKLi+LHs7Gy0tbXh6tWrmJ6eRnV1Nf/ep59+CpPJBKfTCYVC\n",
              "AblcjtDQm4eslZWVaGlpQXd3N+x2O+x2O86fP48TJ064XVZmZiZmZmbw2Wefwel04ttvv8XRo0d9\n",
              "vo6Biorjx9544w1ERERgxYoVyMrKwmOPPca/d+7cOWzatAkKhQIpKSmIiopCY2MjAECn0+Gjjz5C\n",
              "XV0dVCoVVCoVSktLcfnyZbfLSk5Oxttvv41XXnkFUVFRaG1txbZt23y+joGKo3sOECIcbXEIEYGK\n",
              "Q4gIVBxCRKDiECICFYcQEag4hIhAxSFEhKAoTnNzs9QRyBITFMW5cOGC1BHIEhP01+MkVXfOO360\n",
              "4VHBn/mvz5GlIyi2OIQsNp8Vx2q1QqfTIT09HWvWrEFhYSGGhobmTDc6OoqQkBCsXbuWH0wmk69i\n",
              "EeIVgovz448/ejQOAHbs2IGBgQGcO3cOxcXF/GW6t1MoFOjr6+OHlJQUobEIWVSCi7N161aPxt11\n",
              "110oKioCx3EAgJycHIyOjgpdHCF+yeMvB6ampjA5OYnZ2Vn89NNPuHU1gsVimXPl4Hyam5tRXFw8\n",
              "73vXr1/H+vXr4XA4oNPpsHv3boSEhMw7rc1mg81mcxnncDg8XQ1CvMLj4rS1teHgwYOYmJjAli1b\n",
              "+PGRkZGoqqpa8LP19fUYGhpCd3f3nPcSEhLw+++/Q6VS4cqVK3jiiSewf/9+t/N88803sWfPHpdx\n",
              "OTk5nq4GIV7h8a5aZWUlRkZGUFNTg5GREX7o6+vD9u3b3X6usbERHR0d+Oqrr3D33XfPeV8ul0Ol\n",
              "UgEAoqOj8dxzz7ncH+x2u3btgsVicRk2bNjg6WoQ4hWC/49TW1sLp9OJyclJ2O12fvzKlSvnTNvU\n",
              "1IS2tjZ0dXUhKipq3vlNTU1BqVRi2bJlsNls6OjoQGZmptvly+VyyOVyl3HudusI8RXBxfnggw/w\n",
              "4osvYtmyZZDJbm6wOI7D1NSUy3Tj4+N4+eWXkZycjIKCAgA3/+hPnz6Nuro63HPPPSgvL8d3332H\n",
              "uro6hISEwG63Y9OmTdi9e7cXVo0Q3xFcnL179+Ls2bNYtWrVgtMlJibC3e0M9u7dy/+s1+uh1+uF\n",
              "xiBEUoK/jo6Njf3P0hAS7AQXR6fT4eDBg5iamsL09DQ/ELKUCN5Vu3X8YTAYwHEcGGPgOI7+l0KW\n",
              "FMHFcTqdvshBSEChs6MJEUHwFkcmk/Hnn/0b7aqRpURwcWZmZvifZ2dn8eGHH1JpyJIjeFdt+fLl\n",
              "/BAbGwuDwYBjx475IhshfuuOj3F+/fXXBe+CT0gwEryrplQq+WOcW+eqtbS0eDcVIX5OcHH6+vr+\n",
              "/+HQUKjVajrJkiw5gouj0Wjw999/8wVSKpXzXi5ASDATXJxTp06hpKQEarUaAGA2m9He3o7c3Fyv\n",
              "hyPEXwkuzq1v0bRaLYCbRXrppZfwww8/eD1csPD2fdoC4b5vYu5nt1gZvJFD8Ldqs7OzfGkAYOPG\n",
              "jbBarXcUgpBAI7g44eHh6Orq4l93d3dj+fLlXg1FiL8TvKt26NAh6PV6/ps0p9OJjo4OrwcjxJ8J\n",
              "Ls7ExAR6enpgNpsBAPHx8Thz5ozXgxHizwTvqtXW1iIuLg4ZGRnIyMhAbGwsamtrfZGNEL91x6fc\n",
              "0EVsZCkSXByFQoFTp07xr7///nsoFAqvhiLE3wkuzr59+6DX65Gfn4/8/Hw8/vjjaGpqmnfawcFB\n",
              "bNy4Eenp6Vi/fj36+/vnne79999HWloaUlJS8Pzzz+PGjRtCYxGyqAQXJzc3F7/88guqqqpQVVWF\n",
              "/v5+t3fSLCsrw44dO/Dbb7/h1Vdfnffm7CMjI6itrcXJkycxNDQEs9mMd999V/CKELKYRB3jKJVK\n",
              "FBUVoaioaME7dPb09ODZZ58FAJSUlODixYtznpFz7NgxbNmyBWq1GhzHoby8HG1tbWJiEbJofPYo\n",
              "w4sXLyIhIQGhoTcXwXEcVq5cibGxMaSmpvLTjY2NQaPR8K+TkpIwNjbmdr70tALiDwLuGaDzPa3g\n",
              "/vvvh8FgmDOtw+FAwpkz2LBhw5xLHwyGuU9OuGWh+4ou9DlP5+dwOHDmn1zemN+/iZnffLnu9FIR\n",
              "dxnF5hOTTezvSaPRoLKycuGZMx8xm81MoVCwGzduMMYYczqdLD4+ng0ODrpMt2/fPlZWVsa/7uzs\n",
              "ZFqt1u18rVYrs1gsLoPVap13WovFwgAwi8XihTXyHsolnL9l89ntoVQqFdatW4ePP/4YANDe3o7E\n",
              "xESX3TTg5rHP8ePHMTk5CcYY3nnnHTz55JNu5yuXyxEREeEy3P70AkJ8zaf3VWttbUVrayvS09PR\n",
              "0NAAo9EIACgtLcXx48cBAMnJydizZw+0Wi1SU1MRFxeHsrIyX8Yi5I5xjLl5pEAQmJ6eRmRkJCwW\n",
              "CyIiIqSOw6NcwvlbtqC+k6dcLsdrr73md7tylEs4f8sW1FscQnwlqLc4hPgKFYcQEag4hIgQtMXx\n",
              "9MzsxWS1WqHT6ZCeno41a9agsLBwzrl7UjMajeA4Dl988YXUUXg2mw0VFRVIS0vD6tWr+fMfJSXp\n",
              "v199qKCggBmNRsYYY0ePHmXZ2dnSBmKMzc7Oss7OTuZ0OhljjLW0tLC8vDxpQ/3LyMgIy83NZTk5\n",
              "Oezzzz+XOg5v586drKKigv+9Xbp0SeJEjAVlcTw93UdqZ8+eZRqNRuoYjDHGHA4H27x5M+vp6WF5\n",
              "eXl+U5xr164xhULhN6fa3BKUu2oLnZntT5qbm1FcXCx1DABAU1MTtFotsrKypI7iwmQyITo6GvX1\n",
              "9cjOzsbDDz+M7m7xJ7J6S8CdHR0s6uvrMTQ05Bd/BOfPn0d7eztOnDghdZQ57HY7Lly4gAceeAAN\n",
              "DQ3o7e1FYWEh+vv7ER8fL10wqTd5vuDvu2pvvfUWy8rKYn/99ZfUURhjjB0+fJip1Wqm0WiYRqNh\n",
              "crmcxcXFscOHD0sdjf3xxx9MJpMxu93Oj8vOzmZff/21hKmC9BiHMcby8vJcvhzIysqSNtA/9u/f\n",
              "z9atW8euXLkidRS3/OkYhzHGCgsLWWdnJ2OMseHhYRYTE8PGx8clzRS0p9wMDAxg69at+PPPPxER\n",
              "EQGj0YjVq1dLmml8fBwrVqxAcnIyf2cguVyO06dPS5rrdvn5+di5cyd0Op3UUQAAw8PD2L59Oy5f\n",
              "vgyZTIa6ujqUlJRImiloi0OILwXlt2qE+BoVhxARqDiEiEDFIUQEKg4hIlBxCBGBikOICFQcQkSg\n",
              "4hAiAhWHEBGoOISI8D8esAo7YvENMAAAAABJRU5ErkJggg==\n",
              "\">\n",
              "        \n",
              "      </div>\n",
              "      <script></script>\n",
              "      <script type=\"text/javascript\">\n",
              "        (() => {\n",
              "          const chartElement = document.getElementById(\"chart-00fbcdac-c6f0-4159-a3c5-d8cd95021e09\");\n",
              "          async function getCodeForChartHandler(event) {\n",
              "            const chartCodeResponse =  await google.colab.kernel.invokeFunction(\n",
              "                'getCodeForChart', [\"chart-00fbcdac-c6f0-4159-a3c5-d8cd95021e09\"], {});\n",
              "            const responseJson = chartCodeResponse.data['application/json'];\n",
              "            await google.colab.notebook.addCell(responseJson.code, 'code');\n",
              "          }\n",
              "          chartElement.onclick = getCodeForChartHandler;\n",
              "        })();\n",
              "      </script>\n",
              "      <style>\n",
              "        .colab-quickchart-chart-with-code  {\n",
              "            display: block;\n",
              "            float: left;\n",
              "            border: 1px solid transparent;\n",
              "        }\n",
              "\n",
              "        .colab-quickchart-chart-with-code:hover {\n",
              "            cursor: pointer;\n",
              "            border: 1px solid #aaa;\n",
              "        }\n",
              "      </style>"
            ]
          },
          "metadata": {}
        },
        {
          "output_type": "display_data",
          "data": {
            "text/plain": [
              "<google.colab._quickchart_helpers.SectionTitle at 0x7dc5f4d14fa0>"
            ],
            "text/html": [
              "<h4 class=\"colab-quickchart-section-title\">2-d distributions</h4>\n",
              "<style>\n",
              "  .colab-quickchart-section-title {\n",
              "      clear: both;\n",
              "  }\n",
              "</style>"
            ]
          },
          "metadata": {}
        },
        {
          "output_type": "display_data",
          "data": {
            "text/plain": [
              "import numpy as np\n",
              "from google.colab import autoviz\n",
              "df_46657971094840240 = autoviz.get_df('df_46657971094840240')\n",
              "\n",
              "def scatter_plots(df, colname_pairs, scatter_plot_size=2.5, size=8, alpha=.6):\n",
              "  from matplotlib import pyplot as plt\n",
              "  plt.figure(figsize=(len(colname_pairs) * scatter_plot_size, scatter_plot_size))\n",
              "  for plot_i, (x_colname, y_colname) in enumerate(colname_pairs, start=1):\n",
              "    ax = plt.subplot(1, len(colname_pairs), plot_i)\n",
              "    ax.scatter(df[x_colname], df[y_colname], s=size, alpha=alpha)\n",
              "    plt.xlabel(x_colname)\n",
              "    plt.ylabel(y_colname)\n",
              "    ax.spines[['top', 'right',]].set_visible(False)\n",
              "  plt.tight_layout()\n",
              "  return autoviz.MplChart.from_current_mpl_state()\n",
              "\n",
              "chart = scatter_plots(df_46657971094840240, *[[['index', 'stars'], ['stars', 'cool'], ['cool', 'useful'], ['useful', 'funny']]], **{})\n",
              "chart"
            ],
            "text/html": [
              "      <div class=\"colab-quickchart-chart-with-code\" id=\"chart-d73b6be9-c477-47e2-917b-1e5a2f7d682d\">\n",
              "        <img src=\"data:image/png;base64,iVBORw0KGgoAAAANSUhEUgAAA+QAAAD2CAYAAABfq00cAAAAOXRFWHRTb2Z0d2FyZQBNYXRwbG90\n",
              "bGliIHZlcnNpb24zLjcuMSwgaHR0cHM6Ly9tYXRwbG90bGliLm9yZy/bCgiHAAAACXBIWXMAAA9h\n",
              "AAAPYQGoP6dpAAA6pklEQVR4nO3deXRU9f3/8ddkYaKQRMGERUzCYBCRJTGQRgIo+mXTbzG4YV2Q\n",
              "CgGj1GLxqOkBPVAkFRG/GitL8EulVkUlUuvWKsYmRRE5LAJuBBgQBZIvQjbIJJm5vz/8OXVMAgnM\n",
              "zZ2ZPB/n3HMyM5/cvD7DvLn3PXPnXpthGIYAAAAAAECbCrM6AAAAAAAA7RENOQAAAAAAFqAhBwAA\n",
              "AADAAjTkAAAAAABYgIYcAAAAAAAL0JADAAAAAGABGnIAAAAAACxAQw4AAAAAgAVoyAEAAAAAsEBI\n",
              "NORPPfWU1REA+BE1DYQe6hoILdQ04B8h0ZDv27fP6ggA/IiaBkIPdQ2EFmoa8I+QaMgBAAAAAAg2\n",
              "NOQAAAAAAFiAhhwAAAAAAAuY2pAnJSXpoosuUkpKilJSUrR69eomxz333HNKTk5W7969lZ2drfr6\n",
              "ejNjAWgDR44c8dZ+SkqK+vTpo4iICH3//fdWRwNwGqhpIHStXLlSNptNa9eutToK0O5EmP0HVq9e\n",
              "rZSUlGYf37t3r+bMmaPNmzera9euuvbaa7V8+XLdc889fstQ7/aoqrZB0VERigw/8/cg/L0+MzDn\n",
              "wMzoT4E+3y5dumjr1q3e24sWLdK//vUvde7c2bpQQIAL5LqmpoHWC+Sa/pHT6VRBQYEyMjKsjgIE\n",
              "BX/XtekN+am89tprGj9+vLp16yZJuuuuu7RgwQK/NeSlZdUqKN6j8mqX4qLtyh7u0IXxnQJmfWZg\n",
              "zoGZ0Z+Ccb7PPfec8vLyrI4BBKxgq2tqGji5YKhpj8ejqVOnKj8/X7NmzbI6DhDwzKhr09+qmzRp\n",
              "kgYMGKApU6aovLy80eP79+9XYmKi93ZSUpL279/f7PpcLpcqKyt9Frfb3eTYerdHBcV7tLu8WlGR\n",
              "4dpdVq2Ckj2qd3tOay7+Xp8ZmHNgZvSnYJzvRx99pKNHj+q///u/Gz3WmpoGQlWw1fXJalqiroFg\n",
              "qenFixcrMzNTaWlpJx1HTQPm1bWpDXlxcbE+++wzbd68Weedd57uuOOOM15nXl6eYmNjfZaNGzc2\n",
              "ObaqtkHl1S7Fx0Qp9qxIxcdEqbzKparahtP62/5enxmYc2Bm9KdgnO9zzz2nSZMmKSKi8UE5ralp\n",
              "IFQFW12frKYl6hoIhpresWOH1qxZo9mzZ59yLDUNmFfXpjbkCQkJkqTIyEjNnDlTJSUlTY7Zt2+f\n",
              "97bT6fT+XlNyc3NVUVHhs6Snpzc5NjoqQnHRdpVV1qriRL3KKmsVF21XdNTpHanv7/WZgTkHZkZ/\n",
              "Crb5VldX65VXXtGdd97Z5OOtqWkgVAVTXZ+qpiXqGgiGmi4pKZHT6VRycrKSkpK0YcMGTZs2TUuW\n",
              "LGk0lpoGzKtr0xrympoaHTt2zHv7pZdeUmpqaqNx119/vd544w0dOnRIhmFo6dKluvnmm5tdr91u\n",
              "V0xMjM8SHh7e5NjI8DBlD3eod3wn1da71Tu+k7KHO077y/f+Xp8ZmHNgZvSnYJvv6tWrNWjQIPXt\n",
              "27fJx1tT00CoCqa6PlVNS9Q1EAw1nZOTo4MHD8rpdMrpdCojI0PLly9XTk5Oo7HUNGBeXZv2Nt3h\n",
              "w4d1/fXXy+12yzAMORwOrVq1SpI0depUjR8/XuPHj5fD4dDcuXOVmZkpSbriiis0ffp0v+W4ML6T\n",
              "5mf199uZ8Py9PjMw58DM6E/BNN/nnntO2dnZVscAAl6w1DU1DbRMsNQ0gJYzo65Na8gdDoe2bNnS\n",
              "5GMrVqzwuZ2dnW3qxj0yPEydO3YI2PWZgTmHvmCZ70cffWR1BCBoBENdU9NAywVDTf/oww8/tDoC\n",
              "EBT8Xde8VQcAAAAAgAVoyAEAAAAAsAANOQAAAAAAFqAhBwAAAADAAjTkAAAAAABYgIYcAAAAAAAL\n",
              "0JADAAAAAGABGnIAAAAAACxAQw4AAAAAgAVoyAEAAAAAsAANOQAAAAAAFqAhBwAAAADAAjTkAAAA\n",
              "AABYgIYcAAAAAAAL0JADAAAAAGABGnIAAAAAACxAQw7AFC6XSzNmzFBycrIGDBig2267zepIAM4Q\n",
              "dQ0AgH9FWB0AQGh66KGHZLPZ9PXXX8tms+nQoUNWRwJwhqhrAAD8i4YcgN/V1NToueee04EDB2Sz\n",
              "2SRJ3bp1szgVgDNBXQMA4H8csg7A73bv3q3OnTtrwYIFGjx4sIYPH65169Y1OdblcqmystJncbvd\n",
              "bZwYwKlQ1wAA+B8NOQC/a2ho0L59+9SvXz9t2rRJTz/9tCZOnKjDhw83GpuXl6fY2FifZePGjRak\n",
              "BnAy1DUAAP5HQw7A7xISEhQWFqZbb71VkpSamqpevXpp+/btjcbm5uaqoqLCZ0lPT2/ryABOgboG\n",
              "AMD/aMgB+N15552nq666Sv/4xz8kSXv37tXevXt18cUXNxprt9sVExPjs4SHh7d1ZACnQF0DAOB/\n",
              "nNQNgCmWLl2qKVOm6MEHH1RYWJiWLVum888/3+pYAM4AdQ0AgH/RkAMwhcPhUFFRkdUxAPgRdQ0A\n",
              "gH9xyDoAAAAAABZok4Z85cqVstlsWrt2bZOPP/bYY+rXr59SUlKUkZHBmVgBAAAAACHP9EPWnU6n\n",
              "CgoKlJGR0eTjW7du1bPPPqudO3eqU6dOeuGFFzRjxgyacgAAAABASDP1E3KPx6OpU6cqPz9fdru9\n",
              "yTE2m0319fWqqamRJB07dkw9e/Y0MxYAAAAAAJYz9RPyxYsXKzMzU2lpac2OGTRokO677z716tVL\n",
              "nTt3lt1uV3FxcbPjXS6XXC6Xz31ut9tvmQEAAAAAaAumfUK+Y8cOrVmzRrNnzz7puL1796qwsFCl\n",
              "paU6cOCA7rvvPk2cOLHZ8Xl5eYqNjfVZOLwdAAAAABBsTGvIS0pK5HQ6lZycrKSkJG3YsEHTpk3T\n",
              "kiVLfMatWbNGAwYMUI8ePSRJv/71r7V+/XrV1dU1ud7c3FxVVFT4LOnp6WZNAwAAAAAAU5jWkOfk\n",
              "5OjgwYNyOp1yOp3KyMjQ8uXLlZOT4zPO4XBo/fr1qq6uliS9+eab6tOnjzp06NDkeu12u2JiYnyW\n",
              "8PBws6YBAAAAAIApTD/LelMefvhh9ejRQ3fddZcmTJigTz/9VIMHD5bdblfHjh314osvWhELAAAA\n",
              "AIA202YN+Ycffuj9ed68ed6fbTab8vLylJeX11ZRAAAAAACwnCWfkAMAAACw3ujRo3Xo0CGFhYUp\n",
              "OjpaTz/9tFJTU62OBbQbNOQAAABAO/XKK6/onHPOkSS9/vrrmjx5srZt22ZtKKAdMe2kbgAAAAAC\n",
              "24/NuCRVVFTIZrNZFwZoh/iEHAAAAGjHJk2apKKiIknS22+/3ehxl8sll8vlc5/b7W6TbECo4xNy\n",
              "AAAAoB1btWqVvvnmG82fP18PPvhgo8fz8vIUGxvrs2zcuNGCpEDooSEHAAAAoDvuuENFRUU6cuSI\n",
              "z/25ubmqqKjwWdLT0y1KCYQWDlkHYJqkpCTZ7XadddZZkn7YoE+cONHiVABOFzUNhJZjx47p+PHj\n",
              "6tGjhyRp7dq16tKlizp37uwzzm63y263+9wXHh7eZjmBUEZDDsBUq1evVkpKitUxAPgJNd0y9W6P\n",
              "qmobFB0VochwDkhEYKqoqNCNN96oEydOKCwsTHFxcXrzzTc5sRvQhmjIAQAA/Ki0rFoFxXtUXu1S\n",
              "XLRd2cMdujC+k9WxgEYSExP5LjhgMd6yBWCqSZMmacCAAZoyZYrKy8sbPe5yuVRZWemzcOZWIHCd\n",
              "qqal9l3X9W6PCor3aHd5taIiw7W7rFoFJXtU7/ZYHQ0AEIBoyAGYpri4WJ999pk2b96s8847T3fc\n",
              "cUejMZy5FQgeLalpqX3XdVVtg8qrXYqPiVLsWZGKj4lSeZVLVbUNVkcDAAQgGnIApklISJAkRUZG\n",
              "aubMmSopKWk0hjO3AsGjJTUtte+6jo6KUFy0XWWVtao4Ua+yylrFRdsVHcW3BAEAjbF1AGCKmpoa\n",
              "1dfX65xzzpEkvfTSS0pNTW00jjO3AsGhpTUtte+6jgwPU/ZwhwpK9qi8yqXe8Z2UPdzBid0AAE2i\n",
              "IQdgisOHD+v666+X2+2WYRhyOBxatWqV1bEAnCZquuUujO+k+Vn9Ocs6AOCUaMgBmMLhcGjLli1W\n",
              "xwDgJ9R060SGh6lzxw5WxwAABDjesgUAAAAAwAI05AAAAAAAWICGHAAAAAAAC9CQAwAAAABgARpy\n",
              "AAAAAAAsQEMOAAAAAIAFaMgBAAAAALAADTkAAAAAABagIQcAAAAAwAI05AAAAAAAWICGHAAAAAAA\n",
              "C9CQAwAAAABggTZpyFeuXCmbzaa1a9c2+fj+/fv1y1/+UhdddJH69eun/Pz8togFAAAAAIBlIsz+\n",
              "A06nUwUFBcrIyGjyccMwNGHCBD300EO68cYbJUmHDx82OxYAAAAAAJYy9RNyj8ejqVOnKj8/X3a7\n",
              "vckx69atk91u9zbjktS1a1czYwEAAAAAYDlTG/LFixcrMzNTaWlpzY75/PPPFRcXp5tvvlmpqama\n",
              "MGGC9uzZ0+x4l8ulyspKn8XtdpsRHwAAAAAA05jWkO/YsUNr1qzR7NmzTzquoaFBH3zwgebMmaMt\n",
              "W7ZozJgxuummm5odn5eXp9jYWJ9l48aN/o4PAAAAAICpTGvIS0pK5HQ6lZycrKSkJG3YsEHTpk3T\n",
              "kiVLfMYlJCQoNTVVl1xyiSTp9ttv1+bNm1VfX9/kenNzc1VRUeGzpKenmzUNAGfoVCd1BBB8qGsA\n",
              "APzDtIY8JydHBw8elNPplNPpVEZGhpYvX66cnByfcePGjdOBAwf07bffSpLefvttXXzxxYqMjGxy\n",
              "vXa7XTExMT5LeHi4WdMAcAZOdVLHM1Hv9uj7mjrVuz1+XzeA5plZ1wAAtDeWXIf84Ycf1tKlSyVJ\n",
              "HTt21NKlS3XNNddo0KBBys/P18svv2xFLAB+1JKTOp6u0rJqzX59h+5/dZtmr92h0rJqv64faA/O\n",
              "Pfdcde7cudHy4/1NMbOuAZy5ZcuW6fjx41bHANAKpl/27Ecffvih9+d58+b5PDZ69GiNHj26raIA\n",
              "aAMtOamj9MOJGl0ul899JztRY73bo4LiPdpdXq34mCjtLqtWQckezc/qr8hwS95jBILS1q1bW/07\n",
              "ZtU1AP8oLi7WI488ol/96le65557dOGFF1odCcAptFlDDqD9+PGkjsXFxaccm5eXp7lz5/rcd7JD\n",
              "YatqG1Re7VJ8TJRiz/rhqy3lVS5V1Taoc8cOZxYcaEcSExNbNd7MugbgH3/96191+PBhFRQU6Kqr\n",
              "rlK/fv30m9/8RldffbXV0QA0o9UfJy1btkwVFRWSpHvuuUeDBw9u0cYZQPvR0pM6Sq0/UWN0VITi\n",
              "ou0qq6xVxYl6lVXWKi7arugo3l8ETkevXr3kcDgaLT9nZl0D8J+uXbtq9uzZev7557Vz507ddttt\n",
              "6tu3r9atW2d1NABNaPUe7J/+9CdNnz5d69ev144dO/Too4/q/vvv59JjALxycnJ8TuB4xRVXaObM\n",
              "mcrKymo01m63N/ou6slO1BgZHqbs4Q4VlOxReZVLveM7KXu4g8PVgdP05ptven+ura3VX/7yF3Xp\n",
              "0qXRODPrGoB/1NbW6oUXXtCf/vQnnX322Xr88cd1ww03aMuWLbrhhhvkdDqtjgjgZ1rdkEdE/PAr\n",
              "H3zwgSZNmqQxY8YoNzfX78EAoDkXxnfS/Kz+qqptUHRUBM04cAZ+vOzoj9LS0jR06FDNmTPHokQA\n",
              "TldSUpJGjRql5cuXa8iQId77Bw8erFGjRlmYDEBzWt2Qh4WFafXq1Vq9erXeeustSVJdXZ3fgwEI\n",
              "HBMmTJDNZmv28cLCwpP+/k9P6ugvkeFhfGccMMGRI0d06NChU44zo64BnJktW7aoe/fuTT5WUFDQ\n",
              "xmkAtMRpHbKel5en7OxsJSYm6uuvv9aVV15pRjYAAaKpQ1IBhIbU1FTvG25ut1v79u3TAw88YHEq\n",
              "AKeje/fu+uSTT7R79241NDR47580aZKFqQCcTKsacrfbrcLCQq1du9Z7X58+ffT000/7OxeAAHLH\n",
              "HXf43DYMQ5JO+qk5gODwP//zP96fIyIi5HA4mv2EDUBgy8nJ0T/+8Q+lpKR4z9tgs9loyIEA1qqG\n",
              "PDw8XEVFRWZlARDgDh48qClTpnj/H7jqqqtUUFDAzjsQhC677DJ9/PHHev31132acgDB6/3339fn\n",
              "n3+uqKgoq6MAaKFWnwnp6quv1qOPPqrvvvtOlZWV3gVA6Js2bZqGDRumgwcP6uDBgxo2bJimTZtm\n",
              "dSwAp+HYsWM6fPiwioqKVFVV5bNNZ7sOBKfu3bs3usJBc2pra5WVlaU+ffpo0KBBGjVqlEpLS01O\n",
              "CODnWv0d8nnz5kmS5syZI5vNJsMwZLPZ5Ha7/R4OQGD55ptv9Pe//917+6GHHlJKSop1gQCctptu\n",
              "ukm9evWSy+VSbGysJLFdB4LcL37xC91www2aOHGiz6fk48ePb3L8tGnTNG7cONlsNj3zzDOaOnUq\n",
              "J2wE2lirG3KPx2NGDgBBwDAMHTp0SN26dZMkHTp0yPt9cgDBZe7cuZo7d64yMzO1fv16q+MA8INN\n",
              "mzZJkpYsWeK9z2azNdmQR0VF6eqrr/bezsjI0KJFi8wPCcBHqxtyAO3X/fffr9TUVI0bN06S9O67\n",
              "7+rxxx+3OBWAM7F+/XrV19dr//796t27t9VxAJyBMznX01NPPaVrr722ycdcLpdcLpfPfRxFA/hH\n",
              "qxvyXbt26d5779W2bdtUW1vrvf/777/3azAAgef2229Xamqq93C2WbNm6ZJLLrE2FIAz8q9//Uu/\n",
              "+tWvFBERof379+vTTz/VU089pRdeeMHqaABOw8GDB7V3716fy56NGDHipL+zYMEClZaWat26dU0+\n",
              "npeXp7lz5/rcl5GRceZhAbS+Ic/OzlZOTo7mzZunl19+Wfn5+UpKSjIhGoBA5HA4vCd86tWrl8Vp\n",
              "AJypBx98UCUlJbrhhhskSUOGDNGWLVssTgXgdDz66KN6/PHH5XA4fC57tnHjxmZ/Z9GiRSosLNT7\n",
              "77+vs88+u8kxubm5+t3vfudz35w5c/wXHGjHWt2QV1ZWauLEiZo/f74GDBigZcuW6Re/+IV+//vf\n",
              "m5EPQAD56KOPdP3113u/Q3748GGtWbNGl112mcXJAJwut9vd6FD1Dh06WJQGwJn43//9X+3evVtd\n",
              "unRp0fjFixfrpZde0vvvv69zzjmn2XF2u73R2dt/bPgBnJlWN+SRkZGSpOjoaDmdTnXr1k3/93//\n",
              "5/dgAALP7373O7322mvKzMyU9EODft9992nDhg0WJwNwuqKiolRdXS2bzSZJ2r59u8466yyLUwE4\n",
              "HV27dm1xM37gwAHNmjVLDodDI0eOlPRD4/3JJ5+YGRHAz7S6IR8xYoSOHDmiGTNmKC0tTR06dNDE\n",
              "iRPNyAYgwJw4ccLbjEvS0KFDfc4lASD4zJkzR6NHj9a3336r2267Te+//75efPFFq2MBOA2jRo3S\n",
              "zJkzdcstt/hc9mzgwIGNxvbs2ZMrpQABoNUN+Y9nVL7llls0fPhwVVRUqH///n4PBiDwdOrUSe+/\n",
              "/77+67/+S5K0bt06dezY0eJUAM7E6NGjlZycrHfffVeGYWju3LmcbR0IUqtWrZIk/e1vf/PeZ7PZ\n",
              "tGfPHqsiATiFVjfkWVlZWrt2rSTpggsu0AUXXOBzH4DQ9fTTT+u6667zfm/M4/GosLDQ4lQAzkRd\n",
              "XZ169eqlnJwc7dmzR59//rmSkpL4figQhPbu3Wt1BACt1OqGfP/+/Y3u2717t1/CAAhs3333nTZt\n",
              "2qTDhw9L+uG7aic7cyuAwJeZmakPPvhAdXV1Gj58uJKSkvTmm29q6dKlVkcD0EpN7adLUkJCQhsn\n",
              "AdBSLW7Ily1bpqVLl+rrr7/WpZde6r2/oqJC/fr1MyUcgMAyZ84cbd26VXFxcZIkwzA0Z84cXXPN\n",
              "NRYnA3C6GhoaFB0drVWrVumOO+7QggULNGDAAKtjATgNaWlpstlsMgxDtbW1On78uLp06aKysjKr\n",
              "owFoRosb8rFjx+qiiy5STk6OnnzySUnS0aNHdd5553HJI6CdstlscrvdzT4+evRoHTp0SGFhYYqO\n",
              "jtbTTz+t1NTUNkwI4FTq6uokSR9++KFuueUWSc1fzoiaBgJbeXm5z+3CwkJt27bNojQAWqLFDXli\n",
              "YqISExOVkJCgQYMGKSIiwnsyt0mTJmnevHmmhQQQGKKjo/XRRx9p6NChkqT169crOjq62fGvvPKK\n",
              "97qmr7/+uiZPnsyOARBgRo4cqX79+sntdmvZsmU6evSoIiKa3j2gptuverdHVbUNio6KUGR4mNVx\n",
              "0ELXXXedFixYoLlz51odBUAzWv0d8rKyMp1zzjl65ZVXdO2112rRokW69NJLaciBdmDhwoWaMGGC\n",
              "+vbtK0natWuXXn/99WbH/7jjLv3w9ZYfr3MMIHDk5+dr27ZtcjgcioyMlNvtVkFBQZNjqen2qbSs\n",
              "WgXFe1Re7VJctF3Zwx26ML6T1bHQhMrKSu/Pbrdbn3zyic99AAJPqxvy+vp6SVJxcbHGjh2ryMjI\n",
              "Zt9JBxBaLrvsMn3xxRf6+OOPJf1wHfKf7qA3ZdKkSSoqKpIkvf32240ed7lccrlcPved7DB4AP71\n",
              "zTffqHPnzjp27JiOHTsmSerSpUuz409V0xJ1HUrq3R4VFO/R7vJqxcdEaXdZtQpK9mh+Vn8+KQ8g\n",
              "O3fu1CWXXKJzzjnH+x3y8PBwJScn6+mnn7Y6HoCTaHUn3b9/f40bN05ffPGFFi5cqOPHj5uRC0CA\n",
              "Ovfcc3X11Ve3ePyP10R9/vnn9eCDDzbagc/Ly2t0KF1GRsaZBwXQIq09CdSpalqirkNJVW2Dyqtd\n",
              "io+JUuxZkZKk8iqXqmob1LljB4vT4Ue33367Nm/erMsuu0zr16+3Og6AVmj1W5t//vOfNX36dBUV\n",
              "Fenss8/W0aNHlZeXd9LfWblypWw22ymvVT558mTZbDbvO/QAQscdd9yhoqIiHTlyxOf+3NxcVVRU\n",
              "+Czp6ekWpQTan/LycpWVlam8vFxVVVV69dVXlZOTc8rfa66mJeo6lERHRSgu2q6yylpVnKhXWWWt\n",
              "4qLtio7i6MhAUltbq9WrV+vQoUP6+9//rjfeeMNnARC4Wv2/aVRUlLKysry3zz//fJ1//vnNjnc6\n",
              "nSooKDjlO+OFhYWKjIxsbRwAAerYsWM6fvy4evToIUlau3atunTpos6dO/uMs9vtstvtPvc1d4Zn\n",
              "AOZr7iRQLa1piboOJZHhYcoe7lBByR6VV7nUO76Tsoc7OFw9wPzxj3/U0qVLVVZWpsWLF/s8ZrPZ\n",
              "NH78eIuSATgVU9/e9Hg8mjp1qvLz8zVr1qxmxx0+fFgLFixQUVGRVqxYYWYkAG2koqJCN954o06c\n",
              "OKGwsDDFxcXpzTff5CRQQIBp6UmgqOn268L4Tpqf1Z+zrAew8ePHa/z48frtb3+rp556yuo4AFrB\n",
              "1IZ88eLFyszMVFpa2knHZWdna+HChSe9fNKPOFEMEBwSExO1ceNGq2MAOIWWngSKmm7fIsPD+M54\n",
              "EKAZB4KPaQ35jh07tGbNGhUXF5903IoVK5SQkKArr7yyRevlRDEAAPiPx+OxOgIAAO2WaccclZSU\n",
              "yOl0Kjk5WUlJSdqwYYOmTZumJUuW+IwrKirS3/72NyUlJSkpKUmSNHDgQG3ZsqXJ9XKiGAAAAABA\n",
              "KDDtE/KcnByfs7ReccUVmjlzps8J4STpr3/9q89tm82mzz77rNlrG3OiGAAAAABAKLDkrBwPP/yw\n",
              "li5dasWfBgAAAAAgILTZRSQ//PBD78/z5s1rdpxhGG2QBgAAAAAAa3HdCgAAAAAALEBDDgAAAACA\n",
              "BWjIAQAAAACwAA05AAAAAAAWoCEHAAAAAMACNOQAAAAAAFiAhhwAAAAAAAvQkAMAAAAAYAEacgAA\n",
              "AAAALEBDDgAAAACABWjIAQAAAACwAA05AL+rra1VVlaW+vTpo0GDBmnUqFEqLS21OhaAM0BdAwDg\n",
              "fzTkAEwxbdo0ffXVV9q2bZuuvfZaTZ061epIQMCrd3v0fU2d6t0eq6M0KRTqOtCfYwBA+xJhdQAA\n",
              "oScqKkpXX32193ZGRoYWLVpkYSIg8JWWVaugeI/Kq12Ki7Yre7hDF8Z3sjqWVyjUdaA/xwCA9odP\n",
              "yAGY7qmnntK1117b5GMul0uVlZU+i9vtbuOEgLXq3R4VFO/R7vJqRUWGa3dZtQpK9gT0p7jBVtfB\n",
              "+BwDAEIfDTkAUy1YsEClpaXKy8tr8vG8vDzFxsb6LBs3bmzjlIC1qmobVF7tUnxMlGLPilR8TJTK\n",
              "q1yqqm2wOlqTgrGug+05BgC0DzTkAEyzaNEiFRYW6p133tHZZ5/d5Jjc3FxVVFT4LOnp6W2cFLBW\n",
              "dFSE4qLtKqusVcWJepVV1iou2q7oqMD7Zlmw1nUwPccAgPaDhhyAKRYvXqyXXnpJ7733ns4555xm\n",
              "x9ntdsXExPgs4eHhbRcUCACR4WHKHu5Q7/hOqq13q3d8J2UPdygyPLA208Fc18HyHAMA2hfeFgbg\n",
              "dwcOHNCsWbPkcDg0cuRIST/soH/yyScWJwMC14XxnTQ/q7+qahsUHRURcI1iKNR1oD/HQFu79957\n",
              "9cYbb2jfvn3asmWLUlJSrI4EtDs05AD8rmfPnjIMw+oYQNCJDA9T544drI7RpFCp60B+joG2dsMN\n",
              "N+iBBx7QsGHDrI6Cn6h3e3jjsB2hIQcAAADaoREjRlgdAT/D5RnbH95yAQAAANCsQLyUYSji8ozt\n",
              "Ew05AAAAgGYF4qUMQxGXZ2yfaMgBAAAANCsQL2UYirg8Y/tEQw4AAACgWYF4KcNQxOUZ2yfebgEA\n",
              "AADaoenTp+utt97SoUOHNGbMGEVHR6u0tNTqWO0al2dsf2jIAQAAgHZo2bJlVkdAE7g8Y/vSJm+5\n",
              "rFy5UjabTWvXrm302Pbt2zVixAj17dtX/fv315133qkTJ060RSwAAAAAACxjekPudDpVUFCgjIyM\n",
              "Jh+PiorSM888oy+//FLbtm1TTU2NHnvsMbNjAQAAAABgKVMbco/Ho6lTpyo/P192u73JMcnJyRo4\n",
              "cKAkKTw8XEOGDJHT6TQzFgAAAAAAljP1O+SLFy9WZmam0tLSWjS+pqZGK1asUF5eXrNjXC6XXC6X\n",
              "z31ut/uMcgIAAAAA0NZM+4R8x44dWrNmjWbPnt2i8XV1dZo4caJGjx6tCRMmNDsuLy9PsbGxPsvG\n",
              "jRv9FRsAAAAAgDZhWkNeUlIip9Op5ORkJSUlacOGDZo2bZqWLFnSaGx9fb0mTpyo7t2766mnnjrp\n",
              "enNzc1VRUeGzpKenmzUNAAAAAABMYdoh6zk5OcrJyfHevuKKKzRz5kxlZWX5jGtoaNDNN9+szp07\n",
              "a/ny5bLZbCddr91ub/R99PDwcL/lBgAAAACgLVhypfmHH35YS5culSStXr1ahYWF2rRpk1JTU5WS\n",
              "kqJ77rnHilgAAAAAALQZU0/q9lMffvih9+d58+Z5f7711lt16623tlUMAAAAAAACgiWfkAMAAAAA\n",
              "0N7RkAMwxb333qukpCTZbDZt3brV6jgAzhA1DQCA/9GQAzDFDTfcoH//+99KTEy0OgoQNOrdHn1f\n",
              "U6d6t8fqKI2YXdMVJ+q0ed9RVZyoM2X9AAAEojb7DjmA9mXEiBFWRwCCSmlZtQqK96i82qW4aLuy\n",
              "hzt0YXwnq2N5mVnTf92wT3nvfCFXg0f2iDDljrtYt2bwZh4AIPTxCTkAS7lcLlVWVvosbrfb6lhA\n",
              "m6p3e1RQvEe7y6sVFRmu3WXVKijZE5CflLdEa+q64kSd8t75Qsfr3AoLs+l4nVt573zBJ+UAgHaB\n",
              "hhyApfLy8hQbG+uzbNy40epYQJuqqm1QebVL8TFRij0rUvExUSqvcqmqtsHqaKelNXW9u6xGrgaP\n",
              "IiPCZA8PU2REmFwNHu0uq2nj1AAAtD0acgCWys3NVUVFhc+Snp5udSygTUVHRSgu2q6yylpVnKhX\n",
              "WWWt4qLtio4Kzm+Wtaaue8d3lD0iTPUNHrncHtX//8PWe8d3bOPUAAC0PRpyAJay2+2KiYnxWcLD\n",
              "w62OBbSpyPAwZQ93qHd8J9XWu9U7vpOyhzsUGR6cm+nW1HXsWR2UO+5ind0hXB6PobM7hCt33MWK\n",
              "PatDG6cGAKDtBedb7wAC3vTp0/XWW2/p0KFDGjNmjKKjo1VaWmp1LCBgXRjfSfOz+quqtkHRUREB\n",
              "14ybWdO3ZiTqvwd11+6yGvWO70gzDgBoN2jIAZhi2bJlVkcAgk5keJg6dwzMZtTsmo49q4MuTQzM\n",
              "uQMAYJbAevsdAAAAAIB2goYcAAAAAAAL0JADAAAAAGABGnIAAAAAACxAQw4AAAAAgAVoyAEAAAAA\n",
              "sAANOQAAAAAAFqAhBwAAAADAAjTkAAAAAABYgIYcAAAAAAAL0JADAAAAAGABGnIAAAAAACxAQw4A\n",
              "AAAAgAVoyAEAAAAAsAANOQAAAAAAFqAhBwAAAADAAm3SkK9cuVI2m01r165t8vE333xTffv2VXJy\n",
              "sq677jpVVla2RSwAJtq1a5eGDh2qPn36aMiQIdq5c6fVkQCcIeoaCC3UNGA90xtyp9OpgoICZWRk\n",
              "NPl4dXW1pkyZorVr12rXrl3q0aOH/vCHP5gdK+DUuz36vqZO9W6P1VHaRDDM198Zg2HO/jR9+nRN\n",
              "mzZNX3/9tR588EFNnjzZr+uvOFGnzfuOquJEnV/XC1gp0F/XZtZ1oM8dCEWhsq1uq7/T3vbl/IXn\n",
              "7eQizFy5x+PR1KlTlZ+fr1mzZjU55p133lFqaqr69u0rSbr77rs1evRoPf7442ZGCyilZdUqKN6j\n",
              "8mqX4qLtyh7u0IXxnayOZZpgmK+/MwbDnP2prKxMmzZt0j//+U9J0vXXX68ZM2aotLRUF1544Rmv\n",
              "/68b9invnS/kavDIHhGm3HEX69aMxDNeL2ClQH9dm1nXgT53IBSFyra6rf5Oe9uX8xeet1Mz9RPy\n",
              "xYsXKzMzU2lpac2O2b9/vxIT/1M0SUlJOnjwoBoaGpoc73K5VFlZ6bO43W6/Z28r9W6PCor3aHd5\n",
              "taIiw7W7rFoFJXtC9h2kYJivvzMGw5z97ZtvvlH37t0VEfHDe342m00JCQnav39/o7GtremKE3XK\n",
              "e+cLHa9zKyzMpuN1buW98wWfqiGoBcPr2qy6Doa5A6EoFLbVbfV32uO+nD/wvLWMaQ35jh07tGbN\n",
              "Gs2ePduv683Ly1NsbKzPsnHjRr/+jbZUVdug8mqX4mOiFHtWpOJjolRe5VJVbdNvSAS7YJivvzMG\n",
              "w5yt1Nqa3l1WI1eDR5ERYbKHhykyIkyuBo92l9W0YWrAv0Ltdd2aug61uQOhKFC31W31d9iXOz08\n",
              "by1jWkNeUlIip9Op5ORkJSUlacOGDZo2bZqWLFniMy4hIUH79u3z3nY6nT7v1v1cbm6uKioqfJb0\n",
              "9HSzpmG66KgIxUXbVVZZq4oT9SqrrFVctF3RUaZ+m8AywTBff2cMhjn72wUXXOBzpIthGNq/f78S\n",
              "EhIajW1tTfeO7yh7RJjqGzxyuT2q//+HqPWO72jafACzBcPr2qy6Doa5A6EoFLbVbfV32uO+nD/w\n",
              "vLWMaQ15Tk6ODh48KKfTKafTqYyMDC1fvlw5OTk+48aOHavNmzfryy+/lCQ9++yzuvnmm5tdr91u\n",
              "V0xMjM8SHh5u1jRMFxkepuzhDvWO76Taerd6x3dS9nCHIsND84p0wTBff2cMhjn7W3x8vC699FK9\n",
              "8MILkqQ1a9aoZ8+eTX4nrbU1HXtWB+WOu1hndwiXx2Po7A7hyh13sWLP6mDafACzBcPr2qy6Doa5\n",
              "A6EoFLbVbfV32uO+nD/wvLWMzTAMoy3+0BVXXKGZM2cqKytLDz/8sHr06KG77rpLkvTGG2/ogQce\n",
              "UENDg/r376/nn39esbGxLV737373Oy1evNis6G2i3u1RVW2DoqMi2sWLNBjm6++MwTBnf/rqq680\n",
              "efJkHTlyRDExMVq5cqUGDBjQot9tSU1XnKjT7rIa9Y7vyI47Qkagv67NrOtAnzsQikJlW91Wf6e9\n",
              "7cv5C8/bybVZQ26mUGjIAfwHNQ2EHuoaCC3UNOAfvEUBAAAAAIAFaMgBAAAAALAADTkAAAAAABag\n",
              "IQcAAAAAwAIhcVK36667TklJSc0+7na7tXHjRqWnpwfsJdICPWOg55MCP6OV+RITE/Xb3/62Tf/m\n",
              "mThVTUuB9+8daHmkwMtEnlNraaZgq2kpNLbVrcF8AlsgzifY6joYt9VnivkEtkCbT0trOiQa8lOp\n",
              "rKxUbGysKioqFBMTY3WcJgV6xkDPJwV+xkDPF2wC7fkMtDxS4GUiz6kFYqa2EmpzZz6BLdTmE6hC\n",
              "7XlmPoEtWOfDIesAAAAAAFiAhhwAAAAAAAvQkAMAAAAAYIF20ZDb7XY98sgjstvtVkdpVqBnDPR8\n",
              "UuBnDPR8wSbQns9AyyMFXibynFogZmoroTZ35hPYQm0+gSrUnmfmE9iCdT7t4qRuAAAAAAAEmnbx\n",
              "CTkAAAAAAIGGhhwAAAAAAAvQkAMAAAAAYIGQb8h37dqloUOHqk+fPhoyZIh27txpdSQftbW1ysrK\n",
              "Up8+fTRo0CCNGjVKpaWlVsdq0sqVK2Wz2bR27VqrozTicrk0Y8YMJScna8CAAbrtttusjuTj7bff\n",
              "1qWXXqqUlBT1799fzz//vNWRgsqpXntvvvmm+vbtq+TkZF133XWqrKy0NNP27ds1YsQI9e3bV/37\n",
              "99edd96pEydOWJbnpyZPniybzaZjx46Zmqclmfbv369f/vKXuuiii9SvXz/l5+dbmuexxx5Tv379\n",
              "lJKSooyMDG3cuNG0LElJSbrooouUkpKilJQUrV69uslxzz33nJKTk9W7d29lZ2ervr7etExWCvRt\n",
              "dWsE03a9tQJ5P6C1An2/IRRQ18EhVOo6qGvaCHEjR440Vq5caRiGYbz66qvG4MGDrQ30MydOnDDe\n",
              "eustw+PxGIZhGPn5+cbll19ubagm7N2717jsssuMjIwM4/XXX7c6TiMzZ840ZsyY4X0eDx48aHGi\n",
              "//B4PMa5555rbNu2zTCMH55Lu91uVFZWWpwsOJzqtVdVVWXEx8cbX3zxhWEYhnHPPfcY999/v6WZ\n",
              "vv76a++/d0NDg3HTTTcZjzzyiGV5frRmzRpj6tSphiTj6NGjpuVpSSaPx2NceumlxiuvvOK979Ch\n",
              "Q5bl2bJli5GQkGBUVVUZhmEYf/nLX4whQ4aYlicxMdHYsmXLScfs2bPH6N69u3Hw4EHD4/EYv/zl\n",
              "L41nnnnGtExWCvRtdWsEy3a9tQJ9P6C1Anm/IVRQ14EvlOo6mGs6pD8hLysr06ZNm7zvkFx//fX6\n",
              "5ptvAuodraioKF199dWy2WySpIyMDDmdTmtD/YzH49HUqVOVn58fkJcRqKmp0XPPPadHH33U+zx2\n",
              "69bN4lS+fvqJZGVlpbp06RKQz2Wgaclr75133lFqaqr69u0rSbr77rv10ksvWZopOTlZAwcOlCSF\n",
              "h4dryJAhptV1S+vz8OHDWrBggRYvXmxKjtZmWrdunex2u2688UbvfV27drUsj81mU319vWpqaiRJ\n",
              "x44dU8+ePU3J01Kvvfaaxo8fr27duslms+muu+4y9bVtlWDYVrdGMGzXWyvQ9wNaKxj2G4IddR34\n",
              "Qqmug72mQ7oh/+abb9S9e3dFRERI+mGHKyEhQfv377c4WfOeeuopXXvttVbH8LF48WJlZmYqLS3N\n",
              "6ihN2r17tzp37qwFCxZo8ODBGj58uNatW2d1LC+bzabVq1fruuuuU2JiooYNG6bnn39eHTp0sDpa\n",
              "wGvJa2///v1KTEz03k5KStLBgwfV0NBgWaafqqmp0YoVK0yr65bmyc7O1sKFCxUdHW1KjtZm+vzz\n",
              "zxUXF6ebb75ZqampmjBhgvbs2WNZnkGDBum+++5Tr1691LNnTz355JOmH0I/adIkDRgwQFOmTFF5\n",
              "eXmjx5t6bQfy9ut0BeO2ujUCcbveWoG+H9Bagb7fEAqo68AXSnUd7DUdYXUA/MeCBQtUWloaUC+g\n",
              "HTt2aM2aNSouLrY6SrMaGhq0b98+9evXT3/84x+1ZcsWjRo1Sjt37jTtE7fW5ps/f74KCws1YsQI\n",
              "ffrppxo/fry2b9+u8847z+p4ASsQX3utzVRXV6eJEydq9OjRmjBhgmV5VqxYoYSEBF155ZV+z3C6\n",
              "mRoaGvTBBx9ow4YNuuSSS7R06VLddNNN2rRpkyV59u7dq8LCQpWWlqpHjx565plnNHHiRP373//2\n",
              "a54fFRcXKyEhQfX19Zo9e7buuOMOvf3226b8LVgnELfrrRWI/xefqUDfb0Bgo64DT9DXtNXHzJvp\n",
              "8OHDRnR0tFFfX28Yxg/fWezatauxa9cui5M19vjjjxtpaWmmf6+ztZ599lmjW7duRmJiopGYmGjY\n",
              "7XYjLi7OePbZZ62O5lVeXm6EhYUZDQ0N3vsGDx5svPfeexam+o9PP/3USE5O9rlv8ODBxj//+U+L\n",
              "EgWHlr72XnnlFWPMmDHe2zt37jTOP/98SzMZhmHU1dUZWVlZxtSpU73fZ7Iqzy233GL07NnTO06S\n",
              "ccEFFxibN2+2LNOrr75qDB8+3Hu7urrasNlsRl1dnSV5Hn/8cSM7O9snjyTD5XL5NU9TvvvuO6NT\n",
              "p06N7l+4cKExffp07+233nrLyMzMND1PWwumbXVrBOp2vbWCYT+gtQJ9vyEUUNeBLdTqOthrOqQb\n",
              "csMwjMsvv9znhBJpaWnWBmrCE088YVx66aXG999/b3WUU7r88ssD8qQPo0aNMt566y3DMH44EVKX\n",
              "Ll2MAwcOWJzqB4cOHTI6depkfP7554ZhGMauXbuMc88919i3b5/FyYJLc6+9yspKIy4uzuekbrNm\n",
              "zbI0U319vXHdddcZd955p2nNeGvy/Jza4KRuP2ouU3V1tdGrVy9vnb7yyitGv379LMuzZs0ao1+/\n",
              "ft6Tur388stGnz59TMlQXV3t8/w/8cQTPm9O/Gj37t2NTuqWn59vSiarBcO2ujWCabveWoG6H9Ba\n",
              "gbzfECqo6+ARCnUdzDUd8oesL1u2TJMnT9aCBQsUExOjlStXWh3Jx4EDBzRr1iw5HA6NHDlSkmS3\n",
              "2/XJJ59YnCy4LF26VFOmTNGDDz6osLAwLVu2TOeff77VsST9cKKq5cuX66abblJYWJg8Ho+eeeYZ\n",
              "JSQkWB0taD388MPq0aOH7rrrLkVHR2vFihXKyspSQ0ODZZeV+2mm1atXq7CwUAMHDlRqaqokKTMz\n",
              "U3/6058syRMofpqpY8eOWrp0qa655hoZhqHY2Fi9/PLLluWZMGGCPv30Uw0ePFh2u10dO3bUiy++\n",
              "aMrfPXz4sK6//nq53W4ZhiGHw6FVq1ZJkqZOnarx48dr/Pjxcjgcmjt3rjIzMyVJV1xxhaZPn25K\n",
              "JqsF+ra6NdiuB4dA3m8IFdQ12lIw17TNMAzD6hAAAAAAALQ3IX2WdQAAAAAAAhUNOQAAAAAAFqAh\n",
              "R7NSUlJUVVXV6t+74YYb9Oc//9n/gQCYxul0aunSpVbHABAg/vznPysrK8vqGADOwCOPPKK+ffvq\n",
              "F7/4xUnHOZ1OnXPOOW0TCo3QkKNZW7duVXR0tNUxALSBM2nIGxoa/JwGAACcqYULF6qoqIiTzwU4\n",
              "GnI0y2az6dixY5KkpKQkPfzww7rsssvUq1cvzZ8/3zvuyy+/1NChQ3XJJZcoKytLlZWV3seqqqqU\n",
              "nZ2t9PR0DRw4UNOmTVNdXZ2++uor9ezZU3v27JEkLVq0SGPHjpXH42nTOQLt0YkTJzRx4kT169dP\n",
              "gwYN0ujRo3XXXXfpq6++UkpKisaPHy9Juv/++zVkyBClpKRoxIgR+uqrr7zrsNlseuSRRzRkyBDl\n",
              "5uZqw4YNSktLU0pKivr3768lS5ZYNT2gXfv44481bNgwDRo0SAMHDtTf/vY3bdq0SUOHDtXAgQOV\n",
              "np6u9evXe8f/5S9/0cCBAzVw4EBdc801+vbbby1MD7RvP933lqTzzjtPTqdTHo9HM2bM0MUXX6xB\n",
              "gwYpLS1NtbW1kqR//OMfGjZsmNLS0pSenq6ioiJJ0tChQ1VbW6vRo0fr3nvv1YcffqiUlBTvunfs\n",
              "2KGkpKQ2nB2aZe1V1xDI9JNrFScmJhq/+c1vDMMwjPLyciMmJsZ7bb/BgwcbK1asMAzDMD777DOj\n",
              "Q4cO3utOZmdnG88//7xhGIbh8XiMKVOmGAsXLjQMwzBefPFFIy0tzSgqKjKSkpKMsrKyNpwd0H4V\n",
              "FhYao0eP9t4+cuSIUVRUZAwaNMhn3E9r8qWXXjLGjBnjvS3JmDt3rvf2+PHjjRdffNF7OxSv0woE\n",
              "uiNHjhjx8fFGcXGxYRiG4Xa7jcOHDxsXXHCB8e677xqGYRglJSVG165djaqqKmP79u1G165dvdvz\n",
              "+fPnG2PHjjUMwzBWrlxpXHvttZbMA2ivfrrvbRiG0aVLF2Pv3r3G5s2bjb59+xput9swDMM4duyY\n",
              "4Xa7jd27dxsZGRlGRUWFYRiGsWvXLqNbt25GbW1to/X9fDu/fft2IzEx0TAMw9i7d68RGxtr9vTQ\n",
              "jJC/Djn855ZbbpH0w7t1DodDe/fuVXR0tLZu3arJkydLkgYMGKBhw4Z5f2ft2rX6+OOPtXjxYkk/\n",
              "fDIXHh4uSfrVr36loqIijRkzRuvWrVNcXFzbTghopwYNGqQvvvhCd999ty6//HJdffXVTY577733\n",
              "lJ+fr6qqKnk8Hn3//fc+j995553en0eOHKk//OEP2rVrl6688kqf/wcAtI2PP/5YF110kYYPHy5J\n",
              "CgsL0+HDhxUWFqYxY8ZIkoYNG6auXbtq69at2rJli8aOHeu9Vu/dd9+tefPmye12WzYHAI05HA41\n",
              "NDTozjvv1MiRI3XNNdcoLCxM7777rkpLSzVixAjv2LCwMO3fv1/JyckWJkZrcMg6WiwqKsr7c3h4\n",
              "eLPfG7XZbN6fDcPQmjVrtHXrVm3dulVfffWVli1bJumH753u2LFDnTt35hA5oA05HA59/vnnGjt2\n",
              "rNavX6/+/fvr6NGjPmP279+vGTNm6IUXXtCOHTv08ssvew+P+1GnTp28P8+cOVNvvfWWunfvrt//\n",
              "/ve6++6722QuAFrvp9vpltwPoG2Eh4f7vCH243Y3NjZWO3bs0C233KIvv/xSAwcOVGlpqQzD0KhR\n",
              "o7z72Vu3btW3337bZDMeERHR5LphPRpynJGYmBilpqZq1apVkqSdO3fq3//+t/fxrKwsPfbYY97m\n",
              "/ejRoyotLZUkPfTQQ7roootUUlKi+++/33s/AHMdOHBANptN48eP16JFi2QYhrp06aKKigrvmIqK\n",
              "CkVGRqp79+4yDEPPPPPMSdf51VdfqVevXsrOztbvf/97bdiwwexpAPiZoUOHateuXSopKZEkeTwe\n",
              "de3aVR6PR++9954k6aOPPtKhQ4eUkpKikSNH6t1339V3330nSVq6dKmuuuoq75FsANrWhRde6D0B\n",
              "W2FhoWpqaiRJ5eXlqqmp0ejRo7VgwQIlJSXp888/15gxY/T+++/rs88+865j48aNTa7b4XBo3759\n",
              "Ki8vl/TD+SMQGDhkHWds1apV+vWvf60nnnhCycnJPofNPPnkk3rooYeUkpKisLAwRUREaOHChfry\n",
              "yy/17rvvauPGjTr77LO1ePFi3XTTTfroo498PokH4H/bt29Xbm6uDMNQQ0ODbr/9du+JGfv37y+H\n",
              "w6E33nhDN998sy655BJ16dLllJc/euaZZ/TBBx+oQ4cOCg8P1xNPPNE2kwHgde655+r111/XrFmz\n",
              "VFVVpbCwMP3hD39QYWGh7r33Xs2aNUtRUVF67bXX1KlTJ/Xv31+PP/64xo4dK0m64IILVFBQYPEs\n",
              "gPbrySef1L333qvZs2frmmuuUZcuXSRJ33zzjbKzs1VfXy+3263MzEyNGzdOkZGRevHFFzV9+nQd\n",
              "P35cdXV1Sk1N1Ysvvtho3T169NADDzyg9PR0de3aVePGjWvr6aEZNsMwDKtDAAAAAADQ3nDIOgAA\n",
              "AAAAFqAhBwAAAADAAjTkAAAAAABYgIYcAAAAAAAL0JADAAAAAGABGnIAAAAAACxAQw4AAAAAgAVo\n",
              "yAEAAAAAsAANOQAAAAAAFqAhBwAAAADAAjTkAAAAAABY4P8B1wgFQ5EE33MAAAAASUVORK5CYII=\n",
              "\">\n",
              "        \n",
              "      </div>\n",
              "      <script></script>\n",
              "      <script type=\"text/javascript\">\n",
              "        (() => {\n",
              "          const chartElement = document.getElementById(\"chart-d73b6be9-c477-47e2-917b-1e5a2f7d682d\");\n",
              "          async function getCodeForChartHandler(event) {\n",
              "            const chartCodeResponse =  await google.colab.kernel.invokeFunction(\n",
              "                'getCodeForChart', [\"chart-d73b6be9-c477-47e2-917b-1e5a2f7d682d\"], {});\n",
              "            const responseJson = chartCodeResponse.data['application/json'];\n",
              "            await google.colab.notebook.addCell(responseJson.code, 'code');\n",
              "          }\n",
              "          chartElement.onclick = getCodeForChartHandler;\n",
              "        })();\n",
              "      </script>\n",
              "      <style>\n",
              "        .colab-quickchart-chart-with-code  {\n",
              "            display: block;\n",
              "            float: left;\n",
              "            border: 1px solid transparent;\n",
              "        }\n",
              "\n",
              "        .colab-quickchart-chart-with-code:hover {\n",
              "            cursor: pointer;\n",
              "            border: 1px solid #aaa;\n",
              "        }\n",
              "      </style>"
            ]
          },
          "metadata": {}
        },
        {
          "output_type": "display_data",
          "data": {
            "text/plain": [
              "<google.colab._quickchart_helpers.SectionTitle at 0x7dc5f4af3010>"
            ],
            "text/html": [
              "<h4 class=\"colab-quickchart-section-title\">Time series</h4>\n",
              "<style>\n",
              "  .colab-quickchart-section-title {\n",
              "      clear: both;\n",
              "  }\n",
              "</style>"
            ]
          },
          "metadata": {}
        },
        {
          "output_type": "display_data",
          "data": {
            "text/plain": [
              "import numpy as np\n",
              "from google.colab import autoviz\n",
              "df_6689361060121168743 = autoviz.get_df('df_6689361060121168743')\n",
              "\n",
              "def time_series_multiline(df, timelike_colname, value_colname, series_colname, figsize=(2.5, 1.3), mpl_palette_name='Dark2'):\n",
              "  from matplotlib import pyplot as plt\n",
              "  import seaborn as sns\n",
              "  palette = list(sns.palettes.mpl_palette(mpl_palette_name))\n",
              "  def _plot_series(series, series_name, series_index=0):\n",
              "    if value_colname == 'count()':\n",
              "      counted = (series[timelike_colname]\n",
              "                 .value_counts()\n",
              "                 .reset_index(name='counts')\n",
              "                 .rename({'index': timelike_colname}, axis=1)\n",
              "                 .sort_values(timelike_colname, ascending=True))\n",
              "      xs = counted[timelike_colname]\n",
              "      ys = counted['counts']\n",
              "    else:\n",
              "      xs = series[timelike_colname]\n",
              "      ys = series[value_colname]\n",
              "    plt.plot(xs, ys, label=series_name, color=palette[series_index % len(palette)])\n",
              "\n",
              "  fig, ax = plt.subplots(figsize=figsize, layout='constrained')\n",
              "  df = df.sort_values(timelike_colname, ascending=True)\n",
              "  if series_colname:\n",
              "    for i, (series_name, series) in enumerate(df.groupby(series_colname)):\n",
              "      _plot_series(series, series_name, i)\n",
              "    fig.legend(title=series_colname, bbox_to_anchor=(1, 1), loc='upper left')\n",
              "  else:\n",
              "    _plot_series(df, '')\n",
              "  sns.despine(fig=fig, ax=ax)\n",
              "  plt.xlabel(timelike_colname)\n",
              "  plt.ylabel(value_colname)\n",
              "  return autoviz.MplChart.from_current_mpl_state()\n",
              "\n",
              "chart = time_series_multiline(df_6689361060121168743, *['date', 'stars', None], **{})\n",
              "chart"
            ],
            "text/html": [
              "      <div class=\"colab-quickchart-chart-with-code\" id=\"chart-bca6cbef-1922-4a3b-aa16-4bdd51730590\">\n",
              "        <img src=\"data:image/png;base64,iVBORw0KGgoAAAANSUhEUgAAAQUAAACNCAYAAAC+Am+QAAAAOXRFWHRTb2Z0d2FyZQBNYXRwbG90\n",
              "bGliIHZlcnNpb24zLjcuMSwgaHR0cHM6Ly9tYXRwbG90bGliLm9yZy/bCgiHAAAACXBIWXMAAA9h\n",
              "AAAPYQGoP6dpAAAZr0lEQVR4nO3deVxU9d4H8M8sMIAisikwyhACIiIzuHAxEk1FxXtTQkuzG27g\n",
              "Uj5dr/nU01NmXJ/EW4nXLBPczath4pYphUtieg1uiVuKiI6o7IvDPszye/5QpzsKyMAMZwa+79dr\n",
              "Xsmc7TM2fvmd3/md3+ExxhgIIeQhPtcBCCHmhYoCIUQPFQVCiB4qCoQQPVQUCCF6qCgQQvRQUSCE\n",
              "6KGiQAjR0ymKwtq1a7mOQEinYdKi4OXlhf79+0Mmk0EmkyElJaXJ9TZv3gxfX1/069cPcXFxUKlU\n",
              "Bh3n9u3bxohLCEEHtBRSUlKQnZ2N7OxsTJs27Ynlt27dwrJly3D69GncuHEDxcXFSE5ONnUsQkgz\n",
              "hFwH2Lt3LyZNmgQ3NzcAwIIFC7By5Uq88cYbTa6vVCqhVCr13tNoNCbPSfTdq7mPrVfPolalfPrK\n",
              "BBJ7Z8wPHAEej8d1lKcyeVGIiYkBYwwhISFYtWoVXF1d9Zbn5+dDIpHofvby8kJ+fn6z+0tISEB8\n",
              "fLzee6GhocYNTVp0U1GKl9M2oqiuiusoFkXm2gehbt5cx3gqkxaFjIwMeHp6QqVS4f3338fMmTNx\n",
              "5MiRdu3z3XffxZIlS/TeW7ZsWbv2SVrvWmURXvl+E0rra+Dj4IrJ3lKuI5m9tNtXcKWiEL+W3qGi\n",
              "4OnpCQCwsrLC4sWL4efn1+Q6eXl5up/lcrluu6aIRCKIRCK99wQCgZESk5ZcKruHGT9sRqWyDgFO\n",
              "7tg1bi5cbLtzHcvsiQRWuFJRiOzSO1xHaRWTdTTW1tbi/v37up93796N4ODgJ9abMmUKDh06hKKi\n",
              "IjDGsGHDBkyfPt1UsUgb/VKSj2nfb0Slsg5Slz5ImRBHBaGVZC59AADZZZZRFEzWUiguLsaUKVOg\n",
              "0WjAGIO3tzd27NgBAIiNjcWkSZMwadIkeHt7Iz4+HmFhYQCAUaNGYf78+aaKRdrgXNFNzEzfhlp1\n",
              "I0J6e2H72Fmwt7bhOpbFCHLpAx54KKhVoLiuCr3tenAdqUW8zjDz0pIlS5CYmMh1jE4p414u5hzf\n",
              "gQaNCmHu/bB1zEzYWVlzHcvijNm/Bjn3i7FlTAzGeQZwHadFnWJEIzGNY3euYtaxbWjQqPC8uD+2\n",
              "jZ1FBaGNZK4PTyEsoF+BigJp0mH5JcQe/wqNWg0meA7EpjGvwVZoxXUsiyVz6QsAyC67y3GSp+N8\n",
              "8BIxP6l55/HX03ugZQyTn5HiH+Evw4pPV3ja41FRuFB2B1qmBZ9nvr+PzTcZ4cSu65lYnPGgILzs\n",
              "MwSfhU+jgmAE/k5uEAmEUDQ2QF5VznWcFlFRIDpbfzuLt8/sAwNDjH8oPn1uCgR8+ooYgxVfgEAn\n",
              "DwDAeTM/haD/4wQA8OWlU1j28yEAwLyBz+Gj0Mlm3cS1RDLXh/0KZt7ZSH0KXRxjDP+4cByrzx8D\n",
              "ALwZ9Dz+e/A4i7hxx9L83tlIRYGYKcYYVv3yPb649CMA4O3B4/CmdDSnmTqzR5clr5QXoFGjhrXA\n",
              "PP/5Ufuwi2KMYfnP3+oKwvKQP1JBMDEve2c4WNuiUavB1coiruM0i4pCF6RlWrxzdj+2XD0LAFg5\n",
              "PApxA0dwnKrz4/F4FtGvQEWhi1FrNfjr6W+w63om+DweEp+bihh/mo+io1jCzVHmeVJDTEKl1eC/\n",
              "Tn2Nw/JLEPD4+Cx8Gs2H0MGCdS0F870sSS2FLqJBrcK8EztxWH4JVnwBNjw/gwoCB6QPWwo3FKWo\n",
              "amzgOE3TqCh0AfXqRsw9vgPpd65CJBBi85gYREoCuY7VJbna2qNP955gYLhkpoOYqCh0cjUqJWLS\n",
              "t+FUQS5shVbYMXYWRvfpz3WsLu3ReAVzHdlIRaETUyjr8er3m/GvopvobiXCrnFzEebhw3WsLk83\n",
              "iMlMr0BQR2MnVdlQixk/bMGl8ntwsLbFP8fN0V0OI9zSza1gplcgqKXQCZXWV+OltI24VH4PTqJu\n",
              "+CYyjgqCGRnkLAafx0NRXRUKaxVcx3kCFYVOprBWgalHk3Gtsgi9be2xd+I8BDy8O4+Yh25WIvj1\n",
              "7A0AuGCG/QpUFDqRuzWVmHo0CXmKUnh0c8DeifN1Xz5iXsx5EBMVhU7iVlUZoo9swO3qCkjsnZAa\n",
              "OR/P9HDhOhZphsyMBzFRR2MncP1+MV5J24Ti+mr0c3DF1+Nj4d7NgetYpAXBZjw9m/kkIW1ypbwA\n",
              "U48ko7i+Gv6ObtgbOY8KggXwc+wNG4EVqlVK3FSUcR1HDxUFC5ZdegcvpyWjQlmLQc5ifDMhDq62\n",
              "9lzHIq1gxRdgkPODDmBz61egomChMovlmP79JigaGzDE1RNfj4+Fo003rmMRAzzqVzhvZv0KBheF\n",
              "pKQkKBQPrq2+8cYbGDp0KDIyMowejDTvTMENvPrDZtSolBju5o1d4+fCQWTLdSxiIHOdns3govDF\n",
              "F1/AwcEBZ86cweXLl/HRRx9h6dKlpshGmnDibg5ijm1DvVqFkR6+2BExC92sRE/fkJidRyMbf6so\n",
              "hFKj5jjN7wwuCkLhgwsWJ06cQExMDMaPHw+12nw+UGd29PZlzD2+A0qNGuP6DsCWsTNhK6THuFkq\n",
              "z+5OcBTZQaXV4LeKQq7j6BhcFPh8PlJSUpCSkoKxY8cCABobG40ejOg7ePMCFpzcBZVWgz95DULS\n",
              "6D9DZKYTf5LW4fF4ZnlzVJtOH3bv3o24uDhIJBJcv34do0fThJ+mtCf331h06mtomBZT+gXj85HT\n",
              "6alNnYQ53hxl0K8ajUaDffv24cCBA7r3/Pz88Nlnnxk7F3lox7Vz+N9/HQAAvOoXgoRno8xqoAtp\n",
              "H3N88KxB3y6BQICTJ0+aKgt5zMYrp3UFYc6AZ7Hq2RepIHQyj1oKeYpSKJT1HKd5wOBv2MSJE/HR\n",
              "Rx+hoKAAVVVVuldLtm7dCh6Pp9fCeEQul0MgEEAmk+leeXl5hsbqdD67cALxmd8BAN4YNArxf3iB\n",
              "ntrUCTnbdIdndycAwMVy82gtGNxT9be//Q0AsGzZMvB4PDDGwOPxoNFomlxfLpdj48aNCA1tfhpx\n",
              "e3t7ZGdnGxqlU2KM4ZNff8BnFx+0yN4KHovF0jFUEDoxmWsf5NdUILv0LkZ4+HIdx/CWglar1b00\n",
              "Go3uv82tGxsbi3Xr1kEkomvpT8MYw4qs73QF4b2hkfirbCwVhE7O3AYxmfSaVmJiIsLCwjBkyJAW\n",
              "16utrcWwYcOg0WgQFRWF9957DwJB073rSqUSSqVS773mipIl0TIt3j93CDuunQMArPjDJMwOeJbj\n",
              "VKQjBOuGO9/Rtby5ZHBLITc3F5GRkfDw8ICTk5Pu9bjLly8jNTUV77//fov7c3d3x71795CVlYVj\n",
              "x47h9OnTWL16dbPrJyQkwMHBQe+VmZlp6McwKxqtFkt/SsWOa+fAAw+fhE2hgtCFBDp7QMDjo6S+\n",
              "GoV1LffPdQSDi0JcXBxmzZoFR0dHnDp1ClOnTm1ymPPp06chl8vh6+sLLy8vnDt3DvPmzcOXX36p\n",
              "t55IJEKvXr0AAE5OTpgzZw5Onz7d7PHfffddKBQKvVdISIihH8NsqLQavJmRgj03foGAx8fa8Jfx\n",
              "it8wrmORDmQrtIa/44MZssxhEJPBRaGqqgrTpk0Dn8/HoEGDkJSU1ORVhYULF6KwsBByuRxyuRyh\n",
              "oaFITk7GwoUL9dYrKSmBSqUC8ODUYN++fQgODm72+CKRCD169NB7NXeqYe6UGjUWntyFg7cuQMjj\n",
              "Y/2oVxDdr/nPTjovc+pXMLgoWFlZAXhwxUAul0OpVKKszLBJIj744ANs2LABAPDTTz8hODgYUqkU\n",
              "gwcPhpubG9577z1DY1mcerUKsce/Qlr+FVjzBdg05jX80WsQ17EIR8zpadQGdzSGh4ejvLwcixYt\n",
              "wpAhQ2BtbY1p06Y9dbsff/xR9+dHlzUBIDo6GtHR0YbGsGh1qkbMPr4dZwrzYCOwwpYxMQgXc38p\n",
              "inDnUUvhYvk9aLRaCPjcDVIzuCh88sknAIAZM2ZgxIgRUCgUCAyk5xK2VnVjA2LStyKr5Da6Ca2x\n",
              "PWIWQt28uY5FOObXsxfshNaoUSmRV1XK6SzcBpejqKgo3Z/79u2LwMBAvfdI8yqVdZj+/SZkldxG\n",
              "D2sb7BofSwWBAAAEfD4GOYsBcH8KYXBRyM/Pf+I9Gpb8dOUNNZiWthEXyu7CUWSHlPFxGNLLk+tY\n",
              "xIzo+hU4vjmq1acPSUlJ2LBhA65fv47Bgwfr3lcoFAgICDBJuM6iuK4K09M2IVdRAlfb7tg9Phb+\n",
              "jm5cxyJmJvjRA2I4bim0uihMmDAB/fv3x8KFC7FmzRoAQGVlJVxcXDB8+HCTBbR092ruY1raRsir\n",
              "y+Fu54CUCbHwdnDlOhYxQ49aCr9VFKJBrYKN0IqTHK0uChKJBBKJBJ6enpBKpRAKhboOxpiYGL0r\n",
              "CuSB29XlmJa2EXdr7qNvd0ekTIiDp/2Toz8JAQBxt55wsemOsoYaXKko5Oz00uA+hZKSEvTs2RNH\n",
              "jhzB5MmTkZubi/3795sim0W7cb8E0UeScLfmPp7p4YLUyPlUEEiLeDyeWczEZHBReDT6MCMjAxER\n",
              "EbCystJN5koeuFpRhKlHk1FcV4X+PXsjNXI+PLr35DoWsQDmMGejwUUhMDAQkZGROHz4MEaPHo26\n",
              "ujpT5LJYF8vu4qW0ZJQ11GCgkzu+iZyHXnb01CbSOuZwBcLgX/Hbtm1DWloapFIp7OzscO/ePSQk\n",
              "JJgim8X5peQ2XkvfiqrGBshc+mLnuNnoKbLjOhaxINKHVyBuVZWhUlkHRw6+PwYXBRsbG73BSmKx\n",
              "GGKx2JiZLNLZwjzMOrYddepG/KG3F7aNnQV7axuuYxEL4yiyg5e9M+TV5bhYdhcjxX4dnoFmATWC\n",
              "U/eu47X0rahTN2KEhw++iphDBYG0Gdc3R1FRaKf0/N8w+9h2KDVqjOnjj61jZsLOip7aRNpO9mgQ\n",
              "E0f9CnTZoB0O37qIRae+hpppMVESiM9HToc1PbWJtFOw6+9zK3AxPRu1FNpo741f8fqp3VAzLaK8\n",
              "ZVg/6hUqCMQoApw8IOTxUVpfg4JaRYcfn4pCG/wzJxN/Pf0NtIxhuu9QrB3xMoT0GDdiJLZCKwxw\n",
              "cgcAnOdgEBMVBQNt/u0M3jm7DwwMM/2H4+OwaE4nxCCdk4zDm6Po22yALy7+iOU/fwsAmB8Yjv8L\n",
              "nUSPcSMmIXPlbs5GOgluBcYYErOPYU32cQDAYtkYvEUPaSEmpJuerazjp2ejX3NPwRjDyn+n6QrC\n",
              "/wwZj6XBEVQQiEn5OLiim9AadepG5CpKOvTYVBRaoGVaLPv5EL68fAoA8GHIn7Ao6HmOU5GuQMDn\n",
              "I4ijfgUqCs3QaLV45+x+bLv6L/DAw6pnX0TswOe4jkW6kN+fBdGxg5ioT6EJaq0GS37ai31558Hn\n",
              "8ZD43FRM9Wn5eZiEGJtuboUObilQUXhMo0aNRae+xpHblyHk8bFu5HS88EwQ17FIFxT8sKVwtbII\n",
              "9WoVbDtoejY6ffgPDWoV5p3ciSO3L8OaL0DS869SQSCcce/mgF629tAwLa6UF3TYcakoPFSvbsSc\n",
              "4ztw7M41iARCbBk7E+MlA7mORbowHo/3HzdHddwpBBUFADUqJf78w1ZkFOTCTmiNHRGzMYqD+9gJ\n",
              "edyjQUwdOdy5y/cpKJT1eC19K34tzYe9lQhfRczB0N4SrmMRAuA/52zsuCsQXbqlUNFQi2lpG/Fr\n",
              "aT4crG3x9YQ4KgjErAS5PJjV7HZ1OSobajvkmF22KJTUVeOlo8m4XFEAZ5tu+CZynm5+PELMRU+R\n",
              "Hbx7uADouPEKXbIoFNQqMPVoEnLuF6O3XQ+kRs5HwMNbVQkxNx19c1SXKwp3qisw9UgSblaVQdyt\n",
              "J1Ij58OnZy+uYxHSrN9vo+5ELYWtW7eCx+PhwIEDTS4/fPgw/P394evri+joaFRVVZkkx01FGaKP\n",
              "JCG/pgISe2fsm7gAXj2cTXIsQoxF9tj0bKZm8qIgl8uxceNGhIaGNrm8pqYGc+fOxYEDB5CbmwsP\n",
              "Dw+sWLHC6DlyKosx9WgSCusU8HFwRerE+RDTU5uIBQhwdIcVX4Dyhlrcrak0+fFMWhS0Wi1iY2Ox\n",
              "bt06iESiJtc5evQogoOD4e/vDwB4/fXXsXv3bqPmuFJegJeOJqOkvhoDHN2wN3I+3Ox6GPUYhJiK\n",
              "jdBK1+f1zY1fkXEvt8nX7epyoxzPpOMUEhMTERYWhiFDmr+ZKD8/HxLJ75cBvby8UFhYCLVa3eQz\n",
              "KpVKJZRKpd57Go2m2f3fVJTi5bRkKBobIHXpg53j5nDy1B1C2kPm0gcXyu4iMftYs+ssDY7AYtmY\n",
              "dh/LZEXh8uXLSE1NRUZGhlH3m5CQgPj4eL33mjs1AQBPeyeEe/ihsE6BHRGz0YMe0kIs0J/7h+Jq\n",
              "ZRFqVMpm13Gx7W6cgzETWb9+PXNzc2MSiYRJJBImEomYq6srW79+vd56e/bsYePHj9f9fOXKFSYW\n",
              "i5vdb0NDA1MoFHqvN998s8UsjRo1q21Utu8DEdJF8BjrgO5MAKNGjcLixYv1nkMJANXV1ejXrx8y\n",
              "MjLg7++PRYsWwcbGBp9++mmr971kyRIkJiYaOTEhXRMn9z588MEH8PDwwIIFC2Bvb49NmzYhKioK\n",
              "arUagYGB2L59OxexCCEAOqylYErR0dHw8vJ66noajQaZmZkICQmBQGB+D28x53yUre3MKZ9EIsFf\n",
              "/vKXFtfpFEWhtaqqquDg4ACFQoEePczvkqQ556NsbWfu+R7X5YY5E0JaRkWBEKKHigIhRE+XKgoi\n",
              "kQjLly9vdsg118w5H2VrO3PP97gu1dFICHm6LtVSIIQ8HRUFQogeKgqEED0WXRQaGhoQFRUFPz8/\n",
              "SKVSRERE4MaNGwCAkpISTJgwAb6+vggMDNS7W7OlZZmZmQgNDUVwcDAGDBiAjz/+2GyyZWVlISws\n",
              "DFKpFDKZDCdOnGhTtvbkW7lyJfr37w8+n//ETFotbcd1tpaWcZ1t9uzZuv2FhYUhKyurzfmMgrt7\n",
              "sdqvvr6efffdd0yr1TLGGFu3bh0bOXIkY4yx2bNns+XLlzPGGMvMzGRisZg1NjY+dZlUKmUHDx5k\n",
              "jDFWXl7OXF1d2ZUrVzjPptVqmVgsZunp6YwxxnJycljfvn1ZXV2dwdnak+/nn39meXl5bOTIkWz/\n",
              "/v16+2xpO66ztbSM62wHDx5kKpWKMcbYt99+yyQSSZvzGYNFF4XHZWVl6f5Cu3XrxgoLC3XLhg0b\n",
              "pvsH1dIymUzGtm/fzhhjLD8/n4nFYr11ucpWWlrKrK2t9fY5aNAglpqa2u5shuR7pKkvd2u24ypb\n",
              "a5ZxnY0xxkpLS5lQKNQVCS5Y9OnD49auXYvJkyejvLwcKpUKbm5uumVeXl7Iz89vcRnwYJLZZcuW\n",
              "wdPTE35+fli5cqXeulxlc3Fxgbu7O/bs2QPgwalETk4O5HJ5u7O1Nl9L2rpdR2QzJWNnW7t2LSZO\n",
              "nNjkrGMdpdM8Nm7lypW4ceMGjh8/jvr6+jbvZ9WqVUhISMCMGTNw8+ZNjBw5EkOHDkVAQADn2Q4e\n",
              "PIh33nkHCQkJGDhwIJ577jmjfHmMlc8UulK2nTt3Ys+ePUafrcxQnaKl8Omnn2Lfvn04evQo7Ozs\n",
              "4OzsDKFQiKKiIt06crkcnp6eLS4rKyvD/v37MWPGDACAt7c3QkNDcebMGc6zAYBUKkVaWhrOnz+P\n",
              "nTt3oqCgAAMHtu/J2Ibka0lbt+uIbKZg7GwpKSmIj49Heno6evfubarYrcPZiYuRrF69mg0ePJhV\n",
              "VFTovT9z5ky9Th8PDw9dp09zy9RqNXN0dGTHjx9njD04v+vbty87e/Ys59kYY6ygoEC3j+TkZDZk\n",
              "yBBdh1dH5XukqXPj1mzHVbbWLOMqW0pKCvPx8WFyubxduYzFoovCnTt3GADm7e3NpFIpk0qlLCQk\n",
              "hDHGWFFREYuIiGA+Pj4sICCAnThxQrddS8vS09PZ4MGDWVBQEBswYABbvXq12WT78MMPma+vL/Px\n",
              "8WEvvPACy8/Pb1O29uRbsWIFE4vFzNramjk7OzOxWMxKSkqeuh3X2VpaxnU2oVDI+vTpo9ufVCpl\n",
              "ZWVlbfq7Mwa694EQoqdT9CkQQoyHigIhRA8VBUKIHioKpM1cXFyeOnjqww8/RENDQ8cEIkZBRYGY\n",
              "VHx8PBUFC0NFgbTaoUOHMGDAAAQFBeHtt9/Wvb906VIMGzYMMpkM4eHhyMnJAQAsWLAAADBixAjI\n",
              "ZDKUlJSguroacXFxCAkJQVBQEObNm4fGxkZOPg9pBmcXQ4lFKS4uZk5OTro7RpOSkhgAduvWLb3r\n",
              "/bt379Z7NigAVllZqfs5Li5Od8OZVqtlc+fOZR9//HHHfAjSKjROgbTKoUOHsGbNGpw8eRLAg6ce\n",
              "2dnZIScnB2fPnsW6detQXV0NrVaLiooK3XBfHo+HyspK9OzZEwDQq1cv9O7dW/ekpPr6eowaNQpJ\n",
              "SUmcfC7ypE5zQxTpWDweDwCQn5+PRYsWISsrC/369cPFixcRHh7e7HaMMaSmpsLPz6+johIDUZ8C\n",
              "aZXhw4fj4sWLuHbtGgBgy5YtaGxshKOjI6ysrODu7g7GGD7//HO97ezt7aFQKHQ/R0VF4e9//zvU\n",
              "ajUAoLKyUjdzETEPVBRIq7i6umLLli148cUXIZVKkZubC2dnZ9jb22P69OkYOHAghg0b9sRdgW+9\n",
              "9RYiIiJ0HY1r1qyBra0tZDIZgoKCMGbMGKPNCUGMg/oUCCF6qKVACNFDRYEQooeKAiFEDxUFQoge\n",
              "KgqEED1UFAgheqgoEEL0UFEghOihokAI0UNFgRCi5/8B4QpJVQrjr1gAAAAASUVORK5CYII=\n",
              "\">\n",
              "        \n",
              "      </div>\n",
              "      <script></script>\n",
              "      <script type=\"text/javascript\">\n",
              "        (() => {\n",
              "          const chartElement = document.getElementById(\"chart-bca6cbef-1922-4a3b-aa16-4bdd51730590\");\n",
              "          async function getCodeForChartHandler(event) {\n",
              "            const chartCodeResponse =  await google.colab.kernel.invokeFunction(\n",
              "                'getCodeForChart', [\"chart-bca6cbef-1922-4a3b-aa16-4bdd51730590\"], {});\n",
              "            const responseJson = chartCodeResponse.data['application/json'];\n",
              "            await google.colab.notebook.addCell(responseJson.code, 'code');\n",
              "          }\n",
              "          chartElement.onclick = getCodeForChartHandler;\n",
              "        })();\n",
              "      </script>\n",
              "      <style>\n",
              "        .colab-quickchart-chart-with-code  {\n",
              "            display: block;\n",
              "            float: left;\n",
              "            border: 1px solid transparent;\n",
              "        }\n",
              "\n",
              "        .colab-quickchart-chart-with-code:hover {\n",
              "            cursor: pointer;\n",
              "            border: 1px solid #aaa;\n",
              "        }\n",
              "      </style>"
            ]
          },
          "metadata": {}
        },
        {
          "output_type": "display_data",
          "data": {
            "text/plain": [
              "import numpy as np\n",
              "from google.colab import autoviz\n",
              "df_7257181746058129575 = autoviz.get_df('df_7257181746058129575')\n",
              "\n",
              "def time_series_multiline(df, timelike_colname, value_colname, series_colname, figsize=(2.5, 1.3), mpl_palette_name='Dark2'):\n",
              "  from matplotlib import pyplot as plt\n",
              "  import seaborn as sns\n",
              "  palette = list(sns.palettes.mpl_palette(mpl_palette_name))\n",
              "  def _plot_series(series, series_name, series_index=0):\n",
              "    if value_colname == 'count()':\n",
              "      counted = (series[timelike_colname]\n",
              "                 .value_counts()\n",
              "                 .reset_index(name='counts')\n",
              "                 .rename({'index': timelike_colname}, axis=1)\n",
              "                 .sort_values(timelike_colname, ascending=True))\n",
              "      xs = counted[timelike_colname]\n",
              "      ys = counted['counts']\n",
              "    else:\n",
              "      xs = series[timelike_colname]\n",
              "      ys = series[value_colname]\n",
              "    plt.plot(xs, ys, label=series_name, color=palette[series_index % len(palette)])\n",
              "\n",
              "  fig, ax = plt.subplots(figsize=figsize, layout='constrained')\n",
              "  df = df.sort_values(timelike_colname, ascending=True)\n",
              "  if series_colname:\n",
              "    for i, (series_name, series) in enumerate(df.groupby(series_colname)):\n",
              "      _plot_series(series, series_name, i)\n",
              "    fig.legend(title=series_colname, bbox_to_anchor=(1, 1), loc='upper left')\n",
              "  else:\n",
              "    _plot_series(df, '')\n",
              "  sns.despine(fig=fig, ax=ax)\n",
              "  plt.xlabel(timelike_colname)\n",
              "  plt.ylabel(value_colname)\n",
              "  return autoviz.MplChart.from_current_mpl_state()\n",
              "\n",
              "chart = time_series_multiline(df_7257181746058129575, *['date', 'cool', None], **{})\n",
              "chart"
            ],
            "text/html": [
              "      <div class=\"colab-quickchart-chart-with-code\" id=\"chart-5afccb67-6381-4d61-9e53-402686854f23\">\n",
              "        <img src=\"data:image/png;base64,iVBORw0KGgoAAAANSUhEUgAAAQUAAACNCAYAAAC+Am+QAAAAOXRFWHRTb2Z0d2FyZQBNYXRwbG90\n",
              "bGliIHZlcnNpb24zLjcuMSwgaHR0cHM6Ly9tYXRwbG90bGliLm9yZy/bCgiHAAAACXBIWXMAAA9h\n",
              "AAAPYQGoP6dpAAAZj0lEQVR4nO3de1yUdb4H8M8MAwPI/SoOAiIMIsoAAqKo6LqsxWZeugmuq5ZS\n",
              "nW1Pm/TKateT7u4LzMoO2W5hm24bSZpo2mnVUCjzkoxJ3tIZQAZQYLjfBIbL/M4f6FOzIHKZh7nw\n",
              "fb9e/DHP9Wvhx3l+t0fAGGMghJA7hIYugBBiXCgUCCE6KBQIITooFAghOigUCCE6KBQIITooFAgh\n",
              "OigUCCE6jDYU0tPTDV0CIWOS0YZCaWmpoUsgZEwy2lAghBgGhQIZ0I2mWrx76Wucrbph6FLIKBEZ\n",
              "ugBifDq6u/Dv0ivIUsq5MPC0scf3K/5o4MrIaKBQIJwf6yuRpZTjQHEBmjrbAQBCgQBaxqBub0Ft\n",
              "eyvcbOwMXCXhG4XCGNfapcGhGxeRpZTjh9pybrtknBNWSCPxREAkHju6E6Ut9VA0qikUxgAKhTGI\n",
              "MYaC2nLsUeTjcMkltHV3AgBEAiEW+YYgURqFuV4BsBD2NjlJnTxR2lIPZYMasV6TDVk6GQUUCmNI\n",
              "g6YNB4oLsEeRD0Wjmtvu7+CGJGk0Hg2I6PebgNTJEznl16D82TnEfFEomDkt0+JsVQn2KPNxtPQq\n",
              "ND3dAACxhQgP+U1HkjQa0Z5+EAgE97yG1NkTACgUxggKBTOlbmvGZ0UXkKWUo7Sljts+1cULSdJo\n",
              "LPMPg6PYZlDXCnLyAAAoGqvBGBswQIjpo1AwIz1aLb6+pcQeZT6Ol19HD9MCAOwsxVjqH4YkaRSm\n",
              "u0qG/Jd6sqM7BBCgUdOG2o5WuNvY81E+MRIUCmagvKUenxaex97C86hqa+a2R3r4IlEahcV+obC1\n",
              "tBr29W1EVvCxd0FpSx2UDWoKBTPHayhoNBqkpKTg2LFjsLa2hkwmQ2ZmJp+3HDM6e7rxVdmPyFLK\n",
              "cbKiCAy9i3I7i23xaEAEVgRGIehOW4A+BDl5oLSlDopGNWInBOjtusT48BoKL7/8MgQCAZRKJQQC\n",
              "Aaqqqvi83ZhQ1FiNLKUcnxVdQL3mNrd97oQAJAZGYZFvCMQW+v/fKnX2xFfl16BsrNb7tYlx4S0U\n",
              "bt++jQ8//BA3b97knmHHjx/f77EajQYajUZnW09PD1+lmZz27k78X8llZBXKka9Wcds9bezxRGAk\n",
              "npBGwtfeldcapE7UAzFW8BYKxcXFcHFxQWpqKo4fPw4bGxts3rwZCxcu7HNsWloatmzZorMtJiaG\n",
              "r9JMxpW6W9ijlONgcQFaunpDUygQYKH3FCRJo7DAOwgiocWo1BJ0JxQUDWrqgTBzvIVCd3c3SktL\n",
              "MXXqVGzduhUFBQWIj4/H1atX4emp+6z7yiuvYMOGDTrbNm3axFdpRq25swOHbvyAPUo5Ltfd4rb7\n",
              "2LlghTQSjwXMgNc4x1Gvy9/RHUKBAE2d7ahpb4WHLTU2miveQsHHxwdCoRArV64EAISHh2PSpEm4\n",
              "fPlyn1AQi8UQi8U62ywsRudfQGPAGMP56lJkKeX4QnUJ7d1dAAAroQUeuDPsONZrMoQCw810txFZ\n",
              "wsfOBaqWOigb1RQKZoy3UHBzc8PChQtx7NgxJCQkoKSkBCUlJQgODubrlianrqMV2UUFyFLKUdj0\n",
              "UwNeoKMHkoKi8MjkCLhYjzNghbqCnD2hutMDMYd6IMwWr70P77//Pp566ils3LgRQqEQGRkZkEgk\n",
              "fN7S6GmZFqcqipGllONo2VV0aXsbVG1Elnh4UigSA6Mxw8PHKJ/ZpU6eOFb2I5QN1NhozngNBX9/\n",
              "f+Tl5fF5C5NRebsJ+wrP49PC8yhvbeC2h7pKkCSNxhJ/GeytrA1Y4f1RD8TYQCMaedSt7cGJ8uvI\n",
              "KpQj96YCWtY7wMjByhrL/MORKI3ENFfT+eYU5Nw7B0JJcyDMGoUCD1TNdfi0UI7PCr+Hur2F2z7T\n",
              "0w+J0mj82m8abETDH3ZsKP4OP/VAVLe3wNPWwdAlER5QKOhJR3cXjpX9iD3KfJyuLOa2u1qPw2MB\n",
              "M5AojcJkR3cDVjhy1iJL+Nq7oqS5FspGNYWCmaJQGCFFgxp7lPnILi5Ao6YNACCAAPMkgUiSRiF+\n",
              "YjCseBh2bChSJw+UNNdC0aDG3AmBhi6H8MB8fltH0e0uDb4ouYQ9Sjku1JRx271sHfGENBIrAiPh\n",
              "bedswAr5E3S3B4LmQJgtCoVBYozhYu1NZCnl+PzGD7j9s3UNfzkxGInSKMyXSLl1Dc0VrcJk/igU\n",
              "7qNR04aDxT8gq1COH+srue1+9q5IlEbhsYAZY2p0391uycJGmgNhrigU+sEYw3fqEmQp5fhSdVln\n",
              "XcME32lIlEZh1nj/MfkXYrKjOywEQjR1dkDd3oLx1NhodigUfqamvYVb17CkuZbbPsV5PJKkUVg2\n",
              "ORzOYlsDVmh4YgsR/BxcUdxUA2WDmkLBDI35UOjRavFNRSGylPnIKbuG7jvrGtqKrLDEX4YkaTTC\n",
              "3LzH5LeCewl09OgNhUY15kmoB8LcjNlQuNXaiE8L5dhbeB4Vt5u47eHuE5EkjcbiSaGwsxQPcIWx\n",
              "K8jZE0fLruq8O4KYjzEVCl3aHuSUXcMeZT6+uVXIrWvoaGWDRyaHI1EajWCX/leHIj/h5kDQxCiz\n",
              "NCZC4UZTDfYo5dhfdAG1Ha3c9tnj/ZEojcaDviGwFlkasELTwvVANNEcCHNktqHQfud16nsU+Tin\n",
              "LuG2u9vY4fGASDwRGAl/RzcDVmi6/B3dYCEQormzA1VtzQZZCYrwZ1RCYffu3XjyySdx8OBBLF26\n",
              "lNd7/Vhfwa1r2NTZAaB3XcMFkiAkSqOwcOIUWI7SuobmSmwhwiQHVxTdaWykUDAvvIeCSqXCBx98\n",
              "wOtCrC2dHThU0vs69Yu1N7nt3nZOWBEYhccDZmCCnRNv9x+LAp08uFCIk0gNXQ7Ro0GHwrJlywZ8\n",
              "djxw4ECfbVqtFuvWrcOOHTuQkpIyvArvgTGGCzVl2KOU44ufvU7dUmiBX/lMRZI0CnMnBBh0XUNz\n",
              "JnXyxJHSq1BQY6PZGXQoDOdr//bt2xEbG4sZM2YMeNxw3vvwnboEjx3ZyX2e7OiOJGnvuob9vU6d\n",
              "6FcQtwoTTYwyN4MOhdWrV+t8ZndWEbrXt4crV64gOzsbJ0+evO+1h/Peh5mefgh09IDMzRtJQdGI\n",
              "8vClVvBRdHdiFM2BMD9D/m5dWVmJhIQE2NrawtbWFg899BAqKyv7HPftt99CpVIhMDAQfn5++O67\n",
              "75CcnIz33nuvz7GvvPIKmpqadH6io6MHLlwgxPGlf8D/znsc0Z5+9Es5yvwd3CASCNHSpUHlz15q\n",
              "S0zfkEMhOTkZc+bMQWVlJSorKzFnzhwkJyf3Oe7ZZ59FZWUlVCoVVCoVYmJisHPnTjz77LN9jhWL\n",
              "xXBwcND5Gcx7H8x9mrIxs7IQYZJDb5cuTaM2L0P+W1VeXo5XX30VTk5OcHJywssvv4zy8nI+aiNG\n",
              "jltbgRobzcqQuyQZY6iqquJeFltVVcW1Lwzk66+/HnJxxLgFOvWu7kxzIMzLkEPhxRdfRHh4OB58\n",
              "8EEAwNGjR/HGG2/ovTBi/ILoPRBmacihsGrVKoSHh3P/8qekpCAkJETfdRET8NMqTDQHwpwMa0Sj\n",
              "v78/mpt7W5wnTZqk14KI6Zjk4AqRQIjWLg0qbzfRqFEzMeRQOHPmDB555BGuTUGtViM7OxuzZs3S\n",
              "e3HEuFlZiODv6AZlYzUUjWoKBTMx5N6HDRs2YP/+/SgoKEBBQQH279+PF154gY/aiAmg90uanyGH\n",
              "Qnt7O2JjY7nPs2fPRkdHh16LIqbjbg8EhYL5GHIo2NnZ4fjx49znEydOYNy4cXotipiOuz0Qigaa\n",
              "A2Euhtym8M4772D58uXciEOtVtvvDEkyNtAcCPMz5FCoqKjA+fPnoVb3fl309PREfn6+3gsjpmGS\n",
              "gxsshRa43d2JittNkFBjo8kb8uPDpk2b4O7ujmnTpmHatGlwc3PDpk2b+KiNmABLoQX878yBoJGN\n",
              "5mHEM4oEAsF91z4g5o1WdzYvQw4Fe3t7nDlzhvt8+vRp2NuPnXcpkr6kztQDYU6G3Kawbds2LFu2\n",
              "DFOmTAEAFBYW4uDBg3ovjJiOwLs9EBQKZmHIoTBr1ixcu3YNZ8+eBdA7TsHJyUnfdRETEkRzIMzK\n",
              "sOY+ODs7IyEhQd+1EBPl5+AKS6EF2ro7cet2I7ztnA1dEhkB3pYu6ujowNKlSyGVSiGTyRAfH4+i\n",
              "oiK+bkcMSKcHghobTR6v65klJydDoVDg4sWLWLJkCdatW8fn7YgBBTnTHAhzwVsoWFtbIyEhgXu+\n",
              "jImJgUql6vdYjUaD5uZmnR/q5jQthpoYdbz8Gp7O+wTFTTWjel9zNmorn6anp2PJkiX97ktLS4Oj\n",
              "o6POD42SNC0/TYwavTkQF2rK8HTeJ/hSdRkrv/oQalpVWi9GJRRSU1NRVFSEtLS0fvcPZ4l3Ylx+\n",
              "3gOhZVre76dua8b63ExoerohFAhws7URa45/hNtdmvufTAbEeyi8+eabOHDgAI4cOQJbW9t+jxnu\n",
              "Eu/EePg5uMLqbg9EayOv99L0dGN9bibUbc0IcvLEkcW/h4t4HC7X3cIzeXvQraVHz5HgNRS2b9+O\n",
              "rKws5OTk0FgGMycSWsDf0R0Av48QjDG8evYgLtSUwdHKGv9YuAohrhPwz/jVsLawRN4tBV45+/mg\n",
              "Vhgn/eMtFG7evImUlBQ0NjZiwYIFCAsLw8yZM/m6HTECQaMwsnH3tTPYW/g9hAIB/j4/iXshTYS7\n",
              "D/4WtwJCgQBZSjneuZjLWw3mjrdX0Xt7e1NajzHSu42NPI1VOF1ZjC35XwIA/hj5IOIkUp39i3xD\n",
              "8OeZD+NP3x3CGwU5kNg54dGAgV9uTPqi964RvZHyOFahrKUez+R9gh6mxfLJ4UgOmdvvcWuCZ+GZ\n",
              "afMAAC+eysapChowN1QUCkRvuPdANOm3B6KtqxNPnfgXGjRtkLl54/XZywecX/Fq5ANYMkmGbqbF\n",
              "+tyPca2+Sm+1jAUUCkRvfO1dYCW0QHt3F27qqQeCMYYXTn2Gaw1VcLexwwe/WAUbkeWA5wgFQmyf\n",
              "+xhmek5CS5cGq3J2oeJ2k17qGQsoFIjeiIQWmMz1QOjnEWLHpTx8qboMS6EFdi74DSaMcxzUeWIL\n",
              "ET5cuAqBjh6oamvGb3N2o7mTVh0fDAoFold32xX0MTEqp+xHvHEhBwDw15gliPL0G9L5TmJbfPyr\n",
              "tfCwscf1hiok52ais6d7xHWZOwoFold3uyULaspHdJ3Cxmr8/uReMDCsnhKDlUHDG+HqbeeMj365\n",
              "BrYiK5yqLMJLpw9Qr9h9UCgQvZo7IRAAcLTsKo6WXh3WNZo07XjyxL/Q2qXBTM9J2Dxz8Yhqmu4m\n",
              "QcaClbAQCLG/+ALeLMgZ0fXMHYUC0atw94lcl2DKqf1DHvLco9Xid99koaS5FpJxTshYsBKWwpEP\n",
              "eV/gHYSts5cBANIv5uITBU24uxcKBaJ3L0X8CmFuE9HU2Y7nvska0lyErd8fw9e3lLC2sMSHC1fB\n",
              "zcZOb3UlSqPwvOwXAIBXz36O3JsKvV3bnFAoEL2zshDhb/NXwN5SDHl1Kd7+4cSgzvv8xg9478o3\n",
              "AIC35jyKaa4Svdf2Yng8Hp0cgR6mxTN5n+BS7U2938PUUSgQXvjau+L12csBAO9czMPp+4wsvFR7\n",
              "Eymn9gMA/mt6HJb4y3ipSyAQYFvscsydEIC27k6sPv5PlLfU83IvU0WhQHjzsL8MidIoMDD898m9\n",
              "qOto7fe42vZWrMv9GJqebiyQBGFjxCJe67KyECFjwW8wxXk8atpbsSpnNxo0bbze05RQKBBe/Xnm\n",
              "YgQ6ekDd3oI/nPysz/Dnzp5uPJ2XiYrbTfB3cMO7cStgIeT/19LByhr/il+L8bYOKGqqwboTvaFE\n",
              "KBQIz2xEVvj7/CSILUTIu6XAP66e1tn/2rkvcE6tgr2lGLsW/haOYptRq23COEd8HP8k7C3FOKcu\n",
              "wQvf7huVVaOMHa+hUFhYiNmzZ0MqlSIqKgpXrw6v35qYtmCX8dgS3TvWIO37o/jhzsCmzOvn8LHi\n",
              "HAQQYEfcCgTcmXo92rV98ItVsBRa4HDJJaSePzrqNRgbXkPh6aefRnJyMpRKJTZu3Ig1a9bweTti\n",
              "xFYGRePXftPRpe3B777Jwony6/jTd4cA9HZh/nJisMFqmzMhAG/EPgIAeP/KSfzz2lmD1WIMBIyn\n",
              "MZ/V1dUICAhAfX09RCIRGGPw8vLCqVOnEBAQcN/zN2zYgO3bt/NRGjGQJk07Fh1O15lB+ZDfdLw3\n",
              "P8koXjX3zsVcbLvwFQQQ4K8xD3OrOpmKuRMC9PLfkbeVl8rLy+Hl5QWRqPcWAoEAPj4+KCsr6xMK\n",
              "Go0GGo3uKrz03gfz4yi2wd/iErH83xnoYVpMdfHC9jmPGUUgAMDvQxfgZmsj9ijz8cc732JMSdma\n",
              "VAhgxKEwFGlpadiyZYvOtpiYGANVQ/g0w8MX6fMex79VV/A/0b+GraWVoUviCAQCpM5agnGWVjhd\n",
              "WWzocgzGKB4f+vumsGnTJqSnp/NRGiFkALw1NHp4eCAiIgKZmZkAgOzsbHh7e/fbnkDvfSDEePD6\n",
              "+JCRkYE1a9YgNTUVDg4O2L17N5+3I4ToAW+PDyO1fPly+Pn5DerYnp4e5OfnIzo62qi/YZhCnaZQ\n",
              "I2AadRpjjb6+vnj++ecHPMZoQ2Eompub4ejoiKamJjg4OBi6nHsyhTpNoUbANOo0hRr7Q8OcCSE6\n",
              "KBQIITooFAghOswiFMRiMV577TWIxWJDlzIgU6jTFGoETKNOU6ixP2bR0EgI0R+z+KZACNEfCgVC\n",
              "iA4KBUKIDqMMhY6ODixduhRSqRQymQzx8fEoKupdDbi6uhoPPPAAAgMDMW3aNJw8eZI7b6B9+fn5\n",
              "iImJQXh4OIKDg7Ft2zajq1EulyM2NhYymQxhYWHIzc0dUY0jqTM1NRVBQUEQCoX4/PPPda450HnG\n",
              "UuNA+4ypzrVr13LXi42NhVwu10utI8KMUHt7O/vyyy+ZVqtljDG2Y8cOFhcXxxhjbO3atey1115j\n",
              "jDGWn5/PJBIJ6+zsvO8+mUzGDh06xBhjrK6ujrm7u7OrV68aTY1arZZJJBKWk5PDGGNMoVCwiRMn\n",
              "sra2tmHXOJI6z507x4qLi1lcXBw7ePCgzjUHOs9YahxonzHVeejQIdbV1cUYY+yLL75gvr6+eql1\n",
              "JIwyFP6TXC7n/mONGzeOVVZWcvuioqK4v0gD7QsLC2MfffQRY4yxsrIyJpFIdI41dI01NTXMyspK\n",
              "55rTp09n2dnZeqtxKHXe1d8v8mDOM3SNg9lnTHUyxlhNTQ0TiURcSBiKUT4+/Kf09HQsWbIEdXV1\n",
              "6Orqwvjx47l9fn5+KCsrG3AfAOzevRubNm2Cj48PpFIpUlNTdY41dI1ubm7w8vLCvn37APQ+SigU\n",
              "CqhUKr3VONg6BzLc80azxtGi7zrT09ORkJDArVZmKEax8tJAUlNTUVRUhBMnTqC9vX3Y19m6dSvS\n",
              "0tKQlJSEGzduIC4uDpGRkZg6darR1Hjo0CFs3LgRaWlpCAkJwZw5c/T6C6KvOvlkCjUC+q8zMzMT\n",
              "+/btG3H7jD4Y9TeFN998EwcOHMCRI0dga2sLV1dXiEQiVFVVcceoVCr4+PgMuK+2thYHDx5EUlIS\n",
              "AMDf3x8xMTE4ffp0n3saqkYAkMlkOHr0KAoKCpCZmYmKigqEhISMuMah1jmQ4Z43mjXyTd917t27\n",
              "F1u2bEFOTg48PT35KnvwDPrwMoC33nqLRUREsPr6ep3tq1ev1mnQmTBhAtegc6993d3dzNnZmZ04\n",
              "cYIx1vvsNnHiRHbmzBmjqZExxioqKrhr7Ny5k82YMYNr1BrtOu/q7zl4MOcZusbB7DOGOvfu3csC\n",
              "AgKYSqXSW40jZZShUF5ezgAwf39/JpPJmEwmY9HR0Ywxxqqqqlh8fDwLCAhgU6dOZbm5udx5A+3L\n",
              "yclhERERLDQ0lAUHB7O33nrL6GrcvHkzCwwMZAEBAWzx4sWsrKxsRDWOpM6//OUvTCKRMCsrK+bq\n",
              "6sokEgmrrq6+73nGUuNA+4ypTpFIxLy9vbnryWQyVltbO6I6R4rmPhBCdBh1mwIhZPRRKBBCdFAo\n",
              "EEJ0UCiQQXFzc7vvQKrNmzejo6NjdAoivKFQIHqzZcsWCgUzQKFA+nX48GEEBwcjNDQUL730Erf9\n",
              "xRdfRFRUFMLCwjBv3jwoFAoAwDPPPAMAmDt3LsLCwlBdXY2WlhasX78e0dHRCA0NRXJyMjo7Ow3y\n",
              "5yFDYNAOUWKU1Go1c3Fx4WaRZmRkMACspKREp68/KyuLLVq0iPsMgDU0NHCf169fz01C02q17Kmn\n",
              "nmLbtm0bnT8EGTYap0D6OHz4MN5++23k5eUB6H3Tka2tLRQKBc6cOYMdO3agpaUFWq0W9fX13PBe\n",
              "gUCAhoYGODk5Aeh9n6inpyf3dqT29nbMnz8fGRkZBvlzkcEx+glRxPAEAgEAoKysDM899xzkcjkm\n",
              "T56MS5cuYd68efc8jzGG7OxsSKXS0SqV6AG1KZA+Zs2ahUuXLuH69esAgF27dqGzsxPOzs6wtLSE\n",
              "l5cXGGN49913dc6zt7dHU1MT93np0qV4/fXX0d3dDQBoaGjgVioixotCgfTh7u6OXbt2YdmyZZDJ\n",
              "ZCgsLISrqyvs7e2xYsUKhISEICoqqs8swJSUFMTHx3MNjW+//TZsbGwQFhaG0NBQLFy4UO/rQxD9\n",
              "ozYFQogO+qZACNFBoUAI0UGhQAjRQaFACNFBoUAI0UGhQAjRQaFACNFBoUAI0UGhQAjRQaFACNHx\n",
              "/1fUhjT0vSlCAAAAAElFTkSuQmCC\n",
              "\">\n",
              "        \n",
              "      </div>\n",
              "      <script></script>\n",
              "      <script type=\"text/javascript\">\n",
              "        (() => {\n",
              "          const chartElement = document.getElementById(\"chart-5afccb67-6381-4d61-9e53-402686854f23\");\n",
              "          async function getCodeForChartHandler(event) {\n",
              "            const chartCodeResponse =  await google.colab.kernel.invokeFunction(\n",
              "                'getCodeForChart', [\"chart-5afccb67-6381-4d61-9e53-402686854f23\"], {});\n",
              "            const responseJson = chartCodeResponse.data['application/json'];\n",
              "            await google.colab.notebook.addCell(responseJson.code, 'code');\n",
              "          }\n",
              "          chartElement.onclick = getCodeForChartHandler;\n",
              "        })();\n",
              "      </script>\n",
              "      <style>\n",
              "        .colab-quickchart-chart-with-code  {\n",
              "            display: block;\n",
              "            float: left;\n",
              "            border: 1px solid transparent;\n",
              "        }\n",
              "\n",
              "        .colab-quickchart-chart-with-code:hover {\n",
              "            cursor: pointer;\n",
              "            border: 1px solid #aaa;\n",
              "        }\n",
              "      </style>"
            ]
          },
          "metadata": {}
        },
        {
          "output_type": "display_data",
          "data": {
            "text/plain": [
              "import numpy as np\n",
              "from google.colab import autoviz\n",
              "df_215277358666269050 = autoviz.get_df('df_215277358666269050')\n",
              "\n",
              "def time_series_multiline(df, timelike_colname, value_colname, series_colname, figsize=(2.5, 1.3), mpl_palette_name='Dark2'):\n",
              "  from matplotlib import pyplot as plt\n",
              "  import seaborn as sns\n",
              "  palette = list(sns.palettes.mpl_palette(mpl_palette_name))\n",
              "  def _plot_series(series, series_name, series_index=0):\n",
              "    if value_colname == 'count()':\n",
              "      counted = (series[timelike_colname]\n",
              "                 .value_counts()\n",
              "                 .reset_index(name='counts')\n",
              "                 .rename({'index': timelike_colname}, axis=1)\n",
              "                 .sort_values(timelike_colname, ascending=True))\n",
              "      xs = counted[timelike_colname]\n",
              "      ys = counted['counts']\n",
              "    else:\n",
              "      xs = series[timelike_colname]\n",
              "      ys = series[value_colname]\n",
              "    plt.plot(xs, ys, label=series_name, color=palette[series_index % len(palette)])\n",
              "\n",
              "  fig, ax = plt.subplots(figsize=figsize, layout='constrained')\n",
              "  df = df.sort_values(timelike_colname, ascending=True)\n",
              "  if series_colname:\n",
              "    for i, (series_name, series) in enumerate(df.groupby(series_colname)):\n",
              "      _plot_series(series, series_name, i)\n",
              "    fig.legend(title=series_colname, bbox_to_anchor=(1, 1), loc='upper left')\n",
              "  else:\n",
              "    _plot_series(df, '')\n",
              "  sns.despine(fig=fig, ax=ax)\n",
              "  plt.xlabel(timelike_colname)\n",
              "  plt.ylabel(value_colname)\n",
              "  return autoviz.MplChart.from_current_mpl_state()\n",
              "\n",
              "chart = time_series_multiline(df_215277358666269050, *['date', 'useful', None], **{})\n",
              "chart"
            ],
            "text/html": [
              "      <div class=\"colab-quickchart-chart-with-code\" id=\"chart-9d9a774e-5e6d-406b-98ec-d6d77290400a\">\n",
              "        <img src=\"data:image/png;base64,iVBORw0KGgoAAAANSUhEUgAAAQUAAACNCAYAAAC+Am+QAAAAOXRFWHRTb2Z0d2FyZQBNYXRwbG90\n",
              "bGliIHZlcnNpb24zLjcuMSwgaHR0cHM6Ly9tYXRwbG90bGliLm9yZy/bCgiHAAAACXBIWXMAAA9h\n",
              "AAAPYQGoP6dpAAAfkUlEQVR4nO3deVjVdf738ec5HFZlRxFBEGQRlEVwIfcll3EqsWaqX9mvVWec\n",
              "ml8z1uR03bdXefW7paw0s+aXdU/dTbZYYy5liuaSiiW4sLih7JtsB2QROMA5n/sP4NhJQg6cwzng\n",
              "53FdXFfyPd/v923Bq+/n8/0sCiGEQJIkqYPS0gVIkmRdZChIkmRAhoIkSQZkKEiSZECGgiRJBmQo\n",
              "SJJkQIaCJEkGZChIkmTAakNh06ZNli5Bkm5LVhsKBQUFli5Bkm5LVhsKkiRZhgwFqVvVzdf54Pwx\n",
              "firLtXQpUj9RWboAyTrVtzTzwfnjvH/+GA2tGoY5DuXMA/8LhUJh6dIkM5OhIBloamvlX5d+5J2M\n",
              "I9RoGvXfr2xqoLihhlHOHhasTuoPMhQkAFp1Wr64nMpb6Ycob6wDYIzrMP42YT7vZv5AprqEdHWJ\n",
              "DIXbgAyF25xWp2NnXjobzh6goL4aAN8hbqyacCf3jZmASmnDsdJsMtUlZFaVcNfoSAtXLJmbDIXb\n",
              "lBCCpMILvH5mP1nXygEY5jiU/4qay0Nhk7G3ufGjEeXlx6eXU8hUl1iqXKkfyVC4zQghOH41m9dO\n",
              "7yetqggAVzsHVkbO5onwqTjZ2t10TpSnLwDpVcUIIWRn4yAnQ+E2crqigNdOJ3Gi4/Wio8qW5RHT\n",
              "+cP4mbjaO/7qeWHu3tgpbahtaaKooQZ/2a8wqMlQuA1cqL7K62f2c6DoIgB2ShseGRvPM1GzGebo\n",
              "fMvz7WxUhHv4kF5VTEZVsQyFQU6GwiCWW1vFm2kH2J2bgUCgVCi4PziOv8bcie9QN6OuFenp2x4K\n",
              "6hLuCowyT8GSVTBrKGg0Gp577jmSkpJwcHAgOjqarVu3mvOWElDacI230g+x7coptEIHwD2BUTw3\n",
              "YT5jXIf16ppRXr6QhexsvA2YNRT+/ve/o1AouHz5MgqFgrKyMnPe7rZX1dTAOxmH+STrJBptGwDz\n",
              "/MbyQuwCxnmO7NO1OzsbM6pKZGfjIGe2ULh+/Tr//Oc/KS4u1v8AjRgxosvPajQaNBqNwfe0Wq25\n",
              "Sht0ajVNvH/+GB+cP05jWwsAU7wD+XvcQiZ5jzbJPULdvLG3UVHb0kRhQzUBzp4mua5kfcw2ISon\n",
              "JwcPDw/WrVvHxIkTmTFjBgcPHuzys4mJibi6uhp8paSkmKu0QaOprYV3M44w9d/r2ZR+iMa2FqI8\n",
              "ffl0wRP8+zcrTBYI0N7ZONa9PdQzqmQTYjAzWyi0tbVRUFBAREQEp06d4u233+aBBx6gvLz8ps++\n",
              "+OKL1NbWGnxNnjzZXKUNeC3aNv7fxR+Z9u/XSTy9j9qWJkLdhvP+nGXsufsZZvmGmuXx/udNCGnw\n",
              "Mlvzwd/fH6VSycMPPwzAhAkTCAwMJDMzE29vb4PP2tvbY29vb/A9Gxsbc5U2YGl1Or7OOcuGtO8p\n",
              "aqgBwH+oB6sm3MnSoBhslOadCR/l5QdZJ8lQF5v1PpJlmS0UvLy8mDdvHklJSSxevJi8vDzy8vII\n",
              "Dw831y0HLSEE3xWc440zB7hSWwGAt6Mzz8bM48GQidjZ9M+b5c4nhXNq2dk4mJn1p+m9997jySef\n",
              "ZPXq1SiVSrZs2YKvr685bzmoCCE4UnKZ18/sJ6PjVaCbvRNPR87isfA7cFTdPCTZnELdOzsbmymo\n",
              "r2a0i+xsHIzMGgpBQUEcPnzYnLcYtFLK83nt9D5OlucDMERlx/LxM1gxbgYudg4WqclWaUO4uw9p\n",
              "VUVkVBXLUBik5IhGK3NOXcJrp/dzuCQLAHsbFY+OjefpqNl4Ogy1cHXtg5jSqorIUJdwT1C0pcuR\n",
              "zECGgpXIvlbBG2cP8G1+JgA2CiUPhkzk2Zh5jBziauHqbrjxBkJ2Ng5WMhQsrLihho1p3/NV9hl0\n",
              "QqBAQUJQNKsm3Emgi5ely7tJlFdHZ2N1qexsHKRkKFhIRWM9mzMOszXrJK269tGbC/0jeH7CAsI9\n",
              "uh75aQ1COkY21rU0k1+vtsrgkvpGhkI/u6Zp5L1zR/nnhWSa2loBmO4TzN9iFxA33N/C1d2ardKG\n",
              "CA8fzlYWkVFVIkNhEJKh0E+ut2r48MIJ/ufcD9S1NAMwYdgoVscuZPrIYAtXZ5woT9/2UFCXsMTC\n",
              "nY3vZBxhY9r3fLloOXHDAyxay2AhQ8HMNNo2tmadZHP6YaqaGwAIc/NmddxC5o8KH5Bt8igvP8Dy\n",
              "nY2NrS38I/MIGm0bH144IUPBRGQomEmbTstX2WfYmPY9pddrAQhw9uT5CfO5JzDK7EOSzSnyZyMb\n",
              "dUKHUmGZv8vuvHT9U1dS4QWut2oYYmt/i7OkW5GhYGI6oePbvEzeOHuA3LoqAEY4ufCXmHk8EDIR\n",
              "W+XAn9MR6jYcexsV9a0a8uuqCXK1TL/CJ1kn9f/crG0lqfAC946ZYJFaBhMZCiYihOBQcRavnUni\n",
              "QvVVANztnfhz1BweGRuPo8rWwhWajkppwziPkZypLCRDXWyRUMisKiG9qhhbpQ3/ETqJf136iZ25\n",
              "aTIUTKDHoeDu7t5l+7fzXXV1dbVJCxtIfizL5bXTSZyqKADA2daeFeNn8FTEdJwtNCTZ3CI9fTlT\n",
              "WUhmVQkJQTH9fv+tHU8JiwPG82TENP516Sd+KLmCurnBKkZ+DmQ9DoW0tDQzljEwpVcVs/50Ej+U\n",
              "XgHahyQ/ET6NP0XOxN1hiIWrM6/ojkFM6RaYRl3f0syO3DQAlo2dwhjXYUR5+pKhLmFP/jn+c2x8\n",
              "v9c0mPQ4FAICZM9up8vXynn9zH72FpwHQKVQ8nDYZP4cPZcRTi4Wrq5/RHq2v4E4py7t987GHblp\n",
              "NLa1EOw6jHjvQAASgmLIUJewMzdNhkIfGd2nEBgY2GUzIjc31yQFWbOCejUbzn7P1zlpCNqHJN83\n",
              "ZgJ/nTDvtluzMMRtGA42tjS0asivUxPUy1WijSWE4F+XfgJgWdgU/c/i3YFRvJL6HSnl+RQ31OA3\n",
              "1L1f6hmMjA6Fb7/9Vv/Pzc3NfPLJJ3h6dv8L8dFHH/HEE0+wY8cOEhISjC7S0soa63g7/RCfZaXQ\n",
              "1rFk+m8CxvH8hAWEuXvf4uzBqb2z0YfTlYWkV5X0WyicqSzkUk0Z9jYq7guO1X/fZ4grd4wI5ERZ\n",
              "Lrty03k6ana/1DMYGR0K48aNM/hzXFwcU6dOZc2aNV1+Pj8/nw8++ID4+IH3SFfTfJ13M3/go4sn\n",
              "9EumzxoZwt9iFxAzbJSFq7O8SC9fTlcWkqkuZumYmH65Z2cH4z2BUbjbOxkcSxgTw4myXHbmpslQ\n",
              "6IM+NwTVavWv7ueg0+l46qmn2Lx5801rMFqzhlYNG9O+Z+q/1/PeuaNotG1MHB7Al4uW8+nCJ2Ug\n",
              "dIju6FdI76eFXGs0jezOywBgWdjN/5NZHDAeW6UNF2vKuFQj9xjpLaOfFCZMmKBvx2m1WgoKCnjh\n",
              "hRe6/OyGDRuYNm0acXFx3V7TWvZ9aGpr5ZNLP/FOxhGqNdcBiPDwYXXsQub6hQ3IIcnmFNnxBuJ8\n",
              "df90Nm7PPoNG20aEhw+xXQSzm70Tc/3CSCq8wK7cdMbGWe9sU2tmdCi89dZbN05WqQgKCsLHx+em\n",
              "z507d47t27dz9OjRW14zMTGRtWvXGnyvP5sbrTot266c4q20g5Q11gEQ5OLF32IX8NvR4y02jNfa\n",
              "Bbve6GzMq1P3eku6nhBC6Ecw/ryD8ZcSgmJIKrzAztw0XohdIIO8F3ocCnfccQc//vgjO3bsMAiG\n",
              "X3Ps2DHy8/MJCQkBoKysjBUrVnD16lVWrlxp8NkXX3yRVatWGXzv1/ooTEkndOzKzeCNswcoqFcD\n",
              "MHKIK6ti7uR3wbGoBsGQZHNSKW0Y7zmSUxUFpFcVmzUUfizLJae2EieVHUu7GSx156ixDFHZUdRQ\n",
              "w5nKQjlJqhd6HArXrl2jvLycw4cPU19fjxDC4LiLi+H7+ZUrVxr88s+ePZu//OUvXb596O99H4QQ\n",
              "7C+8wPoz+8m61r45jZfDUP4cPYdlYVOw76cl0weDSE9fTlUUkKkuMesQ40+z2ncMWxoU0+0oUUeV\n",
              "HYsCxrE95yw7ctNkKPRCj3/677//fgIDA9FoNLi6tq8ZqFAo9MOcB8rej8ml2bx6JomzlUUAuNg5\n",
              "sHL8LJ6ImCpn2PVC58hGc06jrmpq4LuCcwA8MnbKLT+/JCiG7Tln+SYvg5cn3yWf+IzU41BYu3Yt\n",
              "a9euZdq0aSQnJxt9oyNHjhh9jimdrihk/Zkkkq/mAOCosuXJiGn8cfxM3H7xakvquf4Y2bjtyila\n",
              "dVpivEYx3vPW+4bMGBmMh/0Q1M3XOX41h9m+oSavaTAz+jk5OTmZ1tZWCgsLGTNmjDlqMqmL1WW8\n",
              "fiaJ/UUXgfblxJaFTeHPUXMY7uRs4eoGvmDXYTiqbLne1kJubRXBbsNNen2d0OmbDsvCera/qK3S\n",
              "hrsDI/n40k/szEmToWAko2P9hx9+ICAggDlz5gCQmprKsmXLTF5YX+XVVfHMD1+wYNcm9hddRKlQ\n",
              "8EBIHMfue55X4u+RgWAiNkol4z1GApCuNv14haOl2RQ2VONi58A9gT1f+q1z5ua+wvP6tTClnjE6\n",
              "FFavXs2xY8f0Q5snTZrE2bNnTV5Yb5Ver2V18tfM/noDO3Pb5yjcPTqKQwl/5c3pv5dj4s2gcyWm\n",
              "TDP0K2y91P4a8r4xsTjZ9nybvLjh/vgNdaOhVcPB4ksmr2swM7r5oNVqb2o22Nn1756GXVE3N/Bu\n",
              "xhE+vvSTfkjyXL8wXohd0KN2qNR7+jUbTfykcPV6LQc6mn3Lwm7dwfhzSoWSJYExvJt5hJ05adw1\n",
              "OtKktQ1mRoeCg4MDDQ0N+kEhmZmZODo6mrywnqpraeb988f44Nwxrre1ADDFezSr4xYx2Xu0xeq6\n",
              "neg3iFGXotXpTLb+5BdXUtEKHVO8R/dq4llCUHsoHCq+RK2mCVd7y/2cDiRGh8KaNWtYsGABJSUl\n",
              "LFu2jO+//57PPvvMHLV1q6mthY8u/sg/Mn/gmqYRaH+MXR23kFkjQ+RItn40xmUYTio7GttayK2r\n",
              "IsQEnY1tOi2fZaUC8LCRTwmdwj1GEObmTda1cvYWnOPB0El9rut2YHQoLFiwgJCQEPbt24cQgrVr\n",
              "11rkLUSmupR1p/YC7T3gf4tdwOKA8TIMLMBGqWS850hSyvNJryo2SSgcLs7iamMt7vZOLA4Y3+vr\n",
              "LB0Tw6unk9iZmy5DoYeMfs5raWkhMDCQlStXsmjRIi5evGiRgUuTvUfzUOhkNk7/PQcT/spvR0fK\n",
              "QLAgfWejifoVOuc53B8yEYc+LHrb+cYi+WoO5R3zWqTuGR0K06ZNo76+HrVazYwZM0hMTOTpp582\n",
              "R223tH7avfw+JG5A76EwWESacDfqovpqDhdfBuDh0J6NTfg1/s4eTBwegEDwTce0a6l7Rv82tbW1\n",
              "4ezszJ49e3j00UdJTk7u1QhHaXCJ7ngDca66vbOxLz67nIpAMGNksEmWj+8cs9C52KvUvV41H6B9\n",
              "2PLcuXMB805ekgaGIBcvnFR2NLW1klNX2evrtOq0fHGlbx2Mv3TX6EhsFErSq4rJra0yyTUHM6ND\n",
              "Yc6cOURERJCcnMysWbOoqalBpZKzCm93NkolkZ7tIxv70oRIKrxAZVMDwx2dWegfYZLavByHMqNj\n",
              "E99deWkmueZgZnQobN68mc8++4zU1FRsbW3RarV88MEH5qhNGmBu9Cv0vrOxcwTjgybeYq+zCbEz\n",
              "N/2maf+SIaNDoaioCA8PD65du0ZhYSGNjY23XM1Zuj1E9nFkY25tJcevZqNAwUM9nPzUU4sCxmFv\n",
              "oyKntpJz6lKTXnuwMfq5Py4uTr+OQnNzsz4UKioqzFGfNIBEe95Ys7FNpzV6HYPO2ZBz/cJMPkdl\n",
              "qK09C0ZF8E1+Bjtz0/TrS0o3M/pJobKykoqKCiorK6mvr+err766aXk1aN8TIiEhgdDQUKKjo5k/\n",
              "fz7Z2dkmKVqyTkGuXgzp6GzMrjWus7G5rZVt2aeBnk+RNtaSoPYxCzvz0vv8hmQw6/ML/nvvvZc9\n",
              "e/Z0eWzFihVkZWWRnp7OkiVLeOqpp/p6O8mKKRVK/eSzTCP7Fb4rOMc1TSMjh7gy12+sOcpjjl8Y\n",
              "LnYOlDfWcbI8zyz3GAyMDoW6ujr9V01NDfv27aOu7uaRYg4ODixevFg/yjA+Pp78/Pwur6nRaAyu\n",
              "W1dXN2CWd5MMdU6OSqsqMuq8zk1eHgqdbLbBaPY2Kv2Q6Z256Wa5x2Bg9L99Nzc33N3dcXNzY/jw\n",
              "4axatYq33377ludt2rSJJUuWdHksMTERV1dXg6+UlBRjS5OsQOfM1C+unOrxhiyXaspIKc/HRqE0\n",
              "+/yEzpWg9+Rn6qfYS4aMDgWdTodWq0Wn09Ha2sqFCxdYtGhRt+esW7eO7OxsEhMTuzz+4osvUltb\n",
              "a/A1ebJ52pWSeS30j2CObxgabRt/OvIZTR3T2bvT+ZSwwD/c7Lt2x48IwtvRmdqWJn4ouWzWew1U\n",
              "Zp808MYbb/D111+zd+9enJy6XiDV3t4eFxcXgy85SnJgUiqUbJzxe7wdnbl8rYKXTn7b7ecbW1vY\n",
              "nn0GgEe62ArO1GyUSu7p7HCUw567ZNZQ2LBhA59//jkHDhzAzc3NnLeSrIiX41DenvkAChR8djmF\n",
              "3d2033fnpVPfqiHA2YPpI/tnCn7nQKb9hRdpaNV0/+HbkNlCobi4mOeee45r164xZ84cYmJimDLF\n",
              "NGPZJes3bWQw/xXdvrjv6hNf63fg+qXOKdIPh03pt+35ojx9CXTxolnbSlLhhX6550Bitv8Kfn5+\n",
              "CCHIyckhLS2NtLQ0Tp48aa7bSVborzHzmDQ8gPpWDU8f+YKWX3TsZVQVk15VjK3ShgdCut+E2JQU\n",
              "CgUJnU2InLR+u+9AIRcikMxGpbThnVn/gaudI2lVRaw/s9/g+NaOEYyLR4/H02Fov9bW2YQ4WnoF\n",
              "dXNDv97b2slQkMzKd6gbb0y/D4D3zh3lSEePf31Ls76j7xETTZE2xhjXYUR5+qIVOvbkn+v3+1sz\n",
              "GQqS2f0mYDyPjr0DgGePbqO8sY4duWk0trUQ4jqcKd6BFqnrxszJNIvc31rJUJD6xZpJiwl3H4G6\n",
              "+TrPHv2STy79BMDDYZMttrbm3YFRKFCQUp5PcUONRWqwRjIUpH7hoLLlf2Y/hKPKluNXs7lYU4a9\n",
              "jYrfBcdarCafIa7cMaL9KWWXlQ971up0aLRt+i9zkksmSf0m2G04/x2/hOeO/xuAJYHRFt/xO2FM\n",
              "DCfKctmZm8bTUbMtWktX2nRaPjh/nE3phwzGVCz0j+Cf8/7TLPeUTwpSv7o/OI5HwqbgbGvP8nEz\n",
              "LF0OiwPGY6u04WJNWY/navSX8+pS7v72H/yfU3tvGmSVVHiBHCOnp/eUDAWpXykUChKnLuXCwy8T\n",
              "7jHC0uXgZu/EXL8wwHqaEE1trSSe2sfib94hU12Cq50jG6b/josPv8zFh19mlm8oYL4OUhkKkkVY\n",
              "08Y9SwJvzIWw9PqNP5blsmDXJt7NPIJW6LhrdCSHl67i/pCJONs54GznoJ/puTsvwyz1yj4F6bY3\n",
              "3z8cJ5UdRQ01nKksJG54QL/XUKtpYt2pvXx6uX1Al7eTC+vil7AwYNxNn10UMA77E+3rTZ6vLjX5\n",
              "rurySUG67Tmq7FjU8ctniQ1j9hWcZ+6ODfpAWBY2hcNLV3UZCNC+3uSdo8IB8ywWI0NBkrgxkOmb\n",
              "vAzadP2z6ldFYz1/OPwpTx36hPKmegJdvPjqNyt4depSXOwcuj23s8mzOy8dnTDtepOy+SBJwIyR\n",
              "wXjYD0HdfJ3jV3OY3dGZZw5CCLZdOcUrqXuobWnGRqFkZeRMno2eh2MPN9Od6xeGs609pddrOVVR\n",
              "qF/xyhTkk4IkAbZKG+4OjATMO3Myv07Ng0n/l+eTt1Pb0kykpy/f3f0Mf49b1ONAgPbBYJ1Nnl0m\n",
              "bvKYNRSuXLnC1KlTCQ0NZdKkSZw/f96ct5OkPulsQuwtOEdTW6tJr92m0/Je5lHu3PkWyVdzcLCx\n",
              "5X9PXMw3d/2JcR3b7RlrSUe93+ZnmrTJY9ZQ+MMf/sCKFSu4fPkyq1ev5rHHHjPn7SSpT+KG++M3\n",
              "1I3rbS0cLLposuueV5dyz7f/4L9PfUeztpVpPmP4PuEv/DFyptEb5vzcdJ8xeDrcaPKYitn6FCoq\n",
              "Kjh16hT797fPob/vvvt45plnyM7OJjg42Fy3laReUyqULAmM4d3MI3ySdRIXO8c+XzP5ag7vnTuK\n",
              "VuhwtXNgzaTf8kDIRJOM01ApbbhrdCQfX/qJXblpJusHMVsoFBUV4ePjo9+RWqFQ4O/vT2Fh4U2h\n",
              "oNFo0GgMh3HKfR8kS0gIag+F5Ks5JJvw/76LA8bzSvw9eJt4teolQTF8fOkn9hWcJ/GOVhyM6Jf4\n",
              "NVbx9iExMZG1a9cafC8+3vwr+0rSL4V7jGD5uOkmC4QhKjtWjJ/Bbzo2oTG1icP9Ge3sSZi7NzWa\n",
              "RnxUrn2+pkKYaVxnRUUFwcHBVFdXo1KpEELg4+PD8ePHe/SksGbNGjZt2mSO0iRpUOnNZr7dMVtH\n",
              "4/Dhw4mNjWXr1q0AbN++HT8/vy77E+S+D5LUe6YMBDBz82HLli089thjrFu3DhcXFz766CNz3k6S\n",
              "JBMwW/Ohr+69915Gjx7do89qtVpSUlKYPHmyVT9hDIQ6B0KNMDDqtMYaAwICePbZZ7v9jNWGgjHq\n",
              "6upwdXWltrYWFxfz7kXYFwOhzoFQIwyMOgdCjV2Rw5wlSTIgQ0GSJAMyFCRJMjAoQsHe3p6XXnoJ\n",
              "e3t7S5fSrYFQ50CoEQZGnQOhxq4Mio5GSZJMZ1A8KUiSZDoyFCRJMiBDQZIkA1YZCs3NzSQkJBAa\n",
              "Gkp0dDTz588nOzsbaJ9otWjRIkJCQhg/fjxHjx7Vn9fdsZSUFOLj45kwYQLh4eGsX7/e6mpMTU1l\n",
              "2rRpREdHExMTw6FDh/pUY1/qXLduHWFhYSiVSnbu3Glwze7Os5YauztmTXU+/vjj+utNmzaN1NRU\n",
              "k9TaJ8IKNTU1iT179gidTieEEGLz5s1i1qxZQgghHn/8cfHSSy8JIYRISUkRvr6+oqWl5ZbHoqOj\n",
              "xa5du4QQQqjVajFs2DBx/vx5q6lRp9MJX19fceDAASGEEFlZWWLUqFGisbGx1zX2pc6TJ0+KnJwc\n",
              "MWvWLLFjxw6Da3Z3nrXU2N0xa6pz165dorW1VQghxDfffCMCAgJMUmtfWGUo/FJqaqr+X9aQIUPE\n",
              "1atX9ccmTZqk/0Xq7lhMTIz4+OOPhRBCFBYWCl9fX4PPWrrGyspKYWdnZ3DNyMhIsX37dpPVaEyd\n",
              "nbr6Qe7JeZausSfHrKlOIYSorKwUKpVKHxKWYpXNh1/atGkTS5YsQa1W09rayogRN/YgHD16NIWF\n",
              "hd0eA/joo49Ys2YN/v7+hIaGsm7dOoPPWrpGLy8vfHx8+PLLL4H2pkRWVhb5+fkmq7GndXant+f1\n",
              "Z439xdR1btq0icWLF+tXK7MUq1h5qTvr1q0jOzubgwcP0tTU1OvrvPrqqyQmJvLQQw+Rm5vLrFmz\n",
              "mDhxIhEREVZT465du1i9ejWJiYmMGzeO6dOnm/QHxFR1mtNAqBFMX+fWrVv58ssv+9w/YwpW/aTw\n",
              "xhtv8PXXX7N3716cnJzw9PREpVJRVnZjy/D8/Hz8/f27PVZVVcWOHTt46KGHAAgKCiI+Pp7k5GSr\n",
              "qREgOjqaffv2cfbsWbZu3UppaSnjxnW9dZg56+xOb8/rzxrNzdR1btu2jbVr13LgwAG8vb3NVXbP\n",
              "WbTx0o0333xTxMbGiurqaoPvP/roowYdOiNHjtR36Pzasba2NuHu7i4OHjwohGhvu40aNUqcOHHC\n",
              "amoUQojS0lL9Nd5//30RFxen79Tq7zo7ddUO7sl5lq6xJ8esoc5t27aJ4OBgkZ+fb7Ia+8oqQ6Go\n",
              "qEgAIigoSERHR4vo6GgxefJkIYQQZWVlYv78+SI4OFhERESIQ4cO6c/r7tiBAwdEbGysiIqKEuHh\n",
              "4eLNN9+0uhpffvllERISIoKDg8Xdd98tCgsL+1RjX+p85ZVXhK+vr7CzsxOenp7C19dXVFRU3PI8\n",
              "a6mxu2PWVKdKpRJ+fn7660VHR4uqqqo+1dlXcu6DJEkGrLpPQZKk/idDQZIkAzIUJEkyIENB6hEv\n",
              "L69bDqR6+eWXaW5u7p+CJLORoSCZzNq1a2UoDAIyFKQu7d69m/DwcKKionjhhRf033/++eeZNGkS\n",
              "MTExzJw5k6ysLAD++Mc/AjBjxgxiYmKoqKigvr6e5cuXM3nyZKKiolixYgUtLS0W+ftIRrDoC1HJ\n",
              "KpWXlwsPDw/9LNItW7YIQOTl5Rm86//888/FwoUL9X8GRE1Njf7Py5cv109C0+l04sknnxTr16/v\n",
              "n7+E1GtynIJ0k927d7Nx40YOHz4MtO905OTkRFZWFidOnGDz5s3U19ej0+morq7WD+9VKBTU1NTg\n",
              "5uYGtO8n6u3trd8dqampidmzZ7NlyxaL/L2knrH6CVGS5SkUCgAKCwt55plnSE1NZcyYMWRkZDBz\n",
              "5sxfPU8Iwfbt2wkNDe2vUiUTkH0K0k3uuOMOMjIyuHTpEgAffvghLS0tuLu7Y2tri4+PD0II3nnn\n",
              "HYPznJ2dqa2t1f85ISGB1157jba2NgBqamr0KxVJ1kuGgnSTYcOG8eGHH7J06VKio6O5cuUKnp6e\n",
              "ODs78+CDDzJu3DgmTZp00yzA5557jvnz5+s7Gjdu3IijoyMxMTFERUUxb948k68PIZme7FOQJMmA\n",
              "fFKQJMmADAVJkgzIUJAkyYAMBUmSDMhQkCTJgAwFSZIMyFCQJMmADAVJkgzIUJAkyYAMBUmSDPx/\n",
              "4tnT+lBjtsAAAAAASUVORK5CYII=\n",
              "\">\n",
              "        \n",
              "      </div>\n",
              "      <script></script>\n",
              "      <script type=\"text/javascript\">\n",
              "        (() => {\n",
              "          const chartElement = document.getElementById(\"chart-9d9a774e-5e6d-406b-98ec-d6d77290400a\");\n",
              "          async function getCodeForChartHandler(event) {\n",
              "            const chartCodeResponse =  await google.colab.kernel.invokeFunction(\n",
              "                'getCodeForChart', [\"chart-9d9a774e-5e6d-406b-98ec-d6d77290400a\"], {});\n",
              "            const responseJson = chartCodeResponse.data['application/json'];\n",
              "            await google.colab.notebook.addCell(responseJson.code, 'code');\n",
              "          }\n",
              "          chartElement.onclick = getCodeForChartHandler;\n",
              "        })();\n",
              "      </script>\n",
              "      <style>\n",
              "        .colab-quickchart-chart-with-code  {\n",
              "            display: block;\n",
              "            float: left;\n",
              "            border: 1px solid transparent;\n",
              "        }\n",
              "\n",
              "        .colab-quickchart-chart-with-code:hover {\n",
              "            cursor: pointer;\n",
              "            border: 1px solid #aaa;\n",
              "        }\n",
              "      </style>"
            ]
          },
          "metadata": {}
        },
        {
          "output_type": "display_data",
          "data": {
            "text/plain": [
              "import numpy as np\n",
              "from google.colab import autoviz\n",
              "df_6144005966185515106 = autoviz.get_df('df_6144005966185515106')\n",
              "\n",
              "def time_series_multiline(df, timelike_colname, value_colname, series_colname, figsize=(2.5, 1.3), mpl_palette_name='Dark2'):\n",
              "  from matplotlib import pyplot as plt\n",
              "  import seaborn as sns\n",
              "  palette = list(sns.palettes.mpl_palette(mpl_palette_name))\n",
              "  def _plot_series(series, series_name, series_index=0):\n",
              "    if value_colname == 'count()':\n",
              "      counted = (series[timelike_colname]\n",
              "                 .value_counts()\n",
              "                 .reset_index(name='counts')\n",
              "                 .rename({'index': timelike_colname}, axis=1)\n",
              "                 .sort_values(timelike_colname, ascending=True))\n",
              "      xs = counted[timelike_colname]\n",
              "      ys = counted['counts']\n",
              "    else:\n",
              "      xs = series[timelike_colname]\n",
              "      ys = series[value_colname]\n",
              "    plt.plot(xs, ys, label=series_name, color=palette[series_index % len(palette)])\n",
              "\n",
              "  fig, ax = plt.subplots(figsize=figsize, layout='constrained')\n",
              "  df = df.sort_values(timelike_colname, ascending=True)\n",
              "  if series_colname:\n",
              "    for i, (series_name, series) in enumerate(df.groupby(series_colname)):\n",
              "      _plot_series(series, series_name, i)\n",
              "    fig.legend(title=series_colname, bbox_to_anchor=(1, 1), loc='upper left')\n",
              "  else:\n",
              "    _plot_series(df, '')\n",
              "  sns.despine(fig=fig, ax=ax)\n",
              "  plt.xlabel(timelike_colname)\n",
              "  plt.ylabel(value_colname)\n",
              "  return autoviz.MplChart.from_current_mpl_state()\n",
              "\n",
              "chart = time_series_multiline(df_6144005966185515106, *['date', 'funny', None], **{})\n",
              "chart"
            ],
            "text/html": [
              "      <div class=\"colab-quickchart-chart-with-code\" id=\"chart-942b0ef4-cd1d-497b-94b5-6d9f6ca1d643\">\n",
              "        <img src=\"data:image/png;base64,iVBORw0KGgoAAAANSUhEUgAAAQUAAACNCAYAAAC+Am+QAAAAOXRFWHRTb2Z0d2FyZQBNYXRwbG90\n",
              "bGliIHZlcnNpb24zLjcuMSwgaHR0cHM6Ly9tYXRwbG90bGliLm9yZy/bCgiHAAAACXBIWXMAAA9h\n",
              "AAAPYQGoP6dpAAAW0klEQVR4nO3de1BTZ94H8G8gEEAIdzGCCAh4wRIUQRTBti5rdevdquN2u7qr\n",
              "ts64L166Or6rVdotWK+l2rXqjo770nXAoqJrbb0LagtYWazYoggRL0DkIkFCAiTP+weabVZFAiec\n",
              "5PD7zDBTziX54sC355znOScixhgDIYQ8YcN3AEKIZaFSIIQYoVIghBihUiCEGKFSIIQYoVIghBih\n",
              "UiCEGKFSIIQYsdhSSE1N5TsCIT1St5TCvn37IBKJcOTIkQ7vc+fOHfMFIoS8kNlLQaFQYM+ePYiJ\n",
              "iTH3WxFCOGDWUtDr9ViwYAG2b98OiUTywu20Wi1UKpXRl06nM2c00kFNrc34248XcOH+Tb6jkG5i\n",
              "1lLYunUrYmNjERkZ2e52KSkpcHV1NfrKy8szZzTSAVcflmN81mdIvnICy3MO8h2HdBOzlcL169eR\n",
              "mZmJNWvWvHTb1atXo76+3ugrOjraXNHISzTrWrHxh28x9fhOlKqqAQBVTQ1QNWt4Tka6g9hcL5yT\n",
              "kwOFQoGQkBAAQGVlJRYtWoSKigosXrzYaFuJRPLM6YWtra25opF2/FxXicTsdBTVVgAApgVF4ML9\n",
              "W6jVNqJMVQ25lx/PCYm5me1IYfHixaioqIBCoYBCoUBMTAx27979TCEQy6DT67HzxwuYeHQ7imor\n",
              "4C5xwhevzsX2sXMQ7OYNAFCoanhOSbqD2Y4UiPW401CDZTkHkVelAAD8qt8gbBw9A72dXAAAAS6e\n",
              "yKtSoOzJqQQRtm4rhfPnz3fXW5EOYozhnzfzkZT3L6hbm9FLbI/1IydhTsgIiEQiw3aBUi8AoFLo\n",
              "IehIoYeqUqvw50uZOHuvGAAw0icQ2+Legr+LxzPbBko9AdDpQ09BpdADHSu7htXfHcEjrRr2NrZY\n",
              "FTkeC8PGwEb0/EtM/zlSoFLoCagUepA6rRprvs9CVmkhAGCoR1+kxs/GQHefdvfr/+RIoVbbiHpt\n",
              "E1wljmbPSvhDpdBDnL9/EysufoUqtQq2IhssCX8VifLXYW/78l8BZzsJeju6QNnUgDJVNSK8+3VD\n",
              "YsIXKgWBa2zR4q/5X+P/inMBAEFSL6TGz8YwE/+wA6WeUDY1QNFQQ6UgcFQKAnal6g4SczJwp6Ht\n",
              "WsAfBo/G6hFvwFFsb/JrBUi9kEvDkj0ClYIAaXWt2FpwGjuvX4CeMcicXLEt7i2M6Rvc6dd8OgJB\n",
              "FxuFj0pBYG7UViAxOx0/1VUCAGYOGI6kkZO6fHEwgOYq9BhUCgKh0+ux83o2thScQoteBw9JL3wS\n",
              "Ow0T+g/l5PWDaK5Cj0GlIABlqmosyzmIK8q2p1WN9x+CDaOnwdvRhbP36O/SVgp1WjUeadVwkzhx\n",
              "9trEslApWDHGGNKKc/Fh/nE0tbbA2U6CD0dOwlvBkUbTlLnQy04CH0cXVDU1oExVg2HeVApCRaVg\n",
              "pSoa6/H+pUzDE5FG9wnC1ri34Ofsbrb3DJB6oaqpAQpVjclDmsR6UClYGcYYssoK8ZfvjqC+WQOJ\n",
              "rRirI9/AH4aMfuE0Za4ESj2RW1VGFxsFjkrBitRpGvG/32XhmOIaAEDu5YdP42YhxK13t7w/jUD0\n",
              "DFQKVuLM3Z/x50uZUDY1wFZkg0T56/iT/DXY2XTfE6porkLPQKVg4R63aPFh3nH882bbg2xDXHvj\n",
              "0/hZvDwW7endkooGKgUho1KwYLmVZViWcxDlj2shgggLwmKxcvh4OIrteMkT8GRY8pFWjTqtGu40\n",
              "LClIVAoWSNPagk0Fp7D7eg4YGPyc3bB1zFsYLRvAay4nO3v4OElRpVahTFUNd29/XvMQ86BSsDDX\n",
              "a+4jMTsDxY+qAACzQ0ZgffSbcLF34DlZm0CpJ6rUKihUNRhOpSBIVAoWolWvw+fXzmPbv8+glenh\n",
              "5eCMjbHT8Wv/IXxHMxIo9cL3lTQsKWRUChbgdv1DLM3JQMHDuwCACf3DsGH0NHg6OPOc7FlPryvQ\n",
              "CIRwUSnwSM/02P/T9/j4yglodC2Q2jvgo5gpmB4Uwfk0Za7Qk52Fz6QpcLt27YJarTZXlh7lweNH\n",
              "+O3JvVibexQaXQvi+gbj9JSlmDFgmMUWAvCLYUk6UhAsk0ohOzsbQUFBWLZsGUpKSsyVSdAYY/iq\n",
              "5Cp+lfUpch6UwMHWDh+NnIwvf/0H9HV24zveSwVI2x4BX9/chDpNI89piDmYVApffvklCgsL4enp\n",
              "iXHjxmHChAn4+uuvzZVNcGo0j7HoXBqW5mRA1azBMO9+ODnlfzC/G+5b4Iqj2B59nKQAgFI6WhAk\n",
              "k38TfXx8sGbNGuzfvx9FRUV4++23MWjQIJw5c8Yc+QTjZPkNjDv8KU7cKYJYZIOVw3+NwxPfQ5Cr\n",
              "N9/RTEYzG4XNpAuNGo0GaWlp+Pzzz+Hk5IRNmzZh5syZKCgowMyZM6FQKMwU03o1NGuwPu8Y0m/9\n",
              "AAAY6OaD1PhZGOrpy3OyzguUeuG7ylK62ChQJpVCQEAAEhISsHv3bkRFRRmWjxgxAgkJCZyHs3aX\n",
              "K25j+cWDuPf4EUQQ4d2hcXh/WAIceJqmzJUAw41RVApCZFIpFBQUQCaTPXfdnj17OAkkBE2tLdh4\n",
              "9VvsKboIAPB39sC2uLcwsk8gz8m4QZ8tKWwmlYJMJkNubi5u376N1tZWw/J33nmH82DWqrD6HpZm\n",
              "Z+BWvRIAMDc0Gh9E/wbOdhKek3Hnl3MVGGMWPYRKTGdSKSxevBjffvstIiIiYGvbdh+/SCSiUgDQ\n",
              "otdhe+E5pBaehY7p0dvRBZtiZ2Bcv0F8R+Pc04e4qpo1qNOq4eHQi+dEhEsmlcLp06dx48YNODhY\n",
              "xs05luLWIyWW5mSgsPoeAODNgFeQMmoq3AX6x+IotoPMyRUV6nqUqaqpFATGpCFJmUwGiaRjh8Ea\n",
              "jQZTp05FaGgo5HI5EhISBDfhSc/0+HvRRbxx9DMUVt+Dq70Ddoydg52vzhVsITxFT2ESLpOOFEaO\n",
              "HImZM2di9uzZRkcLkydPfu72ixYtwoQJEyASibBjxw4sWLAA58+f71JgS3HvcR2W5RzEd5WlAICx\n",
              "vqHYHDsDsl6uPCfrHoFSL1ymYUlBMqkUrly5AgDYuXOnYZlIJHpuKTg4OGDixImG72NiYrB58+bO\n",
              "5rQYjDEcLPkBH+Qew+MWLRzFdvgg6jd4e+DIHnXBLYBGIATLpFI4d+5cp98oNTUVU6ZMee46rVYL\n",
              "rVZrtEyn03X6vcyluukxVl0+hG/LbwAAIr398Wn8LMPV+J6E7pYULpNvna6oqEBZWZnRkGR8fHy7\n",
              "+yQnJ6OkpOSFU6FTUlKQlJRktCwmJsbUaGZ14s51rLp0GLXaRtjZ2GLFsAQsHhoPWxvruGeBa7+c\n",
              "6kzDksJiUil8/PHH2LRpE4KCgoyGJPPy8l64z+bNm3Ho0CGcPn0aTk7Pf9Dn6tWrsXz5cqNla9eu\n",
              "NSWa2dRrm7Au9xi+un0VADDYvQ9S42dhiEdfnpPxq7+LB0QQQdWsQa220SIfCEM6x6RS2Lt3L27f\n",
              "vg1PT88Obb9161YcOHAAp0+fhpub2wu3k0gkz4xqPC0dPuU8uIXlOV+hQl0PG5EIi4eOxfJhv4LE\n",
              "lp5N4yC2g6yXFA8a61FWX0OlICAm/Xb7+Ph0uBDu3buHFStWICgoCK+99hqAtj/+3Nxc01N2s6bW\n",
              "ZiRf+Qb7froMoG2yTmrcLIzw6c9zMssSKPVqKwVVNf3bCIhJpZCQkIClS5di7ty5RkOS4eHhz2zr\n",
              "5+cHxljXE3azgod3kZidjtInF9DeGRSDv4yYgF4CmqbMlUCpFy5V3KZbqAXGpFL4xz/+AQDIysoy\n",
              "LBOJRCgtLeU2FQ+ada1ILTyLHdfOQ8f08HGSYnPsDLzmN5DvaBbrPw9xpREIITGpFMrKysyVg1fF\n",
              "dVVIzE7H9doHAIApQXL8NWYKfQLSS9CsRmEyqRTKy8ufu9zf3zo/FESn1+PvNy5i49WT0Opa4SZx\n",
              "QsqoqZgU+OzpEHlWoOvTh7jS3ZJCYlIpREZGQiQSgTEGjUYDtVoNT09PKJVKc+Uzm/KGWizLyUBu\n",
              "lQIA8LrfQGyKnQGfJ88fJC/n79w2LNnQokWNphFejjQCIQQmlcLDhw+Nvj906BAKCws5DWRujDEc\n",
              "uJWPpNx/obG1Gb3E9vgg+k3MDY2i/9OZyEFsh769XHG/8RHKVNVUCgLRpel406dPx/Hjx7nKYnZK\n",
              "dQPmnd6PlZcOobG1GdE+ATg5NRG/HRhNhdBJNN1ZeEw6UlCpVIb/1ul0yM3NNVpmyf6l+BGrLx9G\n",
              "nVYNextbrBw+HgvDxvTYacpcCZR64mJFCd0YJSAdKoWioiKEhYXBzc3NcE3B1tYWISEh+Oyzz8yd\n",
              "sUseadVY8/1RHCn9NwAgzEOG1PjZGOTeh99gAhFAIxCC06FS+N3vfoerV69i1KhRuHTpkrkzcebC\n",
              "/ZtYcfErVKpVsBGJ8Kfw15Aofx32NE2ZM3T6IDwd+uvQaDRIT09HZWUljh079sxMxRc9ZIUv6pZm\n",
              "fHzla+z/+XsAbb+4n8bNQmRv6xw6tWR0t6TwdKgUNmzYgC+++AJKpRJbt241Wveih6zw5QflHSRm\n",
              "Zxim3s4bPAp/GTEBjmJ7npMJk/+TuyUft2hRrXkMb0cXviORLupQKUyePBmTJ09GYmIiUlNTzZ2p\n",
              "U5p1rdj679P4248XoGcMMidXbI2bibi+IXxHEzSJrRi+zq649/gRylQ1VAoCYNLJtaUWwo3aCizN\n",
              "ycCN2goAwIwBw/DhyMlwlTjynKxnCJR6PSmFakT7BPAdh3SRVV9x0+n1+OJ6NrYUnEKzXgd3iRM2\n",
              "jJ6G3wS8wne0HiVQ6oWcBzQsKRRWWwp3GmqwNDsD+co7AICEfoOxMXY6Hb7yIJA+W1JQrLYUWnQ6\n",
              "XKu5D2c7CZJGTsKs4Ei68s0TuoVaWKy2FILdemPH2DkY6tEX/Vw8+I7ToxmGJVU0LCkEVlsKADCh\n",
              "/1C+IxAA/Vw8YCMSobG1GQ+bHqO3E53CWTOa+E+6TGIrhm8vNwB0CiEEVAqEEzTdWTioFAgnno5A\n",
              "0ENcrR+VAuHEf44UqBSsHZUC4UQAzVUQDCoFwon/HpYk1otKgXCin7M7bEQiqFuboWxq4DsO6QIq\n",
              "BcIJe1sx/Hq5A6BTCGtHpUA4Qx8OIwxUCoQzAb+4rkCsF5UC4QzdLSkMVAqEMzSrURioFAhnfjmr\n",
              "kYYlrReVAuGMn7M7bEU2aGptQRUNS1ots5bCrVu3MHr0aISGhiIqKgpFRUXmfDvCM3tbMfyc3QDQ\n",
              "KYQ1M2spvPvuu1i0aBFu3ryJVatWYd68eeZ8O2IBAui6gtUz20NWlEolrly5gpMnTwIAZsyYgSVL\n",
              "lqCkpATBwcHmelvCs0CpJy7cBy5V3DZMZiLdI65vMCdPvTJbKdy9excymQxicdtbiEQi+Pv7o7y8\n",
              "/JlS0Gq10Gq1Rst0Op25ohEzejoCkVVaiKzSQp7T9Czl85IhggWXgilSUlKQlJRktCwmJoanNKQr\n",
              "3gx4Bafv/oQaTSPfUUgniZiZxo6USiWCg4NRW1sLsVgMxhhkMhkuXrzYoSOFtWvXWuyHzxAiZGa7\n",
              "0Ni7d28MHz4caWlpAIDMzEz4+fk993qCRCKBVCo1+rK1tTVXNEJIO8x6+rBr1y7MmzcPycnJkEql\n",
              "2LdvnznfjhDCAbOdPnTV9OnTERAQ0KFtdTod8vLyEB0dbdFHGNaQ0xoyAtaR0xIz9u/fH4mJie1u\n",
              "Y7GlYAqVSgVXV1fU19dDKpXyHeeFrCGnNWQErCOnNWR8HprmTAgxQqVACDFCpUAIMSKIUpBIJFi3\n",
              "bh0kEgnfUdplDTmtISNgHTmtIePzCOJCIyGEO4I4UiCEcIdKgRBihEqBEGLEIktBo9Fg6tSpCA0N\n",
              "hVwuR0JCAkpKSgC03Wj1xhtvICQkBEOHDkV2drZhv/bW5eXlISYmBsOGDcPgwYOxceNGi8uYn5+P\n",
              "2NhYyOVyRERE4OzZs13K2JWcycnJGDhwIGxsbHDkyBGj12xvP0vJ2N46S8o5f/58w+vFxsYiPz+f\n",
              "k6xdwixQU1MTO378ONPr9YwxxrZv387Gjh3LGGNs/vz5bN26dYwxxvLy8pivry9rbm5+6Tq5XM6y\n",
              "srIYY4zV1NQwb29vVlRUZDEZ9Xo98/X1ZadOnWKMMVZcXMz69evH1Gp1pzN2JWdubi67ffs2Gzt2\n",
              "LDt8+LDRa7a3n6VkbG+dJeXMyspiLS0tjDHGjh07xvr3789J1q6wyFL4b/n5+YZ/rF69erGKigrD\n",
              "uqioKMMfUnvrIiIi2P79+xljjJWXlzNfX1+jbfnO+PDhQ2Zvb2/0mq+88grLzMzkLKMpOZ963i9y\n",
              "R/bjO2NH1llSTsYYe/jwIROLxYaS4ItFnj78t9TUVEyZMgU1NTVoaWlBnz59DOsCAgJQXl7e7joA\n",
              "2LdvH9auXQt/f3+EhoYiOTnZaFu+M3p5eUEmkyEjIwNA26lEcXExFAoFZxk7mrM9nd2vOzN2F65z\n",
              "pqamYuLEiYanlfHFIp681J7k5GSUlJTgzJkzaGpq6vTrbNiwASkpKZg7dy5KS0sxduxYjBgxAkOG\n",
              "DLGYjFlZWVi1ahVSUlIQFhaGMWPGcPoLwlVOc7KGjAD3OdPS0pCRkdHl6zNcsOgjhc2bN+PQoUM4\n",
              "ceIEnJyc4OnpCbFYjMrKSsM2CoUC/v7+7a6rrq7G4cOHMXfuXABAUFAQYmJicOnSJYvJCAByuRzf\n",
              "fPMNCgoKkJaWhgcPHiAsLKzLGU3N2Z7O7tedGc2N65zp6elISkrCqVOn4OPjY67YHcfryUs7tmzZ\n",
              "woYPH85qa2uNlv/+9783uqDTt29fwwWdF61rbW1l7u7u7MyZM4yxtnO3fv36scuXL1tMRsYYe/Dg\n",
              "geE1du/ezSIjIw0Xtbo751PPOw/uyH58Z+zIOkvImZ6ezoKDg5lCoeAsY1dZZCncvXuXAWBBQUFM\n",
              "LpczuVzOoqOjGWOMVVZWsoSEBBYcHMyGDBnCzp49a9ivvXWnTp1iw4cPZ+Hh4Wzw4MFsy5YtFpdx\n",
              "/fr1LCQkhAUHB7NJkyax8vLyLmXsSs6PPvqI+fr6Mnt7e+bp6cl8fX2ZUql86X6WkrG9dZaUUywW\n",
              "Mz8/P8PryeVyVl1d3aWcXUX3PhBCjFj0NQVCSPejUiCEGKFSIIQYoVIgHeLl5fXSiVTr16+HRqPp\n",
              "nkDEbKgUCGeSkpKoFASASoE819GjRzF48GCEh4dj5cqVhuXvv/8+oqKiEBERgfj4eBQXFwMA3nvv\n",
              "PQBAXFwcIiIioFQq0dDQgIULFyI6Ohrh4eFYtGgRmpubefl5iAl4HRAlFqmqqop5eHgY7iLdtWsX\n",
              "A8DKysqMxvoPHDjAxo8fb/geAKurqzN8v3DhQsNNaHq9nv3xj39kGzdu7J4fgnQazVMgzzh69Ci2\n",
              "bduGc+fOAWj7pCMnJycUFxfj8uXL2L59OxoaGqDX61FbW2uY3isSiVBXVwc3NzcAbZ8n6uPjY/h0\n",
              "pKamJrz66qvYtWsXLz8X6RiLvyGK8E8kEgEAysvLsWTJEuTn52PAgAG4du0a4uPjX7gfYwyZmZkI\n",
              "DQ3trqiEA3RNgTxj1KhRuHbtGn7++WcAwN69e9Hc3Ax3d3fY2dlBJpOBMYYdO3YY7efi4oL6+nrD\n",
              "91OnTsUnn3yC1tZWAEBdXZ3hSUXEclEpkGd4e3tj7969mDZtGuRyOW7dugVPT0+4uLhgzpw5CAsL\n",
              "Q1RU1DN3Aa5YsQIJCQmGC43btm2Do6MjIiIiEB4ejnHjxnH+fAjCPbqmQAgxQkcKhBAjVAqEECNU\n",
              "CoQQI1QKhBAjVAqEECNUCoQQI1QKhBAjVAqEECNUCoQQI1QKhBAj/w/0kmdDklSPIwAAAABJRU5E\n",
              "rkJggg==\n",
              "\">\n",
              "        \n",
              "      </div>\n",
              "      <script></script>\n",
              "      <script type=\"text/javascript\">\n",
              "        (() => {\n",
              "          const chartElement = document.getElementById(\"chart-942b0ef4-cd1d-497b-94b5-6d9f6ca1d643\");\n",
              "          async function getCodeForChartHandler(event) {\n",
              "            const chartCodeResponse =  await google.colab.kernel.invokeFunction(\n",
              "                'getCodeForChart', [\"chart-942b0ef4-cd1d-497b-94b5-6d9f6ca1d643\"], {});\n",
              "            const responseJson = chartCodeResponse.data['application/json'];\n",
              "            await google.colab.notebook.addCell(responseJson.code, 'code');\n",
              "          }\n",
              "          chartElement.onclick = getCodeForChartHandler;\n",
              "        })();\n",
              "      </script>\n",
              "      <style>\n",
              "        .colab-quickchart-chart-with-code  {\n",
              "            display: block;\n",
              "            float: left;\n",
              "            border: 1px solid transparent;\n",
              "        }\n",
              "\n",
              "        .colab-quickchart-chart-with-code:hover {\n",
              "            cursor: pointer;\n",
              "            border: 1px solid #aaa;\n",
              "        }\n",
              "      </style>"
            ]
          },
          "metadata": {}
        }
      ]
    },
    {
      "cell_type": "code",
      "source": [
        "yelp_df.shape"
      ],
      "metadata": {
        "colab": {
          "base_uri": "https://localhost:8080/"
        },
        "id": "Csxk0A4hgvK6",
        "outputId": "390d426d-6b35-457c-e61a-6afff2f7db4a"
      },
      "execution_count": 4,
      "outputs": [
        {
          "output_type": "execute_result",
          "data": {
            "text/plain": [
              "(10000, 10)"
            ]
          },
          "metadata": {},
          "execution_count": 4
        }
      ]
    },
    {
      "cell_type": "code",
      "source": [
        "yelp_df.describe()"
      ],
      "metadata": {
        "colab": {
          "base_uri": "https://localhost:8080/",
          "height": 300
        },
        "id": "J4BjE2YqhSv5",
        "outputId": "f8bbc1bc-8760-46ba-9c04-fbe062430d69"
      },
      "execution_count": 5,
      "outputs": [
        {
          "output_type": "execute_result",
          "data": {
            "text/plain": [
              "              stars          cool        useful         funny\n",
              "count  10000.000000  10000.000000  10000.000000  10000.000000\n",
              "mean       3.777500      0.876800      1.409300      0.701300\n",
              "std        1.214636      2.067861      2.336647      1.907942\n",
              "min        1.000000      0.000000      0.000000      0.000000\n",
              "25%        3.000000      0.000000      0.000000      0.000000\n",
              "50%        4.000000      0.000000      1.000000      0.000000\n",
              "75%        5.000000      1.000000      2.000000      1.000000\n",
              "max        5.000000     77.000000     76.000000     57.000000"
            ],
            "text/html": [
              "\n",
              "\n",
              "  <div id=\"df-ec6670a8-f506-423b-8b8e-8298431a7b1e\">\n",
              "    <div class=\"colab-df-container\">\n",
              "      <div>\n",
              "<style scoped>\n",
              "    .dataframe tbody tr th:only-of-type {\n",
              "        vertical-align: middle;\n",
              "    }\n",
              "\n",
              "    .dataframe tbody tr th {\n",
              "        vertical-align: top;\n",
              "    }\n",
              "\n",
              "    .dataframe thead th {\n",
              "        text-align: right;\n",
              "    }\n",
              "</style>\n",
              "<table border=\"1\" class=\"dataframe\">\n",
              "  <thead>\n",
              "    <tr style=\"text-align: right;\">\n",
              "      <th></th>\n",
              "      <th>stars</th>\n",
              "      <th>cool</th>\n",
              "      <th>useful</th>\n",
              "      <th>funny</th>\n",
              "    </tr>\n",
              "  </thead>\n",
              "  <tbody>\n",
              "    <tr>\n",
              "      <th>count</th>\n",
              "      <td>10000.000000</td>\n",
              "      <td>10000.000000</td>\n",
              "      <td>10000.000000</td>\n",
              "      <td>10000.000000</td>\n",
              "    </tr>\n",
              "    <tr>\n",
              "      <th>mean</th>\n",
              "      <td>3.777500</td>\n",
              "      <td>0.876800</td>\n",
              "      <td>1.409300</td>\n",
              "      <td>0.701300</td>\n",
              "    </tr>\n",
              "    <tr>\n",
              "      <th>std</th>\n",
              "      <td>1.214636</td>\n",
              "      <td>2.067861</td>\n",
              "      <td>2.336647</td>\n",
              "      <td>1.907942</td>\n",
              "    </tr>\n",
              "    <tr>\n",
              "      <th>min</th>\n",
              "      <td>1.000000</td>\n",
              "      <td>0.000000</td>\n",
              "      <td>0.000000</td>\n",
              "      <td>0.000000</td>\n",
              "    </tr>\n",
              "    <tr>\n",
              "      <th>25%</th>\n",
              "      <td>3.000000</td>\n",
              "      <td>0.000000</td>\n",
              "      <td>0.000000</td>\n",
              "      <td>0.000000</td>\n",
              "    </tr>\n",
              "    <tr>\n",
              "      <th>50%</th>\n",
              "      <td>4.000000</td>\n",
              "      <td>0.000000</td>\n",
              "      <td>1.000000</td>\n",
              "      <td>0.000000</td>\n",
              "    </tr>\n",
              "    <tr>\n",
              "      <th>75%</th>\n",
              "      <td>5.000000</td>\n",
              "      <td>1.000000</td>\n",
              "      <td>2.000000</td>\n",
              "      <td>1.000000</td>\n",
              "    </tr>\n",
              "    <tr>\n",
              "      <th>max</th>\n",
              "      <td>5.000000</td>\n",
              "      <td>77.000000</td>\n",
              "      <td>76.000000</td>\n",
              "      <td>57.000000</td>\n",
              "    </tr>\n",
              "  </tbody>\n",
              "</table>\n",
              "</div>\n",
              "      <button class=\"colab-df-convert\" onclick=\"convertToInteractive('df-ec6670a8-f506-423b-8b8e-8298431a7b1e')\"\n",
              "              title=\"Convert this dataframe to an interactive table.\"\n",
              "              style=\"display:none;\">\n",
              "\n",
              "  <svg xmlns=\"http://www.w3.org/2000/svg\" height=\"24px\"viewBox=\"0 0 24 24\"\n",
              "       width=\"24px\">\n",
              "    <path d=\"M0 0h24v24H0V0z\" fill=\"none\"/>\n",
              "    <path d=\"M18.56 5.44l.94 2.06.94-2.06 2.06-.94-2.06-.94-.94-2.06-.94 2.06-2.06.94zm-11 1L8.5 8.5l.94-2.06 2.06-.94-2.06-.94L8.5 2.5l-.94 2.06-2.06.94zm10 10l.94 2.06.94-2.06 2.06-.94-2.06-.94-.94-2.06-.94 2.06-2.06.94z\"/><path d=\"M17.41 7.96l-1.37-1.37c-.4-.4-.92-.59-1.43-.59-.52 0-1.04.2-1.43.59L10.3 9.45l-7.72 7.72c-.78.78-.78 2.05 0 2.83L4 21.41c.39.39.9.59 1.41.59.51 0 1.02-.2 1.41-.59l7.78-7.78 2.81-2.81c.8-.78.8-2.07 0-2.86zM5.41 20L4 18.59l7.72-7.72 1.47 1.35L5.41 20z\"/>\n",
              "  </svg>\n",
              "      </button>\n",
              "\n",
              "\n",
              "\n",
              "    <div id=\"df-aa9c9d08-74f7-4dac-b68b-8be8aeb30660\">\n",
              "      <button class=\"colab-df-quickchart\" onclick=\"quickchart('df-aa9c9d08-74f7-4dac-b68b-8be8aeb30660')\"\n",
              "              title=\"Suggest charts.\"\n",
              "              style=\"display:none;\">\n",
              "\n",
              "<svg xmlns=\"http://www.w3.org/2000/svg\" height=\"24px\"viewBox=\"0 0 24 24\"\n",
              "     width=\"24px\">\n",
              "    <g>\n",
              "        <path d=\"M19 3H5c-1.1 0-2 .9-2 2v14c0 1.1.9 2 2 2h14c1.1 0 2-.9 2-2V5c0-1.1-.9-2-2-2zM9 17H7v-7h2v7zm4 0h-2V7h2v10zm4 0h-2v-4h2v4z\"/>\n",
              "    </g>\n",
              "</svg>\n",
              "      </button>\n",
              "    </div>\n",
              "\n",
              "<style>\n",
              "  .colab-df-quickchart {\n",
              "    background-color: #E8F0FE;\n",
              "    border: none;\n",
              "    border-radius: 50%;\n",
              "    cursor: pointer;\n",
              "    display: none;\n",
              "    fill: #1967D2;\n",
              "    height: 32px;\n",
              "    padding: 0 0 0 0;\n",
              "    width: 32px;\n",
              "  }\n",
              "\n",
              "  .colab-df-quickchart:hover {\n",
              "    background-color: #E2EBFA;\n",
              "    box-shadow: 0px 1px 2px rgba(60, 64, 67, 0.3), 0px 1px 3px 1px rgba(60, 64, 67, 0.15);\n",
              "    fill: #174EA6;\n",
              "  }\n",
              "\n",
              "  [theme=dark] .colab-df-quickchart {\n",
              "    background-color: #3B4455;\n",
              "    fill: #D2E3FC;\n",
              "  }\n",
              "\n",
              "  [theme=dark] .colab-df-quickchart:hover {\n",
              "    background-color: #434B5C;\n",
              "    box-shadow: 0px 1px 3px 1px rgba(0, 0, 0, 0.15);\n",
              "    filter: drop-shadow(0px 1px 2px rgba(0, 0, 0, 0.3));\n",
              "    fill: #FFFFFF;\n",
              "  }\n",
              "</style>\n",
              "\n",
              "    <script>\n",
              "      async function quickchart(key) {\n",
              "        const containerElement = document.querySelector('#' + key);\n",
              "        const charts = await google.colab.kernel.invokeFunction(\n",
              "            'suggestCharts', [key], {});\n",
              "      }\n",
              "    </script>\n",
              "\n",
              "      <script>\n",
              "\n",
              "function displayQuickchartButton(domScope) {\n",
              "  let quickchartButtonEl =\n",
              "    domScope.querySelector('#df-aa9c9d08-74f7-4dac-b68b-8be8aeb30660 button.colab-df-quickchart');\n",
              "  quickchartButtonEl.style.display =\n",
              "    google.colab.kernel.accessAllowed ? 'block' : 'none';\n",
              "}\n",
              "\n",
              "        displayQuickchartButton(document);\n",
              "      </script>\n",
              "      <style>\n",
              "    .colab-df-container {\n",
              "      display:flex;\n",
              "      flex-wrap:wrap;\n",
              "      gap: 12px;\n",
              "    }\n",
              "\n",
              "    .colab-df-convert {\n",
              "      background-color: #E8F0FE;\n",
              "      border: none;\n",
              "      border-radius: 50%;\n",
              "      cursor: pointer;\n",
              "      display: none;\n",
              "      fill: #1967D2;\n",
              "      height: 32px;\n",
              "      padding: 0 0 0 0;\n",
              "      width: 32px;\n",
              "    }\n",
              "\n",
              "    .colab-df-convert:hover {\n",
              "      background-color: #E2EBFA;\n",
              "      box-shadow: 0px 1px 2px rgba(60, 64, 67, 0.3), 0px 1px 3px 1px rgba(60, 64, 67, 0.15);\n",
              "      fill: #174EA6;\n",
              "    }\n",
              "\n",
              "    [theme=dark] .colab-df-convert {\n",
              "      background-color: #3B4455;\n",
              "      fill: #D2E3FC;\n",
              "    }\n",
              "\n",
              "    [theme=dark] .colab-df-convert:hover {\n",
              "      background-color: #434B5C;\n",
              "      box-shadow: 0px 1px 3px 1px rgba(0, 0, 0, 0.15);\n",
              "      filter: drop-shadow(0px 1px 2px rgba(0, 0, 0, 0.3));\n",
              "      fill: #FFFFFF;\n",
              "    }\n",
              "  </style>\n",
              "\n",
              "      <script>\n",
              "        const buttonEl =\n",
              "          document.querySelector('#df-ec6670a8-f506-423b-8b8e-8298431a7b1e button.colab-df-convert');\n",
              "        buttonEl.style.display =\n",
              "          google.colab.kernel.accessAllowed ? 'block' : 'none';\n",
              "\n",
              "        async function convertToInteractive(key) {\n",
              "          const element = document.querySelector('#df-ec6670a8-f506-423b-8b8e-8298431a7b1e');\n",
              "          const dataTable =\n",
              "            await google.colab.kernel.invokeFunction('convertToInteractive',\n",
              "                                                     [key], {});\n",
              "          if (!dataTable) return;\n",
              "\n",
              "          const docLinkHtml = 'Like what you see? Visit the ' +\n",
              "            '<a target=\"_blank\" href=https://colab.research.google.com/notebooks/data_table.ipynb>data table notebook</a>'\n",
              "            + ' to learn more about interactive tables.';\n",
              "          element.innerHTML = '';\n",
              "          dataTable['output_type'] = 'display_data';\n",
              "          await google.colab.output.renderOutput(dataTable, element);\n",
              "          const docLink = document.createElement('div');\n",
              "          docLink.innerHTML = docLinkHtml;\n",
              "          element.appendChild(docLink);\n",
              "        }\n",
              "      </script>\n",
              "    </div>\n",
              "  </div>\n"
            ]
          },
          "metadata": {},
          "execution_count": 5
        }
      ]
    },
    {
      "cell_type": "code",
      "source": [
        "yelp_df.info()"
      ],
      "metadata": {
        "colab": {
          "base_uri": "https://localhost:8080/"
        },
        "id": "KzphrJvzhXic",
        "outputId": "c3e7d174-00f6-4c0c-f793-9731d801b4e1"
      },
      "execution_count": 6,
      "outputs": [
        {
          "output_type": "stream",
          "name": "stdout",
          "text": [
            "<class 'pandas.core.frame.DataFrame'>\n",
            "RangeIndex: 10000 entries, 0 to 9999\n",
            "Data columns (total 10 columns):\n",
            " #   Column       Non-Null Count  Dtype \n",
            "---  ------       --------------  ----- \n",
            " 0   business_id  10000 non-null  object\n",
            " 1   date         10000 non-null  object\n",
            " 2   review_id    10000 non-null  object\n",
            " 3   stars        10000 non-null  int64 \n",
            " 4   text         10000 non-null  object\n",
            " 5   type         10000 non-null  object\n",
            " 6   user_id      10000 non-null  object\n",
            " 7   cool         10000 non-null  int64 \n",
            " 8   useful       10000 non-null  int64 \n",
            " 9   funny        10000 non-null  int64 \n",
            "dtypes: int64(4), object(6)\n",
            "memory usage: 781.4+ KB\n"
          ]
        }
      ]
    },
    {
      "cell_type": "code",
      "source": [
        "yelp_df['text'][0]"
      ],
      "metadata": {
        "colab": {
          "base_uri": "https://localhost:8080/",
          "height": 88
        },
        "id": "8Tg1a8Y3ib5d",
        "outputId": "5d654a94-2654-45a5-875d-ab4dd20df1ba"
      },
      "execution_count": 7,
      "outputs": [
        {
          "output_type": "execute_result",
          "data": {
            "text/plain": [
              "'My wife took me here on my birthday for breakfast and it was excellent.  The weather was perfect which made sitting outside overlooking their grounds an absolute pleasure.  Our waitress was excellent and our food arrived quickly on the semi-busy Saturday morning.  It looked like the place fills up pretty quickly so the earlier you get here the better.\\n\\nDo yourself a favor and get their Bloody Mary.  It was phenomenal and simply the best I\\'ve ever had.  I\\'m pretty sure they only use ingredients from their garden and blend them fresh when you order it.  It was amazing.\\n\\nWhile EVERYTHING on the menu looks excellent, I had the white truffle scrambled eggs vegetable skillet and it was tasty and delicious.  It came with 2 pieces of their griddled bread with was amazing and it absolutely made the meal complete.  It was the best \"toast\" I\\'ve ever had.\\n\\nAnyway, I can\\'t wait to go back!'"
            ],
            "application/vnd.google.colaboratory.intrinsic+json": {
              "type": "string"
            }
          },
          "metadata": {},
          "execution_count": 7
        }
      ]
    },
    {
      "cell_type": "code",
      "source": [
        "yelp_df['text'][9999]"
      ],
      "metadata": {
        "colab": {
          "base_uri": "https://localhost:8080/",
          "height": 70
        },
        "id": "39xC35j2i5wA",
        "outputId": "af2b8a8e-234d-4e06-c76a-d0640ba66927"
      },
      "execution_count": 8,
      "outputs": [
        {
          "output_type": "execute_result",
          "data": {
            "text/plain": [
              "'4-5 locations.. all 4.5 star average.. I think Arizona really has some fantastic Pizza options, and Spinatos is at the top of my pizza fix list.. the semi sweet sauce is addictive, great service, fresh ingredients, The Spicy Italian is my favorite... The chocolate chips cookies are laced with mind altering drugs, that make your body parts\"romantic\" when you think of their cookies.. BTW 5:30pm, on a Tuesday, when we left, a 30 minute wait.. Its on the List..'"
            ],
            "application/vnd.google.colaboratory.intrinsic+json": {
              "type": "string"
            }
          },
          "metadata": {},
          "execution_count": 8
        }
      ]
    },
    {
      "cell_type": "code",
      "source": [
        "yelp_df['text'][9998]"
      ],
      "metadata": {
        "colab": {
          "base_uri": "https://localhost:8080/",
          "height": 88
        },
        "id": "xwp86TG1i_fj",
        "outputId": "c7b872d9-1126-4f7d-ac6e-a1354b574c60"
      },
      "execution_count": 9,
      "outputs": [
        {
          "output_type": "execute_result",
          "data": {
            "text/plain": [
              "'My nephew just moved to Scottsdale recently so me and a bunch of friends brought him here to show him a local bar that he and the girlfriend could come shoot pool, watch football, play volleyball etc...well....we weren\\'t there 5minutes and 2 kids were running around the pool tables, messing up our games and screaming. I couldn\\'t believe the staff was allowing this to happen. They were hitting the pool sticks on everything and crying when their mom attempted (in vain) to quiet them. You\\'d think the mom would leave at this point with her  kids....um...no....the staff did seem annoyed as well but said nothing. Then....it happened...she said \" you guys better behave or mommy will be fired\"!! Holy shit....she works there!! Even worse! Shame on that owner for allowing this to happen. And that employee needs to recognize this...YOU WORK AT A BAR.....not a daycare....A BAR!!!'"
            ],
            "application/vnd.google.colaboratory.intrinsic+json": {
              "type": "string"
            }
          },
          "metadata": {},
          "execution_count": 9
        }
      ]
    },
    {
      "cell_type": "markdown",
      "source": [
        "# **VISUALIZE DATASET**"
      ],
      "metadata": {
        "id": "RJ4FP-1uiPxV"
      }
    },
    {
      "cell_type": "markdown",
      "source": [
        "adding the column of text length"
      ],
      "metadata": {
        "id": "_QH2EdJUjsI2"
      }
    },
    {
      "cell_type": "code",
      "source": [
        "yelp_df['length'] = yelp_df['text'].apply(len)"
      ],
      "metadata": {
        "id": "WyXNiCJ4h9x7"
      },
      "execution_count": 10,
      "outputs": []
    },
    {
      "cell_type": "code",
      "source": [
        "yelp_df"
      ],
      "metadata": {
        "colab": {
          "base_uri": "https://localhost:8080/",
          "height": 424
        },
        "id": "NX4A7h4mjk8a",
        "outputId": "0e45e2ff-c78a-463b-e4ff-0eb9ce780bcd"
      },
      "execution_count": 11,
      "outputs": [
        {
          "output_type": "execute_result",
          "data": {
            "text/plain": [
              "                 business_id        date               review_id  stars  \\\n",
              "0     9yKzy9PApeiPPOUJEtnvkg  2011-01-26  fWKvX83p0-ka4JS3dc6E5A      5   \n",
              "1     ZRJwVLyzEJq1VAihDhYiow  2011-07-27  IjZ33sJrzXqU-0X6U8NwyA      5   \n",
              "2     6oRAC4uyJCsJl1X0WZpVSA  2012-06-14  IESLBzqUCLdSzSqm0eCSxQ      4   \n",
              "3     _1QQZuf4zZOyFCvXc0o6Vg  2010-05-27  G-WvGaISbqqaMHlNnByodA      5   \n",
              "4     6ozycU1RpktNG2-1BroVtw  2012-01-05  1uJFq2r5QfJG_6ExMRCaGw      5   \n",
              "...                      ...         ...                     ...    ...   \n",
              "9995  VY_tvNUCCXGXQeSvJl757Q  2012-07-28  Ubyfp2RSDYW0g7Mbr8N3iA      3   \n",
              "9996  EKzMHI1tip8rC1-ZAy64yg  2012-01-18  2XyIOQKbVFb6uXQdJ0RzlQ      4   \n",
              "9997  53YGfwmbW73JhFiemNeyzQ  2010-11-16  jyznYkIbpqVmlsZxSDSypA      4   \n",
              "9998  9SKdOoDHcFoxK5ZtsgHJoA  2012-12-02  5UKq9WQE1qQbJ0DJbc-B6Q      2   \n",
              "9999  pF7uRzygyZsltbmVpjIyvw  2010-10-16  vWSmOhg2ID1MNZHaWapGbA      5   \n",
              "\n",
              "                                                   text    type  \\\n",
              "0     My wife took me here on my birthday for breakf...  review   \n",
              "1     I have no idea why some people give bad review...  review   \n",
              "2     love the gyro plate. Rice is so good and I als...  review   \n",
              "3     Rosie, Dakota, and I LOVE Chaparral Dog Park!!...  review   \n",
              "4     General Manager Scott Petello is a good egg!!!...  review   \n",
              "...                                                 ...     ...   \n",
              "9995  First visit...Had lunch here today - used my G...  review   \n",
              "9996  Should be called house of deliciousness!\\n\\nI ...  review   \n",
              "9997  I recently visited Olive and Ivy for business ...  review   \n",
              "9998  My nephew just moved to Scottsdale recently so...  review   \n",
              "9999  4-5 locations.. all 4.5 star average.. I think...  review   \n",
              "\n",
              "                     user_id  cool  useful  funny  length  \n",
              "0     rLtl8ZkDX5vH5nAx9C3q5Q     2       5      0     889  \n",
              "1     0a2KyEL0d3Yb1V6aivbIuQ     0       0      0    1345  \n",
              "2     0hT2KtfLiobPvh6cDC8JQg     0       1      0      76  \n",
              "3     uZetl9T0NcROGOyFfughhg     1       2      0     419  \n",
              "4     vYmM4KTsC8ZfQBg-j5MWkw     0       0      0     469  \n",
              "...                      ...   ...     ...    ...     ...  \n",
              "9995  _eqQoPtQ3e3UxLE4faT6ow     1       2      0     668  \n",
              "9996  ROru4uk5SaYc3rg8IU7SQw     0       0      0     881  \n",
              "9997  gGbN1aKQHMgfQZkqlsuwzg     0       0      0    1425  \n",
              "9998  0lyVoNazXa20WzUyZPLaQQ     0       0      0     880  \n",
              "9999  KSBFytcdjPKZgXKQnYQdkA     0       0      0     461  \n",
              "\n",
              "[10000 rows x 11 columns]"
            ],
            "text/html": [
              "\n",
              "\n",
              "  <div id=\"df-a41c5042-7c28-4157-8d6f-7ac016421907\">\n",
              "    <div class=\"colab-df-container\">\n",
              "      <div>\n",
              "<style scoped>\n",
              "    .dataframe tbody tr th:only-of-type {\n",
              "        vertical-align: middle;\n",
              "    }\n",
              "\n",
              "    .dataframe tbody tr th {\n",
              "        vertical-align: top;\n",
              "    }\n",
              "\n",
              "    .dataframe thead th {\n",
              "        text-align: right;\n",
              "    }\n",
              "</style>\n",
              "<table border=\"1\" class=\"dataframe\">\n",
              "  <thead>\n",
              "    <tr style=\"text-align: right;\">\n",
              "      <th></th>\n",
              "      <th>business_id</th>\n",
              "      <th>date</th>\n",
              "      <th>review_id</th>\n",
              "      <th>stars</th>\n",
              "      <th>text</th>\n",
              "      <th>type</th>\n",
              "      <th>user_id</th>\n",
              "      <th>cool</th>\n",
              "      <th>useful</th>\n",
              "      <th>funny</th>\n",
              "      <th>length</th>\n",
              "    </tr>\n",
              "  </thead>\n",
              "  <tbody>\n",
              "    <tr>\n",
              "      <th>0</th>\n",
              "      <td>9yKzy9PApeiPPOUJEtnvkg</td>\n",
              "      <td>2011-01-26</td>\n",
              "      <td>fWKvX83p0-ka4JS3dc6E5A</td>\n",
              "      <td>5</td>\n",
              "      <td>My wife took me here on my birthday for breakf...</td>\n",
              "      <td>review</td>\n",
              "      <td>rLtl8ZkDX5vH5nAx9C3q5Q</td>\n",
              "      <td>2</td>\n",
              "      <td>5</td>\n",
              "      <td>0</td>\n",
              "      <td>889</td>\n",
              "    </tr>\n",
              "    <tr>\n",
              "      <th>1</th>\n",
              "      <td>ZRJwVLyzEJq1VAihDhYiow</td>\n",
              "      <td>2011-07-27</td>\n",
              "      <td>IjZ33sJrzXqU-0X6U8NwyA</td>\n",
              "      <td>5</td>\n",
              "      <td>I have no idea why some people give bad review...</td>\n",
              "      <td>review</td>\n",
              "      <td>0a2KyEL0d3Yb1V6aivbIuQ</td>\n",
              "      <td>0</td>\n",
              "      <td>0</td>\n",
              "      <td>0</td>\n",
              "      <td>1345</td>\n",
              "    </tr>\n",
              "    <tr>\n",
              "      <th>2</th>\n",
              "      <td>6oRAC4uyJCsJl1X0WZpVSA</td>\n",
              "      <td>2012-06-14</td>\n",
              "      <td>IESLBzqUCLdSzSqm0eCSxQ</td>\n",
              "      <td>4</td>\n",
              "      <td>love the gyro plate. Rice is so good and I als...</td>\n",
              "      <td>review</td>\n",
              "      <td>0hT2KtfLiobPvh6cDC8JQg</td>\n",
              "      <td>0</td>\n",
              "      <td>1</td>\n",
              "      <td>0</td>\n",
              "      <td>76</td>\n",
              "    </tr>\n",
              "    <tr>\n",
              "      <th>3</th>\n",
              "      <td>_1QQZuf4zZOyFCvXc0o6Vg</td>\n",
              "      <td>2010-05-27</td>\n",
              "      <td>G-WvGaISbqqaMHlNnByodA</td>\n",
              "      <td>5</td>\n",
              "      <td>Rosie, Dakota, and I LOVE Chaparral Dog Park!!...</td>\n",
              "      <td>review</td>\n",
              "      <td>uZetl9T0NcROGOyFfughhg</td>\n",
              "      <td>1</td>\n",
              "      <td>2</td>\n",
              "      <td>0</td>\n",
              "      <td>419</td>\n",
              "    </tr>\n",
              "    <tr>\n",
              "      <th>4</th>\n",
              "      <td>6ozycU1RpktNG2-1BroVtw</td>\n",
              "      <td>2012-01-05</td>\n",
              "      <td>1uJFq2r5QfJG_6ExMRCaGw</td>\n",
              "      <td>5</td>\n",
              "      <td>General Manager Scott Petello is a good egg!!!...</td>\n",
              "      <td>review</td>\n",
              "      <td>vYmM4KTsC8ZfQBg-j5MWkw</td>\n",
              "      <td>0</td>\n",
              "      <td>0</td>\n",
              "      <td>0</td>\n",
              "      <td>469</td>\n",
              "    </tr>\n",
              "    <tr>\n",
              "      <th>...</th>\n",
              "      <td>...</td>\n",
              "      <td>...</td>\n",
              "      <td>...</td>\n",
              "      <td>...</td>\n",
              "      <td>...</td>\n",
              "      <td>...</td>\n",
              "      <td>...</td>\n",
              "      <td>...</td>\n",
              "      <td>...</td>\n",
              "      <td>...</td>\n",
              "      <td>...</td>\n",
              "    </tr>\n",
              "    <tr>\n",
              "      <th>9995</th>\n",
              "      <td>VY_tvNUCCXGXQeSvJl757Q</td>\n",
              "      <td>2012-07-28</td>\n",
              "      <td>Ubyfp2RSDYW0g7Mbr8N3iA</td>\n",
              "      <td>3</td>\n",
              "      <td>First visit...Had lunch here today - used my G...</td>\n",
              "      <td>review</td>\n",
              "      <td>_eqQoPtQ3e3UxLE4faT6ow</td>\n",
              "      <td>1</td>\n",
              "      <td>2</td>\n",
              "      <td>0</td>\n",
              "      <td>668</td>\n",
              "    </tr>\n",
              "    <tr>\n",
              "      <th>9996</th>\n",
              "      <td>EKzMHI1tip8rC1-ZAy64yg</td>\n",
              "      <td>2012-01-18</td>\n",
              "      <td>2XyIOQKbVFb6uXQdJ0RzlQ</td>\n",
              "      <td>4</td>\n",
              "      <td>Should be called house of deliciousness!\\n\\nI ...</td>\n",
              "      <td>review</td>\n",
              "      <td>ROru4uk5SaYc3rg8IU7SQw</td>\n",
              "      <td>0</td>\n",
              "      <td>0</td>\n",
              "      <td>0</td>\n",
              "      <td>881</td>\n",
              "    </tr>\n",
              "    <tr>\n",
              "      <th>9997</th>\n",
              "      <td>53YGfwmbW73JhFiemNeyzQ</td>\n",
              "      <td>2010-11-16</td>\n",
              "      <td>jyznYkIbpqVmlsZxSDSypA</td>\n",
              "      <td>4</td>\n",
              "      <td>I recently visited Olive and Ivy for business ...</td>\n",
              "      <td>review</td>\n",
              "      <td>gGbN1aKQHMgfQZkqlsuwzg</td>\n",
              "      <td>0</td>\n",
              "      <td>0</td>\n",
              "      <td>0</td>\n",
              "      <td>1425</td>\n",
              "    </tr>\n",
              "    <tr>\n",
              "      <th>9998</th>\n",
              "      <td>9SKdOoDHcFoxK5ZtsgHJoA</td>\n",
              "      <td>2012-12-02</td>\n",
              "      <td>5UKq9WQE1qQbJ0DJbc-B6Q</td>\n",
              "      <td>2</td>\n",
              "      <td>My nephew just moved to Scottsdale recently so...</td>\n",
              "      <td>review</td>\n",
              "      <td>0lyVoNazXa20WzUyZPLaQQ</td>\n",
              "      <td>0</td>\n",
              "      <td>0</td>\n",
              "      <td>0</td>\n",
              "      <td>880</td>\n",
              "    </tr>\n",
              "    <tr>\n",
              "      <th>9999</th>\n",
              "      <td>pF7uRzygyZsltbmVpjIyvw</td>\n",
              "      <td>2010-10-16</td>\n",
              "      <td>vWSmOhg2ID1MNZHaWapGbA</td>\n",
              "      <td>5</td>\n",
              "      <td>4-5 locations.. all 4.5 star average.. I think...</td>\n",
              "      <td>review</td>\n",
              "      <td>KSBFytcdjPKZgXKQnYQdkA</td>\n",
              "      <td>0</td>\n",
              "      <td>0</td>\n",
              "      <td>0</td>\n",
              "      <td>461</td>\n",
              "    </tr>\n",
              "  </tbody>\n",
              "</table>\n",
              "<p>10000 rows × 11 columns</p>\n",
              "</div>\n",
              "      <button class=\"colab-df-convert\" onclick=\"convertToInteractive('df-a41c5042-7c28-4157-8d6f-7ac016421907')\"\n",
              "              title=\"Convert this dataframe to an interactive table.\"\n",
              "              style=\"display:none;\">\n",
              "\n",
              "  <svg xmlns=\"http://www.w3.org/2000/svg\" height=\"24px\"viewBox=\"0 0 24 24\"\n",
              "       width=\"24px\">\n",
              "    <path d=\"M0 0h24v24H0V0z\" fill=\"none\"/>\n",
              "    <path d=\"M18.56 5.44l.94 2.06.94-2.06 2.06-.94-2.06-.94-.94-2.06-.94 2.06-2.06.94zm-11 1L8.5 8.5l.94-2.06 2.06-.94-2.06-.94L8.5 2.5l-.94 2.06-2.06.94zm10 10l.94 2.06.94-2.06 2.06-.94-2.06-.94-.94-2.06-.94 2.06-2.06.94z\"/><path d=\"M17.41 7.96l-1.37-1.37c-.4-.4-.92-.59-1.43-.59-.52 0-1.04.2-1.43.59L10.3 9.45l-7.72 7.72c-.78.78-.78 2.05 0 2.83L4 21.41c.39.39.9.59 1.41.59.51 0 1.02-.2 1.41-.59l7.78-7.78 2.81-2.81c.8-.78.8-2.07 0-2.86zM5.41 20L4 18.59l7.72-7.72 1.47 1.35L5.41 20z\"/>\n",
              "  </svg>\n",
              "      </button>\n",
              "\n",
              "\n",
              "\n",
              "    <div id=\"df-8afda8e2-5969-4fed-873a-115e5fe6a321\">\n",
              "      <button class=\"colab-df-quickchart\" onclick=\"quickchart('df-8afda8e2-5969-4fed-873a-115e5fe6a321')\"\n",
              "              title=\"Suggest charts.\"\n",
              "              style=\"display:none;\">\n",
              "\n",
              "<svg xmlns=\"http://www.w3.org/2000/svg\" height=\"24px\"viewBox=\"0 0 24 24\"\n",
              "     width=\"24px\">\n",
              "    <g>\n",
              "        <path d=\"M19 3H5c-1.1 0-2 .9-2 2v14c0 1.1.9 2 2 2h14c1.1 0 2-.9 2-2V5c0-1.1-.9-2-2-2zM9 17H7v-7h2v7zm4 0h-2V7h2v10zm4 0h-2v-4h2v4z\"/>\n",
              "    </g>\n",
              "</svg>\n",
              "      </button>\n",
              "    </div>\n",
              "\n",
              "<style>\n",
              "  .colab-df-quickchart {\n",
              "    background-color: #E8F0FE;\n",
              "    border: none;\n",
              "    border-radius: 50%;\n",
              "    cursor: pointer;\n",
              "    display: none;\n",
              "    fill: #1967D2;\n",
              "    height: 32px;\n",
              "    padding: 0 0 0 0;\n",
              "    width: 32px;\n",
              "  }\n",
              "\n",
              "  .colab-df-quickchart:hover {\n",
              "    background-color: #E2EBFA;\n",
              "    box-shadow: 0px 1px 2px rgba(60, 64, 67, 0.3), 0px 1px 3px 1px rgba(60, 64, 67, 0.15);\n",
              "    fill: #174EA6;\n",
              "  }\n",
              "\n",
              "  [theme=dark] .colab-df-quickchart {\n",
              "    background-color: #3B4455;\n",
              "    fill: #D2E3FC;\n",
              "  }\n",
              "\n",
              "  [theme=dark] .colab-df-quickchart:hover {\n",
              "    background-color: #434B5C;\n",
              "    box-shadow: 0px 1px 3px 1px rgba(0, 0, 0, 0.15);\n",
              "    filter: drop-shadow(0px 1px 2px rgba(0, 0, 0, 0.3));\n",
              "    fill: #FFFFFF;\n",
              "  }\n",
              "</style>\n",
              "\n",
              "    <script>\n",
              "      async function quickchart(key) {\n",
              "        const containerElement = document.querySelector('#' + key);\n",
              "        const charts = await google.colab.kernel.invokeFunction(\n",
              "            'suggestCharts', [key], {});\n",
              "      }\n",
              "    </script>\n",
              "\n",
              "      <script>\n",
              "\n",
              "function displayQuickchartButton(domScope) {\n",
              "  let quickchartButtonEl =\n",
              "    domScope.querySelector('#df-8afda8e2-5969-4fed-873a-115e5fe6a321 button.colab-df-quickchart');\n",
              "  quickchartButtonEl.style.display =\n",
              "    google.colab.kernel.accessAllowed ? 'block' : 'none';\n",
              "}\n",
              "\n",
              "        displayQuickchartButton(document);\n",
              "      </script>\n",
              "      <style>\n",
              "    .colab-df-container {\n",
              "      display:flex;\n",
              "      flex-wrap:wrap;\n",
              "      gap: 12px;\n",
              "    }\n",
              "\n",
              "    .colab-df-convert {\n",
              "      background-color: #E8F0FE;\n",
              "      border: none;\n",
              "      border-radius: 50%;\n",
              "      cursor: pointer;\n",
              "      display: none;\n",
              "      fill: #1967D2;\n",
              "      height: 32px;\n",
              "      padding: 0 0 0 0;\n",
              "      width: 32px;\n",
              "    }\n",
              "\n",
              "    .colab-df-convert:hover {\n",
              "      background-color: #E2EBFA;\n",
              "      box-shadow: 0px 1px 2px rgba(60, 64, 67, 0.3), 0px 1px 3px 1px rgba(60, 64, 67, 0.15);\n",
              "      fill: #174EA6;\n",
              "    }\n",
              "\n",
              "    [theme=dark] .colab-df-convert {\n",
              "      background-color: #3B4455;\n",
              "      fill: #D2E3FC;\n",
              "    }\n",
              "\n",
              "    [theme=dark] .colab-df-convert:hover {\n",
              "      background-color: #434B5C;\n",
              "      box-shadow: 0px 1px 3px 1px rgba(0, 0, 0, 0.15);\n",
              "      filter: drop-shadow(0px 1px 2px rgba(0, 0, 0, 0.3));\n",
              "      fill: #FFFFFF;\n",
              "    }\n",
              "  </style>\n",
              "\n",
              "      <script>\n",
              "        const buttonEl =\n",
              "          document.querySelector('#df-a41c5042-7c28-4157-8d6f-7ac016421907 button.colab-df-convert');\n",
              "        buttonEl.style.display =\n",
              "          google.colab.kernel.accessAllowed ? 'block' : 'none';\n",
              "\n",
              "        async function convertToInteractive(key) {\n",
              "          const element = document.querySelector('#df-a41c5042-7c28-4157-8d6f-7ac016421907');\n",
              "          const dataTable =\n",
              "            await google.colab.kernel.invokeFunction('convertToInteractive',\n",
              "                                                     [key], {});\n",
              "          if (!dataTable) return;\n",
              "\n",
              "          const docLinkHtml = 'Like what you see? Visit the ' +\n",
              "            '<a target=\"_blank\" href=https://colab.research.google.com/notebooks/data_table.ipynb>data table notebook</a>'\n",
              "            + ' to learn more about interactive tables.';\n",
              "          element.innerHTML = '';\n",
              "          dataTable['output_type'] = 'display_data';\n",
              "          await google.colab.output.renderOutput(dataTable, element);\n",
              "          const docLink = document.createElement('div');\n",
              "          docLink.innerHTML = docLinkHtml;\n",
              "          element.appendChild(docLink);\n",
              "        }\n",
              "      </script>\n",
              "    </div>\n",
              "  </div>\n"
            ]
          },
          "metadata": {},
          "execution_count": 11
        }
      ]
    },
    {
      "cell_type": "markdown",
      "source": [
        "frequency of text length of reviews"
      ],
      "metadata": {
        "id": "9M4S1wxPjxOD"
      }
    },
    {
      "cell_type": "code",
      "source": [
        "yelp_df['length'].plot(bins=100,kind = 'hist')"
      ],
      "metadata": {
        "colab": {
          "base_uri": "https://localhost:8080/",
          "height": 447
        },
        "id": "4cux-Hnpjm1I",
        "outputId": "7a91aaa3-0190-4a79-9db6-9787a46e65f8"
      },
      "execution_count": 12,
      "outputs": [
        {
          "output_type": "execute_result",
          "data": {
            "text/plain": [
              "<Axes: ylabel='Frequency'>"
            ]
          },
          "metadata": {},
          "execution_count": 12
        },
        {
          "output_type": "display_data",
          "data": {
            "text/plain": [
              "<Figure size 640x480 with 1 Axes>"
            ],
            "image/png": "[encoded data removed]"
          },
          "metadata": {}
        }
      ]
    },
    {
      "cell_type": "code",
      "source": [
        "yelp_df.length.describe()"
      ],
      "metadata": {
        "colab": {
          "base_uri": "https://localhost:8080/"
        },
        "id": "w6QfNnRWj9-j",
        "outputId": "cdf3522d-b634-40a6-a71d-a81baddcda89"
      },
      "execution_count": 13,
      "outputs": [
        {
          "output_type": "execute_result",
          "data": {
            "text/plain": [
              "count    10000.000000\n",
              "mean       710.738700\n",
              "std        617.399827\n",
              "min          1.000000\n",
              "25%        294.000000\n",
              "50%        541.500000\n",
              "75%        930.000000\n",
              "max       4997.000000\n",
              "Name: length, dtype: float64"
            ]
          },
          "metadata": {},
          "execution_count": 13
        }
      ]
    },
    {
      "cell_type": "markdown",
      "source": [
        "longest reviews which at the position at 4997"
      ],
      "metadata": {
        "id": "eatyR42fk3C_"
      }
    },
    {
      "cell_type": "code",
      "source": [
        "yelp_df[ yelp_df['length']==4997]['text'].iloc[0]"
      ],
      "metadata": {
        "colab": {
          "base_uri": "https://localhost:8080/",
          "height": 105
        },
        "id": "F3FA9FzskVRA",
        "outputId": "55dfcd99-51cb-4f78-a735-9f8ab86d78b7"
      },
      "execution_count": 14,
      "outputs": [
        {
          "output_type": "execute_result",
          "data": {
            "text/plain": [
              "'In our continuing quest to identify cool, locally owned places to eat and/or drink, Caroline and I auditioned Vintage 95 last night. \\n\\nBefore I go further, understand that whenever I go out for eats or drinks, I have  in  mind a Platonic Ideal of the Bar/Pub/Eatery I most want to frequent. I\\'m on a constant quest to find that  Ideal expressed in Real Life. \\n\\nVintage 95 isn\\'t quite there, but it\\'s damn close. If I ever give something Five Stars, you\\'ll know it has pegged my Platonic Ideal. Anyway...\\n\\nThe plan last night was for drinks. No plans for food, just Adult Beverages and warm conversation. But it turned into more.\\n\\nThe location in downtown Chandler is terrific for us. The owners have created a very fine visual experience - leather, stone, dark woods, good lighting. And they don\\'t have the music turned up so loud that you CANNOT HAVE A CONVERSATION. This is one of my pet peeves. If I want to stare at people move their mouths while enduring an aural assault, I\\'ll stand on the deck of an aircraft carrier. When I go out with friends, I want to enjoy their company AND their conversation. Is that concept so difficult to grasp? [/rant off]\\n\\nThe atmosphere at Vintage 95 is very close to my Ideal. I\\'d go back just to sit on the leather couches in front of the fireplace, and then go back another time to sit on the leather stools at the bar, and then go back about fourteen more times to sit out on the patio. Seriously - go check out the patio. It is EXACTLY what a Patio Hangout Bar should be. EXACTLY.\\n\\nCaroline and I told the hostesses we were only there for drinks, so we were seated in the bar area in some fabulous leather club chairs. It wasn\\'t initmate, but we weren\\'t looking for intimate. And speaking of the bar, even though V95 advertises itself as a wine bar, they DO have booze. I\\'m not much of a wine drinker and was very pleased to see that they carried a pretty good selection of single malt scotches. Not an overwhelming selection, but well beyond the normal Glenfiddich /Glenlivit /GlenMorangie trio to which most places are limited. I had a couple of drums of Ardbeg, which is one of my new favorites and very reasonably priced at retail. (Scotch is never reasonably priced in restaurants, but I was celebrating so I didn\\'t care.) Caroline had her normal \"vodka martini extra dirty extra cold\" which she judged to have \"perfect dirtiness\", (no wonder I love her!), perfect amount of olives and very cold. \\n\\nThe limited Happy Hour menu had some very interesting choices. We settled on the bruschetta and the smoked tomato bisque. The bruschetta was VERY nice and quite unusual. You get to select four of eight choices for your bruschetta platter; we picked: (1) white bean and pancetta, (2) gravlax, caper goat cheese and pickled onions, (3) fig chutney, ricotta and prosciutto, (4) brie, pear and onion jam. They were all served cold, in nice sized portions and the flavors were all nicely balanced and very interesting. Caroline would have preferred the bread to not be so crispy, but I really liked it. The tomato bisque  was creamy, smoky and had well-balanced flavor. Caroline said it was unique and I say it was just darn delicious. \\n\\nThings being as they are, drinks and appetizers turned into food. A friend had told us \"you have to try the Vintage burger\", so we did. It came served with a mixture of regular and sweet potato fries, all nicely cooked and nicely seasoned. Recommended. The burger was VERY tasty. They obviously use good beef, the bun was fresh, the fixin\\'s were tasty. HIGHLY recommended.\\n\\nIn for a dime, in for a dollar, right? So we ordered dessert. Again, the dessert menu is short, but I\\'m okay with that as long as they do it well. Chocolate torte with hazelnut gelato, apple pie with carmel sauce and creme fraiche gelato, and something else we couldn\\'t remember. I\\'m allergic to hazelnut and don\\'t like sweet desserts, so we decided to try the apple pie.\\n\\nLike everything else we had sampled, the apple pie was unusual - you wouldn\\'t find it anywhere else. It was served on a freshly baked puff pastry, cubed apples served on top and inside - tender but not mushy -  with lots of cinnamon and sugar, plate was swirled with salted dolce la leche. It was tasty, but instead of the expected creme fraiche gelato, we were served hazelnut gelato. I didn\\'t realize it was hazelnut until I\\'d had a couple of bites and my throat started to swell up.\\n\\nAt this point that the night could have turned into a disaster, but to their credit - it didn\\'t. We told the waiter who told the manager, (Gavin - one of the owners), who immediately came and asked if I needed emergency assistance. I didn\\'t, I\\'m not THAT allergic.)  Frankly, their response was EXACTLY the kind of customer service you want to see. Anyone can make a mistake, so no harm, no foul. But I must give BIG Kudos to Gavin for his kindness, attention to detail and outstanding customer service.\\n\\nWe will DEFINTELY be back and I strongly recommend you put it on your list too.'"
            ],
            "application/vnd.google.colaboratory.intrinsic+json": {
              "type": "string"
            }
          },
          "metadata": {},
          "execution_count": 14
        }
      ]
    },
    {
      "cell_type": "markdown",
      "source": [
        "minimum length review"
      ],
      "metadata": {
        "id": "DENJHRYUlSZW"
      }
    },
    {
      "cell_type": "code",
      "source": [
        "yelp_df[ yelp_df['length']==1]['text'].iloc[0]"
      ],
      "metadata": {
        "colab": {
          "base_uri": "https://localhost:8080/",
          "height": 36
        },
        "id": "JMOaf34AkzXk",
        "outputId": "0f78df08-2f85-4b12-c910-8678bad0e1dd"
      },
      "execution_count": 15,
      "outputs": [
        {
          "output_type": "execute_result",
          "data": {
            "text/plain": [
              "'X'"
            ],
            "application/vnd.google.colaboratory.intrinsic+json": {
              "type": "string"
            }
          },
          "metadata": {},
          "execution_count": 15
        }
      ]
    },
    {
      "cell_type": "code",
      "source": [
        "yelp_df[ yelp_df['length']==710]['text'].iloc[0]"
      ],
      "metadata": {
        "colab": {
          "base_uri": "https://localhost:8080/",
          "height": 88
        },
        "id": "NtUEyOGHlQv_",
        "outputId": "4fd988f5-8055-424a-9d72-9a1fbe961596"
      },
      "execution_count": 16,
      "outputs": [
        {
          "output_type": "execute_result",
          "data": {
            "text/plain": [
              "\"I went here for lunch a couple of weeks ago with my bosses. It was packed on a Friday - we sat at the bar and our cook was fantastic! We got to sit and chat with him while he worked away at the orders. I had the chicken pesto pasty and it was wonderful! the bread used is similar to a pastry dough type...but not as sweet. The pasty was so filling, I could barely finish it.\\n\\nMy bosses have been there before and have always wanted to try the peanut butter and jelly pasty - so we all split it as dessert and it was so good. They put bananas in it and drizzle jelly over the whole pasty. It's definitely rich and gooey. \\n\\nI would totally go back here again and have told my friends about it too! Amazing place.\""
            ],
            "application/vnd.google.colaboratory.intrinsic+json": {
              "type": "string"
            }
          },
          "metadata": {},
          "execution_count": 16
        }
      ]
    },
    {
      "cell_type": "markdown",
      "source": [
        "countation of reviews"
      ],
      "metadata": {
        "id": "mwjny0qUlpLV"
      }
    },
    {
      "cell_type": "code",
      "source": [
        "sns.countplot(y = 'stars', data=yelp_df)"
      ],
      "metadata": {
        "colab": {
          "base_uri": "https://localhost:8080/",
          "height": 466
        },
        "id": "uaJ0YNftldAr",
        "outputId": "022f7e64-7c04-4151-9ac4-85939c4ac781"
      },
      "execution_count": 17,
      "outputs": [
        {
          "output_type": "execute_result",
          "data": {
            "text/plain": [
              "<Axes: xlabel='count', ylabel='stars'>"
            ]
          },
          "metadata": {},
          "execution_count": 17
        },
        {
          "output_type": "display_data",
          "data": {
            "text/plain": [
              "<Figure size 640x480 with 1 Axes>"
            ],
            "image/png": "[encoded data removed]"
          },
          "metadata": {}
        }
      ]
    },
    {
      "cell_type": "code",
      "source": [
        "g = sns.FacetGrid(data = yelp_df, col ='stars', col_wrap=3)"
      ],
      "metadata": {
        "colab": {
          "base_uri": "https://localhost:8080/",
          "height": 607
        },
        "id": "rPd3G1QFl0wH",
        "outputId": "1263cf8b-244a-4f9a-8c62-3735501531f2"
      },
      "execution_count": 18,
      "outputs": [
        {
          "output_type": "display_data",
          "data": {
            "text/plain": [
              "<Figure size 900x600 with 5 Axes>"
            ],
            "image/png": "[encoded data removed]"
          },
          "metadata": {}
        }
      ]
    },
    {
      "cell_type": "code",
      "source": [
        "g = sns.FacetGrid(data = yelp_df, col ='stars', col_wrap=3)\n",
        "g.map(plt.hist, 'length', bins=20, color='r')"
      ],
      "metadata": {
        "colab": {
          "base_uri": "https://localhost:8080/",
          "height": 624
        },
        "id": "sEXTMvB_mX43",
        "outputId": "873a52ee-a7ff-4bfb-a32f-a3c8bf2877dd"
      },
      "execution_count": 19,
      "outputs": [
        {
          "output_type": "execute_result",
          "data": {
            "text/plain": [
              "<seaborn.axisgrid.FacetGrid at 0x7dc5fc389a80>"
            ]
          },
          "metadata": {},
          "execution_count": 19
        },
        {
          "output_type": "display_data",
          "data": {
            "text/plain": [
              "<Figure size 900x600 with 5 Axes>"
            ],
            "image/png": "[encoded data removed]"
          },
          "metadata": {}
        }
      ]
    },
    {
      "cell_type": "markdown",
      "source": [
        "## dataframe with one stars reviews"
      ],
      "metadata": {
        "id": "Aa9V8aNUnj3A"
      }
    },
    {
      "cell_type": "code",
      "source": [
        "yelp_df_1 = yelp_df[yelp_df['stars']==1]"
      ],
      "metadata": {
        "id": "HZYcjljSmqm3"
      },
      "execution_count": 20,
      "outputs": []
    },
    {
      "cell_type": "code",
      "source": [
        "yelp_df_1"
      ],
      "metadata": {
        "colab": {
          "base_uri": "https://localhost:8080/",
          "height": 424
        },
        "id": "sfV0kh3bnx1j",
        "outputId": "a5b4ae33-65b4-4ecf-c40f-8773ab032d1d"
      },
      "execution_count": 21,
      "outputs": [
        {
          "output_type": "execute_result",
          "data": {
            "text/plain": [
              "                 business_id        date               review_id  stars  \\\n",
              "23    IJ0o6b8bJFAbG6MjGfBebQ  2010-09-05  Dx9sfFU6Zn0GYOckijom-g      1   \n",
              "31    vvA3fbps4F9nGlAEYKk_sA  2012-05-04  S9OVpXat8k5YwWCn6FAgXg      1   \n",
              "35    o1GIYYZJjM6nM03fQs_uEQ  2011-11-30  ApKbwpYJdnhhgP4NbjQw2Q      1   \n",
              "61    l4vBbCL9QbGiwLuLKwD_bA  2011-11-22  DJVxOfj2Rw9zklC9tU3i1w      1   \n",
              "64    CEswyP-9SsXRNLR9fFGKKw  2012-05-19  GXj4PNAi095-q9ynPYH3kg      1   \n",
              "...                      ...         ...                     ...    ...   \n",
              "9924  mhQCxOiqp03qnhGRTtPduw  2012-07-07  PCjnn__E8AzNa2kXFXxTHQ      1   \n",
              "9931  C_eWAEOvkHZ_IZYGwjtpmg  2011-04-25  QfdoE-XqEeCsttJH8g0ugQ      1   \n",
              "9953  QCxXYA13PtkD3wec47_r8Q  2012-03-14  V2N2TCqnaqMYfg7zXGG-Rg      1   \n",
              "9984  wepFVY82q_tuDzG6lQjHWw  2012-02-12  spusZYROtBKw_5tv3gYm4Q      1   \n",
              "9987  r-a-Cn9hxdEnYTtVTB5bMQ  2012-04-07  j9HwZZoBBmJgOlqDSuJcxg      1   \n",
              "\n",
              "                                                   text    type  \\\n",
              "23    U can go there n check the car out. If u wanna...  review   \n",
              "31    Disgusting!  Had a Groupon so my daughter and ...  review   \n",
              "35    I've eaten here many times, but none as bad as...  review   \n",
              "61    I have always been a fan of Burlington's deals...  review   \n",
              "64    Another night meeting friends here.  I have to...  review   \n",
              "...                                                 ...     ...   \n",
              "9924                                  Horrible service.  review   \n",
              "9931  I love Saddle Ranch for its casual night time ...  review   \n",
              "9953  \"Hipster,Trendy\" ????-I think NOT !!!! Very di...  review   \n",
              "9984  Went last night to Whore Foods to get basics t...  review   \n",
              "9987  The food is delicious.  The service:  discrimi...  review   \n",
              "\n",
              "                     user_id  cool  useful  funny  length  \n",
              "23    zRlQEDYd_HKp0VS3hnAffA     0       1      1     594  \n",
              "31    8AMn6644NmBf96xGO3w6OA     0       1      0     361  \n",
              "35    iwUN95LIaEr75TZE_JC6bg     0       4      3    1198  \n",
              "61    EPROVap0M19Y6_4uf3eCmQ     0       0      0     569  \n",
              "64    MjLAe48XNfYlTeFYca5gMw     0       1      2     498  \n",
              "...                      ...   ...     ...    ...     ...  \n",
              "9924  rvaJcf5OIY2So_pkoqDHLQ     0       1      0      17  \n",
              "9931  yhGfcKunPjcy-v-1ppr6oQ     0       2      0     995  \n",
              "9953  JEQ6el2-tLtKJU6k_SpE-w     0       2      0     296  \n",
              "9984  W7zmm1uzlyUkEqpSG7PlBw     0       1      2    1673  \n",
              "9987  toPtsUtYoRB-5-ThrOy2Fg     0       0      0     200  \n",
              "\n",
              "[749 rows x 11 columns]"
            ],
            "text/html": [
              "\n",
              "\n",
              "  <div id=\"df-91adb848-0b17-4492-9001-685ae96e354e\">\n",
              "    <div class=\"colab-df-container\">\n",
              "      <div>\n",
              "<style scoped>\n",
              "    .dataframe tbody tr th:only-of-type {\n",
              "        vertical-align: middle;\n",
              "    }\n",
              "\n",
              "    .dataframe tbody tr th {\n",
              "        vertical-align: top;\n",
              "    }\n",
              "\n",
              "    .dataframe thead th {\n",
              "        text-align: right;\n",
              "    }\n",
              "</style>\n",
              "<table border=\"1\" class=\"dataframe\">\n",
              "  <thead>\n",
              "    <tr style=\"text-align: right;\">\n",
              "      <th></th>\n",
              "      <th>business_id</th>\n",
              "      <th>date</th>\n",
              "      <th>review_id</th>\n",
              "      <th>stars</th>\n",
              "      <th>text</th>\n",
              "      <th>type</th>\n",
              "      <th>user_id</th>\n",
              "      <th>cool</th>\n",
              "      <th>useful</th>\n",
              "      <th>funny</th>\n",
              "      <th>length</th>\n",
              "    </tr>\n",
              "  </thead>\n",
              "  <tbody>\n",
              "    <tr>\n",
              "      <th>23</th>\n",
              "      <td>IJ0o6b8bJFAbG6MjGfBebQ</td>\n",
              "      <td>2010-09-05</td>\n",
              "      <td>Dx9sfFU6Zn0GYOckijom-g</td>\n",
              "      <td>1</td>\n",
              "      <td>U can go there n check the car out. If u wanna...</td>\n",
              "      <td>review</td>\n",
              "      <td>zRlQEDYd_HKp0VS3hnAffA</td>\n",
              "      <td>0</td>\n",
              "      <td>1</td>\n",
              "      <td>1</td>\n",
              "      <td>594</td>\n",
              "    </tr>\n",
              "    <tr>\n",
              "      <th>31</th>\n",
              "      <td>vvA3fbps4F9nGlAEYKk_sA</td>\n",
              "      <td>2012-05-04</td>\n",
              "      <td>S9OVpXat8k5YwWCn6FAgXg</td>\n",
              "      <td>1</td>\n",
              "      <td>Disgusting!  Had a Groupon so my daughter and ...</td>\n",
              "      <td>review</td>\n",
              "      <td>8AMn6644NmBf96xGO3w6OA</td>\n",
              "      <td>0</td>\n",
              "      <td>1</td>\n",
              "      <td>0</td>\n",
              "      <td>361</td>\n",
              "    </tr>\n",
              "    <tr>\n",
              "      <th>35</th>\n",
              "      <td>o1GIYYZJjM6nM03fQs_uEQ</td>\n",
              "      <td>2011-11-30</td>\n",
              "      <td>ApKbwpYJdnhhgP4NbjQw2Q</td>\n",
              "      <td>1</td>\n",
              "      <td>I've eaten here many times, but none as bad as...</td>\n",
              "      <td>review</td>\n",
              "      <td>iwUN95LIaEr75TZE_JC6bg</td>\n",
              "      <td>0</td>\n",
              "      <td>4</td>\n",
              "      <td>3</td>\n",
              "      <td>1198</td>\n",
              "    </tr>\n",
              "    <tr>\n",
              "      <th>61</th>\n",
              "      <td>l4vBbCL9QbGiwLuLKwD_bA</td>\n",
              "      <td>2011-11-22</td>\n",
              "      <td>DJVxOfj2Rw9zklC9tU3i1w</td>\n",
              "      <td>1</td>\n",
              "      <td>I have always been a fan of Burlington's deals...</td>\n",
              "      <td>review</td>\n",
              "      <td>EPROVap0M19Y6_4uf3eCmQ</td>\n",
              "      <td>0</td>\n",
              "      <td>0</td>\n",
              "      <td>0</td>\n",
              "      <td>569</td>\n",
              "    </tr>\n",
              "    <tr>\n",
              "      <th>64</th>\n",
              "      <td>CEswyP-9SsXRNLR9fFGKKw</td>\n",
              "      <td>2012-05-19</td>\n",
              "      <td>GXj4PNAi095-q9ynPYH3kg</td>\n",
              "      <td>1</td>\n",
              "      <td>Another night meeting friends here.  I have to...</td>\n",
              "      <td>review</td>\n",
              "      <td>MjLAe48XNfYlTeFYca5gMw</td>\n",
              "      <td>0</td>\n",
              "      <td>1</td>\n",
              "      <td>2</td>\n",
              "      <td>498</td>\n",
              "    </tr>\n",
              "    <tr>\n",
              "      <th>...</th>\n",
              "      <td>...</td>\n",
              "      <td>...</td>\n",
              "      <td>...</td>\n",
              "      <td>...</td>\n",
              "      <td>...</td>\n",
              "      <td>...</td>\n",
              "      <td>...</td>\n",
              "      <td>...</td>\n",
              "      <td>...</td>\n",
              "      <td>...</td>\n",
              "      <td>...</td>\n",
              "    </tr>\n",
              "    <tr>\n",
              "      <th>9924</th>\n",
              "      <td>mhQCxOiqp03qnhGRTtPduw</td>\n",
              "      <td>2012-07-07</td>\n",
              "      <td>PCjnn__E8AzNa2kXFXxTHQ</td>\n",
              "      <td>1</td>\n",
              "      <td>Horrible service.</td>\n",
              "      <td>review</td>\n",
              "      <td>rvaJcf5OIY2So_pkoqDHLQ</td>\n",
              "      <td>0</td>\n",
              "      <td>1</td>\n",
              "      <td>0</td>\n",
              "      <td>17</td>\n",
              "    </tr>\n",
              "    <tr>\n",
              "      <th>9931</th>\n",
              "      <td>C_eWAEOvkHZ_IZYGwjtpmg</td>\n",
              "      <td>2011-04-25</td>\n",
              "      <td>QfdoE-XqEeCsttJH8g0ugQ</td>\n",
              "      <td>1</td>\n",
              "      <td>I love Saddle Ranch for its casual night time ...</td>\n",
              "      <td>review</td>\n",
              "      <td>yhGfcKunPjcy-v-1ppr6oQ</td>\n",
              "      <td>0</td>\n",
              "      <td>2</td>\n",
              "      <td>0</td>\n",
              "      <td>995</td>\n",
              "    </tr>\n",
              "    <tr>\n",
              "      <th>9953</th>\n",
              "      <td>QCxXYA13PtkD3wec47_r8Q</td>\n",
              "      <td>2012-03-14</td>\n",
              "      <td>V2N2TCqnaqMYfg7zXGG-Rg</td>\n",
              "      <td>1</td>\n",
              "      <td>\"Hipster,Trendy\" ????-I think NOT !!!! Very di...</td>\n",
              "      <td>review</td>\n",
              "      <td>JEQ6el2-tLtKJU6k_SpE-w</td>\n",
              "      <td>0</td>\n",
              "      <td>2</td>\n",
              "      <td>0</td>\n",
              "      <td>296</td>\n",
              "    </tr>\n",
              "    <tr>\n",
              "      <th>9984</th>\n",
              "      <td>wepFVY82q_tuDzG6lQjHWw</td>\n",
              "      <td>2012-02-12</td>\n",
              "      <td>spusZYROtBKw_5tv3gYm4Q</td>\n",
              "      <td>1</td>\n",
              "      <td>Went last night to Whore Foods to get basics t...</td>\n",
              "      <td>review</td>\n",
              "      <td>W7zmm1uzlyUkEqpSG7PlBw</td>\n",
              "      <td>0</td>\n",
              "      <td>1</td>\n",
              "      <td>2</td>\n",
              "      <td>1673</td>\n",
              "    </tr>\n",
              "    <tr>\n",
              "      <th>9987</th>\n",
              "      <td>r-a-Cn9hxdEnYTtVTB5bMQ</td>\n",
              "      <td>2012-04-07</td>\n",
              "      <td>j9HwZZoBBmJgOlqDSuJcxg</td>\n",
              "      <td>1</td>\n",
              "      <td>The food is delicious.  The service:  discrimi...</td>\n",
              "      <td>review</td>\n",
              "      <td>toPtsUtYoRB-5-ThrOy2Fg</td>\n",
              "      <td>0</td>\n",
              "      <td>0</td>\n",
              "      <td>0</td>\n",
              "      <td>200</td>\n",
              "    </tr>\n",
              "  </tbody>\n",
              "</table>\n",
              "<p>749 rows × 11 columns</p>\n",
              "</div>\n",
              "      <button class=\"colab-df-convert\" onclick=\"convertToInteractive('df-91adb848-0b17-4492-9001-685ae96e354e')\"\n",
              "              title=\"Convert this dataframe to an interactive table.\"\n",
              "              style=\"display:none;\">\n",
              "\n",
              "  <svg xmlns=\"http://www.w3.org/2000/svg\" height=\"24px\"viewBox=\"0 0 24 24\"\n",
              "       width=\"24px\">\n",
              "    <path d=\"M0 0h24v24H0V0z\" fill=\"none\"/>\n",
              "    <path d=\"M18.56 5.44l.94 2.06.94-2.06 2.06-.94-2.06-.94-.94-2.06-.94 2.06-2.06.94zm-11 1L8.5 8.5l.94-2.06 2.06-.94-2.06-.94L8.5 2.5l-.94 2.06-2.06.94zm10 10l.94 2.06.94-2.06 2.06-.94-2.06-.94-.94-2.06-.94 2.06-2.06.94z\"/><path d=\"M17.41 7.96l-1.37-1.37c-.4-.4-.92-.59-1.43-.59-.52 0-1.04.2-1.43.59L10.3 9.45l-7.72 7.72c-.78.78-.78 2.05 0 2.83L4 21.41c.39.39.9.59 1.41.59.51 0 1.02-.2 1.41-.59l7.78-7.78 2.81-2.81c.8-.78.8-2.07 0-2.86zM5.41 20L4 18.59l7.72-7.72 1.47 1.35L5.41 20z\"/>\n",
              "  </svg>\n",
              "      </button>\n",
              "\n",
              "\n",
              "\n",
              "    <div id=\"df-e8072293-4dba-438d-85a8-6a79e0da9c52\">\n",
              "      <button class=\"colab-df-quickchart\" onclick=\"quickchart('df-e8072293-4dba-438d-85a8-6a79e0da9c52')\"\n",
              "              title=\"Suggest charts.\"\n",
              "              style=\"display:none;\">\n",
              "\n",
              "<svg xmlns=\"http://www.w3.org/2000/svg\" height=\"24px\"viewBox=\"0 0 24 24\"\n",
              "     width=\"24px\">\n",
              "    <g>\n",
              "        <path d=\"M19 3H5c-1.1 0-2 .9-2 2v14c0 1.1.9 2 2 2h14c1.1 0 2-.9 2-2V5c0-1.1-.9-2-2-2zM9 17H7v-7h2v7zm4 0h-2V7h2v10zm4 0h-2v-4h2v4z\"/>\n",
              "    </g>\n",
              "</svg>\n",
              "      </button>\n",
              "    </div>\n",
              "\n",
              "<style>\n",
              "  .colab-df-quickchart {\n",
              "    background-color: #E8F0FE;\n",
              "    border: none;\n",
              "    border-radius: 50%;\n",
              "    cursor: pointer;\n",
              "    display: none;\n",
              "    fill: #1967D2;\n",
              "    height: 32px;\n",
              "    padding: 0 0 0 0;\n",
              "    width: 32px;\n",
              "  }\n",
              "\n",
              "  .colab-df-quickchart:hover {\n",
              "    background-color: #E2EBFA;\n",
              "    box-shadow: 0px 1px 2px rgba(60, 64, 67, 0.3), 0px 1px 3px 1px rgba(60, 64, 67, 0.15);\n",
              "    fill: #174EA6;\n",
              "  }\n",
              "\n",
              "  [theme=dark] .colab-df-quickchart {\n",
              "    background-color: #3B4455;\n",
              "    fill: #D2E3FC;\n",
              "  }\n",
              "\n",
              "  [theme=dark] .colab-df-quickchart:hover {\n",
              "    background-color: #434B5C;\n",
              "    box-shadow: 0px 1px 3px 1px rgba(0, 0, 0, 0.15);\n",
              "    filter: drop-shadow(0px 1px 2px rgba(0, 0, 0, 0.3));\n",
              "    fill: #FFFFFF;\n",
              "  }\n",
              "</style>\n",
              "\n",
              "    <script>\n",
              "      async function quickchart(key) {\n",
              "        const containerElement = document.querySelector('#' + key);\n",
              "        const charts = await google.colab.kernel.invokeFunction(\n",
              "            'suggestCharts', [key], {});\n",
              "      }\n",
              "    </script>\n",
              "\n",
              "      <script>\n",
              "\n",
              "function displayQuickchartButton(domScope) {\n",
              "  let quickchartButtonEl =\n",
              "    domScope.querySelector('#df-e8072293-4dba-438d-85a8-6a79e0da9c52 button.colab-df-quickchart');\n",
              "  quickchartButtonEl.style.display =\n",
              "    google.colab.kernel.accessAllowed ? 'block' : 'none';\n",
              "}\n",
              "\n",
              "        displayQuickchartButton(document);\n",
              "      </script>\n",
              "      <style>\n",
              "    .colab-df-container {\n",
              "      display:flex;\n",
              "      flex-wrap:wrap;\n",
              "      gap: 12px;\n",
              "    }\n",
              "\n",
              "    .colab-df-convert {\n",
              "      background-color: #E8F0FE;\n",
              "      border: none;\n",
              "      border-radius: 50%;\n",
              "      cursor: pointer;\n",
              "      display: none;\n",
              "      fill: #1967D2;\n",
              "      height: 32px;\n",
              "      padding: 0 0 0 0;\n",
              "      width: 32px;\n",
              "    }\n",
              "\n",
              "    .colab-df-convert:hover {\n",
              "      background-color: #E2EBFA;\n",
              "      box-shadow: 0px 1px 2px rgba(60, 64, 67, 0.3), 0px 1px 3px 1px rgba(60, 64, 67, 0.15);\n",
              "      fill: #174EA6;\n",
              "    }\n",
              "\n",
              "    [theme=dark] .colab-df-convert {\n",
              "      background-color: #3B4455;\n",
              "      fill: #D2E3FC;\n",
              "    }\n",
              "\n",
              "    [theme=dark] .colab-df-convert:hover {\n",
              "      background-color: #434B5C;\n",
              "      box-shadow: 0px 1px 3px 1px rgba(0, 0, 0, 0.15);\n",
              "      filter: drop-shadow(0px 1px 2px rgba(0, 0, 0, 0.3));\n",
              "      fill: #FFFFFF;\n",
              "    }\n",
              "  </style>\n",
              "\n",
              "      <script>\n",
              "        const buttonEl =\n",
              "          document.querySelector('#df-91adb848-0b17-4492-9001-685ae96e354e button.colab-df-convert');\n",
              "        buttonEl.style.display =\n",
              "          google.colab.kernel.accessAllowed ? 'block' : 'none';\n",
              "\n",
              "        async function convertToInteractive(key) {\n",
              "          const element = document.querySelector('#df-91adb848-0b17-4492-9001-685ae96e354e');\n",
              "          const dataTable =\n",
              "            await google.colab.kernel.invokeFunction('convertToInteractive',\n",
              "                                                     [key], {});\n",
              "          if (!dataTable) return;\n",
              "\n",
              "          const docLinkHtml = 'Like what you see? Visit the ' +\n",
              "            '<a target=\"_blank\" href=https://colab.research.google.com/notebooks/data_table.ipynb>data table notebook</a>'\n",
              "            + ' to learn more about interactive tables.';\n",
              "          element.innerHTML = '';\n",
              "          dataTable['output_type'] = 'display_data';\n",
              "          await google.colab.output.renderOutput(dataTable, element);\n",
              "          const docLink = document.createElement('div');\n",
              "          docLink.innerHTML = docLinkHtml;\n",
              "          element.appendChild(docLink);\n",
              "        }\n",
              "      </script>\n",
              "    </div>\n",
              "  </div>\n"
            ]
          },
          "metadata": {},
          "execution_count": 21
        }
      ]
    },
    {
      "cell_type": "markdown",
      "source": [
        "## dataframe with five stars reviews"
      ],
      "metadata": {
        "id": "_0IR83wnn42l"
      }
    },
    {
      "cell_type": "code",
      "source": [
        "yelp_df_5 = yelp_df[yelp_df['stars']==5]"
      ],
      "metadata": {
        "id": "HP--voT1n0Sj"
      },
      "execution_count": 22,
      "outputs": []
    },
    {
      "cell_type": "code",
      "source": [
        "yelp_df_5"
      ],
      "metadata": {
        "colab": {
          "base_uri": "https://localhost:8080/",
          "height": 424
        },
        "id": "tgFE8YQpn_6F",
        "outputId": "71249378-7811-4fc0-bfd9-9381b50882e8"
      },
      "execution_count": 23,
      "outputs": [
        {
          "output_type": "execute_result",
          "data": {
            "text/plain": [
              "                 business_id        date               review_id  stars  \\\n",
              "0     9yKzy9PApeiPPOUJEtnvkg  2011-01-26  fWKvX83p0-ka4JS3dc6E5A      5   \n",
              "1     ZRJwVLyzEJq1VAihDhYiow  2011-07-27  IjZ33sJrzXqU-0X6U8NwyA      5   \n",
              "3     _1QQZuf4zZOyFCvXc0o6Vg  2010-05-27  G-WvGaISbqqaMHlNnByodA      5   \n",
              "4     6ozycU1RpktNG2-1BroVtw  2012-01-05  1uJFq2r5QfJG_6ExMRCaGw      5   \n",
              "6     zp713qNhx8d9KCJJnrw1xA  2010-02-12  riFQ3vxNpP4rWLk_CSri2A      5   \n",
              "...                      ...         ...                     ...    ...   \n",
              "9990  R8VwdLyvsp9iybNqRvm94g  2011-10-03  pcEeHdAJPoFNF23es0kKWg      5   \n",
              "9991  WJ5mq4EiWYAA4Vif0xDfdg  2011-12-05  EuHX-39FR7tyyG1ElvN1Jw      5   \n",
              "9992  f96lWMIAUhYIYy9gOktivQ  2009-03-10  YF17z7HWlMj6aezZc-pVEw      5   \n",
              "9994  L3BSpFvxcNf3T_teitgt6A  2012-03-19  0nxb1gIGFgk3WbC5zwhKZg      5   \n",
              "9999  pF7uRzygyZsltbmVpjIyvw  2010-10-16  vWSmOhg2ID1MNZHaWapGbA      5   \n",
              "\n",
              "                                                   text    type  \\\n",
              "0     My wife took me here on my birthday for breakf...  review   \n",
              "1     I have no idea why some people give bad review...  review   \n",
              "3     Rosie, Dakota, and I LOVE Chaparral Dog Park!!...  review   \n",
              "4     General Manager Scott Petello is a good egg!!!...  review   \n",
              "6     Drop what you're doing and drive here. After I...  review   \n",
              "...                                                 ...     ...   \n",
              "9990  Yes I do rock the hipster joints.  I dig this ...  review   \n",
              "9991  Only 4 stars? \\n\\n(A few notes: The folks that...  review   \n",
              "9992  I'm not normally one to jump at reviewing a ch...  review   \n",
              "9994  Let's see...what is there NOT to like about Su...  review   \n",
              "9999  4-5 locations.. all 4.5 star average.. I think...  review   \n",
              "\n",
              "                     user_id  cool  useful  funny  length  \n",
              "0     rLtl8ZkDX5vH5nAx9C3q5Q     2       5      0     889  \n",
              "1     0a2KyEL0d3Yb1V6aivbIuQ     0       0      0    1345  \n",
              "3     uZetl9T0NcROGOyFfughhg     1       2      0     419  \n",
              "4     vYmM4KTsC8ZfQBg-j5MWkw     0       0      0     469  \n",
              "6     wFweIWhv2fREZV_dYkz_1g     7       7      4    1565  \n",
              "...                      ...   ...     ...    ...     ...  \n",
              "9990  b92Y3tyWTQQZ5FLifex62Q     1       1      1     263  \n",
              "9991  hTau-iNZFwoNsPCaiIUTEA     1       1      0     908  \n",
              "9992  W_QXYA7A0IhMrvbckz7eVg     2       3      2    1326  \n",
              "9994  OzOZv-Knlw3oz9K5Kh5S6A     1       2      1    1968  \n",
              "9999  KSBFytcdjPKZgXKQnYQdkA     0       0      0     461  \n",
              "\n",
              "[3337 rows x 11 columns]"
            ],
            "text/html": [
              "\n",
              "\n",
              "  <div id=\"df-e61c4eae-e87a-45a9-8165-c47f91fe7c06\">\n",
              "    <div class=\"colab-df-container\">\n",
              "      <div>\n",
              "<style scoped>\n",
              "    .dataframe tbody tr th:only-of-type {\n",
              "        vertical-align: middle;\n",
              "    }\n",
              "\n",
              "    .dataframe tbody tr th {\n",
              "        vertical-align: top;\n",
              "    }\n",
              "\n",
              "    .dataframe thead th {\n",
              "        text-align: right;\n",
              "    }\n",
              "</style>\n",
              "<table border=\"1\" class=\"dataframe\">\n",
              "  <thead>\n",
              "    <tr style=\"text-align: right;\">\n",
              "      <th></th>\n",
              "      <th>business_id</th>\n",
              "      <th>date</th>\n",
              "      <th>review_id</th>\n",
              "      <th>stars</th>\n",
              "      <th>text</th>\n",
              "      <th>type</th>\n",
              "      <th>user_id</th>\n",
              "      <th>cool</th>\n",
              "      <th>useful</th>\n",
              "      <th>funny</th>\n",
              "      <th>length</th>\n",
              "    </tr>\n",
              "  </thead>\n",
              "  <tbody>\n",
              "    <tr>\n",
              "      <th>0</th>\n",
              "      <td>9yKzy9PApeiPPOUJEtnvkg</td>\n",
              "      <td>2011-01-26</td>\n",
              "      <td>fWKvX83p0-ka4JS3dc6E5A</td>\n",
              "      <td>5</td>\n",
              "      <td>My wife took me here on my birthday for breakf...</td>\n",
              "      <td>review</td>\n",
              "      <td>rLtl8ZkDX5vH5nAx9C3q5Q</td>\n",
              "      <td>2</td>\n",
              "      <td>5</td>\n",
              "      <td>0</td>\n",
              "      <td>889</td>\n",
              "    </tr>\n",
              "    <tr>\n",
              "      <th>1</th>\n",
              "      <td>ZRJwVLyzEJq1VAihDhYiow</td>\n",
              "      <td>2011-07-27</td>\n",
              "      <td>IjZ33sJrzXqU-0X6U8NwyA</td>\n",
              "      <td>5</td>\n",
              "      <td>I have no idea why some people give bad review...</td>\n",
              "      <td>review</td>\n",
              "      <td>0a2KyEL0d3Yb1V6aivbIuQ</td>\n",
              "      <td>0</td>\n",
              "      <td>0</td>\n",
              "      <td>0</td>\n",
              "      <td>1345</td>\n",
              "    </tr>\n",
              "    <tr>\n",
              "      <th>3</th>\n",
              "      <td>_1QQZuf4zZOyFCvXc0o6Vg</td>\n",
              "      <td>2010-05-27</td>\n",
              "      <td>G-WvGaISbqqaMHlNnByodA</td>\n",
              "      <td>5</td>\n",
              "      <td>Rosie, Dakota, and I LOVE Chaparral Dog Park!!...</td>\n",
              "      <td>review</td>\n",
              "      <td>uZetl9T0NcROGOyFfughhg</td>\n",
              "      <td>1</td>\n",
              "      <td>2</td>\n",
              "      <td>0</td>\n",
              "      <td>419</td>\n",
              "    </tr>\n",
              "    <tr>\n",
              "      <th>4</th>\n",
              "      <td>6ozycU1RpktNG2-1BroVtw</td>\n",
              "      <td>2012-01-05</td>\n",
              "      <td>1uJFq2r5QfJG_6ExMRCaGw</td>\n",
              "      <td>5</td>\n",
              "      <td>General Manager Scott Petello is a good egg!!!...</td>\n",
              "      <td>review</td>\n",
              "      <td>vYmM4KTsC8ZfQBg-j5MWkw</td>\n",
              "      <td>0</td>\n",
              "      <td>0</td>\n",
              "      <td>0</td>\n",
              "      <td>469</td>\n",
              "    </tr>\n",
              "    <tr>\n",
              "      <th>6</th>\n",
              "      <td>zp713qNhx8d9KCJJnrw1xA</td>\n",
              "      <td>2010-02-12</td>\n",
              "      <td>riFQ3vxNpP4rWLk_CSri2A</td>\n",
              "      <td>5</td>\n",
              "      <td>Drop what you're doing and drive here. After I...</td>\n",
              "      <td>review</td>\n",
              "      <td>wFweIWhv2fREZV_dYkz_1g</td>\n",
              "      <td>7</td>\n",
              "      <td>7</td>\n",
              "      <td>4</td>\n",
              "      <td>1565</td>\n",
              "    </tr>\n",
              "    <tr>\n",
              "      <th>...</th>\n",
              "      <td>...</td>\n",
              "      <td>...</td>\n",
              "      <td>...</td>\n",
              "      <td>...</td>\n",
              "      <td>...</td>\n",
              "      <td>...</td>\n",
              "      <td>...</td>\n",
              "      <td>...</td>\n",
              "      <td>...</td>\n",
              "      <td>...</td>\n",
              "      <td>...</td>\n",
              "    </tr>\n",
              "    <tr>\n",
              "      <th>9990</th>\n",
              "      <td>R8VwdLyvsp9iybNqRvm94g</td>\n",
              "      <td>2011-10-03</td>\n",
              "      <td>pcEeHdAJPoFNF23es0kKWg</td>\n",
              "      <td>5</td>\n",
              "      <td>Yes I do rock the hipster joints.  I dig this ...</td>\n",
              "      <td>review</td>\n",
              "      <td>b92Y3tyWTQQZ5FLifex62Q</td>\n",
              "      <td>1</td>\n",
              "      <td>1</td>\n",
              "      <td>1</td>\n",
              "      <td>263</td>\n",
              "    </tr>\n",
              "    <tr>\n",
              "      <th>9991</th>\n",
              "      <td>WJ5mq4EiWYAA4Vif0xDfdg</td>\n",
              "      <td>2011-12-05</td>\n",
              "      <td>EuHX-39FR7tyyG1ElvN1Jw</td>\n",
              "      <td>5</td>\n",
              "      <td>Only 4 stars? \\n\\n(A few notes: The folks that...</td>\n",
              "      <td>review</td>\n",
              "      <td>hTau-iNZFwoNsPCaiIUTEA</td>\n",
              "      <td>1</td>\n",
              "      <td>1</td>\n",
              "      <td>0</td>\n",
              "      <td>908</td>\n",
              "    </tr>\n",
              "    <tr>\n",
              "      <th>9992</th>\n",
              "      <td>f96lWMIAUhYIYy9gOktivQ</td>\n",
              "      <td>2009-03-10</td>\n",
              "      <td>YF17z7HWlMj6aezZc-pVEw</td>\n",
              "      <td>5</td>\n",
              "      <td>I'm not normally one to jump at reviewing a ch...</td>\n",
              "      <td>review</td>\n",
              "      <td>W_QXYA7A0IhMrvbckz7eVg</td>\n",
              "      <td>2</td>\n",
              "      <td>3</td>\n",
              "      <td>2</td>\n",
              "      <td>1326</td>\n",
              "    </tr>\n",
              "    <tr>\n",
              "      <th>9994</th>\n",
              "      <td>L3BSpFvxcNf3T_teitgt6A</td>\n",
              "      <td>2012-03-19</td>\n",
              "      <td>0nxb1gIGFgk3WbC5zwhKZg</td>\n",
              "      <td>5</td>\n",
              "      <td>Let's see...what is there NOT to like about Su...</td>\n",
              "      <td>review</td>\n",
              "      <td>OzOZv-Knlw3oz9K5Kh5S6A</td>\n",
              "      <td>1</td>\n",
              "      <td>2</td>\n",
              "      <td>1</td>\n",
              "      <td>1968</td>\n",
              "    </tr>\n",
              "    <tr>\n",
              "      <th>9999</th>\n",
              "      <td>pF7uRzygyZsltbmVpjIyvw</td>\n",
              "      <td>2010-10-16</td>\n",
              "      <td>vWSmOhg2ID1MNZHaWapGbA</td>\n",
              "      <td>5</td>\n",
              "      <td>4-5 locations.. all 4.5 star average.. I think...</td>\n",
              "      <td>review</td>\n",
              "      <td>KSBFytcdjPKZgXKQnYQdkA</td>\n",
              "      <td>0</td>\n",
              "      <td>0</td>\n",
              "      <td>0</td>\n",
              "      <td>461</td>\n",
              "    </tr>\n",
              "  </tbody>\n",
              "</table>\n",
              "<p>3337 rows × 11 columns</p>\n",
              "</div>\n",
              "      <button class=\"colab-df-convert\" onclick=\"convertToInteractive('df-e61c4eae-e87a-45a9-8165-c47f91fe7c06')\"\n",
              "              title=\"Convert this dataframe to an interactive table.\"\n",
              "              style=\"display:none;\">\n",
              "\n",
              "  <svg xmlns=\"http://www.w3.org/2000/svg\" height=\"24px\"viewBox=\"0 0 24 24\"\n",
              "       width=\"24px\">\n",
              "    <path d=\"M0 0h24v24H0V0z\" fill=\"none\"/>\n",
              "    <path d=\"M18.56 5.44l.94 2.06.94-2.06 2.06-.94-2.06-.94-.94-2.06-.94 2.06-2.06.94zm-11 1L8.5 8.5l.94-2.06 2.06-.94-2.06-.94L8.5 2.5l-.94 2.06-2.06.94zm10 10l.94 2.06.94-2.06 2.06-.94-2.06-.94-.94-2.06-.94 2.06-2.06.94z\"/><path d=\"M17.41 7.96l-1.37-1.37c-.4-.4-.92-.59-1.43-.59-.52 0-1.04.2-1.43.59L10.3 9.45l-7.72 7.72c-.78.78-.78 2.05 0 2.83L4 21.41c.39.39.9.59 1.41.59.51 0 1.02-.2 1.41-.59l7.78-7.78 2.81-2.81c.8-.78.8-2.07 0-2.86zM5.41 20L4 18.59l7.72-7.72 1.47 1.35L5.41 20z\"/>\n",
              "  </svg>\n",
              "      </button>\n",
              "\n",
              "\n",
              "\n",
              "    <div id=\"df-332f9e63-c563-4cc9-b63b-30cbae90f383\">\n",
              "      <button class=\"colab-df-quickchart\" onclick=\"quickchart('df-332f9e63-c563-4cc9-b63b-30cbae90f383')\"\n",
              "              title=\"Suggest charts.\"\n",
              "              style=\"display:none;\">\n",
              "\n",
              "<svg xmlns=\"http://www.w3.org/2000/svg\" height=\"24px\"viewBox=\"0 0 24 24\"\n",
              "     width=\"24px\">\n",
              "    <g>\n",
              "        <path d=\"M19 3H5c-1.1 0-2 .9-2 2v14c0 1.1.9 2 2 2h14c1.1 0 2-.9 2-2V5c0-1.1-.9-2-2-2zM9 17H7v-7h2v7zm4 0h-2V7h2v10zm4 0h-2v-4h2v4z\"/>\n",
              "    </g>\n",
              "</svg>\n",
              "      </button>\n",
              "    </div>\n",
              "\n",
              "<style>\n",
              "  .colab-df-quickchart {\n",
              "    background-color: #E8F0FE;\n",
              "    border: none;\n",
              "    border-radius: 50%;\n",
              "    cursor: pointer;\n",
              "    display: none;\n",
              "    fill: #1967D2;\n",
              "    height: 32px;\n",
              "    padding: 0 0 0 0;\n",
              "    width: 32px;\n",
              "  }\n",
              "\n",
              "  .colab-df-quickchart:hover {\n",
              "    background-color: #E2EBFA;\n",
              "    box-shadow: 0px 1px 2px rgba(60, 64, 67, 0.3), 0px 1px 3px 1px rgba(60, 64, 67, 0.15);\n",
              "    fill: #174EA6;\n",
              "  }\n",
              "\n",
              "  [theme=dark] .colab-df-quickchart {\n",
              "    background-color: #3B4455;\n",
              "    fill: #D2E3FC;\n",
              "  }\n",
              "\n",
              "  [theme=dark] .colab-df-quickchart:hover {\n",
              "    background-color: #434B5C;\n",
              "    box-shadow: 0px 1px 3px 1px rgba(0, 0, 0, 0.15);\n",
              "    filter: drop-shadow(0px 1px 2px rgba(0, 0, 0, 0.3));\n",
              "    fill: #FFFFFF;\n",
              "  }\n",
              "</style>\n",
              "\n",
              "    <script>\n",
              "      async function quickchart(key) {\n",
              "        const containerElement = document.querySelector('#' + key);\n",
              "        const charts = await google.colab.kernel.invokeFunction(\n",
              "            'suggestCharts', [key], {});\n",
              "      }\n",
              "    </script>\n",
              "\n",
              "      <script>\n",
              "\n",
              "function displayQuickchartButton(domScope) {\n",
              "  let quickchartButtonEl =\n",
              "    domScope.querySelector('#df-332f9e63-c563-4cc9-b63b-30cbae90f383 button.colab-df-quickchart');\n",
              "  quickchartButtonEl.style.display =\n",
              "    google.colab.kernel.accessAllowed ? 'block' : 'none';\n",
              "}\n",
              "\n",
              "        displayQuickchartButton(document);\n",
              "      </script>\n",
              "      <style>\n",
              "    .colab-df-container {\n",
              "      display:flex;\n",
              "      flex-wrap:wrap;\n",
              "      gap: 12px;\n",
              "    }\n",
              "\n",
              "    .colab-df-convert {\n",
              "      background-color: #E8F0FE;\n",
              "      border: none;\n",
              "      border-radius: 50%;\n",
              "      cursor: pointer;\n",
              "      display: none;\n",
              "      fill: #1967D2;\n",
              "      height: 32px;\n",
              "      padding: 0 0 0 0;\n",
              "      width: 32px;\n",
              "    }\n",
              "\n",
              "    .colab-df-convert:hover {\n",
              "      background-color: #E2EBFA;\n",
              "      box-shadow: 0px 1px 2px rgba(60, 64, 67, 0.3), 0px 1px 3px 1px rgba(60, 64, 67, 0.15);\n",
              "      fill: #174EA6;\n",
              "    }\n",
              "\n",
              "    [theme=dark] .colab-df-convert {\n",
              "      background-color: #3B4455;\n",
              "      fill: #D2E3FC;\n",
              "    }\n",
              "\n",
              "    [theme=dark] .colab-df-convert:hover {\n",
              "      background-color: #434B5C;\n",
              "      box-shadow: 0px 1px 3px 1px rgba(0, 0, 0, 0.15);\n",
              "      filter: drop-shadow(0px 1px 2px rgba(0, 0, 0, 0.3));\n",
              "      fill: #FFFFFF;\n",
              "    }\n",
              "  </style>\n",
              "\n",
              "      <script>\n",
              "        const buttonEl =\n",
              "          document.querySelector('#df-e61c4eae-e87a-45a9-8165-c47f91fe7c06 button.colab-df-convert');\n",
              "        buttonEl.style.display =\n",
              "          google.colab.kernel.accessAllowed ? 'block' : 'none';\n",
              "\n",
              "        async function convertToInteractive(key) {\n",
              "          const element = document.querySelector('#df-e61c4eae-e87a-45a9-8165-c47f91fe7c06');\n",
              "          const dataTable =\n",
              "            await google.colab.kernel.invokeFunction('convertToInteractive',\n",
              "                                                     [key], {});\n",
              "          if (!dataTable) return;\n",
              "\n",
              "          const docLinkHtml = 'Like what you see? Visit the ' +\n",
              "            '<a target=\"_blank\" href=https://colab.research.google.com/notebooks/data_table.ipynb>data table notebook</a>'\n",
              "            + ' to learn more about interactive tables.';\n",
              "          element.innerHTML = '';\n",
              "          dataTable['output_type'] = 'display_data';\n",
              "          await google.colab.output.renderOutput(dataTable, element);\n",
              "          const docLink = document.createElement('div');\n",
              "          docLink.innerHTML = docLinkHtml;\n",
              "          element.appendChild(docLink);\n",
              "        }\n",
              "      </script>\n",
              "    </div>\n",
              "  </div>\n"
            ]
          },
          "metadata": {},
          "execution_count": 23
        }
      ]
    },
    {
      "cell_type": "markdown",
      "source": [
        "## **combining the dataframe with 0ne and five star reviews**\n"
      ],
      "metadata": {
        "id": "FTM84O_9oU6A"
      }
    },
    {
      "cell_type": "code",
      "source": [
        "yelp_df_1_5 = pd.concat([yelp_df_1 , yelp_df_5])"
      ],
      "metadata": {
        "id": "HNAO8zqgoBr4"
      },
      "execution_count": 24,
      "outputs": []
    },
    {
      "cell_type": "code",
      "source": [
        "yelp_df_1_5"
      ],
      "metadata": {
        "colab": {
          "base_uri": "https://localhost:8080/",
          "height": 424
        },
        "id": "26aIdSfeoTiu",
        "outputId": "7e347da4-1421-4ce8-9e36-9967beb95ea4"
      },
      "execution_count": 25,
      "outputs": [
        {
          "output_type": "execute_result",
          "data": {
            "text/plain": [
              "                 business_id        date               review_id  stars  \\\n",
              "23    IJ0o6b8bJFAbG6MjGfBebQ  2010-09-05  Dx9sfFU6Zn0GYOckijom-g      1   \n",
              "31    vvA3fbps4F9nGlAEYKk_sA  2012-05-04  S9OVpXat8k5YwWCn6FAgXg      1   \n",
              "35    o1GIYYZJjM6nM03fQs_uEQ  2011-11-30  ApKbwpYJdnhhgP4NbjQw2Q      1   \n",
              "61    l4vBbCL9QbGiwLuLKwD_bA  2011-11-22  DJVxOfj2Rw9zklC9tU3i1w      1   \n",
              "64    CEswyP-9SsXRNLR9fFGKKw  2012-05-19  GXj4PNAi095-q9ynPYH3kg      1   \n",
              "...                      ...         ...                     ...    ...   \n",
              "9990  R8VwdLyvsp9iybNqRvm94g  2011-10-03  pcEeHdAJPoFNF23es0kKWg      5   \n",
              "9991  WJ5mq4EiWYAA4Vif0xDfdg  2011-12-05  EuHX-39FR7tyyG1ElvN1Jw      5   \n",
              "9992  f96lWMIAUhYIYy9gOktivQ  2009-03-10  YF17z7HWlMj6aezZc-pVEw      5   \n",
              "9994  L3BSpFvxcNf3T_teitgt6A  2012-03-19  0nxb1gIGFgk3WbC5zwhKZg      5   \n",
              "9999  pF7uRzygyZsltbmVpjIyvw  2010-10-16  vWSmOhg2ID1MNZHaWapGbA      5   \n",
              "\n",
              "                                                   text    type  \\\n",
              "23    U can go there n check the car out. If u wanna...  review   \n",
              "31    Disgusting!  Had a Groupon so my daughter and ...  review   \n",
              "35    I've eaten here many times, but none as bad as...  review   \n",
              "61    I have always been a fan of Burlington's deals...  review   \n",
              "64    Another night meeting friends here.  I have to...  review   \n",
              "...                                                 ...     ...   \n",
              "9990  Yes I do rock the hipster joints.  I dig this ...  review   \n",
              "9991  Only 4 stars? \\n\\n(A few notes: The folks that...  review   \n",
              "9992  I'm not normally one to jump at reviewing a ch...  review   \n",
              "9994  Let's see...what is there NOT to like about Su...  review   \n",
              "9999  4-5 locations.. all 4.5 star average.. I think...  review   \n",
              "\n",
              "                     user_id  cool  useful  funny  length  \n",
              "23    zRlQEDYd_HKp0VS3hnAffA     0       1      1     594  \n",
              "31    8AMn6644NmBf96xGO3w6OA     0       1      0     361  \n",
              "35    iwUN95LIaEr75TZE_JC6bg     0       4      3    1198  \n",
              "61    EPROVap0M19Y6_4uf3eCmQ     0       0      0     569  \n",
              "64    MjLAe48XNfYlTeFYca5gMw     0       1      2     498  \n",
              "...                      ...   ...     ...    ...     ...  \n",
              "9990  b92Y3tyWTQQZ5FLifex62Q     1       1      1     263  \n",
              "9991  hTau-iNZFwoNsPCaiIUTEA     1       1      0     908  \n",
              "9992  W_QXYA7A0IhMrvbckz7eVg     2       3      2    1326  \n",
              "9994  OzOZv-Knlw3oz9K5Kh5S6A     1       2      1    1968  \n",
              "9999  KSBFytcdjPKZgXKQnYQdkA     0       0      0     461  \n",
              "\n",
              "[4086 rows x 11 columns]"
            ],
            "text/html": [
              "\n",
              "\n",
              "  <div id=\"df-58d4ab69-bd78-498b-8265-a9c6f32d013d\">\n",
              "    <div class=\"colab-df-container\">\n",
              "      <div>\n",
              "<style scoped>\n",
              "    .dataframe tbody tr th:only-of-type {\n",
              "        vertical-align: middle;\n",
              "    }\n",
              "\n",
              "    .dataframe tbody tr th {\n",
              "        vertical-align: top;\n",
              "    }\n",
              "\n",
              "    .dataframe thead th {\n",
              "        text-align: right;\n",
              "    }\n",
              "</style>\n",
              "<table border=\"1\" class=\"dataframe\">\n",
              "  <thead>\n",
              "    <tr style=\"text-align: right;\">\n",
              "      <th></th>\n",
              "      <th>business_id</th>\n",
              "      <th>date</th>\n",
              "      <th>review_id</th>\n",
              "      <th>stars</th>\n",
              "      <th>text</th>\n",
              "      <th>type</th>\n",
              "      <th>user_id</th>\n",
              "      <th>cool</th>\n",
              "      <th>useful</th>\n",
              "      <th>funny</th>\n",
              "      <th>length</th>\n",
              "    </tr>\n",
              "  </thead>\n",
              "  <tbody>\n",
              "    <tr>\n",
              "      <th>23</th>\n",
              "      <td>IJ0o6b8bJFAbG6MjGfBebQ</td>\n",
              "      <td>2010-09-05</td>\n",
              "      <td>Dx9sfFU6Zn0GYOckijom-g</td>\n",
              "      <td>1</td>\n",
              "      <td>U can go there n check the car out. If u wanna...</td>\n",
              "      <td>review</td>\n",
              "      <td>zRlQEDYd_HKp0VS3hnAffA</td>\n",
              "      <td>0</td>\n",
              "      <td>1</td>\n",
              "      <td>1</td>\n",
              "      <td>594</td>\n",
              "    </tr>\n",
              "    <tr>\n",
              "      <th>31</th>\n",
              "      <td>vvA3fbps4F9nGlAEYKk_sA</td>\n",
              "      <td>2012-05-04</td>\n",
              "      <td>S9OVpXat8k5YwWCn6FAgXg</td>\n",
              "      <td>1</td>\n",
              "      <td>Disgusting!  Had a Groupon so my daughter and ...</td>\n",
              "      <td>review</td>\n",
              "      <td>8AMn6644NmBf96xGO3w6OA</td>\n",
              "      <td>0</td>\n",
              "      <td>1</td>\n",
              "      <td>0</td>\n",
              "      <td>361</td>\n",
              "    </tr>\n",
              "    <tr>\n",
              "      <th>35</th>\n",
              "      <td>o1GIYYZJjM6nM03fQs_uEQ</td>\n",
              "      <td>2011-11-30</td>\n",
              "      <td>ApKbwpYJdnhhgP4NbjQw2Q</td>\n",
              "      <td>1</td>\n",
              "      <td>I've eaten here many times, but none as bad as...</td>\n",
              "      <td>review</td>\n",
              "      <td>iwUN95LIaEr75TZE_JC6bg</td>\n",
              "      <td>0</td>\n",
              "      <td>4</td>\n",
              "      <td>3</td>\n",
              "      <td>1198</td>\n",
              "    </tr>\n",
              "    <tr>\n",
              "      <th>61</th>\n",
              "      <td>l4vBbCL9QbGiwLuLKwD_bA</td>\n",
              "      <td>2011-11-22</td>\n",
              "      <td>DJVxOfj2Rw9zklC9tU3i1w</td>\n",
              "      <td>1</td>\n",
              "      <td>I have always been a fan of Burlington's deals...</td>\n",
              "      <td>review</td>\n",
              "      <td>EPROVap0M19Y6_4uf3eCmQ</td>\n",
              "      <td>0</td>\n",
              "      <td>0</td>\n",
              "      <td>0</td>\n",
              "      <td>569</td>\n",
              "    </tr>\n",
              "    <tr>\n",
              "      <th>64</th>\n",
              "      <td>CEswyP-9SsXRNLR9fFGKKw</td>\n",
              "      <td>2012-05-19</td>\n",
              "      <td>GXj4PNAi095-q9ynPYH3kg</td>\n",
              "      <td>1</td>\n",
              "      <td>Another night meeting friends here.  I have to...</td>\n",
              "      <td>review</td>\n",
              "      <td>MjLAe48XNfYlTeFYca5gMw</td>\n",
              "      <td>0</td>\n",
              "      <td>1</td>\n",
              "      <td>2</td>\n",
              "      <td>498</td>\n",
              "    </tr>\n",
              "    <tr>\n",
              "      <th>...</th>\n",
              "      <td>...</td>\n",
              "      <td>...</td>\n",
              "      <td>...</td>\n",
              "      <td>...</td>\n",
              "      <td>...</td>\n",
              "      <td>...</td>\n",
              "      <td>...</td>\n",
              "      <td>...</td>\n",
              "      <td>...</td>\n",
              "      <td>...</td>\n",
              "      <td>...</td>\n",
              "    </tr>\n",
              "    <tr>\n",
              "      <th>9990</th>\n",
              "      <td>R8VwdLyvsp9iybNqRvm94g</td>\n",
              "      <td>2011-10-03</td>\n",
              "      <td>pcEeHdAJPoFNF23es0kKWg</td>\n",
              "      <td>5</td>\n",
              "      <td>Yes I do rock the hipster joints.  I dig this ...</td>\n",
              "      <td>review</td>\n",
              "      <td>b92Y3tyWTQQZ5FLifex62Q</td>\n",
              "      <td>1</td>\n",
              "      <td>1</td>\n",
              "      <td>1</td>\n",
              "      <td>263</td>\n",
              "    </tr>\n",
              "    <tr>\n",
              "      <th>9991</th>\n",
              "      <td>WJ5mq4EiWYAA4Vif0xDfdg</td>\n",
              "      <td>2011-12-05</td>\n",
              "      <td>EuHX-39FR7tyyG1ElvN1Jw</td>\n",
              "      <td>5</td>\n",
              "      <td>Only 4 stars? \\n\\n(A few notes: The folks that...</td>\n",
              "      <td>review</td>\n",
              "      <td>hTau-iNZFwoNsPCaiIUTEA</td>\n",
              "      <td>1</td>\n",
              "      <td>1</td>\n",
              "      <td>0</td>\n",
              "      <td>908</td>\n",
              "    </tr>\n",
              "    <tr>\n",
              "      <th>9992</th>\n",
              "      <td>f96lWMIAUhYIYy9gOktivQ</td>\n",
              "      <td>2009-03-10</td>\n",
              "      <td>YF17z7HWlMj6aezZc-pVEw</td>\n",
              "      <td>5</td>\n",
              "      <td>I'm not normally one to jump at reviewing a ch...</td>\n",
              "      <td>review</td>\n",
              "      <td>W_QXYA7A0IhMrvbckz7eVg</td>\n",
              "      <td>2</td>\n",
              "      <td>3</td>\n",
              "      <td>2</td>\n",
              "      <td>1326</td>\n",
              "    </tr>\n",
              "    <tr>\n",
              "      <th>9994</th>\n",
              "      <td>L3BSpFvxcNf3T_teitgt6A</td>\n",
              "      <td>2012-03-19</td>\n",
              "      <td>0nxb1gIGFgk3WbC5zwhKZg</td>\n",
              "      <td>5</td>\n",
              "      <td>Let's see...what is there NOT to like about Su...</td>\n",
              "      <td>review</td>\n",
              "      <td>OzOZv-Knlw3oz9K5Kh5S6A</td>\n",
              "      <td>1</td>\n",
              "      <td>2</td>\n",
              "      <td>1</td>\n",
              "      <td>1968</td>\n",
              "    </tr>\n",
              "    <tr>\n",
              "      <th>9999</th>\n",
              "      <td>pF7uRzygyZsltbmVpjIyvw</td>\n",
              "      <td>2010-10-16</td>\n",
              "      <td>vWSmOhg2ID1MNZHaWapGbA</td>\n",
              "      <td>5</td>\n",
              "      <td>4-5 locations.. all 4.5 star average.. I think...</td>\n",
              "      <td>review</td>\n",
              "      <td>KSBFytcdjPKZgXKQnYQdkA</td>\n",
              "      <td>0</td>\n",
              "      <td>0</td>\n",
              "      <td>0</td>\n",
              "      <td>461</td>\n",
              "    </tr>\n",
              "  </tbody>\n",
              "</table>\n",
              "<p>4086 rows × 11 columns</p>\n",
              "</div>\n",
              "      <button class=\"colab-df-convert\" onclick=\"convertToInteractive('df-58d4ab69-bd78-498b-8265-a9c6f32d013d')\"\n",
              "              title=\"Convert this dataframe to an interactive table.\"\n",
              "              style=\"display:none;\">\n",
              "\n",
              "  <svg xmlns=\"http://www.w3.org/2000/svg\" height=\"24px\"viewBox=\"0 0 24 24\"\n",
              "       width=\"24px\">\n",
              "    <path d=\"M0 0h24v24H0V0z\" fill=\"none\"/>\n",
              "    <path d=\"M18.56 5.44l.94 2.06.94-2.06 2.06-.94-2.06-.94-.94-2.06-.94 2.06-2.06.94zm-11 1L8.5 8.5l.94-2.06 2.06-.94-2.06-.94L8.5 2.5l-.94 2.06-2.06.94zm10 10l.94 2.06.94-2.06 2.06-.94-2.06-.94-.94-2.06-.94 2.06-2.06.94z\"/><path d=\"M17.41 7.96l-1.37-1.37c-.4-.4-.92-.59-1.43-.59-.52 0-1.04.2-1.43.59L10.3 9.45l-7.72 7.72c-.78.78-.78 2.05 0 2.83L4 21.41c.39.39.9.59 1.41.59.51 0 1.02-.2 1.41-.59l7.78-7.78 2.81-2.81c.8-.78.8-2.07 0-2.86zM5.41 20L4 18.59l7.72-7.72 1.47 1.35L5.41 20z\"/>\n",
              "  </svg>\n",
              "      </button>\n",
              "\n",
              "\n",
              "\n",
              "    <div id=\"df-7dcd845d-d2ec-4999-b5f7-b8483563ab8c\">\n",
              "      <button class=\"colab-df-quickchart\" onclick=\"quickchart('df-7dcd845d-d2ec-4999-b5f7-b8483563ab8c')\"\n",
              "              title=\"Suggest charts.\"\n",
              "              style=\"display:none;\">\n",
              "\n",
              "<svg xmlns=\"http://www.w3.org/2000/svg\" height=\"24px\"viewBox=\"0 0 24 24\"\n",
              "     width=\"24px\">\n",
              "    <g>\n",
              "        <path d=\"M19 3H5c-1.1 0-2 .9-2 2v14c0 1.1.9 2 2 2h14c1.1 0 2-.9 2-2V5c0-1.1-.9-2-2-2zM9 17H7v-7h2v7zm4 0h-2V7h2v10zm4 0h-2v-4h2v4z\"/>\n",
              "    </g>\n",
              "</svg>\n",
              "      </button>\n",
              "    </div>\n",
              "\n",
              "<style>\n",
              "  .colab-df-quickchart {\n",
              "    background-color: #E8F0FE;\n",
              "    border: none;\n",
              "    border-radius: 50%;\n",
              "    cursor: pointer;\n",
              "    display: none;\n",
              "    fill: #1967D2;\n",
              "    height: 32px;\n",
              "    padding: 0 0 0 0;\n",
              "    width: 32px;\n",
              "  }\n",
              "\n",
              "  .colab-df-quickchart:hover {\n",
              "    background-color: #E2EBFA;\n",
              "    box-shadow: 0px 1px 2px rgba(60, 64, 67, 0.3), 0px 1px 3px 1px rgba(60, 64, 67, 0.15);\n",
              "    fill: #174EA6;\n",
              "  }\n",
              "\n",
              "  [theme=dark] .colab-df-quickchart {\n",
              "    background-color: #3B4455;\n",
              "    fill: #D2E3FC;\n",
              "  }\n",
              "\n",
              "  [theme=dark] .colab-df-quickchart:hover {\n",
              "    background-color: #434B5C;\n",
              "    box-shadow: 0px 1px 3px 1px rgba(0, 0, 0, 0.15);\n",
              "    filter: drop-shadow(0px 1px 2px rgba(0, 0, 0, 0.3));\n",
              "    fill: #FFFFFF;\n",
              "  }\n",
              "</style>\n",
              "\n",
              "    <script>\n",
              "      async function quickchart(key) {\n",
              "        const containerElement = document.querySelector('#' + key);\n",
              "        const charts = await google.colab.kernel.invokeFunction(\n",
              "            'suggestCharts', [key], {});\n",
              "      }\n",
              "    </script>\n",
              "\n",
              "      <script>\n",
              "\n",
              "function displayQuickchartButton(domScope) {\n",
              "  let quickchartButtonEl =\n",
              "    domScope.querySelector('#df-7dcd845d-d2ec-4999-b5f7-b8483563ab8c button.colab-df-quickchart');\n",
              "  quickchartButtonEl.style.display =\n",
              "    google.colab.kernel.accessAllowed ? 'block' : 'none';\n",
              "}\n",
              "\n",
              "        displayQuickchartButton(document);\n",
              "      </script>\n",
              "      <style>\n",
              "    .colab-df-container {\n",
              "      display:flex;\n",
              "      flex-wrap:wrap;\n",
              "      gap: 12px;\n",
              "    }\n",
              "\n",
              "    .colab-df-convert {\n",
              "      background-color: #E8F0FE;\n",
              "      border: none;\n",
              "      border-radius: 50%;\n",
              "      cursor: pointer;\n",
              "      display: none;\n",
              "      fill: #1967D2;\n",
              "      height: 32px;\n",
              "      padding: 0 0 0 0;\n",
              "      width: 32px;\n",
              "    }\n",
              "\n",
              "    .colab-df-convert:hover {\n",
              "      background-color: #E2EBFA;\n",
              "      box-shadow: 0px 1px 2px rgba(60, 64, 67, 0.3), 0px 1px 3px 1px rgba(60, 64, 67, 0.15);\n",
              "      fill: #174EA6;\n",
              "    }\n",
              "\n",
              "    [theme=dark] .colab-df-convert {\n",
              "      background-color: #3B4455;\n",
              "      fill: #D2E3FC;\n",
              "    }\n",
              "\n",
              "    [theme=dark] .colab-df-convert:hover {\n",
              "      background-color: #434B5C;\n",
              "      box-shadow: 0px 1px 3px 1px rgba(0, 0, 0, 0.15);\n",
              "      filter: drop-shadow(0px 1px 2px rgba(0, 0, 0, 0.3));\n",
              "      fill: #FFFFFF;\n",
              "    }\n",
              "  </style>\n",
              "\n",
              "      <script>\n",
              "        const buttonEl =\n",
              "          document.querySelector('#df-58d4ab69-bd78-498b-8265-a9c6f32d013d button.colab-df-convert');\n",
              "        buttonEl.style.display =\n",
              "          google.colab.kernel.accessAllowed ? 'block' : 'none';\n",
              "\n",
              "        async function convertToInteractive(key) {\n",
              "          const element = document.querySelector('#df-58d4ab69-bd78-498b-8265-a9c6f32d013d');\n",
              "          const dataTable =\n",
              "            await google.colab.kernel.invokeFunction('convertToInteractive',\n",
              "                                                     [key], {});\n",
              "          if (!dataTable) return;\n",
              "\n",
              "          const docLinkHtml = 'Like what you see? Visit the ' +\n",
              "            '<a target=\"_blank\" href=https://colab.research.google.com/notebooks/data_table.ipynb>data table notebook</a>'\n",
              "            + ' to learn more about interactive tables.';\n",
              "          element.innerHTML = '';\n",
              "          dataTable['output_type'] = 'display_data';\n",
              "          await google.colab.output.renderOutput(dataTable, element);\n",
              "          const docLink = document.createElement('div');\n",
              "          docLink.innerHTML = docLinkHtml;\n",
              "          element.appendChild(docLink);\n",
              "        }\n",
              "      </script>\n",
              "    </div>\n",
              "  </div>\n"
            ]
          },
          "metadata": {},
          "execution_count": 25
        }
      ]
    },
    {
      "cell_type": "code",
      "source": [
        "yelp_df_1_5.info()"
      ],
      "metadata": {
        "colab": {
          "base_uri": "https://localhost:8080/"
        },
        "id": "vNj4ZYWBohS0",
        "outputId": "d733eac9-c6eb-4294-f548-74433677f068"
      },
      "execution_count": 26,
      "outputs": [
        {
          "output_type": "stream",
          "name": "stdout",
          "text": [
            "<class 'pandas.core.frame.DataFrame'>\n",
            "Int64Index: 4086 entries, 23 to 9999\n",
            "Data columns (total 11 columns):\n",
            " #   Column       Non-Null Count  Dtype \n",
            "---  ------       --------------  ----- \n",
            " 0   business_id  4086 non-null   object\n",
            " 1   date         4086 non-null   object\n",
            " 2   review_id    4086 non-null   object\n",
            " 3   stars        4086 non-null   int64 \n",
            " 4   text         4086 non-null   object\n",
            " 5   type         4086 non-null   object\n",
            " 6   user_id      4086 non-null   object\n",
            " 7   cool         4086 non-null   int64 \n",
            " 8   useful       4086 non-null   int64 \n",
            " 9   funny        4086 non-null   int64 \n",
            " 10  length       4086 non-null   int64 \n",
            "dtypes: int64(5), object(6)\n",
            "memory usage: 383.1+ KB\n"
          ]
        }
      ]
    },
    {
      "cell_type": "markdown",
      "source": [
        "## percentafe of count of reviews for one and five star reviews"
      ],
      "metadata": {
        "id": "hnQeHzgTpONu"
      }
    },
    {
      "cell_type": "code",
      "source": [
        "print( '1-Stars percentage =', (len(yelp_df_1) / len(yelp_df_1_5) )*100,\"%\")"
      ],
      "metadata": {
        "colab": {
          "base_uri": "https://localhost:8080/"
        },
        "id": "NuxzsJ6AooYy",
        "outputId": "7333aa28-f3e4-4d3f-974d-060570753739"
      },
      "execution_count": 27,
      "outputs": [
        {
          "output_type": "stream",
          "name": "stdout",
          "text": [
            "1-Stars percentage = 18.330885952031327 %\n"
          ]
        }
      ]
    },
    {
      "cell_type": "code",
      "source": [
        "print( '5-Stars percentage =', (len(yelp_df_5) / len(yelp_df_1_5) )*100,\"%\")"
      ],
      "metadata": {
        "colab": {
          "base_uri": "https://localhost:8080/"
        },
        "id": "xCTRWVg3pG8S",
        "outputId": "8cda75a5-f459-48ea-ba45-e37119efdfc0"
      },
      "execution_count": 28,
      "outputs": [
        {
          "output_type": "stream",
          "name": "stdout",
          "text": [
            "5-Stars percentage = 81.66911404796868 %\n"
          ]
        }
      ]
    },
    {
      "cell_type": "code",
      "source": [
        "yelp_df_1_5['stars']"
      ],
      "metadata": {
        "colab": {
          "base_uri": "https://localhost:8080/"
        },
        "id": "drIjJzuAqAaA",
        "outputId": "32df7cff-45b7-4bce-af34-116bc7f66dfc"
      },
      "execution_count": 29,
      "outputs": [
        {
          "output_type": "execute_result",
          "data": {
            "text/plain": [
              "23      1\n",
              "31      1\n",
              "35      1\n",
              "61      1\n",
              "64      1\n",
              "       ..\n",
              "9990    5\n",
              "9991    5\n",
              "9992    5\n",
              "9994    5\n",
              "9999    5\n",
              "Name: stars, Length: 4086, dtype: int64"
            ]
          },
          "metadata": {},
          "execution_count": 29
        }
      ]
    },
    {
      "cell_type": "code",
      "source": [
        "sns.countplot(x=yelp_df_1_5['stars'])"
      ],
      "metadata": {
        "colab": {
          "base_uri": "https://localhost:8080/",
          "height": 471
        },
        "id": "IYmASJUxpLl-",
        "outputId": "a5fac434-5ea5-4c19-b3c7-f2eb92e1ce2b"
      },
      "execution_count": 30,
      "outputs": [
        {
          "output_type": "execute_result",
          "data": {
            "text/plain": [
              "<Axes: xlabel='stars', ylabel='count'>"
            ]
          },
          "metadata": {},
          "execution_count": 30
        },
        {
          "output_type": "display_data",
          "data": {
            "text/plain": [
              "<Figure size 640x480 with 1 Axes>"
            ],
            "image/png": "[encoded data removed]"
          },
          "metadata": {}
        }
      ]
    },
    {
      "cell_type": "markdown",
      "source": [
        "# **CREATE TESTING AND TRAINING DATASET/DATA CLEANING**"
      ],
      "metadata": {
        "id": "TQhL4hlxsWen"
      }
    },
    {
      "cell_type": "markdown",
      "source": [
        "## **REMOVE PUNCTUATION**"
      ],
      "metadata": {
        "id": "nPXZhcjwshLH"
      }
    },
    {
      "cell_type": "code",
      "source": [
        "import string\n",
        "string.punctuation"
      ],
      "metadata": {
        "colab": {
          "base_uri": "https://localhost:8080/",
          "height": 36
        },
        "id": "HWQbxdp9phFS",
        "outputId": "e86deb1a-42e0-4f7e-de3c-7f79af714c82"
      },
      "execution_count": 31,
      "outputs": [
        {
          "output_type": "execute_result",
          "data": {
            "text/plain": [
              "'!\"#$%&\\'()*+,-./:;<=>?@[\\\\]^_`{|}~'"
            ],
            "application/vnd.google.colaboratory.intrinsic+json": {
              "type": "string"
            }
          },
          "metadata": {},
          "execution_count": 31
        }
      ]
    },
    {
      "cell_type": "code",
      "source": [
        "Test = 'Hello Mr. Future, I am so happy to be learning AI now!!'"
      ],
      "metadata": {
        "id": "Jyd0HLT9sn2g"
      },
      "execution_count": 32,
      "outputs": []
    },
    {
      "cell_type": "code",
      "source": [
        "Test_punc_removed = [ char for char in Test if char not in string.punctuation]"
      ],
      "metadata": {
        "id": "KLMXOAK4s2oe"
      },
      "execution_count": 33,
      "outputs": []
    },
    {
      "cell_type": "code",
      "source": [
        "Test_punc_removed"
      ],
      "metadata": {
        "colab": {
          "base_uri": "https://localhost:8080/"
        },
        "id": "UFqnL_j-tbqn",
        "outputId": "52d4a8a5-a6bc-40e1-ceca-4de3d98b4c7a"
      },
      "execution_count": 34,
      "outputs": [
        {
          "output_type": "execute_result",
          "data": {
            "text/plain": [
              "['H',\n",
              " 'e',\n",
              " 'l',\n",
              " 'l',\n",
              " 'o',\n",
              " ' ',\n",
              " 'M',\n",
              " 'r',\n",
              " ' ',\n",
              " 'F',\n",
              " 'u',\n",
              " 't',\n",
              " 'u',\n",
              " 'r',\n",
              " 'e',\n",
              " ' ',\n",
              " 'I',\n",
              " ' ',\n",
              " 'a',\n",
              " 'm',\n",
              " ' ',\n",
              " 's',\n",
              " 'o',\n",
              " ' ',\n",
              " 'h',\n",
              " 'a',\n",
              " 'p',\n",
              " 'p',\n",
              " 'y',\n",
              " ' ',\n",
              " 't',\n",
              " 'o',\n",
              " ' ',\n",
              " 'b',\n",
              " 'e',\n",
              " ' ',\n",
              " 'l',\n",
              " 'e',\n",
              " 'a',\n",
              " 'r',\n",
              " 'n',\n",
              " 'i',\n",
              " 'n',\n",
              " 'g',\n",
              " ' ',\n",
              " 'A',\n",
              " 'I',\n",
              " ' ',\n",
              " 'n',\n",
              " 'o',\n",
              " 'w']"
            ]
          },
          "metadata": {},
          "execution_count": 34
        }
      ]
    },
    {
      "cell_type": "code",
      "source": [
        "Test_punc_removed_join = ''.join(Test_punc_removed)"
      ],
      "metadata": {
        "id": "AJ1BpLVMtd_M"
      },
      "execution_count": 35,
      "outputs": []
    },
    {
      "cell_type": "code",
      "source": [
        "Test_punc_removed_join"
      ],
      "metadata": {
        "colab": {
          "base_uri": "https://localhost:8080/",
          "height": 36
        },
        "id": "k4AEPwyWtzSW",
        "outputId": "4593de7f-31f7-4eab-f523-61cc8030a5f5"
      },
      "execution_count": 36,
      "outputs": [
        {
          "output_type": "execute_result",
          "data": {
            "text/plain": [
              "'Hello Mr Future I am so happy to be learning AI now'"
            ],
            "application/vnd.google.colaboratory.intrinsic+json": {
              "type": "string"
            }
          },
          "metadata": {},
          "execution_count": 36
        }
      ]
    },
    {
      "cell_type": "markdown",
      "source": [
        "##**REMOVE STOPWORDS**"
      ],
      "metadata": {
        "id": "Nj45-fKlwFxc"
      }
    },
    {
      "cell_type": "code",
      "source": [
        "import nltk\n",
        "nltk.download('stopwords')"
      ],
      "metadata": {
        "colab": {
          "base_uri": "https://localhost:8080/"
        },
        "id": "_VgbkT1CwoS1",
        "outputId": "45723202-75a7-4a5c-ef45-f392bc2a93f8"
      },
      "execution_count": 37,
      "outputs": [
        {
          "output_type": "stream",
          "name": "stderr",
          "text": [
            "[nltk_data] Downloading package stopwords to /root/nltk_data...\n",
            "[nltk_data]   Unzipping corpora/stopwords.zip.\n"
          ]
        },
        {
          "output_type": "execute_result",
          "data": {
            "text/plain": [
              "True"
            ]
          },
          "metadata": {},
          "execution_count": 37
        }
      ]
    },
    {
      "cell_type": "code",
      "source": [
        "from nltk.corpus import stopwords\n",
        "stopwords.words('english')"
      ],
      "metadata": {
        "colab": {
          "base_uri": "https://localhost:8080/"
        },
        "id": "65mS6XK8t1b8",
        "outputId": "d3735e3c-e5b1-4e86-8eb6-bfe4fb5718b4"
      },
      "execution_count": 38,
      "outputs": [
        {
          "output_type": "execute_result",
          "data": {
            "text/plain": [
              "['i',\n",
              " 'me',\n",
              " 'my',\n",
              " 'myself',\n",
              " 'we',\n",
              " 'our',\n",
              " 'ours',\n",
              " 'ourselves',\n",
              " 'you',\n",
              " \"you're\",\n",
              " \"you've\",\n",
              " \"you'll\",\n",
              " \"you'd\",\n",
              " 'your',\n",
              " 'yours',\n",
              " 'yourself',\n",
              " 'yourselves',\n",
              " 'he',\n",
              " 'him',\n",
              " 'his',\n",
              " 'himself',\n",
              " 'she',\n",
              " \"she's\",\n",
              " 'her',\n",
              " 'hers',\n",
              " 'herself',\n",
              " 'it',\n",
              " \"it's\",\n",
              " 'its',\n",
              " 'itself',\n",
              " 'they',\n",
              " 'them',\n",
              " 'their',\n",
              " 'theirs',\n",
              " 'themselves',\n",
              " 'what',\n",
              " 'which',\n",
              " 'who',\n",
              " 'whom',\n",
              " 'this',\n",
              " 'that',\n",
              " \"that'll\",\n",
              " 'these',\n",
              " 'those',\n",
              " 'am',\n",
              " 'is',\n",
              " 'are',\n",
              " 'was',\n",
              " 'were',\n",
              " 'be',\n",
              " 'been',\n",
              " 'being',\n",
              " 'have',\n",
              " 'has',\n",
              " 'had',\n",
              " 'having',\n",
              " 'do',\n",
              " 'does',\n",
              " 'did',\n",
              " 'doing',\n",
              " 'a',\n",
              " 'an',\n",
              " 'the',\n",
              " 'and',\n",
              " 'but',\n",
              " 'if',\n",
              " 'or',\n",
              " 'because',\n",
              " 'as',\n",
              " 'until',\n",
              " 'while',\n",
              " 'of',\n",
              " 'at',\n",
              " 'by',\n",
              " 'for',\n",
              " 'with',\n",
              " 'about',\n",
              " 'against',\n",
              " 'between',\n",
              " 'into',\n",
              " 'through',\n",
              " 'during',\n",
              " 'before',\n",
              " 'after',\n",
              " 'above',\n",
              " 'below',\n",
              " 'to',\n",
              " 'from',\n",
              " 'up',\n",
              " 'down',\n",
              " 'in',\n",
              " 'out',\n",
              " 'on',\n",
              " 'off',\n",
              " 'over',\n",
              " 'under',\n",
              " 'again',\n",
              " 'further',\n",
              " 'then',\n",
              " 'once',\n",
              " 'here',\n",
              " 'there',\n",
              " 'when',\n",
              " 'where',\n",
              " 'why',\n",
              " 'how',\n",
              " 'all',\n",
              " 'any',\n",
              " 'both',\n",
              " 'each',\n",
              " 'few',\n",
              " 'more',\n",
              " 'most',\n",
              " 'other',\n",
              " 'some',\n",
              " 'such',\n",
              " 'no',\n",
              " 'nor',\n",
              " 'not',\n",
              " 'only',\n",
              " 'own',\n",
              " 'same',\n",
              " 'so',\n",
              " 'than',\n",
              " 'too',\n",
              " 'very',\n",
              " 's',\n",
              " 't',\n",
              " 'can',\n",
              " 'will',\n",
              " 'just',\n",
              " 'don',\n",
              " \"don't\",\n",
              " 'should',\n",
              " \"should've\",\n",
              " 'now',\n",
              " 'd',\n",
              " 'll',\n",
              " 'm',\n",
              " 'o',\n",
              " 're',\n",
              " 've',\n",
              " 'y',\n",
              " 'ain',\n",
              " 'aren',\n",
              " \"aren't\",\n",
              " 'couldn',\n",
              " \"couldn't\",\n",
              " 'didn',\n",
              " \"didn't\",\n",
              " 'doesn',\n",
              " \"doesn't\",\n",
              " 'hadn',\n",
              " \"hadn't\",\n",
              " 'hasn',\n",
              " \"hasn't\",\n",
              " 'haven',\n",
              " \"haven't\",\n",
              " 'isn',\n",
              " \"isn't\",\n",
              " 'ma',\n",
              " 'mightn',\n",
              " \"mightn't\",\n",
              " 'mustn',\n",
              " \"mustn't\",\n",
              " 'needn',\n",
              " \"needn't\",\n",
              " 'shan',\n",
              " \"shan't\",\n",
              " 'shouldn',\n",
              " \"shouldn't\",\n",
              " 'wasn',\n",
              " \"wasn't\",\n",
              " 'weren',\n",
              " \"weren't\",\n",
              " 'won',\n",
              " \"won't\",\n",
              " 'wouldn',\n",
              " \"wouldn't\"]"
            ]
          },
          "metadata": {},
          "execution_count": 38
        }
      ]
    },
    {
      "cell_type": "code",
      "source": [
        "Test_punc_removed_join"
      ],
      "metadata": {
        "colab": {
          "base_uri": "https://localhost:8080/",
          "height": 36
        },
        "id": "lMBKU6-4wMnF",
        "outputId": "73b6ce26-f1b5-4814-db9a-a0e9c201d614"
      },
      "execution_count": 39,
      "outputs": [
        {
          "output_type": "execute_result",
          "data": {
            "text/plain": [
              "'Hello Mr Future I am so happy to be learning AI now'"
            ],
            "application/vnd.google.colaboratory.intrinsic+json": {
              "type": "string"
            }
          },
          "metadata": {},
          "execution_count": 39
        }
      ]
    },
    {
      "cell_type": "code",
      "source": [
        "Test_punc_removed_join.split()"
      ],
      "metadata": {
        "colab": {
          "base_uri": "https://localhost:8080/"
        },
        "id": "7lc4EWINxL9L",
        "outputId": "174d9072-a486-4285-9ad9-f64d65806775"
      },
      "execution_count": 40,
      "outputs": [
        {
          "output_type": "execute_result",
          "data": {
            "text/plain": [
              "['Hello',\n",
              " 'Mr',\n",
              " 'Future',\n",
              " 'I',\n",
              " 'am',\n",
              " 'so',\n",
              " 'happy',\n",
              " 'to',\n",
              " 'be',\n",
              " 'learning',\n",
              " 'AI',\n",
              " 'now']"
            ]
          },
          "metadata": {},
          "execution_count": 40
        }
      ]
    },
    {
      "cell_type": "code",
      "source": [
        "Test_punc_removed_join_clean = [word for word in Test_punc_removed_join.split() if word.lower() not in stopwords.words('english')]"
      ],
      "metadata": {
        "id": "0486_XTTw2_d"
      },
      "execution_count": 41,
      "outputs": []
    },
    {
      "cell_type": "code",
      "source": [
        "Test_punc_removed_join_clean"
      ],
      "metadata": {
        "colab": {
          "base_uri": "https://localhost:8080/"
        },
        "id": "C7UNMyrsxpFt",
        "outputId": "615aa465-672f-4737-81e3-cfb304d5dfe5"
      },
      "execution_count": 42,
      "outputs": [
        {
          "output_type": "execute_result",
          "data": {
            "text/plain": [
              "['Hello', 'Mr', 'Future', 'happy', 'learning', 'AI']"
            ]
          },
          "metadata": {},
          "execution_count": 42
        }
      ]
    },
    {
      "cell_type": "code",
      "source": [
        "mini_challenge = 'Here is a mini challenge, that will teach you how to remove stopwords and punctuations!'"
      ],
      "metadata": {
        "id": "68zjmfvyx0tn"
      },
      "execution_count": 43,
      "outputs": []
    },
    {
      "cell_type": "code",
      "source": [
        "challege = [ char    for char in mini_challenge  if char not in string.punctuation  ]"
      ],
      "metadata": {
        "id": "K889nmZQ2TRM"
      },
      "execution_count": 44,
      "outputs": []
    },
    {
      "cell_type": "code",
      "source": [
        "challege"
      ],
      "metadata": {
        "colab": {
          "base_uri": "https://localhost:8080/"
        },
        "id": "XAVSwZwn2Z-G",
        "outputId": "4e2f2cf2-eb01-4cdf-ccb6-f9f59f663d20"
      },
      "execution_count": 45,
      "outputs": [
        {
          "output_type": "execute_result",
          "data": {
            "text/plain": [
              "['H',\n",
              " 'e',\n",
              " 'r',\n",
              " 'e',\n",
              " ' ',\n",
              " 'i',\n",
              " 's',\n",
              " ' ',\n",
              " 'a',\n",
              " ' ',\n",
              " 'm',\n",
              " 'i',\n",
              " 'n',\n",
              " 'i',\n",
              " ' ',\n",
              " 'c',\n",
              " 'h',\n",
              " 'a',\n",
              " 'l',\n",
              " 'l',\n",
              " 'e',\n",
              " 'n',\n",
              " 'g',\n",
              " 'e',\n",
              " ' ',\n",
              " 't',\n",
              " 'h',\n",
              " 'a',\n",
              " 't',\n",
              " ' ',\n",
              " 'w',\n",
              " 'i',\n",
              " 'l',\n",
              " 'l',\n",
              " ' ',\n",
              " 't',\n",
              " 'e',\n",
              " 'a',\n",
              " 'c',\n",
              " 'h',\n",
              " ' ',\n",
              " 'y',\n",
              " 'o',\n",
              " 'u',\n",
              " ' ',\n",
              " 'h',\n",
              " 'o',\n",
              " 'w',\n",
              " ' ',\n",
              " 't',\n",
              " 'o',\n",
              " ' ',\n",
              " 'r',\n",
              " 'e',\n",
              " 'm',\n",
              " 'o',\n",
              " 'v',\n",
              " 'e',\n",
              " ' ',\n",
              " 's',\n",
              " 't',\n",
              " 'o',\n",
              " 'p',\n",
              " 'w',\n",
              " 'o',\n",
              " 'r',\n",
              " 'd',\n",
              " 's',\n",
              " ' ',\n",
              " 'a',\n",
              " 'n',\n",
              " 'd',\n",
              " ' ',\n",
              " 'p',\n",
              " 'u',\n",
              " 'n',\n",
              " 'c',\n",
              " 't',\n",
              " 'u',\n",
              " 'a',\n",
              " 't',\n",
              " 'i',\n",
              " 'o',\n",
              " 'n',\n",
              " 's']"
            ]
          },
          "metadata": {},
          "execution_count": 45
        }
      ]
    },
    {
      "cell_type": "code",
      "source": [
        "challenge = ''.join(challege)"
      ],
      "metadata": {
        "id": "tuzylkX02jWb"
      },
      "execution_count": 46,
      "outputs": []
    },
    {
      "cell_type": "code",
      "source": [
        "challenge"
      ],
      "metadata": {
        "colab": {
          "base_uri": "https://localhost:8080/",
          "height": 36
        },
        "id": "jT9ydRyM2lyh",
        "outputId": "e13eb759-b2d7-428d-9aea-e00efc461406"
      },
      "execution_count": 47,
      "outputs": [
        {
          "output_type": "execute_result",
          "data": {
            "text/plain": [
              "'Here is a mini challenge that will teach you how to remove stopwords and punctuations'"
            ],
            "application/vnd.google.colaboratory.intrinsic+json": {
              "type": "string"
            }
          },
          "metadata": {},
          "execution_count": 47
        }
      ]
    },
    {
      "cell_type": "code",
      "source": [
        "challenge = [  word for word in challenge.split() if word.lower() not in stopwords.words('english')  ]"
      ],
      "metadata": {
        "id": "A_jB5wRs2dNZ"
      },
      "execution_count": 48,
      "outputs": []
    },
    {
      "cell_type": "code",
      "source": [
        "challenge"
      ],
      "metadata": {
        "colab": {
          "base_uri": "https://localhost:8080/"
        },
        "id": "PTDyHTmv2gzj",
        "outputId": "efc39a67-aeab-49f3-c685-c755dc4f9e29"
      },
      "execution_count": 49,
      "outputs": [
        {
          "output_type": "execute_result",
          "data": {
            "text/plain": [
              "['mini', 'challenge', 'teach', 'remove', 'stopwords', 'punctuations']"
            ]
          },
          "metadata": {},
          "execution_count": 49
        }
      ]
    },
    {
      "cell_type": "markdown",
      "source": [
        "##  **COUNT VECTORIZER EXAMPLE**"
      ],
      "metadata": {
        "id": "uB8bNeQH3c7l"
      }
    },
    {
      "cell_type": "code",
      "source": [
        "from sklearn.feature_extraction.text import CountVectorizer\n",
        "sample_data = ['This is the first document.','This document is the second document.','And this is the third one.','Is this the first document?']\n",
        "\n",
        "vectorizer = CountVectorizer()\n",
        "X = vectorizer.fit_transform(sample_data)\n"
      ],
      "metadata": {
        "id": "fNQIfSnq2qaA"
      },
      "execution_count": 50,
      "outputs": []
    },
    {
      "cell_type": "code",
      "source": [
        "vectorizer.get_feature_names_out()"
      ],
      "metadata": {
        "colab": {
          "base_uri": "https://localhost:8080/"
        },
        "id": "JGsk_uEH35LX",
        "outputId": "8c7843e5-4ff9-4f4c-c6c2-3116dc8e6eac"
      },
      "execution_count": 51,
      "outputs": [
        {
          "output_type": "execute_result",
          "data": {
            "text/plain": [
              "array(['and', 'document', 'first', 'is', 'one', 'second', 'the', 'third',\n",
              "       'this'], dtype=object)"
            ]
          },
          "metadata": {},
          "execution_count": 51
        }
      ]
    },
    {
      "cell_type": "code",
      "source": [
        "print(X.toarray())"
      ],
      "metadata": {
        "colab": {
          "base_uri": "https://localhost:8080/"
        },
        "id": "ESANIN4b4ke1",
        "outputId": "b4aa8bb6-6bf6-4d1f-e01f-eab041498776"
      },
      "execution_count": 52,
      "outputs": [
        {
          "output_type": "stream",
          "name": "stdout",
          "text": [
            "[[0 1 1 1 0 0 1 0 1]\n",
            " [0 2 0 1 0 1 1 0 1]\n",
            " [1 0 0 1 1 0 1 1 1]\n",
            " [0 1 1 1 0 0 1 0 1]]\n"
          ]
        }
      ]
    },
    {
      "cell_type": "code",
      "source": [
        "mini_challenge = ['Hello World','Hello Hello World','Hello World world world']\n",
        "\n",
        "vectorizer_challenge = CountVectorizer()\n",
        "X_challenge = vectorizer_challenge.fit_transform(mini_challenge)\n",
        "print(X_challenge.toarray())"
      ],
      "metadata": {
        "colab": {
          "base_uri": "https://localhost:8080/"
        },
        "id": "v8L7JNn35LwV",
        "outputId": "4db05cd8-cc14-48ae-b6e3-f9d8a6328397"
      },
      "execution_count": 53,
      "outputs": [
        {
          "output_type": "stream",
          "name": "stdout",
          "text": [
            "[[1 1]\n",
            " [2 1]\n",
            " [1 3]]\n"
          ]
        }
      ]
    },
    {
      "cell_type": "markdown",
      "source": [
        "# **PROCESSES to YELP REVIEWS**"
      ],
      "metadata": {
        "id": "5yYVGuRfXZSH"
      }
    },
    {
      "cell_type": "markdown",
      "source": [
        "Let's define a pipeline to clean up all the messages\n",
        " The pipeline performs the following: (1) remove punctuation, (2) remove stopwords"
      ],
      "metadata": {
        "id": "lJ3onG8rZsFA"
      }
    },
    {
      "cell_type": "code",
      "source": [
        "def message_cleaning(message):\n",
        "  test_punc_removed = [char  for char in message if char not in string.punctuation]\n",
        "  test_punc_removed_join = ''.join(test_punc_removed)\n",
        "  test_punc_removed_join_clean = [word for word in test_punc_removed_join.split() if word.lower() not in stopwords.words('english')]\n",
        "  return test_punc_removed_join_clean\n"
      ],
      "metadata": {
        "id": "QAPm9cm27Bd7"
      },
      "execution_count": 54,
      "outputs": []
    },
    {
      "cell_type": "code",
      "source": [
        "yelp_df_clean = yelp_df_1_5['text'].apply(message_cleaning)"
      ],
      "metadata": {
        "id": "1ktQsai7Yctq"
      },
      "execution_count": 55,
      "outputs": []
    },
    {
      "cell_type": "markdown",
      "source": [
        "cleaned review"
      ],
      "metadata": {
        "id": "FlaJPpWzZznI"
      }
    },
    {
      "cell_type": "code",
      "source": [
        "print(yelp_df_clean[0])"
      ],
      "metadata": {
        "colab": {
          "base_uri": "https://localhost:8080/"
        },
        "id": "2cBYMiJYYunN",
        "outputId": "d3e83b97-3658-4481-888c-55da82cb524e"
      },
      "execution_count": 56,
      "outputs": [
        {
          "output_type": "stream",
          "name": "stdout",
          "text": [
            "['wife', 'took', 'birthday', 'breakfast', 'excellent', 'weather', 'perfect', 'made', 'sitting', 'outside', 'overlooking', 'grounds', 'absolute', 'pleasure', 'waitress', 'excellent', 'food', 'arrived', 'quickly', 'semibusy', 'Saturday', 'morning', 'looked', 'like', 'place', 'fills', 'pretty', 'quickly', 'earlier', 'get', 'better', 'favor', 'get', 'Bloody', 'Mary', 'phenomenal', 'simply', 'best', 'Ive', 'ever', 'Im', 'pretty', 'sure', 'use', 'ingredients', 'garden', 'blend', 'fresh', 'order', 'amazing', 'EVERYTHING', 'menu', 'looks', 'excellent', 'white', 'truffle', 'scrambled', 'eggs', 'vegetable', 'skillet', 'tasty', 'delicious', 'came', '2', 'pieces', 'griddled', 'bread', 'amazing', 'absolutely', 'made', 'meal', 'complete', 'best', 'toast', 'Ive', 'ever', 'Anyway', 'cant', 'wait', 'go', 'back']\n"
          ]
        }
      ]
    },
    {
      "cell_type": "markdown",
      "source": [
        "original review"
      ],
      "metadata": {
        "id": "PYehsE1vZ2o9"
      }
    },
    {
      "cell_type": "code",
      "source": [
        "print(yelp_df_1_5['text'][0])"
      ],
      "metadata": {
        "colab": {
          "base_uri": "https://localhost:8080/"
        },
        "id": "QuNZccLTY8cn",
        "outputId": "9f86c40f-8985-4345-d9a9-7047cecfd6b9"
      },
      "execution_count": 57,
      "outputs": [
        {
          "output_type": "stream",
          "name": "stdout",
          "text": [
            "My wife took me here on my birthday for breakfast and it was excellent.  The weather was perfect which made sitting outside overlooking their grounds an absolute pleasure.  Our waitress was excellent and our food arrived quickly on the semi-busy Saturday morning.  It looked like the place fills up pretty quickly so the earlier you get here the better.\n",
            "\n",
            "Do yourself a favor and get their Bloody Mary.  It was phenomenal and simply the best I've ever had.  I'm pretty sure they only use ingredients from their garden and blend them fresh when you order it.  It was amazing.\n",
            "\n",
            "While EVERYTHING on the menu looks excellent, I had the white truffle scrambled eggs vegetable skillet and it was tasty and delicious.  It came with 2 pieces of their griddled bread with was amazing and it absolutely made the meal complete.  It was the best \"toast\" I've ever had.\n",
            "\n",
            "Anyway, I can't wait to go back!\n"
          ]
        }
      ]
    },
    {
      "cell_type": "markdown",
      "source": [
        "# **APPLY COUNT VECTORIZER TO OUR YELP REVIEWS**"
      ],
      "metadata": {
        "id": "wI0UJgHSabrs"
      }
    },
    {
      "cell_type": "code",
      "source": [
        "from sklearn.feature_extraction.text import CountVectorizer\n",
        "# Define the cleaning pipeline we defined earlier\n",
        "vectorizer = CountVectorizer(analyzer = message_cleaning)\n",
        "\n",
        "yelp_countvectorizer = vectorizer.fit_transform(yelp_df_1_5['text'])"
      ],
      "metadata": {
        "id": "4Z7aHj6zZHgO"
      },
      "execution_count": 58,
      "outputs": []
    },
    {
      "cell_type": "code",
      "source": [
        "print(vectorizer.get_feature_names_out())"
      ],
      "metadata": {
        "colab": {
          "base_uri": "https://localhost:8080/"
        },
        "id": "8yHpH5FrLO1t",
        "outputId": "0f66e953-1f5b-48ae-bcf0-ba50bcffcaf8"
      },
      "execution_count": 60,
      "outputs": [
        {
          "output_type": "stream",
          "name": "stdout",
          "text": [
            "['0' '00s' '01042012' ... 'École' 'éclairs' 'ém']\n"
          ]
        }
      ]
    },
    {
      "cell_type": "code",
      "source": [
        "print(yelp_countvectorizer.toarray())"
      ],
      "metadata": {
        "colab": {
          "base_uri": "https://localhost:8080/"
        },
        "id": "i1L5yoX8LvmA",
        "outputId": "5addff6f-64d1-425d-c3b5-732e12bb0a51"
      },
      "execution_count": 61,
      "outputs": [
        {
          "output_type": "stream",
          "name": "stdout",
          "text": [
            "[[0 0 0 ... 0 0 0]\n",
            " [0 0 0 ... 0 0 0]\n",
            " [0 0 0 ... 0 0 0]\n",
            " ...\n",
            " [0 0 0 ... 0 0 0]\n",
            " [0 0 0 ... 0 0 0]\n",
            " [0 0 0 ... 0 0 0]]\n"
          ]
        }
      ]
    },
    {
      "cell_type": "code",
      "source": [
        "yelp_countvectorizer.shape"
      ],
      "metadata": {
        "colab": {
          "base_uri": "https://localhost:8080/"
        },
        "id": "XpNsQKCuMPyP",
        "outputId": "fa1b065f-26f3-417c-8783-690f1f3dfe50"
      },
      "execution_count": 62,
      "outputs": [
        {
          "output_type": "execute_result",
          "data": {
            "text/plain": [
              "(4086, 26435)"
            ]
          },
          "metadata": {},
          "execution_count": 62
        }
      ]
    },
    {
      "cell_type": "markdown",
      "source": [
        "# **TRAINING THE MODEL WITH ALL DATASET**"
      ],
      "metadata": {
        "id": "inbmhsHnM6JM"
      }
    },
    {
      "cell_type": "code",
      "source": [
        "from sklearn.naive_bayes import MultinomialNB\n",
        "\n",
        "NB_classifier = MultinomialNB()\n",
        "label = yelp_df_1_5['stars'].values"
      ],
      "metadata": {
        "id": "aj7xcEo0MS6w"
      },
      "execution_count": 64,
      "outputs": []
    },
    {
      "cell_type": "code",
      "source": [
        "yelp_df_1_5['stars'].values"
      ],
      "metadata": {
        "colab": {
          "base_uri": "https://localhost:8080/"
        },
        "id": "FlEAiXT0Mu8P",
        "outputId": "7a49aa0e-6499-44ee-c5db-2f6eb1a98a82"
      },
      "execution_count": 65,
      "outputs": [
        {
          "output_type": "execute_result",
          "data": {
            "text/plain": [
              "array([1, 1, 1, ..., 5, 5, 5])"
            ]
          },
          "metadata": {},
          "execution_count": 65
        }
      ]
    },
    {
      "cell_type": "code",
      "source": [
        "yelp_df_1_5['stars'].shape"
      ],
      "metadata": {
        "colab": {
          "base_uri": "https://localhost:8080/"
        },
        "id": "1B2gBZFXNTQo",
        "outputId": "afefd139-def6-4194-ffb2-fee15b465894"
      },
      "execution_count": 66,
      "outputs": [
        {
          "output_type": "execute_result",
          "data": {
            "text/plain": [
              "(4086,)"
            ]
          },
          "metadata": {},
          "execution_count": 66
        }
      ]
    },
    {
      "cell_type": "code",
      "source": [
        "NB_classifier.fit(yelp_countvectorizer,label)"
      ],
      "metadata": {
        "colab": {
          "base_uri": "https://localhost:8080/",
          "height": 75
        },
        "id": "U_f3WjYkNW3W",
        "outputId": "ded0cf05-00dd-429a-8144-a0b396595699"
      },
      "execution_count": 67,
      "outputs": [
        {
          "output_type": "execute_result",
          "data": {
            "text/plain": [
              "MultinomialNB()"
            ],
            "text/html": [
              "<style>#sk-container-id-1 {color: black;background-color: white;}#sk-container-id-1 pre{padding: 0;}#sk-container-id-1 div.sk-toggleable {background-color: white;}#sk-container-id-1 label.sk-toggleable__label {cursor: pointer;display: block;width: 100%;margin-bottom: 0;padding: 0.3em;box-sizing: border-box;text-align: center;}#sk-container-id-1 label.sk-toggleable__label-arrow:before {content: \"▸\";float: left;margin-right: 0.25em;color: #696969;}#sk-container-id-1 label.sk-toggleable__label-arrow:hover:before {color: black;}#sk-container-id-1 div.sk-estimator:hover label.sk-toggleable__label-arrow:before {color: black;}#sk-container-id-1 div.sk-toggleable__content {max-height: 0;max-width: 0;overflow: hidden;text-align: left;background-color: #f0f8ff;}#sk-container-id-1 div.sk-toggleable__content pre {margin: 0.2em;color: black;border-radius: 0.25em;background-color: #f0f8ff;}#sk-container-id-1 input.sk-toggleable__control:checked~div.sk-toggleable__content {max-height: 200px;max-width: 100%;overflow: auto;}#sk-container-id-1 input.sk-toggleable__control:checked~label.sk-toggleable__label-arrow:before {content: \"▾\";}#sk-container-id-1 div.sk-estimator input.sk-toggleable__control:checked~label.sk-toggleable__label {background-color: #d4ebff;}#sk-container-id-1 div.sk-label input.sk-toggleable__control:checked~label.sk-toggleable__label {background-color: #d4ebff;}#sk-container-id-1 input.sk-hidden--visually {border: 0;clip: rect(1px 1px 1px 1px);clip: rect(1px, 1px, 1px, 1px);height: 1px;margin: -1px;overflow: hidden;padding: 0;position: absolute;width: 1px;}#sk-container-id-1 div.sk-estimator {font-family: monospace;background-color: #f0f8ff;border: 1px dotted black;border-radius: 0.25em;box-sizing: border-box;margin-bottom: 0.5em;}#sk-container-id-1 div.sk-estimator:hover {background-color: #d4ebff;}#sk-container-id-1 div.sk-parallel-item::after {content: \"\";width: 100%;border-bottom: 1px solid gray;flex-grow: 1;}#sk-container-id-1 div.sk-label:hover label.sk-toggleable__label {background-color: #d4ebff;}#sk-container-id-1 div.sk-serial::before {content: \"\";position: absolute;border-left: 1px solid gray;box-sizing: border-box;top: 0;bottom: 0;left: 50%;z-index: 0;}#sk-container-id-1 div.sk-serial {display: flex;flex-direction: column;align-items: center;background-color: white;padding-right: 0.2em;padding-left: 0.2em;position: relative;}#sk-container-id-1 div.sk-item {position: relative;z-index: 1;}#sk-container-id-1 div.sk-parallel {display: flex;align-items: stretch;justify-content: center;background-color: white;position: relative;}#sk-container-id-1 div.sk-item::before, #sk-container-id-1 div.sk-parallel-item::before {content: \"\";position: absolute;border-left: 1px solid gray;box-sizing: border-box;top: 0;bottom: 0;left: 50%;z-index: -1;}#sk-container-id-1 div.sk-parallel-item {display: flex;flex-direction: column;z-index: 1;position: relative;background-color: white;}#sk-container-id-1 div.sk-parallel-item:first-child::after {align-self: flex-end;width: 50%;}#sk-container-id-1 div.sk-parallel-item:last-child::after {align-self: flex-start;width: 50%;}#sk-container-id-1 div.sk-parallel-item:only-child::after {width: 0;}#sk-container-id-1 div.sk-dashed-wrapped {border: 1px dashed gray;margin: 0 0.4em 0.5em 0.4em;box-sizing: border-box;padding-bottom: 0.4em;background-color: white;}#sk-container-id-1 div.sk-label label {font-family: monospace;font-weight: bold;display: inline-block;line-height: 1.2em;}#sk-container-id-1 div.sk-label-container {text-align: center;}#sk-container-id-1 div.sk-container {/* jupyter's `normalize.less` sets `[hidden] { display: none; }` but bootstrap.min.css set `[hidden] { display: none !important; }` so we also need the `!important` here to be able to override the default hidden behavior on the sphinx rendered scikit-learn.org. See: https://github.com/scikit-learn/scikit-learn/issues/21755 */display: inline-block !important;position: relative;}#sk-container-id-1 div.sk-text-repr-fallback {display: none;}</style><div id=\"sk-container-id-1\" class=\"sk-top-container\"><div class=\"sk-text-repr-fallback\"><pre>MultinomialNB()</pre><b>In a Jupyter environment, please rerun this cell to show the HTML representation or trust the notebook. <br />On GitHub, the HTML representation is unable to render, please try loading this page with nbviewer.org.</b></div><div class=\"sk-container\" hidden><div class=\"sk-item\"><div class=\"sk-estimator sk-toggleable\"><input class=\"sk-toggleable__control sk-hidden--visually\" id=\"sk-estimator-id-1\" type=\"checkbox\" checked><label for=\"sk-estimator-id-1\" class=\"sk-toggleable__label sk-toggleable__label-arrow\">MultinomialNB</label><div class=\"sk-toggleable__content\"><pre>MultinomialNB()</pre></div></div></div></div></div>"
            ]
          },
          "metadata": {},
          "execution_count": 67
        }
      ]
    },
    {
      "cell_type": "markdown",
      "source": [
        "## **pridicting the test sample**"
      ],
      "metadata": {
        "id": "aXxVI_dHOOmr"
      }
    },
    {
      "cell_type": "code",
      "source": [
        "testing_sample = ['amazing food! highly recommmended']\n",
        "testing_sample_countvectorizer = vectorizer.transform(testing_sample)\n",
        "test_predict = NB_classifier.predict(testing_sample_countvectorizer)\n",
        "test_predict"
      ],
      "metadata": {
        "colab": {
          "base_uri": "https://localhost:8080/"
        },
        "id": "Qaw9FITMNpmh",
        "outputId": "c56c06fe-dea2-46e4-bc59-275c0c30e01f"
      },
      "execution_count": 68,
      "outputs": [
        {
          "output_type": "execute_result",
          "data": {
            "text/plain": [
              "array([5])"
            ]
          },
          "metadata": {},
          "execution_count": 68
        }
      ]
    },
    {
      "cell_type": "code",
      "source": [
        "testing_sample = ['shit food, made me sick']\n",
        "testing_sample_countvectorizer = vectorizer.transform(testing_sample)\n",
        "test_predict = NB_classifier.predict(testing_sample_countvectorizer)\n",
        "test_predict"
      ],
      "metadata": {
        "colab": {
          "base_uri": "https://localhost:8080/"
        },
        "id": "fd2qNu30OBn3",
        "outputId": "70f67b9a-066b-495d-ce63-aa0d9df5b9f0"
      },
      "execution_count": 69,
      "outputs": [
        {
          "output_type": "execute_result",
          "data": {
            "text/plain": [
              "array([1])"
            ]
          },
          "metadata": {},
          "execution_count": 69
        }
      ]
    },
    {
      "cell_type": "markdown",
      "source": [
        "# **DIVIDE THE DATA INTO TRAINING AND TESTING PRIOR TO TRAINING**"
      ],
      "metadata": {
        "id": "QHJWyoeiQcb7"
      }
    },
    {
      "cell_type": "code",
      "source": [
        "X = yelp_countvectorizer\n",
        "y = label"
      ],
      "metadata": {
        "id": "2KdqFHc4OM5C"
      },
      "execution_count": 71,
      "outputs": []
    },
    {
      "cell_type": "code",
      "source": [
        "X.shape"
      ],
      "metadata": {
        "colab": {
          "base_uri": "https://localhost:8080/"
        },
        "id": "J54Ct5IFQs-Z",
        "outputId": "d09a0977-d1ca-4137-f144-850bb1fcbb69"
      },
      "execution_count": 72,
      "outputs": [
        {
          "output_type": "execute_result",
          "data": {
            "text/plain": [
              "(4086, 26435)"
            ]
          },
          "metadata": {},
          "execution_count": 72
        }
      ]
    },
    {
      "cell_type": "code",
      "source": [
        "y.shape"
      ],
      "metadata": {
        "colab": {
          "base_uri": "https://localhost:8080/"
        },
        "id": "iBDNEEIxQvAw",
        "outputId": "96e3ae3a-d1f4-4da5-b0ac-49de7b6f7e9e"
      },
      "execution_count": 73,
      "outputs": [
        {
          "output_type": "execute_result",
          "data": {
            "text/plain": [
              "(4086,)"
            ]
          },
          "metadata": {},
          "execution_count": 73
        }
      ]
    },
    {
      "cell_type": "code",
      "source": [
        "from sklearn.model_selection import train_test_split\n",
        "X_train, X_test, y_train, y_test = train_test_split(X, y, test_size=0.2)"
      ],
      "metadata": {
        "id": "yDydL5yUQwHd"
      },
      "execution_count": 74,
      "outputs": []
    },
    {
      "cell_type": "code",
      "source": [
        "from sklearn.naive_bayes import MultinomialNB\n",
        "\n",
        "NB_classifier = MultinomialNB()\n",
        "NB_classifier.fit(X_train, y_train)"
      ],
      "metadata": {
        "colab": {
          "base_uri": "https://localhost:8080/",
          "height": 75
        },
        "id": "Ff4hY3N0Q0Sx",
        "outputId": "32713b4e-1ede-4221-bbe4-fe894e21c53a"
      },
      "execution_count": 75,
      "outputs": [
        {
          "output_type": "execute_result",
          "data": {
            "text/plain": [
              "MultinomialNB()"
            ],
            "text/html": [
              "<style>#sk-container-id-2 {color: black;background-color: white;}#sk-container-id-2 pre{padding: 0;}#sk-container-id-2 div.sk-toggleable {background-color: white;}#sk-container-id-2 label.sk-toggleable__label {cursor: pointer;display: block;width: 100%;margin-bottom: 0;padding: 0.3em;box-sizing: border-box;text-align: center;}#sk-container-id-2 label.sk-toggleable__label-arrow:before {content: \"▸\";float: left;margin-right: 0.25em;color: #696969;}#sk-container-id-2 label.sk-toggleable__label-arrow:hover:before {color: black;}#sk-container-id-2 div.sk-estimator:hover label.sk-toggleable__label-arrow:before {color: black;}#sk-container-id-2 div.sk-toggleable__content {max-height: 0;max-width: 0;overflow: hidden;text-align: left;background-color: #f0f8ff;}#sk-container-id-2 div.sk-toggleable__content pre {margin: 0.2em;color: black;border-radius: 0.25em;background-color: #f0f8ff;}#sk-container-id-2 input.sk-toggleable__control:checked~div.sk-toggleable__content {max-height: 200px;max-width: 100%;overflow: auto;}#sk-container-id-2 input.sk-toggleable__control:checked~label.sk-toggleable__label-arrow:before {content: \"▾\";}#sk-container-id-2 div.sk-estimator input.sk-toggleable__control:checked~label.sk-toggleable__label {background-color: #d4ebff;}#sk-container-id-2 div.sk-label input.sk-toggleable__control:checked~label.sk-toggleable__label {background-color: #d4ebff;}#sk-container-id-2 input.sk-hidden--visually {border: 0;clip: rect(1px 1px 1px 1px);clip: rect(1px, 1px, 1px, 1px);height: 1px;margin: -1px;overflow: hidden;padding: 0;position: absolute;width: 1px;}#sk-container-id-2 div.sk-estimator {font-family: monospace;background-color: #f0f8ff;border: 1px dotted black;border-radius: 0.25em;box-sizing: border-box;margin-bottom: 0.5em;}#sk-container-id-2 div.sk-estimator:hover {background-color: #d4ebff;}#sk-container-id-2 div.sk-parallel-item::after {content: \"\";width: 100%;border-bottom: 1px solid gray;flex-grow: 1;}#sk-container-id-2 div.sk-label:hover label.sk-toggleable__label {background-color: #d4ebff;}#sk-container-id-2 div.sk-serial::before {content: \"\";position: absolute;border-left: 1px solid gray;box-sizing: border-box;top: 0;bottom: 0;left: 50%;z-index: 0;}#sk-container-id-2 div.sk-serial {display: flex;flex-direction: column;align-items: center;background-color: white;padding-right: 0.2em;padding-left: 0.2em;position: relative;}#sk-container-id-2 div.sk-item {position: relative;z-index: 1;}#sk-container-id-2 div.sk-parallel {display: flex;align-items: stretch;justify-content: center;background-color: white;position: relative;}#sk-container-id-2 div.sk-item::before, #sk-container-id-2 div.sk-parallel-item::before {content: \"\";position: absolute;border-left: 1px solid gray;box-sizing: border-box;top: 0;bottom: 0;left: 50%;z-index: -1;}#sk-container-id-2 div.sk-parallel-item {display: flex;flex-direction: column;z-index: 1;position: relative;background-color: white;}#sk-container-id-2 div.sk-parallel-item:first-child::after {align-self: flex-end;width: 50%;}#sk-container-id-2 div.sk-parallel-item:last-child::after {align-self: flex-start;width: 50%;}#sk-container-id-2 div.sk-parallel-item:only-child::after {width: 0;}#sk-container-id-2 div.sk-dashed-wrapped {border: 1px dashed gray;margin: 0 0.4em 0.5em 0.4em;box-sizing: border-box;padding-bottom: 0.4em;background-color: white;}#sk-container-id-2 div.sk-label label {font-family: monospace;font-weight: bold;display: inline-block;line-height: 1.2em;}#sk-container-id-2 div.sk-label-container {text-align: center;}#sk-container-id-2 div.sk-container {/* jupyter's `normalize.less` sets `[hidden] { display: none; }` but bootstrap.min.css set `[hidden] { display: none !important; }` so we also need the `!important` here to be able to override the default hidden behavior on the sphinx rendered scikit-learn.org. See: https://github.com/scikit-learn/scikit-learn/issues/21755 */display: inline-block !important;position: relative;}#sk-container-id-2 div.sk-text-repr-fallback {display: none;}</style><div id=\"sk-container-id-2\" class=\"sk-top-container\"><div class=\"sk-text-repr-fallback\"><pre>MultinomialNB()</pre><b>In a Jupyter environment, please rerun this cell to show the HTML representation or trust the notebook. <br />On GitHub, the HTML representation is unable to render, please try loading this page with nbviewer.org.</b></div><div class=\"sk-container\" hidden><div class=\"sk-item\"><div class=\"sk-estimator sk-toggleable\"><input class=\"sk-toggleable__control sk-hidden--visually\" id=\"sk-estimator-id-2\" type=\"checkbox\" checked><label for=\"sk-estimator-id-2\" class=\"sk-toggleable__label sk-toggleable__label-arrow\">MultinomialNB</label><div class=\"sk-toggleable__content\"><pre>MultinomialNB()</pre></div></div></div></div></div>"
            ]
          },
          "metadata": {},
          "execution_count": 75
        }
      ]
    },
    {
      "cell_type": "code",
      "source": [
        "# from sklearn.naive_bayes import GaussianNB\n",
        "# NB_classifier = GaussianNB()\n",
        "# NB_classifier.fit(X_train, y_train)"
      ],
      "metadata": {
        "id": "ufYgYVHHQ3tB"
      },
      "execution_count": 76,
      "outputs": []
    },
    {
      "cell_type": "code",
      "source": [
        "y_pred = NB_classifier.predict(X_test)\n",
        "print(np.concatenate((y_pred.reshape(len(y_pred),1),y_test.reshape(len(y_test),1)),1))"
      ],
      "metadata": {
        "colab": {
          "base_uri": "https://localhost:8080/"
        },
        "id": "DDL2q5SnRAPz",
        "outputId": "428c0897-3bd0-4800-e303-47f27e5f6113"
      },
      "execution_count": 77,
      "outputs": [
        {
          "output_type": "stream",
          "name": "stdout",
          "text": [
            "[[1 1]\n",
            " [5 5]\n",
            " [5 5]\n",
            " ...\n",
            " [5 5]\n",
            " [5 5]\n",
            " [1 5]]\n"
          ]
        }
      ]
    },
    {
      "cell_type": "code",
      "source": [
        "\n",
        "from sklearn.metrics import confusion_matrix, accuracy_score\n",
        "cm = confusion_matrix(y_test,y_pred)\n",
        "print(cm)\n",
        "accuracy_score(y_test,y_pred)"
      ],
      "metadata": {
        "colab": {
          "base_uri": "https://localhost:8080/"
        },
        "id": "Pm2MGBezRi36",
        "outputId": "eba3e98e-b214-43f5-ed1d-7c9de776df77"
      },
      "execution_count": 80,
      "outputs": [
        {
          "output_type": "stream",
          "name": "stdout",
          "text": [
            "[[ 99  50]\n",
            " [ 20 649]]\n"
          ]
        },
        {
          "output_type": "execute_result",
          "data": {
            "text/plain": [
              "0.9144254278728606"
            ]
          },
          "metadata": {},
          "execution_count": 80
        }
      ]
    },
    {
      "cell_type": "markdown",
      "source": [
        "# **EVALUATING THE MODEL**"
      ],
      "metadata": {
        "id": "X5xAjC_fSXlF"
      }
    },
    {
      "cell_type": "code",
      "source": [
        "from sklearn.metrics import classification_report, confusion_matrix"
      ],
      "metadata": {
        "id": "aA7fehFCSCXq"
      },
      "execution_count": 81,
      "outputs": []
    },
    {
      "cell_type": "code",
      "source": [
        "y_predict_train = NB_classifier.predict(X_train)\n",
        "\n",
        "cm = confusion_matrix(y_train, y_predict_train)\n",
        "sns.heatmap(cm, annot=True)"
      ],
      "metadata": {
        "colab": {
          "base_uri": "https://localhost:8080/",
          "height": 447
        },
        "id": "0O_1IAt9Se2D",
        "outputId": "0dcf1e7c-da1f-4ec8-ad67-1e5955859125"
      },
      "execution_count": 82,
      "outputs": [
        {
          "output_type": "execute_result",
          "data": {
            "text/plain": [
              "<Axes: >"
            ]
          },
          "metadata": {},
          "execution_count": 82
        },
        {
          "output_type": "display_data",
          "data": {
            "text/plain": [
              "<Figure size 640x480 with 2 Axes>"
            ],
            "image/png": "[encoded data removed]"
          },
          "metadata": {}
        }
      ]
    },
    {
      "cell_type": "code",
      "source": [
        "# Predicting the Test set results\n",
        "y_predict_test = NB_classifier.predict(X_test)\n",
        "cm = confusion_matrix(y_test, y_predict_test)\n",
        "sns.heatmap(cm, annot=True)"
      ],
      "metadata": {
        "colab": {
          "base_uri": "https://localhost:8080/",
          "height": 447
        },
        "id": "uUjG3eWESm3c",
        "outputId": "2f481d86-590e-422e-a56f-d7e3e302f4ab"
      },
      "execution_count": 83,
      "outputs": [
        {
          "output_type": "execute_result",
          "data": {
            "text/plain": [
              "<Axes: >"
            ]
          },
          "metadata": {},
          "execution_count": 83
        },
        {
          "output_type": "display_data",
          "data": {
            "text/plain": [
              "<Figure size 640x480 with 2 Axes>"
            ],
            "image/png": "[encoded data removed]"
          },
          "metadata": {}
        }
      ]
    },
    {
      "cell_type": "code",
      "source": [
        "print(classification_report(y_test, y_predict_test))"
      ],
      "metadata": {
        "colab": {
          "base_uri": "https://localhost:8080/"
        },
        "id": "CqiEuCgzS7zX",
        "outputId": "53ff8813-4245-4c15-c2d1-5ad921055e31"
      },
      "execution_count": 84,
      "outputs": [
        {
          "output_type": "stream",
          "name": "stdout",
          "text": [
            "              precision    recall  f1-score   support\n",
            "\n",
            "           1       0.83      0.66      0.74       149\n",
            "           5       0.93      0.97      0.95       669\n",
            "\n",
            "    accuracy                           0.91       818\n",
            "   macro avg       0.88      0.82      0.84       818\n",
            "weighted avg       0.91      0.91      0.91       818\n",
            "\n"
          ]
        }
      ]
    },
    {
      "cell_type": "markdown",
      "source": [
        "# **LET'S ADD ADDITIONAL FEATURE TF-IDF**"
      ],
      "metadata": {
        "id": "7Nx5rNmAV5Aw"
      }
    },
    {
      "cell_type": "markdown",
      "source": [
        "- Tf–idf stands for \"Term Frequency–Inverse Document Frequency\" is a numerical statistic used to reflect how important a word is to a document in a collection or corpus of documents.\n",
        "- TFIDF is used as a weighting factor during text search processes and text mining.\n",
        "- The intuition behing the TFIDF is as follows: if a word appears several times in a given document, this word might be meaningful (more important) than other words that appeared fewer times in the same document. However, if a given word appeared several times in a given document but also appeared many times in other documents, there is a probability that this word might be common frequent word such as 'I' 'am'..etc. (not really important or meaningful!).\n",
        "\n",
        "\n",
        "- TF: Term Frequency is used to measure the frequency of term occurrence in a document:\n",
        "    - TF(word) = Number of times the 'word' appears in a document / Total number of terms in the document\n",
        "- IDF: Inverse Document Frequency is used to measure how important a term is:\n",
        "    - IDF(word) = log_e(Total number of documents / Number of documents with the term 'word' in it).\n",
        "\n",
        "- Example: Let's assume we have a document that contains 1000 words and the term “John” appeared 20 times, the Term-Frequency for the word 'John' can be calculated as follows:\n",
        "    - TF|john = 20/1000 = 0.02\n",
        "\n",
        "- Let's calculate the IDF (inverse document frequency) of the word 'john' assuming that it appears 50,000 times in a 1,000,000 million documents (corpus).\n",
        "    - IDF|john = log (1,000,000/50,000) = 1.3\n",
        "\n",
        "- Therefore the overall weight of the word 'john' is as follows\n",
        "    - TF-IDF|john = 0.02 * 1.3 = 0.026"
      ],
      "metadata": {
        "id": "qfUZSr8DWBCj"
      }
    },
    {
      "cell_type": "code",
      "source": [
        "yelp_countvectorizer"
      ],
      "metadata": {
        "colab": {
          "base_uri": "https://localhost:8080/"
        },
        "id": "CHluGkcWTITu",
        "outputId": "986acb1c-9f17-43c2-b2a0-ac5ed7d8694c"
      },
      "execution_count": 85,
      "outputs": [
        {
          "output_type": "execute_result",
          "data": {
            "text/plain": [
              "<4086x26435 sparse matrix of type '<class 'numpy.int64'>'\n",
              "\twith 222391 stored elements in Compressed Sparse Row format>"
            ]
          },
          "metadata": {},
          "execution_count": 85
        }
      ]
    },
    {
      "cell_type": "code",
      "source": [
        "from sklearn.feature_extraction.text import TfidfTransformer\n",
        "\n",
        "yelp_tfidf = TfidfTransformer().fit_transform(yelp_countvectorizer)\n",
        "print(yelp_tfidf.shape)"
      ],
      "metadata": {
        "colab": {
          "base_uri": "https://localhost:8080/"
        },
        "id": "QAxo7k_XWfcY",
        "outputId": "fdfaf00c-9a53-4a63-dbea-58a9acfbabf8"
      },
      "execution_count": 86,
      "outputs": [
        {
          "output_type": "stream",
          "name": "stdout",
          "text": [
            "(4086, 26435)\n"
          ]
        }
      ]
    },
    {
      "cell_type": "code",
      "source": [
        "yelp_tfidf"
      ],
      "metadata": {
        "colab": {
          "base_uri": "https://localhost:8080/"
        },
        "id": "37YI928rXumx",
        "outputId": "a189d5c2-9171-4d63-fa82-0f4a647b721d"
      },
      "execution_count": 87,
      "outputs": [
        {
          "output_type": "execute_result",
          "data": {
            "text/plain": [
              "<4086x26435 sparse matrix of type '<class 'numpy.float64'>'\n",
              "\twith 222391 stored elements in Compressed Sparse Row format>"
            ]
          },
          "metadata": {},
          "execution_count": 87
        }
      ]
    },
    {
      "cell_type": "code",
      "source": [
        "print(yelp_tfidf[:,:])\n",
        "# Sparse matrix with all the values of IF-IDF"
      ],
      "metadata": {
        "colab": {
          "base_uri": "https://localhost:8080/"
        },
        "id": "gYzCYVXFXx-1",
        "outputId": "279dd03a-0e66-4204-f7f0-8f86c1794ec0"
      },
      "execution_count": 88,
      "outputs": [
        {
          "output_type": "stream",
          "name": "stdout",
          "text": [
            "  (0, 26268)\t0.08050274254786693\n",
            "  (0, 26228)\t0.09348620453726474\n",
            "  (0, 26144)\t0.07169873884062605\n",
            "  (0, 26045)\t0.15817660070664968\n",
            "  (0, 25776)\t0.06066174442364943\n",
            "  (0, 25773)\t0.12002965112412296\n",
            "  (0, 25418)\t0.14546095084580743\n",
            "  (0, 25122)\t0.2703898166869907\n",
            "  (0, 24911)\t0.14546095084580743\n",
            "  (0, 24670)\t0.12383875478045604\n",
            "  (0, 24644)\t0.13058459416402163\n",
            "  (0, 24623)\t0.04459768543876988\n",
            "  (0, 24154)\t0.06030465665278142\n",
            "  (0, 23120)\t0.09876367605721408\n",
            "  (0, 22450)\t0.09315710247790514\n",
            "  (0, 22430)\t0.1097636086218109\n",
            "  (0, 22000)\t0.06662808805692144\n",
            "  (0, 21801)\t0.13058459416402163\n",
            "  (0, 20785)\t0.09005184530467268\n",
            "  (0, 19733)\t0.14546095084580743\n",
            "  (0, 19354)\t0.09547907116641852\n",
            "  (0, 19039)\t0.12613266766643505\n",
            "  (0, 18911)\t0.1133722206104443\n",
            "  (0, 18805)\t0.10789642494273591\n",
            "  (0, 18740)\t0.08834411964653922\n",
            "  :\t:\n",
            "  (4085, 16843)\t0.12124793979515064\n",
            "  (4085, 15626)\t0.056073903602148346\n",
            "  (4085, 15041)\t0.08518302578980794\n",
            "  (4085, 14689)\t0.13505937049458547\n",
            "  (4085, 14480)\t0.08518302578980794\n",
            "  (4085, 14423)\t0.10064506371832901\n",
            "  (4085, 13617)\t0.19963796890231086\n",
            "  (4085, 12214)\t0.29952324839506667\n",
            "  (4085, 11514)\t0.11529629949383458\n",
            "  (4085, 11501)\t0.11809666496753578\n",
            "  (4085, 10457)\t0.14650841668583717\n",
            "  (4085, 9817)\t0.13505937049458547\n",
            "  (4085, 9285)\t0.2170895701515176\n",
            "  (4085, 9031)\t0.17197783534477967\n",
            "  (4085, 8204)\t0.1591166056610063\n",
            "  (4085, 7528)\t0.19963796890231086\n",
            "  (4085, 7523)\t0.1567169489941616\n",
            "  (4085, 6333)\t0.14166500441179955\n",
            "  (4085, 4932)\t0.1940198081594198\n",
            "  (4085, 4377)\t0.12651882139660317\n",
            "  (4085, 1237)\t0.17656820691021305\n",
            "  (4085, 1053)\t0.11358870702258798\n",
            "  (4085, 505)\t0.2170895701515176\n",
            "  (4085, 448)\t0.27629234133665775\n",
            "  (4085, 344)\t0.12042237932403005\n"
          ]
        }
      ]
    },
    {
      "cell_type": "code",
      "source": [
        "yelp_tfidf[:,:].shape"
      ],
      "metadata": {
        "colab": {
          "base_uri": "https://localhost:8080/"
        },
        "id": "Bh-mMianX1O7",
        "outputId": "3f0b372b-aa81-4e27-87ef-e4a6d49f7089"
      },
      "execution_count": 89,
      "outputs": [
        {
          "output_type": "execute_result",
          "data": {
            "text/plain": [
              "(4086, 26435)"
            ]
          },
          "metadata": {},
          "execution_count": 89
        }
      ]
    },
    {
      "cell_type": "code",
      "source": [
        "X = yelp_tfidf\n",
        "y = label\n",
        "\n",
        "from sklearn.model_selection import train_test_split\n",
        "X_train, X_test, y_train, y_test = train_test_split(X, y, test_size=0.15)\n",
        "\n",
        "from sklearn.naive_bayes import MultinomialNB\n",
        "NB_classifier = MultinomialNB()\n",
        "NB_classifier.fit(X_train, y_train)\n",
        "\n",
        "from sklearn.metrics import classification_report, confusion_matrix\n",
        "y_predict_train = NB_classifier.predict(X_train)\n",
        "y_predict_train\n",
        "cm = confusion_matrix(y_train, y_predict_train)\n",
        "sns.heatmap(cm, annot=True)"
      ],
      "metadata": {
        "colab": {
          "base_uri": "https://localhost:8080/",
          "height": 447
        },
        "id": "NoRsD98yX9J2",
        "outputId": "d8d7820c-752e-4372-e17a-054fc646c5f3"
      },
      "execution_count": 90,
      "outputs": [
        {
          "output_type": "execute_result",
          "data": {
            "text/plain": [
              "<Axes: >"
            ]
          },
          "metadata": {},
          "execution_count": 90
        },
        {
          "output_type": "display_data",
          "data": {
            "text/plain": [
              "<Figure size 640x480 with 2 Axes>"
            ],
            "image/png": "[encoded data removed]"
          },
          "metadata": {}
        }
      ]
    },
    {
      "cell_type": "code",
      "source": [
        "y_predict_test = NB_classifier.predict(X_test)\n",
        "cm = confusion_matrix(y_test, y_predict_test)\n",
        "sns.heatmap(cm, annot=True)"
      ],
      "metadata": {
        "colab": {
          "base_uri": "https://localhost:8080/",
          "height": 450
        },
        "id": "1-mrXfIxYW51",
        "outputId": "2850ab45-3209-4fed-ce34-f35f6626b237"
      },
      "execution_count": 91,
      "outputs": [
        {
          "output_type": "execute_result",
          "data": {
            "text/plain": [
              "<Axes: >"
            ]
          },
          "metadata": {},
          "execution_count": 91
        },
        {
          "output_type": "display_data",
          "data": {
            "text/plain": [
              "<Figure size 640x480 with 2 Axes>"
            ],
            "image/png": "[encoded data removed]"
          },
          "metadata": {}
        }
      ]
    },
    {
      "cell_type": "code",
      "source": [
        "print(classification_report(y_test, y_predict_test))"
      ],
      "metadata": {
        "colab": {
          "base_uri": "https://localhost:8080/"
        },
        "id": "w8klvWELYG7L",
        "outputId": "96e0c6d7-9349-442d-9b14-c18f560bec8a"
      },
      "execution_count": 92,
      "outputs": [
        {
          "output_type": "stream",
          "name": "stdout",
          "text": [
            "              precision    recall  f1-score   support\n",
            "\n",
            "           1       1.00      0.01      0.02       110\n",
            "           5       0.82      1.00      0.90       503\n",
            "\n",
            "    accuracy                           0.82       613\n",
            "   macro avg       0.91      0.50      0.46       613\n",
            "weighted avg       0.85      0.82      0.74       613\n",
            "\n"
          ]
        }
      ]
    },
    {
      "cell_type": "code",
      "source": [],
      "metadata": {
        "id": "TOWlXtSCYdPy"
      },
      "execution_count": null,
      "outputs": []
    }
  ]
}